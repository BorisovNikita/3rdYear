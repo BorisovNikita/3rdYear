{
 "cells": [
  {
   "cell_type": "markdown",
   "id": "06c71ed6",
   "metadata": {},
   "source": [
    "Вам даны данные результатов ЕГЭ по различным предметам. Выполните следующие действия:"
   ]
  },
  {
   "cell_type": "code",
   "execution_count": 1,
   "id": "098b441f",
   "metadata": {},
   "outputs": [],
   "source": [
    "import numpy as np\n",
    "import pandas as pd\n",
    "import matplotlib.pyplot as plt\n",
    "import seaborn as sns"
   ]
  },
  {
   "cell_type": "markdown",
   "id": "86e7c7d1",
   "metadata": {},
   "source": [
    "### 1.Загрузите данные в ноутбук"
   ]
  },
  {
   "cell_type": "code",
   "execution_count": 2,
   "id": "ae167ac1",
   "metadata": {},
   "outputs": [
    {
     "data": {
      "text/plain": [
       "rus                  № школы Класс Пол  Номер варианта  Задан...\n",
       "math                 № школы Класс Пол  Номер варианта Задани...\n",
       "physics              № школы Класс Пол  Номер варианта    Зад...\n",
       "informatics         № школы Класс Пол  Номер варианта Задания...\n",
       "dtype: object"
      ]
     },
     "execution_count": 2,
     "metadata": {},
     "output_type": "execute_result"
    }
   ],
   "source": [
    "def exam_reader(var: int):\n",
    "    return pd.read_excel(\n",
    "        f'Вариант {var}.xlsx',\n",
    "        header=2,\n",
    "        index_col=0,\n",
    "        skipfooter=1\n",
    "    )\n",
    "\n",
    "exams = pd.Series(\n",
    "    [exam_reader(i) for i in range(1,5)],\n",
    "    index=['rus', 'math', 'physics', 'informatics']\n",
    ")\n",
    "exams"
   ]
  },
  {
   "cell_type": "markdown",
   "id": "b3792dc6",
   "metadata": {},
   "source": [
    "### 2.Сделайте описательную статистику по набранному баллу"
   ]
  },
  {
   "cell_type": "code",
   "execution_count": 3,
   "id": "f7b6e770",
   "metadata": {},
   "outputs": [
    {
     "data": {
      "text/html": [
       "<div>\n",
       "<style scoped>\n",
       "    .dataframe tbody tr th:only-of-type {\n",
       "        vertical-align: middle;\n",
       "    }\n",
       "\n",
       "    .dataframe tbody tr th {\n",
       "        vertical-align: top;\n",
       "    }\n",
       "\n",
       "    .dataframe thead th {\n",
       "        text-align: right;\n",
       "    }\n",
       "</style>\n",
       "<table border=\"1\" class=\"dataframe\">\n",
       "  <thead>\n",
       "    <tr style=\"text-align: right;\">\n",
       "      <th></th>\n",
       "      <th>count</th>\n",
       "      <th>mean</th>\n",
       "      <th>std</th>\n",
       "      <th>min</th>\n",
       "      <th>25%</th>\n",
       "      <th>50%</th>\n",
       "      <th>75%</th>\n",
       "      <th>max</th>\n",
       "    </tr>\n",
       "  </thead>\n",
       "  <tbody>\n",
       "    <tr>\n",
       "      <th>rus</th>\n",
       "      <td>3048.0</td>\n",
       "      <td>72.769029</td>\n",
       "      <td>13.664908</td>\n",
       "      <td>20.0</td>\n",
       "      <td>64.0</td>\n",
       "      <td>72.0</td>\n",
       "      <td>82.00</td>\n",
       "      <td>100.0</td>\n",
       "    </tr>\n",
       "    <tr>\n",
       "      <th>math</th>\n",
       "      <td>2356.0</td>\n",
       "      <td>49.255093</td>\n",
       "      <td>17.880420</td>\n",
       "      <td>5.0</td>\n",
       "      <td>33.0</td>\n",
       "      <td>50.0</td>\n",
       "      <td>68.00</td>\n",
       "      <td>96.0</td>\n",
       "    </tr>\n",
       "    <tr>\n",
       "      <th>physics</th>\n",
       "      <td>1180.0</td>\n",
       "      <td>52.047458</td>\n",
       "      <td>14.965477</td>\n",
       "      <td>10.0</td>\n",
       "      <td>41.0</td>\n",
       "      <td>49.0</td>\n",
       "      <td>60.25</td>\n",
       "      <td>100.0</td>\n",
       "    </tr>\n",
       "    <tr>\n",
       "      <th>informatics</th>\n",
       "      <td>141.0</td>\n",
       "      <td>60.780142</td>\n",
       "      <td>19.419832</td>\n",
       "      <td>0.0</td>\n",
       "      <td>50.0</td>\n",
       "      <td>64.0</td>\n",
       "      <td>75.00</td>\n",
       "      <td>100.0</td>\n",
       "    </tr>\n",
       "  </tbody>\n",
       "</table>\n",
       "</div>"
      ],
      "text/plain": [
       "              count       mean        std   min   25%   50%    75%    max\n",
       "rus          3048.0  72.769029  13.664908  20.0  64.0  72.0  82.00  100.0\n",
       "math         2356.0  49.255093  17.880420   5.0  33.0  50.0  68.00   96.0\n",
       "physics      1180.0  52.047458  14.965477  10.0  41.0  49.0  60.25  100.0\n",
       "informatics   141.0  60.780142  19.419832   0.0  50.0  64.0  75.00  100.0"
      ]
     },
     "execution_count": 3,
     "metadata": {},
     "output_type": "execute_result"
    }
   ],
   "source": [
    "stat = exams.apply(lambda x: x['Балл'].describe())\n",
    "stat"
   ]
  },
  {
   "cell_type": "markdown",
   "id": "fb8c810e",
   "metadata": {},
   "source": [
    "###  3.Найдите процент учащихся, выполнивших работу ниже среднего"
   ]
  },
  {
   "cell_type": "code",
   "execution_count": 172,
   "id": "5f80842b",
   "metadata": {
    "scrolled": false
   },
   "outputs": [
    {
     "data": {
      "text/plain": [
       "rus            51.279528\n",
       "math           48.005093\n",
       "physics        56.271186\n",
       "informatics    46.099291\n",
       "dtype: float64"
      ]
     },
     "execution_count": 172,
     "metadata": {},
     "output_type": "execute_result"
    }
   ],
   "source": [
    "pd.concat(\n",
    "    [exams, stat['mean']],\n",
    "    axis=1\n",
    ").apply(\n",
    "    lambda row: row[0].Балл[row[0].Балл < row['mean']].count() /\n",
    "    row[0].shape[0] * 100,\n",
    "    axis=1\n",
    ")"
   ]
  },
  {
   "cell_type": "markdown",
   "id": "6ecc64c6",
   "metadata": {},
   "source": [
    "### 4.Найти процент учащихся не сдавших экзамен"
   ]
  },
  {
   "cell_type": "code",
   "execution_count": 11,
   "id": "6e65ebfa",
   "metadata": {},
   "outputs": [
    {
     "data": {
      "text/plain": [
       "rus             0.131234\n",
       "math            9.210526\n",
       "physics         7.711864\n",
       "informatics    11.347518\n",
       "dtype: float64"
      ]
     },
     "execution_count": 11,
     "metadata": {},
     "output_type": "execute_result"
    }
   ],
   "source": [
    "exams.apply(\n",
    "    lambda subj: (subj[\"Балл\"] < subj[\"Минимальный балл\"]).sum()/subj.shape[0] *100\n",
    ")"
   ]
  },
  {
   "cell_type": "markdown",
   "id": "60f10d90",
   "metadata": {},
   "source": [
    "### 5.Постройте круговую диаграмму, показывающую распределение сдавших и не сдавших экзамен"
   ]
  },
  {
   "cell_type": "code",
   "execution_count": 20,
   "id": "6e14a1e3",
   "metadata": {},
   "outputs": [
    {
     "data": {
      "image/png": "[encoded data removed]",
      "text/plain": [
       "<Figure size 720x720 with 4 Axes>"
      ]
     },
     "metadata": {},
     "output_type": "display_data"
    }
   ],
   "source": [
    "fig, ax = plt.subplots(2,2, figsize=(10,10))\n",
    "for i in range(2):\n",
    "    for j in range(2):\n",
    "        ax[i,j].set_title(exams.index[i+j*2])\n",
    "        passed = (exams.iloc[i+j*2][\"Балл\"] >= exams.iloc[i+j*2][\"Минимальный балл\"]).sum()\n",
    "        failed = (exams.iloc[i+j*2][\"Балл\"] < exams.iloc[i+j*2][\"Минимальный балл\"]).sum()\n",
    "        ax[i,j].pie((passed, failed),labels = ['Сдали','Не сдали'])"
   ]
  },
  {
   "cell_type": "markdown",
   "id": "7145d414",
   "metadata": {},
   "source": [
    "### 6.Постройте ядерную оценку плотности распределению баллов за экзамен"
   ]
  },
  {
   "cell_type": "code",
   "execution_count": 23,
   "id": "cfaf2493",
   "metadata": {},
   "outputs": [
    {
     "data": {
      "image/png": "[encoded data removed]",
      "text/plain": [
       "<Figure size 720x576 with 4 Axes>"
      ]
     },
     "metadata": {
      "needs_background": "light"
     },
     "output_type": "display_data"
    }
   ],
   "source": [
    "fig, ax = plt.subplots(2,2, figsize=(10,8))\n",
    "plt.subplots_adjust(hspace=0.5)\n",
    "for i in range(2):\n",
    "    for j in range(2):\n",
    "        ax[i,j].set_title(exams.index[i+j*2])\n",
    "        sns.kdeplot(ax=ax[i, j], data=exams.iloc[i+j*2][\"Балл\"], shade=True)\n",
    "plt.show()"
   ]
  },
  {
   "cell_type": "markdown",
   "id": "8dc85e32",
   "metadata": {},
   "source": [
    "### 7.Найдите процентное соотношение учащихся, сдавших экзамен на «отлично», «хорошо», «удовлетворительно», «неудовлетворительно»."
   ]
  },
  {
   "cell_type": "code",
   "execution_count": 43,
   "id": "1e9c8daf",
   "metadata": {},
   "outputs": [],
   "source": [
    "borders = {'rus':[35,58,72],\n",
    "         'math':[27,47,65],\n",
    "         'physics':[36,54,68],\n",
    "         'informatics':[40,57,73]}\n",
    "\n",
    "def marks(x, subj):\n",
    "    if x >= borders[subj][0] and x<borders[subj][1]:\n",
    "        return 'удовлетворительно'\n",
    "    elif x >= borders[subj][1] and x<borders[subj][2]:\n",
    "        return 'хорошо'\n",
    "    elif x >= borders[subj][2]:\n",
    "        return 'отлично'\n",
    "    else:\n",
    "        return 'неудовлетворительно'"
   ]
  },
  {
   "cell_type": "code",
   "execution_count": 56,
   "id": "0d3b542f",
   "metadata": {},
   "outputs": [],
   "source": [
    "new_frame = pd.DataFrame(index=exams.index, columns=[\n",
    "    \"неудовлетворительно\",\n",
    "    'удовлетворительно',\n",
    "    'хорошо',\n",
    "    'отлично'\n",
    "])"
   ]
  },
  {
   "cell_type": "code",
   "execution_count": 57,
   "id": "f5d89c89",
   "metadata": {},
   "outputs": [],
   "source": [
    "for indx, subj in exams.iteritems():\n",
    "    new_frame.loc[indx] = subj[\"Балл\"].apply(lambda x:marks(x,indx)).value_counts(normalize=True)*100"
   ]
  },
  {
   "cell_type": "code",
   "execution_count": 59,
   "id": "658afd19",
   "metadata": {},
   "outputs": [
    {
     "data": {
      "text/html": [
       "<div>\n",
       "<style scoped>\n",
       "    .dataframe tbody tr th:only-of-type {\n",
       "        vertical-align: middle;\n",
       "    }\n",
       "\n",
       "    .dataframe tbody tr th {\n",
       "        vertical-align: top;\n",
       "    }\n",
       "\n",
       "    .dataframe thead th {\n",
       "        text-align: right;\n",
       "    }\n",
       "</style>\n",
       "<table border=\"1\" class=\"dataframe\">\n",
       "  <thead>\n",
       "    <tr style=\"text-align: right;\">\n",
       "      <th></th>\n",
       "      <th>неудовлетворительно</th>\n",
       "      <th>удовлетворительно</th>\n",
       "      <th>хорошо</th>\n",
       "      <th>отлично</th>\n",
       "    </tr>\n",
       "  </thead>\n",
       "  <tbody>\n",
       "    <tr>\n",
       "      <th>rus</th>\n",
       "      <td>0.688976</td>\n",
       "      <td>13.353018</td>\n",
       "      <td>32.644357</td>\n",
       "      <td>53.313648</td>\n",
       "    </tr>\n",
       "    <tr>\n",
       "      <th>math</th>\n",
       "      <td>9.210526</td>\n",
       "      <td>38.794567</td>\n",
       "      <td>26.400679</td>\n",
       "      <td>25.594228</td>\n",
       "    </tr>\n",
       "    <tr>\n",
       "      <th>physics</th>\n",
       "      <td>7.711864</td>\n",
       "      <td>51.440678</td>\n",
       "      <td>24.915254</td>\n",
       "      <td>15.932203</td>\n",
       "    </tr>\n",
       "    <tr>\n",
       "      <th>informatics</th>\n",
       "      <td>11.347518</td>\n",
       "      <td>26.241135</td>\n",
       "      <td>31.914894</td>\n",
       "      <td>30.496454</td>\n",
       "    </tr>\n",
       "  </tbody>\n",
       "</table>\n",
       "</div>"
      ],
      "text/plain": [
       "            неудовлетворительно удовлетворительно     хорошо    отлично\n",
       "rus                    0.688976         13.353018  32.644357  53.313648\n",
       "math                   9.210526         38.794567  26.400679  25.594228\n",
       "physics                7.711864         51.440678  24.915254  15.932203\n",
       "informatics           11.347518         26.241135  31.914894  30.496454"
      ]
     },
     "execution_count": 59,
     "metadata": {},
     "output_type": "execute_result"
    }
   ],
   "source": [
    "new_frame"
   ]
  },
  {
   "cell_type": "markdown",
   "id": "c6829a60",
   "metadata": {},
   "source": [
    "### 8.Какое процентное соотношение юношей и девушек писало данный экзамен?"
   ]
  },
  {
   "cell_type": "code",
   "execution_count": 62,
   "id": "99ba391f",
   "metadata": {},
   "outputs": [
    {
     "data": {
      "text/html": [
       "<div>\n",
       "<style scoped>\n",
       "    .dataframe tbody tr th:only-of-type {\n",
       "        vertical-align: middle;\n",
       "    }\n",
       "\n",
       "    .dataframe tbody tr th {\n",
       "        vertical-align: top;\n",
       "    }\n",
       "\n",
       "    .dataframe thead th {\n",
       "        text-align: right;\n",
       "    }\n",
       "</style>\n",
       "<table border=\"1\" class=\"dataframe\">\n",
       "  <thead>\n",
       "    <tr style=\"text-align: right;\">\n",
       "      <th></th>\n",
       "      <th>Ж</th>\n",
       "      <th>М</th>\n",
       "    </tr>\n",
       "  </thead>\n",
       "  <tbody>\n",
       "    <tr>\n",
       "      <th>rus</th>\n",
       "      <td>57.972441</td>\n",
       "      <td>42.027559</td>\n",
       "    </tr>\n",
       "    <tr>\n",
       "      <th>math</th>\n",
       "      <td>52.843803</td>\n",
       "      <td>47.156197</td>\n",
       "    </tr>\n",
       "    <tr>\n",
       "      <th>physics</th>\n",
       "      <td>31.355932</td>\n",
       "      <td>68.644068</td>\n",
       "    </tr>\n",
       "    <tr>\n",
       "      <th>informatics</th>\n",
       "      <td>22.695035</td>\n",
       "      <td>77.304965</td>\n",
       "    </tr>\n",
       "  </tbody>\n",
       "</table>\n",
       "</div>"
      ],
      "text/plain": [
       "                     Ж          М\n",
       "rus          57.972441  42.027559\n",
       "math         52.843803  47.156197\n",
       "physics      31.355932  68.644068\n",
       "informatics  22.695035  77.304965"
      ]
     },
     "execution_count": 62,
     "metadata": {},
     "output_type": "execute_result"
    }
   ],
   "source": [
    "exams.apply(\n",
    "    lambda subj: subj[\"Пол\"].value_counts(normalize=True) * 100\n",
    ")"
   ]
  },
  {
   "cell_type": "markdown",
   "id": "6d63947c",
   "metadata": {},
   "source": [
    "### 9.Сколько школ принимало участие в экзамене?"
   ]
  },
  {
   "cell_type": "code",
   "execution_count": 66,
   "id": "cff10860",
   "metadata": {},
   "outputs": [
    {
     "data": {
      "text/plain": [
       "rus            24\n",
       "math           17\n",
       "physics        19\n",
       "informatics    10\n",
       "dtype: int64"
      ]
     },
     "execution_count": 66,
     "metadata": {},
     "output_type": "execute_result"
    }
   ],
   "source": [
    "exams.apply(\n",
    "    lambda subj: subj[\"№ школы\"].dropna().unique().shape[0]\n",
    ")"
   ]
  }
 ],
 "metadata": {
  "kernelspec": {
   "display_name": "Python 3 (ipykernel)",
   "language": "python",
   "name": "python3"
  },
  "language_info": {
   "codemirror_mode": {
    "name": "ipython",
    "version": 3
   },
   "file_extension": ".py",
   "mimetype": "text/x-python",
   "name": "python",
   "nbconvert_exporter": "python",
   "pygments_lexer": "ipython3",
   "version": "3.9.12"
  }
 },
 "nbformat": 4,
 "nbformat_minor": 5
}
