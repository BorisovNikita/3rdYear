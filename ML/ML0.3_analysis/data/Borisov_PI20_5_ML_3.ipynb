{
 "cells": [
  {
   "cell_type": "markdown",
   "id": "06c71ed6",
   "metadata": {},
   "source": [
    "Вам даны данные результатов ЕГЭ по различным предметам. Выполните следующие действия:"
   ]
  },
  {
   "cell_type": "code",
   "execution_count": 7,
   "id": "098b441f",
   "metadata": {},
   "outputs": [],
   "source": [
    "import numpy as np\n",
    "import pandas as pd"
   ]
  },
  {
   "cell_type": "code",
   "execution_count": 92,
   "id": "054f833a",
   "metadata": {},
   "outputs": [
    {
     "data": {
      "text/html": [
       "<div>\n",
       "<style scoped>\n",
       "    .dataframe tbody tr th:only-of-type {\n",
       "        vertical-align: middle;\n",
       "    }\n",
       "\n",
       "    .dataframe tbody tr th {\n",
       "        vertical-align: top;\n",
       "    }\n",
       "\n",
       "    .dataframe thead th {\n",
       "        text-align: right;\n",
       "    }\n",
       "</style>\n",
       "<table border=\"1\" class=\"dataframe\">\n",
       "  <thead>\n",
       "    <tr style=\"text-align: right;\">\n",
       "      <th></th>\n",
       "      <th>0</th>\n",
       "    </tr>\n",
       "  </thead>\n",
       "  <tbody>\n",
       "    <tr>\n",
       "      <th>q</th>\n",
       "      <td>1</td>\n",
       "    </tr>\n",
       "    <tr>\n",
       "      <th>a</th>\n",
       "      <td>2</td>\n",
       "    </tr>\n",
       "    <tr>\n",
       "      <th>s</th>\n",
       "      <td>3</td>\n",
       "    </tr>\n",
       "    <tr>\n",
       "      <th>d</th>\n",
       "      <td>4</td>\n",
       "    </tr>\n",
       "  </tbody>\n",
       "</table>\n",
       "</div>"
      ],
      "text/plain": [
       "   0\n",
       "q  1\n",
       "a  2\n",
       "s  3\n",
       "d  4"
      ]
     },
     "execution_count": 92,
     "metadata": {},
     "output_type": "execute_result"
    }
   ],
   "source": [
    "pd.DataFrame(range(1,5),\n",
    "             index=['q','a','s','d']\n",
    ")"
   ]
  },
  {
   "cell_type": "markdown",
   "id": "86e7c7d1",
   "metadata": {},
   "source": [
    "Загрузите данные в ноутбук"
   ]
  },
  {
   "cell_type": "code",
   "execution_count": 110,
   "id": "ae167ac1",
   "metadata": {},
   "outputs": [
    {
     "data": {
      "text/plain": [
       "rus                  № школы Класс Пол  Номер варианта  Задан...\n",
       "math                 № школы Класс Пол  Номер варианта Задани...\n",
       "physics              № школы Класс Пол  Номер варианта    Зад...\n",
       "informatics         № школы Класс Пол  Номер варианта Задания...\n",
       "dtype: object"
      ]
     },
     "execution_count": 110,
     "metadata": {},
     "output_type": "execute_result"
    }
   ],
   "source": [
    "def exam_reader(var: int):\n",
    "    return pd.read_excel(\n",
    "        f'Вариант {var}.xlsx',\n",
    "        header=2,\n",
    "        index_col=0,\n",
    "        skipfooter=1\n",
    "    )\n",
    "\n",
    "# exams = pd.DataFrame(\n",
    "#     np.array([exam_reader(i) for i in range(1,5)], dtype=\"object\"),\n",
    "#     index=['rus', 'math', 'physics', 'informatics'],\n",
    "#     columns=['data']\n",
    "# )\n",
    "exams = pd.Series(\n",
    "    [exam_reader(i) for i in range(1,5)],\n",
    "    index=['rus', 'math', 'physics', 'informatics']\n",
    ")\n",
    "exams"
   ]
  },
  {
   "cell_type": "markdown",
   "id": "b3792dc6",
   "metadata": {},
   "source": [
    "Cделайте описательную статистику по набранному баллу"
   ]
  },
  {
   "cell_type": "code",
   "execution_count": 111,
   "id": "f7b6e770",
   "metadata": {},
   "outputs": [
    {
     "data": {
      "text/html": [
       "<div>\n",
       "<style scoped>\n",
       "    .dataframe tbody tr th:only-of-type {\n",
       "        vertical-align: middle;\n",
       "    }\n",
       "\n",
       "    .dataframe tbody tr th {\n",
       "        vertical-align: top;\n",
       "    }\n",
       "\n",
       "    .dataframe thead th {\n",
       "        text-align: right;\n",
       "    }\n",
       "</style>\n",
       "<table border=\"1\" class=\"dataframe\">\n",
       "  <thead>\n",
       "    <tr style=\"text-align: right;\">\n",
       "      <th></th>\n",
       "      <th>count</th>\n",
       "      <th>mean</th>\n",
       "      <th>std</th>\n",
       "      <th>min</th>\n",
       "      <th>25%</th>\n",
       "      <th>50%</th>\n",
       "      <th>75%</th>\n",
       "      <th>max</th>\n",
       "    </tr>\n",
       "  </thead>\n",
       "  <tbody>\n",
       "    <tr>\n",
       "      <th>rus</th>\n",
       "      <td>3048.0</td>\n",
       "      <td>72.769029</td>\n",
       "      <td>13.664908</td>\n",
       "      <td>20.0</td>\n",
       "      <td>64.0</td>\n",
       "      <td>72.0</td>\n",
       "      <td>82.00</td>\n",
       "      <td>100.0</td>\n",
       "    </tr>\n",
       "    <tr>\n",
       "      <th>math</th>\n",
       "      <td>2356.0</td>\n",
       "      <td>49.255093</td>\n",
       "      <td>17.880420</td>\n",
       "      <td>5.0</td>\n",
       "      <td>33.0</td>\n",
       "      <td>50.0</td>\n",
       "      <td>68.00</td>\n",
       "      <td>96.0</td>\n",
       "    </tr>\n",
       "    <tr>\n",
       "      <th>physics</th>\n",
       "      <td>1180.0</td>\n",
       "      <td>52.047458</td>\n",
       "      <td>14.965477</td>\n",
       "      <td>10.0</td>\n",
       "      <td>41.0</td>\n",
       "      <td>49.0</td>\n",
       "      <td>60.25</td>\n",
       "      <td>100.0</td>\n",
       "    </tr>\n",
       "    <tr>\n",
       "      <th>informatics</th>\n",
       "      <td>141.0</td>\n",
       "      <td>60.780142</td>\n",
       "      <td>19.419832</td>\n",
       "      <td>0.0</td>\n",
       "      <td>50.0</td>\n",
       "      <td>64.0</td>\n",
       "      <td>75.00</td>\n",
       "      <td>100.0</td>\n",
       "    </tr>\n",
       "  </tbody>\n",
       "</table>\n",
       "</div>"
      ],
      "text/plain": [
       "              count       mean        std   min   25%   50%    75%    max\n",
       "rus          3048.0  72.769029  13.664908  20.0  64.0  72.0  82.00  100.0\n",
       "math         2356.0  49.255093  17.880420   5.0  33.0  50.0  68.00   96.0\n",
       "physics      1180.0  52.047458  14.965477  10.0  41.0  49.0  60.25  100.0\n",
       "informatics   141.0  60.780142  19.419832   0.0  50.0  64.0  75.00  100.0"
      ]
     },
     "execution_count": 111,
     "metadata": {},
     "output_type": "execute_result"
    }
   ],
   "source": [
    "stat = exams.apply(lambda x: x['Балл'].describe())\n",
    "stat"
   ]
  },
  {
   "cell_type": "markdown",
   "id": "fb8c810e",
   "metadata": {},
   "source": [
    "Найдите процент учащихся, выполнивших работу ниже среднего"
   ]
  },
  {
   "cell_type": "code",
   "execution_count": 172,
   "id": "5f80842b",
   "metadata": {
    "scrolled": false
   },
   "outputs": [
    {
     "data": {
      "text/plain": [
       "rus            51.279528\n",
       "math           48.005093\n",
       "physics        56.271186\n",
       "informatics    46.099291\n",
       "dtype: float64"
      ]
     },
     "execution_count": 172,
     "metadata": {},
     "output_type": "execute_result"
    }
   ],
   "source": [
    "pd.concat(\n",
    "    [exams, stat['mean']],\n",
    "    axis=1\n",
    ").apply(\n",
    "    lambda row: row[0].Балл[row[0].Балл < row['mean']].count() /\n",
    "    row[0].shape[0] * 100,\n",
    "    axis=1\n",
    ")"
   ]
  },
  {
   "cell_type": "code",
   "execution_count": null,
   "id": "9c9a7993",
   "metadata": {},
   "outputs": [],
   "source": []
  }
 ],
 "metadata": {
  "kernelspec": {
   "display_name": "Python 3 (ipykernel)",
   "language": "python",
   "name": "python3"
  },
  "language_info": {
   "codemirror_mode": {
    "name": "ipython",
    "version": 3
   },
   "file_extension": ".py",
   "mimetype": "text/x-python",
   "name": "python",
   "nbconvert_exporter": "python",
   "pygments_lexer": "ipython3",
   "version": "3.9.12"
  }
 },
 "nbformat": 4,
 "nbformat_minor": 5
}
