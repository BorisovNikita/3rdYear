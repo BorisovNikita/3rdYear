{
 "cells": [
  {
   "cell_type": "code",
   "execution_count": 3,
   "metadata": {},
   "outputs": [],
   "source": [
    "import pandas as pd\n",
    "import numpy as np\n",
    "import matplotlib.pyplot as plt\n",
    "import seaborn as sns"
   ]
  },
  {
   "cell_type": "markdown",
   "metadata": {},
   "source": [
    "### 1.Загрузите данные в ноутбук"
   ]
  },
  {
   "cell_type": "code",
   "execution_count": 4,
   "metadata": {},
   "outputs": [],
   "source": [
    "df_1 = pd.read_excel('Вариант 1.xlsx', header=None) "
   ]
  },
  {
   "cell_type": "code",
   "execution_count": 5,
   "metadata": {},
   "outputs": [],
   "source": [
    "df_1.columns = df_1.iloc[2]"
   ]
  },
  {
   "cell_type": "code",
   "execution_count": 6,
   "metadata": {},
   "outputs": [],
   "source": [
    "df_1 = df_1.iloc[3:]"
   ]
  },
  {
   "cell_type": "code",
   "execution_count": 7,
   "metadata": {},
   "outputs": [
    {
     "data": {
      "text/html": [
       "<div>\n",
       "<style scoped>\n",
       "    .dataframe tbody tr th:only-of-type {\n",
       "        vertical-align: middle;\n",
       "    }\n",
       "\n",
       "    .dataframe tbody tr th {\n",
       "        vertical-align: top;\n",
       "    }\n",
       "\n",
       "    .dataframe thead th {\n",
       "        text-align: right;\n",
       "    }\n",
       "</style>\n",
       "<table border=\"1\" class=\"dataframe\">\n",
       "  <thead>\n",
       "    <tr style=\"text-align: right;\">\n",
       "      <th>2</th>\n",
       "      <th>№</th>\n",
       "      <th>№ школы</th>\n",
       "      <th>Класс</th>\n",
       "      <th>Пол</th>\n",
       "      <th>Номер варианта</th>\n",
       "      <th>Задания с кратким ответом</th>\n",
       "      <th>Задания с развёрнутым ответом</th>\n",
       "      <th>Устная часть</th>\n",
       "      <th>Первичный балл</th>\n",
       "      <th>Балл</th>\n",
       "      <th>Минимальный балл</th>\n",
       "    </tr>\n",
       "  </thead>\n",
       "  <tbody>\n",
       "    <tr>\n",
       "      <th>3</th>\n",
       "      <td>1</td>\n",
       "      <td>117</td>\n",
       "      <td>11</td>\n",
       "      <td>М</td>\n",
       "      <td>341</td>\n",
       "      <td>1+++--1+-++---0---------0</td>\n",
       "      <td>0(1)0(3)0(1)0(3)0(2)0(2)0(3)0(3)0(2)0(2)0(1)0(1)</td>\n",
       "      <td>NaN</td>\n",
       "      <td>8</td>\n",
       "      <td>20</td>\n",
       "      <td>24</td>\n",
       "    </tr>\n",
       "    <tr>\n",
       "      <th>4</th>\n",
       "      <td>2</td>\n",
       "      <td>148</td>\n",
       "      <td>12А</td>\n",
       "      <td>М</td>\n",
       "      <td>338</td>\n",
       "      <td>1+---+0--+---+0----++-+-0</td>\n",
       "      <td>0(1)0(3)0(1)0(3)0(2)0(2)0(3)0(3)0(2)0(2)0(1)0(1)</td>\n",
       "      <td>NaN</td>\n",
       "      <td>8</td>\n",
       "      <td>20</td>\n",
       "      <td>24</td>\n",
       "    </tr>\n",
       "    <tr>\n",
       "      <th>5</th>\n",
       "      <td>3</td>\n",
       "      <td>152</td>\n",
       "      <td>13</td>\n",
       "      <td>Ж</td>\n",
       "      <td>104</td>\n",
       "      <td>2-----0--+----1---------1</td>\n",
       "      <td>0(1)0(3)0(1)0(3)0(2)0(2)0(3)1(3)0(2)1(2)1(1)1(1)</td>\n",
       "      <td>NaN</td>\n",
       "      <td>9</td>\n",
       "      <td>22</td>\n",
       "      <td>24</td>\n",
       "    </tr>\n",
       "    <tr>\n",
       "      <th>6</th>\n",
       "      <td>4</td>\n",
       "      <td>152</td>\n",
       "      <td>13</td>\n",
       "      <td>М</td>\n",
       "      <td>104</td>\n",
       "      <td>1+--+-0++-----2----++---0</td>\n",
       "      <td>0(1)0(3)0(1)0(3)0(2)0(2)0(3)0(3)0(2)0(2)0(1)0(1)</td>\n",
       "      <td>NaN</td>\n",
       "      <td>9</td>\n",
       "      <td>22</td>\n",
       "      <td>24</td>\n",
       "    </tr>\n",
       "    <tr>\n",
       "      <th>7</th>\n",
       "      <td>5</td>\n",
       "      <td>132</td>\n",
       "      <td>11</td>\n",
       "      <td>М</td>\n",
       "      <td>337</td>\n",
       "      <td>1++---0-+++---1----+----2</td>\n",
       "      <td>0(1)0(3)0(1)0(3)0(2)0(2)0(3)0(3)0(2)0(2)0(1)0(1)</td>\n",
       "      <td>NaN</td>\n",
       "      <td>10</td>\n",
       "      <td>24</td>\n",
       "      <td>24</td>\n",
       "    </tr>\n",
       "  </tbody>\n",
       "</table>\n",
       "</div>"
      ],
      "text/plain": [
       "2  № № школы Класс Пол Номер варианта  Задания с кратким ответом  \\\n",
       "3  1     117    11   М            341  1+++--1+-++---0---------0   \n",
       "4  2     148   12А   М            338  1+---+0--+---+0----++-+-0   \n",
       "5  3     152    13   Ж            104  2-----0--+----1---------1   \n",
       "6  4     152    13   М            104  1+--+-0++-----2----++---0   \n",
       "7  5     132    11   М            337  1++---0-+++---1----+----2   \n",
       "\n",
       "2                     Задания с развёрнутым ответом Устная часть  \\\n",
       "3  0(1)0(3)0(1)0(3)0(2)0(2)0(3)0(3)0(2)0(2)0(1)0(1)          NaN   \n",
       "4  0(1)0(3)0(1)0(3)0(2)0(2)0(3)0(3)0(2)0(2)0(1)0(1)          NaN   \n",
       "5  0(1)0(3)0(1)0(3)0(2)0(2)0(3)1(3)0(2)1(2)1(1)1(1)          NaN   \n",
       "6  0(1)0(3)0(1)0(3)0(2)0(2)0(3)0(3)0(2)0(2)0(1)0(1)          NaN   \n",
       "7  0(1)0(3)0(1)0(3)0(2)0(2)0(3)0(3)0(2)0(2)0(1)0(1)          NaN   \n",
       "\n",
       "2 Первичный балл Балл Минимальный балл  \n",
       "3              8   20               24  \n",
       "4              8   20               24  \n",
       "5              9   22               24  \n",
       "6              9   22               24  \n",
       "7             10   24               24  "
      ]
     },
     "execution_count": 7,
     "metadata": {},
     "output_type": "execute_result"
    }
   ],
   "source": [
    "df_1.head()"
   ]
  },
  {
   "cell_type": "code",
   "execution_count": 8,
   "metadata": {},
   "outputs": [
    {
     "name": "stdout",
     "output_type": "stream",
     "text": [
      "02-Математика профильная\n",
      "03-Физика\n",
      "05-Информатика и ИКТ\n"
     ]
    }
   ],
   "source": [
    "df_2 = pd.read_excel('Вариант 2.xlsx', header=None) \n",
    "print(df_2.iloc[0][0])\n",
    "df_2.columns = df_2.iloc[2]\n",
    "df_2 = df_2.iloc[3:]\n",
    "\n",
    "df_3 = pd.read_excel('Вариант 3.xlsx', header=None) \n",
    "print(df_3.iloc[0][0])\n",
    "df_3.columns = df_3.iloc[2]\n",
    "df_3 = df_3.iloc[3:]\n",
    "\n",
    "df_4 = pd.read_excel('Вариант 4.xlsx', header=None) \n",
    "print(df_4.iloc[0][0])\n",
    "df_4.columns = df_4.iloc[2]\n",
    "df_4 = df_4.iloc[3:]"
   ]
  },
  {
   "cell_type": "markdown",
   "metadata": {},
   "source": [
    "### 2.Сделайте описательную статистику по набранному баллу"
   ]
  },
  {
   "cell_type": "code",
   "execution_count": 9,
   "metadata": {},
   "outputs": [],
   "source": [
    "sub = ['Русский язык','Математика','Физика','Информатика и ИКТ']\n",
    "sub_df = [df_1,df_2,df_3,df_4]"
   ]
  },
  {
   "cell_type": "code",
   "execution_count": 13,
   "metadata": {},
   "outputs": [
    {
     "name": "stdout",
     "output_type": "stream",
     "text": [
      "Описательная статистика по предмету Русский язык \n",
      " count    3049.000000\n",
      "mean       72.768777\n",
      "std        13.662673\n",
      "min        20.000000\n",
      "25%        64.000000\n",
      "50%        72.000000\n",
      "75%        82.000000\n",
      "max       100.000000\n",
      "Name: Балл, dtype: float64\n",
      "Описательная статистика по предмету Математика \n",
      " count    2357.000000\n",
      "mean       49.254985\n",
      "std        17.876626\n",
      "min         5.000000\n",
      "25%        33.000000\n",
      "50%        50.000000\n",
      "75%        68.000000\n",
      "max        96.000000\n",
      "Name: Балл, dtype: float64\n",
      "Описательная статистика по предмету Физика \n",
      " count    1181.000000\n",
      "mean       52.047417\n",
      "std        14.959135\n",
      "min        10.000000\n",
      "25%        41.000000\n",
      "50%        49.000000\n",
      "75%        60.000000\n",
      "max       100.000000\n",
      "Name: Балл, dtype: float64\n",
      "Описательная статистика по предмету Информатика и ИКТ \n",
      " count    142.000000\n",
      "mean      60.774648\n",
      "std       19.350956\n",
      "min        0.000000\n",
      "25%       50.000000\n",
      "50%       63.000000\n",
      "75%       75.000000\n",
      "max      100.000000\n",
      "Name: Балл, dtype: float64\n"
     ]
    }
   ],
   "source": [
    "for s in range(len(sub)):\n",
    "    print('Описательная статистика по предмету',sub[s], '\\n',  sub_df[s]['Балл'].astype(int).describe())"
   ]
  },
  {
   "cell_type": "markdown",
   "metadata": {},
   "source": [
    "###  3.Найдите процент учащихся, выполнивших работу ниже среднего"
   ]
  },
  {
   "cell_type": "code",
   "execution_count": 16,
   "metadata": {},
   "outputs": [
    {
     "name": "stdout",
     "output_type": "stream",
     "text": [
      "Процент учащихся, выполнивших работу ниже среднего по предмету Русский язык \n",
      " 51.26%\n",
      "Процент учащихся, выполнивших работу ниже среднего по предмету Математика \n",
      " 47.98%\n",
      "Процент учащихся, выполнивших работу ниже среднего по предмету Физика \n",
      " 56.22%\n",
      "Процент учащихся, выполнивших работу ниже среднего по предмету Информатика и ИКТ \n",
      " 45.77%\n"
     ]
    }
   ],
   "source": [
    "for s in range(len(sub)):\n",
    "    col = (sub_df[s]['Балл'] < sub_df[s]['Балл'].mean()).sum()\n",
    "    print('Процент учащихся, выполнивших работу ниже среднего по предмету',sub[s], '\\n',  str(round(col/sub_df[s]['Балл'].count()*100,2) ) + '%')"
   ]
  },
  {
   "cell_type": "markdown",
   "metadata": {},
   "source": [
    "### 4.Найти процент учащихся не сдавших экзамен"
   ]
  },
  {
   "cell_type": "code",
   "execution_count": 17,
   "metadata": {},
   "outputs": [
    {
     "name": "stdout",
     "output_type": "stream",
     "text": [
      "Процент учащихся, не сдавших экзамен по предмету Русский язык \n",
      " 0.13%\n",
      "Процент учащихся, не сдавших экзамен по предмету Математика \n",
      " 9.21%\n",
      "Процент учащихся, не сдавших экзамен по предмету Физика \n",
      " 7.71%\n",
      "Процент учащихся, не сдавших экзамен по предмету Информатика и ИКТ \n",
      " 11.27%\n"
     ]
    }
   ],
   "source": [
    "for s in range(len(sub)):\n",
    "    print('Процент учащихся, не сдавших экзамен по предмету',\n",
    "          sub[s], '\\n',  \n",
    "          str(round((sub_df[s]['Балл'] < sub_df[s]['Минимальный балл']).sum()/sub_df[s]['Балл'].count()*100,2) ) + '%')"
   ]
  },
  {
   "cell_type": "markdown",
   "metadata": {},
   "source": [
    "### 5.Постройте круговую диаграмму, показывающую распределение сдавших и не сдавших экзамен"
   ]
  },
  {
   "cell_type": "code",
   "execution_count": 18,
   "metadata": {},
   "outputs": [],
   "source": [
    "def exam(df):\n",
    "    return (df['Балл'] >= df['Минимальный балл']).sum(),(df['Балл'] < df['Минимальный балл']).sum()"
   ]
  },
  {
   "cell_type": "code",
   "execution_count": 19,
   "metadata": {},
   "outputs": [
    {
     "data": {
      "image/png": "[encoded data removed]",
      "text/plain": [
       "<Figure size 720x720 with 4 Axes>"
      ]
     },
     "metadata": {},
     "output_type": "display_data"
    }
   ],
   "source": [
    "fig, ax = plt.subplots(2,2, figsize=(10,10))\n",
    "ax[0,0].set_title('Русский язык')\n",
    "ax[0,1].set_title('Математика')\n",
    "ax[1,0].set_title('Физика')\n",
    "ax[1,1].set_title('Информатика')\n",
    "\n",
    "\n",
    "\n",
    "ax[0,0].pie(exam(df_1),labels = ['Сдали','Не сдали'])\n",
    "ax[0,1].pie(exam(df_2),labels = ['Сдали','Не сдали'])\n",
    "ax[1,0].pie(exam(df_3),labels = ['Сдали','Не сдали'])\n",
    "ax[1,1].pie(exam(df_4),labels = ['Сдали','Не сдали'])\n",
    "\n",
    "\n",
    "plt.show()"
   ]
  },
  {
   "cell_type": "markdown",
   "metadata": {},
   "source": [
    "### 6.Постройте ядерную оценку плотности распределению баллов за экзамен"
   ]
  },
  {
   "cell_type": "code",
   "execution_count": 24,
   "metadata": {},
   "outputs": [
    {
     "data": {
      "image/png": "[encoded data removed]",
      "text/plain": [
       "<Figure size 720x576 with 4 Axes>"
      ]
     },
     "metadata": {
      "needs_background": "light"
     },
     "output_type": "display_data"
    }
   ],
   "source": [
    "fig, ax = plt.subplots(2,2, figsize=(10,8))\n",
    "plt.subplots_adjust(hspace=0.5)\n",
    "\n",
    "ax[0,0].set_title('Русский язык')\n",
    "ax[0,1].set_title('Математика')\n",
    "ax[1,0].set_title('Физика')\n",
    "ax[1,1].set_title('Информатика')\n",
    "\n",
    "\n",
    "\n",
    "sns.kdeplot(ax=ax[0, 0], data=df_1['Балл'], shade=True)\n",
    "sns.kdeplot(ax=ax[0, 1], data=df_2['Балл'], shade=True)\n",
    "sns.kdeplot(ax=ax[1, 0], data=df_3['Балл'], shade=True)\n",
    "sns.kdeplot(ax=ax[1, 1], data=df_4['Балл'], shade=True)\n",
    "\n",
    "plt.show()"
   ]
  },
  {
   "cell_type": "markdown",
   "metadata": {},
   "source": [
    "### 7.Найдите процентное соотношение учащихся, сдавших экзамен на «отлично», «хорошо», «удовлетворительно», «неудовлетворительно»."
   ]
  },
  {
   "cell_type": "code",
   "execution_count": 28,
   "metadata": {},
   "outputs": [
    {
     "data": {
      "text/plain": [
       "['Русский язык', 'Математика', 'Физика', 'Информатика и ИКТ']"
      ]
     },
     "execution_count": 28,
     "metadata": {},
     "output_type": "execute_result"
    }
   ],
   "source": [
    "sub"
   ]
  },
  {
   "cell_type": "code",
   "execution_count": 29,
   "metadata": {},
   "outputs": [],
   "source": [
    "borders = {'Русский язык':[35,58,72],\n",
    "         'Математика':[27,47,65],\n",
    "         'Физика':[36,54,68],\n",
    "         'Информатика и ИКТ':[40,57,73]}"
   ]
  },
  {
   "cell_type": "code",
   "execution_count": 30,
   "metadata": {},
   "outputs": [],
   "source": [
    "def marks(x, i):\n",
    "    if x >= borders[sub[i]][0] and x<borders[sub[i]][1]:\n",
    "        return 'удовлетворительно'\n",
    "    elif x >= borders[sub[i]][1] and x<borders[sub[i]][2]:\n",
    "        return 'хорошо'\n",
    "    elif x >= borders[sub[i]][2]:\n",
    "        return 'отлично'\n",
    "    else:\n",
    "        return 'неудовлетворительно'"
   ]
  },
  {
   "cell_type": "code",
   "execution_count": 32,
   "metadata": {},
   "outputs": [
    {
     "name": "stdout",
     "output_type": "stream",
     "text": [
      "Процентное соотношение по предмету Русский язык \n",
      " отлично                53.33\n",
      "хорошо                 32.63\n",
      "удовлетворительно      13.35\n",
      "неудовлетворительно     0.69\n",
      "Name: Балл, dtype: float64\n",
      "Процентное соотношение по предмету Математика \n",
      " удовлетворительно      38.78\n",
      "хорошо                 26.43\n",
      "отлично                25.58\n",
      "неудовлетворительно     9.21\n",
      "Name: Балл, dtype: float64\n",
      "Процентное соотношение по предмету Физика \n",
      " удовлетворительно      51.48\n",
      "хорошо                 24.89\n",
      "отлично                15.92\n",
      "неудовлетворительно     7.71\n",
      "Name: Балл, dtype: float64\n",
      "Процентное соотношение по предмету Информатика и ИКТ \n",
      " хорошо                 32.39\n",
      "отлично                30.28\n",
      "удовлетворительно      26.06\n",
      "неудовлетворительно    11.27\n",
      "Name: Балл, dtype: float64\n"
     ]
    }
   ],
   "source": [
    "for s in range(len(sub)):\n",
    "    print('Процентное соотношение по предмету',sub[s], '\\n',  round(sub_df[s]['Балл'].apply(lambda x:marks(x, s)).value_counts(normalize=True)*100,2))"
   ]
  },
  {
   "cell_type": "markdown",
   "metadata": {},
   "source": [
    "### 8.Какое процентное соотношение юношей и девушек писало данный экзамен?"
   ]
  },
  {
   "cell_type": "code",
   "execution_count": 33,
   "metadata": {},
   "outputs": [
    {
     "name": "stdout",
     "output_type": "stream",
     "text": [
      "Процентное соотношение юношей и девушек по предмету Русский язык \n",
      " Ж    57.97\n",
      "М    42.03\n",
      "Name: Пол, dtype: float64\n",
      "Процентное соотношение юношей и девушек по предмету Математика \n",
      " Ж    52.84\n",
      "М    47.16\n",
      "Name: Пол, dtype: float64\n",
      "Процентное соотношение юношей и девушек по предмету Физика \n",
      " М    68.64\n",
      "Ж    31.36\n",
      "Name: Пол, dtype: float64\n",
      "Процентное соотношение юношей и девушек по предмету Информатика и ИКТ \n",
      " М    77.3\n",
      "Ж    22.7\n",
      "Name: Пол, dtype: float64\n"
     ]
    }
   ],
   "source": [
    "for s in range(len(sub)):\n",
    "    print('Процентное соотношение юношей и девушек по предмету',sub[s], '\\n',  round(sub_df[s]['Пол'].*100value_counts(normalize=True),2))"
   ]
  },
  {
   "cell_type": "markdown",
   "metadata": {},
   "source": [
    "### 9.Сколько школ принимало участие в экзамене?"
   ]
  },
  {
   "cell_type": "code",
   "execution_count": 36,
   "metadata": {},
   "outputs": [
    {
     "name": "stdout",
     "output_type": "stream",
     "text": [
      "Количество школ, принимавших участие по предмету Русский язык \n",
      " 24\n",
      "Количество школ, принимавших участие по предмету Математика \n",
      " 17\n",
      "Количество школ, принимавших участие по предмету Физика \n",
      " 19\n",
      "Количество школ, принимавших участие по предмету Информатика и ИКТ \n",
      " 10\n"
     ]
    }
   ],
   "source": [
    "for s in range(len(sub)):\n",
    "    print('Количество школ, принимавших участие по предмету',sub[s], '\\n',  sub_df[s]['№ школы'].dropna().unique().shape[0])"
   ]
  },
  {
   "cell_type": "code",
   "execution_count": null,
   "metadata": {},
   "outputs": [],
   "source": []
  }
 ],
 "metadata": {
  "kernelspec": {
   "display_name": "Python 3 (ipykernel)",
   "language": "python",
   "name": "python3"
  },
  "language_info": {
   "codemirror_mode": {
    "name": "ipython",
    "version": 3
   },
   "file_extension": ".py",
   "mimetype": "text/x-python",
   "name": "python",
   "nbconvert_exporter": "python",
   "pygments_lexer": "ipython3",
   "version": "3.9.12"
  }
 },
 "nbformat": 4,
 "nbformat_minor": 4
}
