{
  "nbformat": 4,
  "nbformat_minor": 0,
  "metadata": {
    "colab": {
      "name": "day_2_classwork.ipynb",
      "provenance": []
    },
    "kernelspec": {
      "name": "python3",
      "display_name": "Python 3"
    },
    "language_info": {
      "name": "python"
    }
  },
  "cells": [
    {
      "cell_type": "code",
      "execution_count": 1,
      "metadata": {
        "id": "KUaL0c0CeCIR"
      },
      "outputs": [],
      "source": [
        "import numpy as np\n",
        "import pandas as pd\n",
        "import matplotlib.pyplot as plt"
      ]
    },
    {
      "cell_type": "code",
      "source": [
        "pima = pd.read_csv('https://raw.githubusercontent.com/koroteevmv/ML_course/main/day%202/diabetes.csv')"
      ],
      "metadata": {
        "id": "gt2c4jgaeOCX"
      },
      "execution_count": 2,
      "outputs": []
    },
    {
      "cell_type": "code",
      "source": [
        "pima.head()"
      ],
      "metadata": {
        "colab": {
          "base_uri": "https://localhost:8080/",
          "height": 204
        },
        "id": "8kw9t_7Dej9y",
        "outputId": "d4ef4070-ebcc-4216-fe03-89f5cf59d207"
      },
      "execution_count": 3,
      "outputs": [
        {
          "output_type": "execute_result",
          "data": {
            "text/html": [
              "\n",
              "  <div id=\"df-a56eba52-d475-4d17-8571-b1f82da12843\">\n",
              "    <div class=\"colab-df-container\">\n",
              "      <div>\n",
              "<style scoped>\n",
              "    .dataframe tbody tr th:only-of-type {\n",
              "        vertical-align: middle;\n",
              "    }\n",
              "\n",
              "    .dataframe tbody tr th {\n",
              "        vertical-align: top;\n",
              "    }\n",
              "\n",
              "    .dataframe thead th {\n",
              "        text-align: right;\n",
              "    }\n",
              "</style>\n",
              "<table border=\"1\" class=\"dataframe\">\n",
              "  <thead>\n",
              "    <tr style=\"text-align: right;\">\n",
              "      <th></th>\n",
              "      <th>Pregnancies</th>\n",
              "      <th>Glucose</th>\n",
              "      <th>BloodPressure</th>\n",
              "      <th>SkinThickness</th>\n",
              "      <th>Insulin</th>\n",
              "      <th>BMI</th>\n",
              "      <th>DiabetesPedigreeFunction</th>\n",
              "      <th>Age</th>\n",
              "      <th>Outcome</th>\n",
              "    </tr>\n",
              "  </thead>\n",
              "  <tbody>\n",
              "    <tr>\n",
              "      <th>0</th>\n",
              "      <td>6</td>\n",
              "      <td>148</td>\n",
              "      <td>72</td>\n",
              "      <td>35</td>\n",
              "      <td>0</td>\n",
              "      <td>33.6</td>\n",
              "      <td>0.627</td>\n",
              "      <td>50</td>\n",
              "      <td>1</td>\n",
              "    </tr>\n",
              "    <tr>\n",
              "      <th>1</th>\n",
              "      <td>1</td>\n",
              "      <td>85</td>\n",
              "      <td>66</td>\n",
              "      <td>29</td>\n",
              "      <td>0</td>\n",
              "      <td>26.6</td>\n",
              "      <td>0.351</td>\n",
              "      <td>31</td>\n",
              "      <td>0</td>\n",
              "    </tr>\n",
              "    <tr>\n",
              "      <th>2</th>\n",
              "      <td>8</td>\n",
              "      <td>183</td>\n",
              "      <td>64</td>\n",
              "      <td>0</td>\n",
              "      <td>0</td>\n",
              "      <td>23.3</td>\n",
              "      <td>0.672</td>\n",
              "      <td>32</td>\n",
              "      <td>1</td>\n",
              "    </tr>\n",
              "    <tr>\n",
              "      <th>3</th>\n",
              "      <td>1</td>\n",
              "      <td>89</td>\n",
              "      <td>66</td>\n",
              "      <td>23</td>\n",
              "      <td>94</td>\n",
              "      <td>28.1</td>\n",
              "      <td>0.167</td>\n",
              "      <td>21</td>\n",
              "      <td>0</td>\n",
              "    </tr>\n",
              "    <tr>\n",
              "      <th>4</th>\n",
              "      <td>0</td>\n",
              "      <td>137</td>\n",
              "      <td>40</td>\n",
              "      <td>35</td>\n",
              "      <td>168</td>\n",
              "      <td>43.1</td>\n",
              "      <td>2.288</td>\n",
              "      <td>33</td>\n",
              "      <td>1</td>\n",
              "    </tr>\n",
              "  </tbody>\n",
              "</table>\n",
              "</div>\n",
              "      <button class=\"colab-df-convert\" onclick=\"convertToInteractive('df-a56eba52-d475-4d17-8571-b1f82da12843')\"\n",
              "              title=\"Convert this dataframe to an interactive table.\"\n",
              "              style=\"display:none;\">\n",
              "        \n",
              "  <svg xmlns=\"http://www.w3.org/2000/svg\" height=\"24px\"viewBox=\"0 0 24 24\"\n",
              "       width=\"24px\">\n",
              "    <path d=\"M0 0h24v24H0V0z\" fill=\"none\"/>\n",
              "    <path d=\"M18.56 5.44l.94 2.06.94-2.06 2.06-.94-2.06-.94-.94-2.06-.94 2.06-2.06.94zm-11 1L8.5 8.5l.94-2.06 2.06-.94-2.06-.94L8.5 2.5l-.94 2.06-2.06.94zm10 10l.94 2.06.94-2.06 2.06-.94-2.06-.94-.94-2.06-.94 2.06-2.06.94z\"/><path d=\"M17.41 7.96l-1.37-1.37c-.4-.4-.92-.59-1.43-.59-.52 0-1.04.2-1.43.59L10.3 9.45l-7.72 7.72c-.78.78-.78 2.05 0 2.83L4 21.41c.39.39.9.59 1.41.59.51 0 1.02-.2 1.41-.59l7.78-7.78 2.81-2.81c.8-.78.8-2.07 0-2.86zM5.41 20L4 18.59l7.72-7.72 1.47 1.35L5.41 20z\"/>\n",
              "  </svg>\n",
              "      </button>\n",
              "      \n",
              "  <style>\n",
              "    .colab-df-container {\n",
              "      display:flex;\n",
              "      flex-wrap:wrap;\n",
              "      gap: 12px;\n",
              "    }\n",
              "\n",
              "    .colab-df-convert {\n",
              "      background-color: #E8F0FE;\n",
              "      border: none;\n",
              "      border-radius: 50%;\n",
              "      cursor: pointer;\n",
              "      display: none;\n",
              "      fill: #1967D2;\n",
              "      height: 32px;\n",
              "      padding: 0 0 0 0;\n",
              "      width: 32px;\n",
              "    }\n",
              "\n",
              "    .colab-df-convert:hover {\n",
              "      background-color: #E2EBFA;\n",
              "      box-shadow: 0px 1px 2px rgba(60, 64, 67, 0.3), 0px 1px 3px 1px rgba(60, 64, 67, 0.15);\n",
              "      fill: #174EA6;\n",
              "    }\n",
              "\n",
              "    [theme=dark] .colab-df-convert {\n",
              "      background-color: #3B4455;\n",
              "      fill: #D2E3FC;\n",
              "    }\n",
              "\n",
              "    [theme=dark] .colab-df-convert:hover {\n",
              "      background-color: #434B5C;\n",
              "      box-shadow: 0px 1px 3px 1px rgba(0, 0, 0, 0.15);\n",
              "      filter: drop-shadow(0px 1px 2px rgba(0, 0, 0, 0.3));\n",
              "      fill: #FFFFFF;\n",
              "    }\n",
              "  </style>\n",
              "\n",
              "      <script>\n",
              "        const buttonEl =\n",
              "          document.querySelector('#df-a56eba52-d475-4d17-8571-b1f82da12843 button.colab-df-convert');\n",
              "        buttonEl.style.display =\n",
              "          google.colab.kernel.accessAllowed ? 'block' : 'none';\n",
              "\n",
              "        async function convertToInteractive(key) {\n",
              "          const element = document.querySelector('#df-a56eba52-d475-4d17-8571-b1f82da12843');\n",
              "          const dataTable =\n",
              "            await google.colab.kernel.invokeFunction('convertToInteractive',\n",
              "                                                     [key], {});\n",
              "          if (!dataTable) return;\n",
              "\n",
              "          const docLinkHtml = 'Like what you see? Visit the ' +\n",
              "            '<a target=\"_blank\" href=https://colab.research.google.com/notebooks/data_table.ipynb>data table notebook</a>'\n",
              "            + ' to learn more about interactive tables.';\n",
              "          element.innerHTML = '';\n",
              "          dataTable['output_type'] = 'display_data';\n",
              "          await google.colab.output.renderOutput(dataTable, element);\n",
              "          const docLink = document.createElement('div');\n",
              "          docLink.innerHTML = docLinkHtml;\n",
              "          element.appendChild(docLink);\n",
              "        }\n",
              "      </script>\n",
              "    </div>\n",
              "  </div>\n",
              "  "
            ],
            "text/plain": [
              "   Pregnancies  Glucose  BloodPressure  ...  DiabetesPedigreeFunction  Age  Outcome\n",
              "0            6      148             72  ...                     0.627   50        1\n",
              "1            1       85             66  ...                     0.351   31        0\n",
              "2            8      183             64  ...                     0.672   32        1\n",
              "3            1       89             66  ...                     0.167   21        0\n",
              "4            0      137             40  ...                     2.288   33        1\n",
              "\n",
              "[5 rows x 9 columns]"
            ]
          },
          "metadata": {},
          "execution_count": 3
        }
      ]
    },
    {
      "cell_type": "code",
      "source": [
        "Y = pima.Outcome\n",
        "X = pima.drop(['Outcome'], axis=1)"
      ],
      "metadata": {
        "id": "e2frdngUe00F"
      },
      "execution_count": 4,
      "outputs": []
    },
    {
      "cell_type": "code",
      "source": [
        "X.shape, Y.shape"
      ],
      "metadata": {
        "colab": {
          "base_uri": "https://localhost:8080/"
        },
        "id": "T7grASrrf-J9",
        "outputId": "03aed04b-5e5b-4621-d335-87daf15275f6"
      },
      "execution_count": 6,
      "outputs": [
        {
          "output_type": "execute_result",
          "data": {
            "text/plain": [
              "((768, 8), (768,))"
            ]
          },
          "metadata": {},
          "execution_count": 6
        }
      ]
    },
    {
      "cell_type": "code",
      "source": [
        "from sklearn.model_selection import train_test_split\n",
        "x_train, x_test, y_train, y_test = train_test_split(X, Y, \n",
        "                                                    test_size=0.2,\n",
        "                                                   random_state=True)"
      ],
      "metadata": {
        "id": "Z9xwPxWwgTPD"
      },
      "execution_count": 7,
      "outputs": []
    },
    {
      "cell_type": "code",
      "source": [
        "x_train.shape, x_test.shape"
      ],
      "metadata": {
        "colab": {
          "base_uri": "https://localhost:8080/"
        },
        "id": "TOwacSW3hpTv",
        "outputId": "1c2cc5fb-6840-4cf1-eca9-49a3c8a9bcdd"
      },
      "execution_count": 8,
      "outputs": [
        {
          "output_type": "execute_result",
          "data": {
            "text/plain": [
              "((614, 8), (154, 8))"
            ]
          },
          "metadata": {},
          "execution_count": 8
        }
      ]
    },
    {
      "cell_type": "code",
      "source": [
        "from sklearn.linear_model import LogisticRegression\n",
        "cls = LogisticRegression().fit(x_train, y_train)"
      ],
      "metadata": {
        "colab": {
          "base_uri": "https://localhost:8080/"
        },
        "id": "LTVWGxNlhu5A",
        "outputId": "c679fb0a-ba79-42cc-ebff-5d42148c9e35"
      },
      "execution_count": 9,
      "outputs": [
        {
          "output_type": "stream",
          "name": "stderr",
          "text": [
            "/usr/local/lib/python3.7/dist-packages/sklearn/linear_model/_logistic.py:818: ConvergenceWarning: lbfgs failed to converge (status=1):\n",
            "STOP: TOTAL NO. of ITERATIONS REACHED LIMIT.\n",
            "\n",
            "Increase the number of iterations (max_iter) or scale the data as shown in:\n",
            "    https://scikit-learn.org/stable/modules/preprocessing.html\n",
            "Please also refer to the documentation for alternative solver options:\n",
            "    https://scikit-learn.org/stable/modules/linear_model.html#logistic-regression\n",
            "  extra_warning_msg=_LOGISTIC_SOLVER_CONVERGENCE_MSG,\n"
          ]
        }
      ]
    },
    {
      "cell_type": "code",
      "source": [
        "y_pred = cls.predict(x_train)\n",
        "y_pred[:10], y_train[:10]"
      ],
      "metadata": {
        "colab": {
          "base_uri": "https://localhost:8080/"
        },
        "id": "UAqNNIZUih3f",
        "outputId": "ef925a1a-1a55-4892-91c4-659a6f39396e"
      },
      "execution_count": 13,
      "outputs": [
        {
          "output_type": "execute_result",
          "data": {
            "text/plain": [
              "(array([1, 1, 0, 0, 0, 0, 1, 1, 0, 0]), 663    1\n",
              " 712    1\n",
              " 161    0\n",
              " 509    0\n",
              " 305    0\n",
              " 426    0\n",
              " 13     1\n",
              " 480    1\n",
              " 682    0\n",
              " 607    0\n",
              " Name: Outcome, dtype: int64)"
            ]
          },
          "metadata": {},
          "execution_count": 13
        }
      ]
    },
    {
      "cell_type": "code",
      "source": [
        "from sklearn import metrics"
      ],
      "metadata": {
        "id": "FZ7w-GMfjSip"
      },
      "execution_count": 14,
      "outputs": []
    },
    {
      "cell_type": "code",
      "source": [
        "metrics.confusion_matrix(y_train, y_pred)"
      ],
      "metadata": {
        "colab": {
          "base_uri": "https://localhost:8080/"
        },
        "id": "3tSZlls7jrm5",
        "outputId": "27fd8289-1b7e-4118-b8f3-137169e86532"
      },
      "execution_count": 15,
      "outputs": [
        {
          "output_type": "execute_result",
          "data": {
            "text/plain": [
              "array([[358,  43],\n",
              "       [ 90, 123]])"
            ]
          },
          "metadata": {},
          "execution_count": 15
        }
      ]
    },
    {
      "cell_type": "code",
      "source": [
        "y_pred = cls.predict(x_test)\n",
        "metrics.confusion_matrix(y_test, y_pred)"
      ],
      "metadata": {
        "colab": {
          "base_uri": "https://localhost:8080/"
        },
        "id": "daRh14y6kATV",
        "outputId": "c26aa9ff-3358-4740-ec8a-6a7b01c06c96"
      },
      "execution_count": 17,
      "outputs": [
        {
          "output_type": "execute_result",
          "data": {
            "text/plain": [
              "array([[89, 10],\n",
              "       [24, 31]])"
            ]
          },
          "metadata": {},
          "execution_count": 17
        }
      ]
    },
    {
      "cell_type": "code",
      "source": [
        "import seaborn as sns\n",
        "%matplotlib inline\n",
        "\n",
        "class_names = [0, 1]\n",
        "fig, ax = plt.subplots()\n",
        "ticks = np.arange(len(class_names))\n",
        "plt.xticks(ticks, class_names)\n",
        "plt.yticks(ticks, class_names)\n",
        " \n",
        "sns.heatmap(pd.DataFrame(\n",
        "    metrics.confusion_matrix(y_test, y_pred)),\n",
        "    annot=True)\n",
        "plt.ylabel('Действительные значения')\n",
        "plt.xlabel('Предсказанные значения')"
      ],
      "metadata": {
        "colab": {
          "base_uri": "https://localhost:8080/",
          "height": 296
        },
        "id": "Dv6LGANrkwc9",
        "outputId": "70757f2e-3b91-494d-b2cc-d3effb1e956a"
      },
      "execution_count": 18,
      "outputs": [
        {
          "output_type": "execute_result",
          "data": {
            "text/plain": [
              "Text(0.5, 15.0, 'Предсказанные значения')"
            ]
          },
          "metadata": {},
          "execution_count": 18
        },
        {
          "output_type": "display_data",
          "data": {
            "image/png": "[encoded data removed]",
            "text/plain": [
              "<Figure size 432x288 with 2 Axes>"
            ]
          },
          "metadata": {
            "needs_background": "light"
          }
        }
      ]
    },
    {
      "cell_type": "code",
      "source": [
        "metrics.accuracy_score(y_test, y_pred)"
      ],
      "metadata": {
        "colab": {
          "base_uri": "https://localhost:8080/"
        },
        "id": "KpworoPellMX",
        "outputId": "7088a2d2-c94d-4690-ce54-86d4d2667dd5"
      },
      "execution_count": 19,
      "outputs": [
        {
          "output_type": "execute_result",
          "data": {
            "text/plain": [
              "0.7792207792207793"
            ]
          },
          "metadata": {},
          "execution_count": 19
        }
      ]
    },
    {
      "cell_type": "code",
      "source": [
        "metrics.precision_score(y_test, y_pred)"
      ],
      "metadata": {
        "colab": {
          "base_uri": "https://localhost:8080/"
        },
        "id": "IEfuXTbemMSp",
        "outputId": "1a944ab7-365d-4f5a-f5b6-b2ca288a0054"
      },
      "execution_count": 20,
      "outputs": [
        {
          "output_type": "execute_result",
          "data": {
            "text/plain": [
              "0.7560975609756098"
            ]
          },
          "metadata": {},
          "execution_count": 20
        }
      ]
    },
    {
      "cell_type": "code",
      "source": [
        "metrics.recall_score(y_test, y_pred)"
      ],
      "metadata": {
        "colab": {
          "base_uri": "https://localhost:8080/"
        },
        "id": "rJvpN0b0mi8i",
        "outputId": "d819d678-95c2-4534-a94e-6c388f8f0a09"
      },
      "execution_count": 21,
      "outputs": [
        {
          "output_type": "execute_result",
          "data": {
            "text/plain": [
              "0.5636363636363636"
            ]
          },
          "metadata": {},
          "execution_count": 21
        }
      ]
    },
    {
      "cell_type": "code",
      "source": [
        "print(metrics.classification_report(y_test, y_pred))"
      ],
      "metadata": {
        "colab": {
          "base_uri": "https://localhost:8080/"
        },
        "id": "Yu7BDpULmzUd",
        "outputId": "84879498-eb79-4f1c-a345-01d393383ec7"
      },
      "execution_count": 22,
      "outputs": [
        {
          "output_type": "stream",
          "name": "stdout",
          "text": [
            "              precision    recall  f1-score   support\n",
            "\n",
            "           0       0.79      0.90      0.84        99\n",
            "           1       0.76      0.56      0.65        55\n",
            "\n",
            "    accuracy                           0.78       154\n",
            "   macro avg       0.77      0.73      0.74       154\n",
            "weighted avg       0.78      0.78      0.77       154\n",
            "\n"
          ]
        }
      ]
    },
    {
      "cell_type": "code",
      "source": [
        "from sklearn import svm\n",
        "clf = svm.SVC(kernel='rbf').fit(x_train, y_train)\n",
        "y_pred = clf.predict(x_test)\n",
        "print(metrics.classification_report(y_test, y_pred))"
      ],
      "metadata": {
        "colab": {
          "base_uri": "https://localhost:8080/"
        },
        "id": "zjcNYi-qqCeu",
        "outputId": "7b9b4e37-a912-4dfe-bd3f-f727beba2878"
      },
      "execution_count": 26,
      "outputs": [
        {
          "output_type": "stream",
          "name": "stdout",
          "text": [
            "              precision    recall  f1-score   support\n",
            "\n",
            "           0       0.78      0.94      0.85        99\n",
            "           1       0.82      0.51      0.63        55\n",
            "\n",
            "    accuracy                           0.79       154\n",
            "   macro avg       0.80      0.72      0.74       154\n",
            "weighted avg       0.79      0.79      0.77       154\n",
            "\n"
          ]
        }
      ]
    },
    {
      "cell_type": "code",
      "source": [
        "metrics.accuracy_score(y_test, y_pred)"
      ],
      "metadata": {
        "colab": {
          "base_uri": "https://localhost:8080/"
        },
        "id": "FMW8Io8Uqecc",
        "outputId": "1b9e48a2-c24a-44b3-b627-b7adcbcc96e7"
      },
      "execution_count": 27,
      "outputs": [
        {
          "output_type": "execute_result",
          "data": {
            "text/plain": [
              "0.7857142857142857"
            ]
          },
          "metadata": {},
          "execution_count": 27
        }
      ]
    },
    {
      "cell_type": "code",
      "source": [
        "from sklearn.ensemble import RandomForestClassifier\n",
        "clf = RandomForestClassifier().fit(x_train, y_train)\n",
        "y_pred = clf.predict(x_test)\n",
        "print(metrics.classification_report(y_test, y_pred))"
      ],
      "metadata": {
        "colab": {
          "base_uri": "https://localhost:8080/"
        },
        "id": "gcRoBij4rHN6",
        "outputId": "628c8c9e-1fa1-4b74-f7eb-608db4be2dab"
      },
      "execution_count": 34,
      "outputs": [
        {
          "output_type": "stream",
          "name": "stdout",
          "text": [
            "              precision    recall  f1-score   support\n",
            "\n",
            "           0       0.82      0.87      0.84        99\n",
            "           1       0.73      0.65      0.69        55\n",
            "\n",
            "    accuracy                           0.79       154\n",
            "   macro avg       0.78      0.76      0.77       154\n",
            "weighted avg       0.79      0.79      0.79       154\n",
            "\n"
          ]
        }
      ]
    },
    {
      "cell_type": "code",
      "source": [
        "from sklearn.neural_network import MLPClassifier\n",
        "clf = MLPClassifier().fit(x_train, y_train)\n",
        "y_pred = clf.predict(x_test)\n",
        "print(metrics.classification_report(y_test, y_pred))"
      ],
      "metadata": {
        "colab": {
          "base_uri": "https://localhost:8080/"
        },
        "id": "0E_sR0XnrtAY",
        "outputId": "c5b965ab-4cc2-4af4-8ce9-836f1bdaadd7"
      },
      "execution_count": 35,
      "outputs": [
        {
          "output_type": "stream",
          "name": "stdout",
          "text": [
            "              precision    recall  f1-score   support\n",
            "\n",
            "           0       0.78      0.78      0.78        99\n",
            "           1       0.60      0.60      0.60        55\n",
            "\n",
            "    accuracy                           0.71       154\n",
            "   macro avg       0.69      0.69      0.69       154\n",
            "weighted avg       0.71      0.71      0.71       154\n",
            "\n"
          ]
        }
      ]
    },
    {
      "cell_type": "code",
      "source": [
        "y_pred[:20], y_test[:20]"
      ],
      "metadata": {
        "colab": {
          "base_uri": "https://localhost:8080/"
        },
        "id": "jirx1D_Vt5qf",
        "outputId": "6966a4f3-8853-41fa-de5b-ef70199927bc"
      },
      "execution_count": 37,
      "outputs": [
        {
          "output_type": "execute_result",
          "data": {
            "text/plain": [
              "(array([1, 1, 0, 0, 0, 0, 1, 0, 0, 0, 0, 0, 1, 1, 0, 1, 0, 0, 0, 1]), 285    0\n",
              " 101    0\n",
              " 581    0\n",
              " 352    0\n",
              " 726    0\n",
              " 472    0\n",
              " 233    0\n",
              " 385    0\n",
              " 556    0\n",
              " 59     0\n",
              " 756    0\n",
              " 341    0\n",
              " 445    1\n",
              " 614    1\n",
              " 371    0\n",
              " 355    1\n",
              " 19     1\n",
              " 711    0\n",
              " 430    0\n",
              " 117    0\n",
              " Name: Outcome, dtype: int64)"
            ]
          },
          "metadata": {},
          "execution_count": 37
        }
      ]
    },
    {
      "cell_type": "code",
      "source": [
        "from sklearn.datasets import fetch_20newsgroups\n",
        "news = fetch_20newsgroups(subset='all')"
      ],
      "metadata": {
        "id": "hokB-p94ukEO"
      },
      "execution_count": 38,
      "outputs": []
    },
    {
      "cell_type": "code",
      "source": [
        "print(news.data[0])\n",
        "print(news.target[0], news.target_names[news.target[0]])"
      ],
      "metadata": {
        "colab": {
          "base_uri": "https://localhost:8080/"
        },
        "id": "vGDYSHuBwW6j",
        "outputId": "b1afb436-0905-4d8c-c8e0-af287bad8eee"
      },
      "execution_count": 39,
      "outputs": [
        {
          "output_type": "stream",
          "name": "stdout",
          "text": [
            "From: Mamatha Devineni Ratnam <mr47+@andrew.cmu.edu>\n",
            "Subject: Pens fans reactions\n",
            "Organization: Post Office, Carnegie Mellon, Pittsburgh, PA\n",
            "Lines: 12\n",
            "NNTP-Posting-Host: po4.andrew.cmu.edu\n",
            "\n",
            "\n",
            "\n",
            "I am sure some bashers of Pens fans are pretty confused about the lack\n",
            "of any kind of posts about the recent Pens massacre of the Devils. Actually,\n",
            "I am  bit puzzled too and a bit relieved. However, I am going to put an end\n",
            "to non-PIttsburghers' relief with a bit of praise for the Pens. Man, they\n",
            "are killing those Devils worse than I thought. Jagr just showed you why\n",
            "he is much better than his regular season stats. He is also a lot\n",
            "fo fun to watch in the playoffs. Bowman should let JAgr have a lot of\n",
            "fun in the next couple of games since the Pens are going to beat the pulp out of Jersey anyway. I was very disappointed not to see the Islanders lose the final\n",
            "regular season game.          PENS RULE!!!\n",
            "\n",
            "\n",
            "10 rec.sport.hockey\n"
          ]
        }
      ]
    },
    {
      "cell_type": "code",
      "source": [
        "SPLIT_PERC = 0.75\n",
        "split_size = int(len(news.data)*SPLIT_PERC)\n",
        "X_train = news.data[:split_size]\n",
        "X_test = news.data[split_size:]\n",
        "y_train = news.target[:split_size]\n",
        "y_test = news.target[split_size:]"
      ],
      "metadata": {
        "id": "iX2ODXQuwm-4"
      },
      "execution_count": 40,
      "outputs": []
    },
    {
      "cell_type": "code",
      "source": [
        "from sklearn.naive_bayes import MultinomialNB\n",
        "from sklearn.feature_extraction.text import TfidfVectorizer, HashingVectorizer, CountVectorizer"
      ],
      "metadata": {
        "id": "XdhXBQ-exViR"
      },
      "execution_count": 41,
      "outputs": []
    },
    {
      "cell_type": "code",
      "source": [
        "vectorizer = CountVectorizer()\n",
        "X = vectorizer.fit_transform(X_train)\n",
        "X.shape"
      ],
      "metadata": {
        "colab": {
          "base_uri": "https://localhost:8080/"
        },
        "id": "z_vSKVYRyGUG",
        "outputId": "eba21e7d-d887-4ca3-dcbb-8f864921c189"
      },
      "execution_count": 42,
      "outputs": [
        {
          "output_type": "execute_result",
          "data": {
            "text/plain": [
              "(14134, 140678)"
            ]
          },
          "metadata": {},
          "execution_count": 42
        }
      ]
    },
    {
      "cell_type": "code",
      "source": [
        "clf = MultinomialNB().fit(X, y_train)\n",
        "\n",
        "print(\"Accuracy on training set:\")\n",
        "print(clf.score(X, y_train))\n",
        "\n",
        "X_test_vec = vectorizer.transform(X_test)\n",
        "print(\"Accuracy on testing set:\")\n",
        "print(clf.score(X_test_vec, y_test))\n",
        "\n",
        "y_pred = clf.predict(X_test_vec)\n",
        "\n",
        "print(\"Classification Report:\")\n",
        "print(metrics.classification_report(y_test, y_pred))\n",
        "print(\"Confusion Matrix:\")\n",
        "print(metrics.confusion_matrix(y_test, y_pred))"
      ],
      "metadata": {
        "colab": {
          "base_uri": "https://localhost:8080/"
        },
        "id": "oNmINmKNyp3l",
        "outputId": "e886d3d9-7b8f-4884-94a1-0b5439bd5fab"
      },
      "execution_count": 43,
      "outputs": [
        {
          "output_type": "stream",
          "name": "stdout",
          "text": [
            "Accuracy on training set:\n",
            "0.9267015706806283\n",
            "Accuracy on testing set:\n",
            "0.8425297113752123\n",
            "Classification Report:\n",
            "              precision    recall  f1-score   support\n",
            "\n",
            "           0       0.90      0.87      0.88       216\n",
            "           1       0.61      0.85      0.71       246\n",
            "           2       0.94      0.12      0.21       274\n",
            "           3       0.61      0.85      0.71       235\n",
            "           4       0.89      0.87      0.88       231\n",
            "           5       0.75      0.90      0.82       225\n",
            "           6       0.88      0.68      0.77       248\n",
            "           7       0.90      0.88      0.89       275\n",
            "           8       0.94      0.94      0.94       226\n",
            "           9       0.97      0.94      0.96       250\n",
            "          10       0.97      0.98      0.98       257\n",
            "          11       0.87      0.98      0.92       261\n",
            "          12       0.85      0.86      0.85       216\n",
            "          13       0.90      0.92      0.91       257\n",
            "          14       0.91      0.93      0.92       246\n",
            "          15       0.81      0.95      0.87       234\n",
            "          16       0.82      0.94      0.88       218\n",
            "          17       0.90      0.99      0.94       236\n",
            "          18       0.84      0.85      0.84       213\n",
            "          19       0.94      0.54      0.69       148\n",
            "\n",
            "    accuracy                           0.84      4712\n",
            "   macro avg       0.86      0.84      0.83      4712\n",
            "weighted avg       0.86      0.84      0.83      4712\n",
            "\n",
            "Confusion Matrix:\n",
            "[[187   1   0   0   0   0   0   0   0   0   1   0   2   2   0  16   1   2\n",
            "    1   3]\n",
            " [  0 210   0   6   0  11   4   0   1   1   0   4   1   2   1   0   0   1\n",
            "    4   0]\n",
            " [  0  69  32  90  11  42   0   1   1   1   0   9   4   1   4   3   0   0\n",
            "    5   1]\n",
            " [  0  10   1 199   5   6   4   0   0   1   0   3   3   0   1   0   1   0\n",
            "    1   0]\n",
            " [  0   5   0   8 200   2   4   0   0   0   0   4   6   1   1   0   0   0\n",
            "    0   0]\n",
            " [  0  15   0   2   1 203   0   1   0   1   0   0   0   1   1   0   0   0\n",
            "    0   0]\n",
            " [  0   9   0  11   4   1 169  19   2   1   3   5   9   3   1   1   4   3\n",
            "    3   0]\n",
            " [  1   2   0   1   0   1   7 241   4   1   0   0   2   2   1   0   5   2\n",
            "    5   0]\n",
            " [  0   0   0   1   0   1   2   2 212   0   0   1   0   1   1   1   1   2\n",
            "    1   0]\n",
            " [  0   1   0   0   1   0   0   1   2 235   3   0   2   2   0   1   1   1\n",
            "    0   0]\n",
            " [  0   1   0   0   0   0   0   0   0   1 253   0   1   0   0   0   0   0\n",
            "    1   0]\n",
            " [  0   2   0   0   0   0   0   0   0   0   0 255   0   0   0   0   2   1\n",
            "    1   0]\n",
            " [  0   8   0   3   2   1   0   1   0   0   1   4 185   3   7   0   0   0\n",
            "    1   0]\n",
            " [  1   3   0   0   0   0   0   1   1   0   0   1   1 236   3   4   4   1\n",
            "    1   0]\n",
            " [  0   7   0   0   1   1   2   0   0   0   0   0   0   1 230   0   2   1\n",
            "    1   0]\n",
            " [  1   3   0   2   0   0   0   1   0   0   0   1   0   2   0 223   0   1\n",
            "    0   0]\n",
            " [  0   0   1   0   0   0   1   0   2   0   0   2   0   0   0   0 206   3\n",
            "    3   0]\n",
            " [  0   1   0   0   0   0   0   0   0   0   0   0   0   0   0   0   0 234\n",
            "    1   0]\n",
            " [  1   0   0   1   0   0   0   1   1   0   0   3   1   1   1   2  13   7\n",
            "  180   1]\n",
            " [ 17   0   0   0   0   1   0   0   0   0   0   0   1   3   1  26  11   2\n",
            "    6  80]]\n"
          ]
        }
      ]
    },
    {
      "cell_type": "code",
      "source": [
        ""
      ],
      "metadata": {
        "id": "jwLRgpUIzC6F"
      },
      "execution_count": null,
      "outputs": []
    }
  ]
}