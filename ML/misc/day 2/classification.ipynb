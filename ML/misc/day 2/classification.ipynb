{
  "nbformat": 4,
  "nbformat_minor": 0,
  "metadata": {
    "colab": {
      "name": "classification.ipynb",
      "provenance": []
    },
    "kernelspec": {
      "name": "python3",
      "display_name": "Python 3"
    },
    "language_info": {
      "name": "python"
    }
  },
  "cells": [
    {
      "cell_type": "code",
      "execution_count": 1,
      "metadata": {
        "id": "qXKvnNRI1VVx"
      },
      "outputs": [],
      "source": [
        "import numpy as np\n",
        "import pandas as pd\n",
        "import matplotlib.pyplot as plt"
      ]
    },
    {
      "cell_type": "markdown",
      "source": [
        "# Классификация численных данных"
      ],
      "metadata": {
        "id": "VU-ZXHll8qx4"
      }
    },
    {
      "cell_type": "code",
      "source": [
        "pima = pd.read_csv('https://raw.githubusercontent.com/koroteevmv/ML_course/main/day%202/diabetes.csv')"
      ],
      "metadata": {
        "id": "LGoLLgqM19uB"
      },
      "execution_count": 2,
      "outputs": []
    },
    {
      "cell_type": "code",
      "source": [
        "pima.head()"
      ],
      "metadata": {
        "colab": {
          "base_uri": "https://localhost:8080/",
          "height": 268
        },
        "id": "3EFIMypA2F_m",
        "outputId": "10b18dc9-23f8-402a-e101-4dba048abc5b"
      },
      "execution_count": 3,
      "outputs": [
        {
          "output_type": "execute_result",
          "data": {
            "text/html": [
              "\n",
              "  <div id=\"df-636dd5f9-f84a-407f-9801-26f576c35089\">\n",
              "    <div class=\"colab-df-container\">\n",
              "      <div>\n",
              "<style scoped>\n",
              "    .dataframe tbody tr th:only-of-type {\n",
              "        vertical-align: middle;\n",
              "    }\n",
              "\n",
              "    .dataframe tbody tr th {\n",
              "        vertical-align: top;\n",
              "    }\n",
              "\n",
              "    .dataframe thead th {\n",
              "        text-align: right;\n",
              "    }\n",
              "</style>\n",
              "<table border=\"1\" class=\"dataframe\">\n",
              "  <thead>\n",
              "    <tr style=\"text-align: right;\">\n",
              "      <th></th>\n",
              "      <th>Pregnancies</th>\n",
              "      <th>Glucose</th>\n",
              "      <th>BloodPressure</th>\n",
              "      <th>SkinThickness</th>\n",
              "      <th>Insulin</th>\n",
              "      <th>BMI</th>\n",
              "      <th>DiabetesPedigreeFunction</th>\n",
              "      <th>Age</th>\n",
              "      <th>Outcome</th>\n",
              "    </tr>\n",
              "  </thead>\n",
              "  <tbody>\n",
              "    <tr>\n",
              "      <th>0</th>\n",
              "      <td>6</td>\n",
              "      <td>148</td>\n",
              "      <td>72</td>\n",
              "      <td>35</td>\n",
              "      <td>0</td>\n",
              "      <td>33.6</td>\n",
              "      <td>0.627</td>\n",
              "      <td>50</td>\n",
              "      <td>1</td>\n",
              "    </tr>\n",
              "    <tr>\n",
              "      <th>1</th>\n",
              "      <td>1</td>\n",
              "      <td>85</td>\n",
              "      <td>66</td>\n",
              "      <td>29</td>\n",
              "      <td>0</td>\n",
              "      <td>26.6</td>\n",
              "      <td>0.351</td>\n",
              "      <td>31</td>\n",
              "      <td>0</td>\n",
              "    </tr>\n",
              "    <tr>\n",
              "      <th>2</th>\n",
              "      <td>8</td>\n",
              "      <td>183</td>\n",
              "      <td>64</td>\n",
              "      <td>0</td>\n",
              "      <td>0</td>\n",
              "      <td>23.3</td>\n",
              "      <td>0.672</td>\n",
              "      <td>32</td>\n",
              "      <td>1</td>\n",
              "    </tr>\n",
              "    <tr>\n",
              "      <th>3</th>\n",
              "      <td>1</td>\n",
              "      <td>89</td>\n",
              "      <td>66</td>\n",
              "      <td>23</td>\n",
              "      <td>94</td>\n",
              "      <td>28.1</td>\n",
              "      <td>0.167</td>\n",
              "      <td>21</td>\n",
              "      <td>0</td>\n",
              "    </tr>\n",
              "    <tr>\n",
              "      <th>4</th>\n",
              "      <td>0</td>\n",
              "      <td>137</td>\n",
              "      <td>40</td>\n",
              "      <td>35</td>\n",
              "      <td>168</td>\n",
              "      <td>43.1</td>\n",
              "      <td>2.288</td>\n",
              "      <td>33</td>\n",
              "      <td>1</td>\n",
              "    </tr>\n",
              "  </tbody>\n",
              "</table>\n",
              "</div>\n",
              "      <button class=\"colab-df-convert\" onclick=\"convertToInteractive('df-636dd5f9-f84a-407f-9801-26f576c35089')\"\n",
              "              title=\"Convert this dataframe to an interactive table.\"\n",
              "              style=\"display:none;\">\n",
              "        \n",
              "  <svg xmlns=\"http://www.w3.org/2000/svg\" height=\"24px\"viewBox=\"0 0 24 24\"\n",
              "       width=\"24px\">\n",
              "    <path d=\"M0 0h24v24H0V0z\" fill=\"none\"/>\n",
              "    <path d=\"M18.56 5.44l.94 2.06.94-2.06 2.06-.94-2.06-.94-.94-2.06-.94 2.06-2.06.94zm-11 1L8.5 8.5l.94-2.06 2.06-.94-2.06-.94L8.5 2.5l-.94 2.06-2.06.94zm10 10l.94 2.06.94-2.06 2.06-.94-2.06-.94-.94-2.06-.94 2.06-2.06.94z\"/><path d=\"M17.41 7.96l-1.37-1.37c-.4-.4-.92-.59-1.43-.59-.52 0-1.04.2-1.43.59L10.3 9.45l-7.72 7.72c-.78.78-.78 2.05 0 2.83L4 21.41c.39.39.9.59 1.41.59.51 0 1.02-.2 1.41-.59l7.78-7.78 2.81-2.81c.8-.78.8-2.07 0-2.86zM5.41 20L4 18.59l7.72-7.72 1.47 1.35L5.41 20z\"/>\n",
              "  </svg>\n",
              "      </button>\n",
              "      \n",
              "  <style>\n",
              "    .colab-df-container {\n",
              "      display:flex;\n",
              "      flex-wrap:wrap;\n",
              "      gap: 12px;\n",
              "    }\n",
              "\n",
              "    .colab-df-convert {\n",
              "      background-color: #E8F0FE;\n",
              "      border: none;\n",
              "      border-radius: 50%;\n",
              "      cursor: pointer;\n",
              "      display: none;\n",
              "      fill: #1967D2;\n",
              "      height: 32px;\n",
              "      padding: 0 0 0 0;\n",
              "      width: 32px;\n",
              "    }\n",
              "\n",
              "    .colab-df-convert:hover {\n",
              "      background-color: #E2EBFA;\n",
              "      box-shadow: 0px 1px 2px rgba(60, 64, 67, 0.3), 0px 1px 3px 1px rgba(60, 64, 67, 0.15);\n",
              "      fill: #174EA6;\n",
              "    }\n",
              "\n",
              "    [theme=dark] .colab-df-convert {\n",
              "      background-color: #3B4455;\n",
              "      fill: #D2E3FC;\n",
              "    }\n",
              "\n",
              "    [theme=dark] .colab-df-convert:hover {\n",
              "      background-color: #434B5C;\n",
              "      box-shadow: 0px 1px 3px 1px rgba(0, 0, 0, 0.15);\n",
              "      filter: drop-shadow(0px 1px 2px rgba(0, 0, 0, 0.3));\n",
              "      fill: #FFFFFF;\n",
              "    }\n",
              "  </style>\n",
              "\n",
              "      <script>\n",
              "        const buttonEl =\n",
              "          document.querySelector('#df-636dd5f9-f84a-407f-9801-26f576c35089 button.colab-df-convert');\n",
              "        buttonEl.style.display =\n",
              "          google.colab.kernel.accessAllowed ? 'block' : 'none';\n",
              "\n",
              "        async function convertToInteractive(key) {\n",
              "          const element = document.querySelector('#df-636dd5f9-f84a-407f-9801-26f576c35089');\n",
              "          const dataTable =\n",
              "            await google.colab.kernel.invokeFunction('convertToInteractive',\n",
              "                                                     [key], {});\n",
              "          if (!dataTable) return;\n",
              "\n",
              "          const docLinkHtml = 'Like what you see? Visit the ' +\n",
              "            '<a target=\"_blank\" href=https://colab.research.google.com/notebooks/data_table.ipynb>data table notebook</a>'\n",
              "            + ' to learn more about interactive tables.';\n",
              "          element.innerHTML = '';\n",
              "          dataTable['output_type'] = 'display_data';\n",
              "          await google.colab.output.renderOutput(dataTable, element);\n",
              "          const docLink = document.createElement('div');\n",
              "          docLink.innerHTML = docLinkHtml;\n",
              "          element.appendChild(docLink);\n",
              "        }\n",
              "      </script>\n",
              "    </div>\n",
              "  </div>\n",
              "  "
            ],
            "text/plain": [
              "   Pregnancies  Glucose  BloodPressure  ...  DiabetesPedigreeFunction  Age  Outcome\n",
              "0            6      148             72  ...                     0.627   50        1\n",
              "1            1       85             66  ...                     0.351   31        0\n",
              "2            8      183             64  ...                     0.672   32        1\n",
              "3            1       89             66  ...                     0.167   21        0\n",
              "4            0      137             40  ...                     2.288   33        1\n",
              "\n",
              "[5 rows x 9 columns]"
            ]
          },
          "metadata": {},
          "execution_count": 3
        }
      ]
    },
    {
      "cell_type": "code",
      "source": [
        "Y = pima.Outcome\n",
        "X = pima.drop(['Outcome'], axis=1)"
      ],
      "metadata": {
        "id": "kJxHM0mE2KwP"
      },
      "execution_count": 4,
      "outputs": []
    },
    {
      "cell_type": "code",
      "source": [
        "from sklearn.model_selection import train_test_split\n",
        "x_train, x_test, y_train, y_test = train_test_split(X, Y, \n",
        "                                                    test_size=0.2,\n",
        "                                                   random_state=True)\n"
      ],
      "metadata": {
        "id": "V3Sy7duJ2Vkn"
      },
      "execution_count": 8,
      "outputs": []
    },
    {
      "cell_type": "code",
      "source": [
        "from sklearn.linear_model import LogisticRegression\n",
        "cls = LogisticRegression()\n",
        "cls.fit(x_train, y_train)\n",
        "y_pred = cls.predict(x_test)"
      ],
      "metadata": {
        "colab": {
          "base_uri": "https://localhost:8080/"
        },
        "id": "F9Ki0Jor2Ztq",
        "outputId": "32bebbd6-43af-4d33-dc84-2afcf294aace"
      },
      "execution_count": 16,
      "outputs": [
        {
          "output_type": "stream",
          "name": "stderr",
          "text": [
            "/usr/local/lib/python3.7/dist-packages/sklearn/linear_model/_logistic.py:818: ConvergenceWarning: lbfgs failed to converge (status=1):\n",
            "STOP: TOTAL NO. of ITERATIONS REACHED LIMIT.\n",
            "\n",
            "Increase the number of iterations (max_iter) or scale the data as shown in:\n",
            "    https://scikit-learn.org/stable/modules/preprocessing.html\n",
            "Please also refer to the documentation for alternative solver options:\n",
            "    https://scikit-learn.org/stable/modules/linear_model.html#logistic-regression\n",
            "  extra_warning_msg=_LOGISTIC_SOLVER_CONVERGENCE_MSG,\n"
          ]
        }
      ]
    },
    {
      "cell_type": "code",
      "source": [
        "from sklearn import metrics\n",
        "metrics.confusion_matrix(y_test, y_pred)"
      ],
      "metadata": {
        "colab": {
          "base_uri": "https://localhost:8080/"
        },
        "id": "6WHUxmac2iuY",
        "outputId": "92ff522f-215a-47b2-e4c2-48badf13233b"
      },
      "execution_count": 11,
      "outputs": [
        {
          "output_type": "execute_result",
          "data": {
            "text/plain": [
              "array([[89, 10],\n",
              "       [24, 31]])"
            ]
          },
          "metadata": {},
          "execution_count": 11
        }
      ]
    },
    {
      "cell_type": "code",
      "source": [
        "import seaborn as sns\n",
        "%matplotlib inline\n",
        "\n",
        "y_pred_train = cls.predict(x_train)\n",
        "\n",
        "class_names = [0, 1]\n",
        "fig, ax = plt.subplots()\n",
        "ticks = np.arange(len(class_names))\n",
        "plt.xticks(ticks, class_names)\n",
        "plt.yticks(ticks, class_names)\n",
        " \n",
        "sns.heatmap(pd.DataFrame(\n",
        "    metrics.confusion_matrix(y_train, y_pred_train)),\n",
        "    annot=True)\n",
        "plt.ylabel('Действительные значения')\n",
        "plt.xlabel('Предсказанные значения')"
      ],
      "metadata": {
        "colab": {
          "base_uri": "https://localhost:8080/",
          "height": 300
        },
        "id": "jHQns7UP3hSy",
        "outputId": "406a1c88-7806-4681-828a-5b7c786a863e"
      },
      "execution_count": 19,
      "outputs": [
        {
          "output_type": "execute_result",
          "data": {
            "text/plain": [
              "Text(0.5, 15.0, 'Предсказанные значения')"
            ]
          },
          "metadata": {},
          "execution_count": 19
        },
        {
          "output_type": "display_data",
          "data": {
            "image/png": "[encoded data removed]",
            "text/plain": [
              "<Figure size 432x288 with 2 Axes>"
            ]
          },
          "metadata": {
            "needs_background": "light"
          }
        }
      ]
    },
    {
      "cell_type": "code",
      "source": [
        "class_names = [0, 1]\n",
        "fig, ax = plt.subplots()\n",
        "ticks = np.arange(len(class_names))\n",
        "plt.xticks(ticks, class_names)\n",
        "plt.yticks(ticks, class_names)\n",
        " \n",
        "sns.heatmap(pd.DataFrame(\n",
        "    metrics.confusion_matrix(y_test, y_pred)),\n",
        "    annot=True)\n",
        "plt.ylabel('Действительные значения')\n",
        "plt.xlabel('Предсказанные значения')"
      ],
      "metadata": {
        "colab": {
          "base_uri": "https://localhost:8080/",
          "height": 296
        },
        "id": "Aa2iM2NH2nAg",
        "outputId": "8e5e12f0-475f-4f30-d572-b8501a3695ea"
      },
      "execution_count": 12,
      "outputs": [
        {
          "output_type": "execute_result",
          "data": {
            "text/plain": [
              "Text(0.5, 15.0, 'Предсказанные значения')"
            ]
          },
          "metadata": {},
          "execution_count": 12
        },
        {
          "output_type": "display_data",
          "data": {
            "image/png": "[encoded data removed]",
            "text/plain": [
              "<Figure size 432x288 with 2 Axes>"
            ]
          },
          "metadata": {
            "needs_background": "light"
          }
        }
      ]
    },
    {
      "cell_type": "code",
      "source": [
        "metrics.accuracy_score(y_test, y_pred)"
      ],
      "metadata": {
        "colab": {
          "base_uri": "https://localhost:8080/"
        },
        "id": "fjT9elG32upG",
        "outputId": "ae25bc04-506c-4952-df93-c6d6344b6933"
      },
      "execution_count": 13,
      "outputs": [
        {
          "output_type": "execute_result",
          "data": {
            "text/plain": [
              "0.7792207792207793"
            ]
          },
          "metadata": {},
          "execution_count": 13
        }
      ]
    },
    {
      "cell_type": "code",
      "source": [
        "metrics.precision_score(y_test, y_pred)"
      ],
      "metadata": {
        "colab": {
          "base_uri": "https://localhost:8080/"
        },
        "id": "dzpcmHDb21Sy",
        "outputId": "b5ead418-1c16-47fc-d40f-ad7ec958e44d"
      },
      "execution_count": 14,
      "outputs": [
        {
          "output_type": "execute_result",
          "data": {
            "text/plain": [
              "0.7560975609756098"
            ]
          },
          "metadata": {},
          "execution_count": 14
        }
      ]
    },
    {
      "cell_type": "code",
      "source": [
        "metrics.recall_score(y_test, y_pred)"
      ],
      "metadata": {
        "colab": {
          "base_uri": "https://localhost:8080/"
        },
        "id": "nQcP7tNi23pC",
        "outputId": "631de863-3ac4-4985-e8a5-7c806cfc6f54"
      },
      "execution_count": 15,
      "outputs": [
        {
          "output_type": "execute_result",
          "data": {
            "text/plain": [
              "0.5636363636363636"
            ]
          },
          "metadata": {},
          "execution_count": 15
        }
      ]
    },
    {
      "cell_type": "code",
      "source": [
        "print(metrics.classification_report(y_test, y_pred))"
      ],
      "metadata": {
        "colab": {
          "base_uri": "https://localhost:8080/"
        },
        "id": "xscASKBR4nu4",
        "outputId": "10cc8ddc-5de5-4e59-fe61-0816801e7e35"
      },
      "execution_count": 23,
      "outputs": [
        {
          "output_type": "stream",
          "name": "stdout",
          "text": [
            "              precision    recall  f1-score   support\n",
            "\n",
            "           0       0.75      0.83      0.79        99\n",
            "           1       0.62      0.51      0.56        55\n",
            "\n",
            "    accuracy                           0.71       154\n",
            "   macro avg       0.69      0.67      0.67       154\n",
            "weighted avg       0.71      0.71      0.71       154\n",
            "\n"
          ]
        }
      ]
    },
    {
      "cell_type": "code",
      "source": [
        "from sklearn.tree import DecisionTreeClassifier\n",
        "cls = DecisionTreeClassifier()\n",
        "cls.fit(x_train, y_train)\n",
        "y_pred = cls.predict(x_test)\n",
        "\n",
        "class_names = [0, 1]\n",
        "fig, ax = plt.subplots()\n",
        "ticks = np.arange(len(class_names))\n",
        "plt.xticks(ticks, class_names)\n",
        "plt.yticks(ticks, class_names)\n",
        " \n",
        "sns.heatmap(pd.DataFrame(\n",
        "    metrics.confusion_matrix(y_test, y_pred)),\n",
        "    annot=True)\n",
        "plt.ylabel('Действительные значения')\n",
        "plt.xlabel('Предсказанные значения')"
      ],
      "metadata": {
        "colab": {
          "base_uri": "https://localhost:8080/",
          "height": 296
        },
        "id": "1-aqO9M925wl",
        "outputId": "3b173ea5-9e5e-4467-b2f4-afe6870ed759"
      },
      "execution_count": 18,
      "outputs": [
        {
          "output_type": "execute_result",
          "data": {
            "text/plain": [
              "Text(0.5, 15.0, 'Предсказанные значения')"
            ]
          },
          "metadata": {},
          "execution_count": 18
        },
        {
          "output_type": "display_data",
          "data": {
            "image/png": "[encoded data removed]",
            "text/plain": [
              "<Figure size 432x288 with 2 Axes>"
            ]
          },
          "metadata": {
            "needs_background": "light"
          }
        }
      ]
    },
    {
      "cell_type": "code",
      "source": [
        "from sklearn import svm\n",
        "clf = svm.SVC()\n",
        "\n",
        "cls.fit(x_train, y_train)\n",
        "y_pred = cls.predict(x_test)\n",
        "\n",
        "class_names = [0, 1]\n",
        "fig, ax = plt.subplots()\n",
        "ticks = np.arange(len(class_names))\n",
        "plt.xticks(ticks, class_names)\n",
        "plt.yticks(ticks, class_names)\n",
        " \n",
        "sns.heatmap(pd.DataFrame(\n",
        "    metrics.confusion_matrix(y_test, y_pred)),\n",
        "    annot=True)\n",
        "plt.ylabel('Действительные значения')\n",
        "plt.xlabel('Предсказанные значения')"
      ],
      "metadata": {
        "colab": {
          "base_uri": "https://localhost:8080/",
          "height": 296
        },
        "id": "YkQ1FbK13WD9",
        "outputId": "6022b1dc-6fcc-47ad-f965-fcb9000131bb"
      },
      "execution_count": 20,
      "outputs": [
        {
          "output_type": "execute_result",
          "data": {
            "text/plain": [
              "Text(0.5, 15.0, 'Предсказанные значения')"
            ]
          },
          "metadata": {},
          "execution_count": 20
        },
        {
          "output_type": "display_data",
          "data": {
            "image/png": "[encoded data removed]",
            "text/plain": [
              "<Figure size 432x288 with 2 Axes>"
            ]
          },
          "metadata": {
            "needs_background": "light"
          }
        }
      ]
    },
    {
      "cell_type": "code",
      "source": [
        "from sklearn import svm\n",
        "clf = svm.SVC(kernel='rbf')\n",
        "\n",
        "cls.fit(x_train, y_train)\n",
        "y_pred = cls.predict(x_test)\n",
        "\n",
        "class_names = [0, 1]\n",
        "fig, ax = plt.subplots()\n",
        "ticks = np.arange(len(class_names))\n",
        "plt.xticks(ticks, class_names)\n",
        "plt.yticks(ticks, class_names)\n",
        " \n",
        "sns.heatmap(pd.DataFrame(\n",
        "    metrics.confusion_matrix(y_test, y_pred)),\n",
        "    annot=True)\n",
        "plt.ylabel('Действительные значения')\n",
        "plt.xlabel('Предсказанные значения')"
      ],
      "metadata": {
        "colab": {
          "base_uri": "https://localhost:8080/",
          "height": 296
        },
        "id": "Mb0fp5Px4CcH",
        "outputId": "414b39e6-a5b2-4e42-e8d5-fb1e1d51b01a"
      },
      "execution_count": 21,
      "outputs": [
        {
          "output_type": "execute_result",
          "data": {
            "text/plain": [
              "Text(0.5, 15.0, 'Предсказанные значения')"
            ]
          },
          "metadata": {},
          "execution_count": 21
        },
        {
          "output_type": "display_data",
          "data": {
            "image/png": "[encoded data removed]",
            "text/plain": [
              "<Figure size 432x288 with 2 Axes>"
            ]
          },
          "metadata": {
            "needs_background": "light"
          }
        }
      ]
    },
    {
      "cell_type": "code",
      "source": [
        "from sklearn.neighbors import KNeighborsClassifier\n",
        "clf = KNeighborsClassifier(n_neighbors=3)\n",
        "\n",
        "cls.fit(x_train, y_train)\n",
        "y_pred = cls.predict(x_test)\n",
        "\n",
        "class_names = [0, 1]\n",
        "fig, ax = plt.subplots()\n",
        "ticks = np.arange(len(class_names))\n",
        "plt.xticks(ticks, class_names)\n",
        "plt.yticks(ticks, class_names)\n",
        " \n",
        "sns.heatmap(pd.DataFrame(\n",
        "    metrics.confusion_matrix(y_test, y_pred)),\n",
        "    annot=True)\n",
        "plt.ylabel('Действительные значения')\n",
        "plt.xlabel('Предсказанные значения')"
      ],
      "metadata": {
        "colab": {
          "base_uri": "https://localhost:8080/",
          "height": 296
        },
        "id": "wc1BQCmo4OxR",
        "outputId": "c615022e-7c7e-4260-a4ef-ec046b6189ca"
      },
      "execution_count": 24,
      "outputs": [
        {
          "output_type": "execute_result",
          "data": {
            "text/plain": [
              "Text(0.5, 15.0, 'Предсказанные значения')"
            ]
          },
          "metadata": {},
          "execution_count": 24
        },
        {
          "output_type": "display_data",
          "data": {
            "image/png": "[encoded data removed]",
            "text/plain": [
              "<Figure size 432x288 with 2 Axes>"
            ]
          },
          "metadata": {
            "needs_background": "light"
          }
        }
      ]
    },
    {
      "cell_type": "code",
      "source": [
        "from sklearn.neural_network import MLPClassifier\n",
        "clf = MLPClassifier()\n",
        "\n",
        "cls.fit(x_train, y_train)\n",
        "y_pred = cls.predict(x_test)\n",
        "\n",
        "class_names = [0, 1]\n",
        "fig, ax = plt.subplots()\n",
        "ticks = np.arange(len(class_names))\n",
        "plt.xticks(ticks, class_names)\n",
        "plt.yticks(ticks, class_names)\n",
        " \n",
        "sns.heatmap(pd.DataFrame(\n",
        "    metrics.confusion_matrix(y_test, y_pred)),\n",
        "    annot=True)\n",
        "plt.ylabel('Действительные значения')\n",
        "plt.xlabel('Предсказанные значения')"
      ],
      "metadata": {
        "colab": {
          "base_uri": "https://localhost:8080/",
          "height": 296
        },
        "id": "oDJxZ4ez5Njx",
        "outputId": "92dde144-e46a-45a3-d575-0d6173145407"
      },
      "execution_count": 25,
      "outputs": [
        {
          "output_type": "execute_result",
          "data": {
            "text/plain": [
              "Text(0.5, 15.0, 'Предсказанные значения')"
            ]
          },
          "metadata": {},
          "execution_count": 25
        },
        {
          "output_type": "display_data",
          "data": {
            "image/png": "[encoded data removed]",
            "text/plain": [
              "<Figure size 432x288 with 2 Axes>"
            ]
          },
          "metadata": {
            "needs_background": "light"
          }
        }
      ]
    },
    {
      "cell_type": "code",
      "source": [
        "from sklearn.ensemble import RandomForestClassifier\n",
        "clf = RandomForestClassifier()\n",
        "\n",
        "cls.fit(x_train, y_train)\n",
        "y_pred = cls.predict(x_test)\n",
        "\n",
        "class_names = [0, 1]\n",
        "fig, ax = plt.subplots()\n",
        "ticks = np.arange(len(class_names))\n",
        "plt.xticks(ticks, class_names)\n",
        "plt.yticks(ticks, class_names)\n",
        " \n",
        "sns.heatmap(pd.DataFrame(\n",
        "    metrics.confusion_matrix(y_test, y_pred)),\n",
        "    annot=True)\n",
        "plt.ylabel('Действительные значения')\n",
        "plt.xlabel('Предсказанные значения')"
      ],
      "metadata": {
        "colab": {
          "base_uri": "https://localhost:8080/",
          "height": 300
        },
        "id": "ImvXoZZT5eaV",
        "outputId": "3c48945f-4ab6-4594-a61d-d6d1d15fff4d"
      },
      "execution_count": 26,
      "outputs": [
        {
          "output_type": "execute_result",
          "data": {
            "text/plain": [
              "Text(0.5, 15.0, 'Предсказанные значения')"
            ]
          },
          "metadata": {},
          "execution_count": 26
        },
        {
          "output_type": "display_data",
          "data": {
            "image/png": "[encoded data removed]",
            "text/plain": [
              "<Figure size 432x288 with 2 Axes>"
            ]
          },
          "metadata": {
            "needs_background": "light"
          }
        }
      ]
    },
    {
      "cell_type": "code",
      "source": [
        ""
      ],
      "metadata": {
        "id": "h8RYhzkL5r5e"
      },
      "execution_count": 26,
      "outputs": []
    },
    {
      "cell_type": "markdown",
      "source": [
        "# Работа с графическими данными"
      ],
      "metadata": {
        "id": "N-CtjJcP8lEi"
      }
    },
    {
      "cell_type": "code",
      "source": [
        "from sklearn.datasets import fetch_olivetti_faces\n",
        "faces = fetch_olivetti_faces()\n",
        "# print(faces.DESCR)\n",
        "images = faces.images"
      ],
      "metadata": {
        "id": "nJTLWohF57aM"
      },
      "execution_count": 34,
      "outputs": []
    },
    {
      "cell_type": "code",
      "source": [
        "plt.imshow(images[1], cmap=plt.cm.bone)"
      ],
      "metadata": {
        "colab": {
          "base_uri": "https://localhost:8080/",
          "height": 285
        },
        "id": "w2-cCxNm58Ml",
        "outputId": "93e5f263-5b39-4fdf-a894-f553688dbc72"
      },
      "execution_count": 35,
      "outputs": [
        {
          "output_type": "execute_result",
          "data": {
            "text/plain": [
              "<matplotlib.image.AxesImage at 0x7f5fe9c0ee90>"
            ]
          },
          "metadata": {},
          "execution_count": 35
        },
        {
          "output_type": "display_data",
          "data": {
            "image/png": "[encoded data removed]",
            "text/plain": [
              "<Figure size 432x288 with 1 Axes>"
            ]
          },
          "metadata": {
            "needs_background": "light"
          }
        }
      ]
    },
    {
      "cell_type": "code",
      "source": [
        "print(faces.keys())\n",
        "print(faces.images.shape)\n",
        "print(faces.data.shape)\n",
        "print(faces.target.shape)"
      ],
      "metadata": {
        "colab": {
          "base_uri": "https://localhost:8080/"
        },
        "id": "tCpokBcW6A_g",
        "outputId": "52152a08-9059-4cea-9bb0-9ae28b6ce2da"
      },
      "execution_count": 36,
      "outputs": [
        {
          "output_type": "stream",
          "name": "stdout",
          "text": [
            "dict_keys(['data', 'images', 'target', 'DESCR'])\n",
            "(400, 64, 64)\n",
            "(400, 4096)\n",
            "(400,)\n"
          ]
        }
      ]
    },
    {
      "cell_type": "code",
      "source": [
        "print(np.max(faces.data))\n",
        "print(np.min(faces.data))\n",
        "print(np.mean(faces.data))"
      ],
      "metadata": {
        "colab": {
          "base_uri": "https://localhost:8080/"
        },
        "id": "2dWtUax17i-M",
        "outputId": "78ff3090-f19d-4348-e240-6449c80db2c4"
      },
      "execution_count": 37,
      "outputs": [
        {
          "output_type": "stream",
          "name": "stdout",
          "text": [
            "1.0\n",
            "0.0\n",
            "0.5470426\n"
          ]
        }
      ]
    },
    {
      "cell_type": "code",
      "source": [
        "def print_faces(images, target, top_n):\n",
        "    # set up the figure size in inches\n",
        "    fig = plt.figure(figsize=(12, 12))\n",
        "    fig.subplots_adjust(left=0, right=1, bottom=0, top=1, hspace=0.05, wspace=0.05)\n",
        "    for i in range(top_n):\n",
        "        # plot the images in a matrix of 20x20\n",
        "        p = fig.add_subplot(20, 20, i + 1, xticks=[], yticks=[])\n",
        "        p.imshow(images[i], cmap=plt.cm.bone)\n",
        "        \n",
        "        # label the image with the target value\n",
        "        p.text(0, 14, str(target[i]))\n",
        "        p.text(0, 60, str(i))"
      ],
      "metadata": {
        "id": "gLB5JJXZ7mQf"
      },
      "execution_count": 38,
      "outputs": []
    },
    {
      "cell_type": "code",
      "source": [
        "print_faces(faces.images, faces.target, 20)"
      ],
      "metadata": {
        "colab": {
          "base_uri": "https://localhost:8080/",
          "height": 70
        },
        "id": "6AIrh6B07oj_",
        "outputId": "cc2af681-05f6-4940-e1f8-3c47e94f14ad"
      },
      "execution_count": 39,
      "outputs": [
        {
          "output_type": "display_data",
          "data": {
            "image/png": "[encoded data removed]",
            "text/plain": [
              "<Figure size 864x864 with 20 Axes>"
            ]
          },
          "metadata": {}
        }
      ]
    },
    {
      "cell_type": "code",
      "source": [
        "from sklearn.svm import SVC\n",
        "clf = SVC(kernel='linear')"
      ],
      "metadata": {
        "id": "hsB1PW8v7rwJ"
      },
      "execution_count": 42,
      "outputs": []
    },
    {
      "cell_type": "code",
      "source": [
        "X_train, X_test, y_train, y_test = train_test_split(\n",
        "        faces.data, faces.target, test_size=0.25, random_state=0)"
      ],
      "metadata": {
        "id": "jO7gjN4w7xBn"
      },
      "execution_count": 43,
      "outputs": []
    },
    {
      "cell_type": "code",
      "source": [
        "clf.fit(X_train, y_train)\n",
        "\n",
        "print(\"Accuracy on training set:\")\n",
        "print(clf.score(X_train, y_train))\n",
        "print(\"Accuracy on testing set:\")\n",
        "print(clf.score(X_test, y_test))\n",
        "\n",
        "y_pred = clf.predict(X_test)\n",
        "\n",
        "print(\"Classification Report:\")\n",
        "print(metrics.classification_report(y_test, y_pred))\n",
        "print(\"Confusion Matrix:\")\n",
        "print(metrics.confusion_matrix(y_test, y_pred))"
      ],
      "metadata": {
        "colab": {
          "base_uri": "https://localhost:8080/"
        },
        "id": "gtna3ChH70On",
        "outputId": "acf283c2-18c6-42c2-9a21-a5eb134ddfae"
      },
      "execution_count": 44,
      "outputs": [
        {
          "output_type": "stream",
          "name": "stdout",
          "text": [
            "Accuracy on training set:\n",
            "1.0\n",
            "Accuracy on testing set:\n",
            "0.99\n",
            "Classification Report:\n",
            "              precision    recall  f1-score   support\n",
            "\n",
            "           0       0.86      1.00      0.92         6\n",
            "           1       1.00      1.00      1.00         4\n",
            "           2       1.00      1.00      1.00         2\n",
            "           3       1.00      1.00      1.00         1\n",
            "           4       1.00      1.00      1.00         1\n",
            "           5       1.00      1.00      1.00         5\n",
            "           6       1.00      1.00      1.00         4\n",
            "           7       1.00      0.67      0.80         3\n",
            "           9       1.00      1.00      1.00         1\n",
            "          10       1.00      1.00      1.00         4\n",
            "          11       1.00      1.00      1.00         1\n",
            "          12       1.00      1.00      1.00         2\n",
            "          13       1.00      1.00      1.00         3\n",
            "          14       1.00      1.00      1.00         5\n",
            "          15       1.00      1.00      1.00         3\n",
            "          17       1.00      1.00      1.00         6\n",
            "          19       1.00      1.00      1.00         4\n",
            "          20       1.00      1.00      1.00         1\n",
            "          21       1.00      1.00      1.00         1\n",
            "          22       1.00      1.00      1.00         2\n",
            "          23       1.00      1.00      1.00         1\n",
            "          24       1.00      1.00      1.00         2\n",
            "          25       1.00      1.00      1.00         2\n",
            "          26       1.00      1.00      1.00         4\n",
            "          27       1.00      1.00      1.00         1\n",
            "          28       1.00      1.00      1.00         2\n",
            "          29       1.00      1.00      1.00         3\n",
            "          30       1.00      1.00      1.00         4\n",
            "          31       1.00      1.00      1.00         3\n",
            "          32       1.00      1.00      1.00         3\n",
            "          33       1.00      1.00      1.00         2\n",
            "          34       1.00      1.00      1.00         3\n",
            "          35       1.00      1.00      1.00         1\n",
            "          36       1.00      1.00      1.00         3\n",
            "          37       1.00      1.00      1.00         3\n",
            "          38       1.00      1.00      1.00         1\n",
            "          39       1.00      1.00      1.00         3\n",
            "\n",
            "    accuracy                           0.99       100\n",
            "   macro avg       1.00      0.99      0.99       100\n",
            "weighted avg       0.99      0.99      0.99       100\n",
            "\n",
            "Confusion Matrix:\n",
            "[[6 0 0 ... 0 0 0]\n",
            " [0 4 0 ... 0 0 0]\n",
            " [0 0 2 ... 0 0 0]\n",
            " ...\n",
            " [0 0 0 ... 3 0 0]\n",
            " [0 0 0 ... 0 1 0]\n",
            " [0 0 0 ... 0 0 3]]\n"
          ]
        }
      ]
    },
    {
      "cell_type": "code",
      "source": [
        ""
      ],
      "metadata": {
        "id": "xcz58fA27_Ww"
      },
      "execution_count": null,
      "outputs": []
    },
    {
      "cell_type": "markdown",
      "source": [
        "# Работа с текстовыми данными"
      ],
      "metadata": {
        "id": "diIT8ION8e8B"
      }
    },
    {
      "cell_type": "code",
      "source": [
        "from sklearn.datasets import fetch_20newsgroups\n",
        "news = fetch_20newsgroups(subset='all')"
      ],
      "metadata": {
        "id": "aox5j2nQ8XJo"
      },
      "execution_count": 45,
      "outputs": []
    },
    {
      "cell_type": "code",
      "source": [
        "print(type(news.data), type(news.target), type(news.target_names))\n",
        "print(news.target_names)\n",
        "print(len(news.data))\n",
        "print(len(news.target))"
      ],
      "metadata": {
        "colab": {
          "base_uri": "https://localhost:8080/"
        },
        "id": "f3T-7tqr8aDB",
        "outputId": "6d8cad54-e66f-4f20-a925-771d74bb17a5"
      },
      "execution_count": 46,
      "outputs": [
        {
          "output_type": "stream",
          "name": "stdout",
          "text": [
            "<class 'list'> <class 'numpy.ndarray'> <class 'list'>\n",
            "['alt.atheism', 'comp.graphics', 'comp.os.ms-windows.misc', 'comp.sys.ibm.pc.hardware', 'comp.sys.mac.hardware', 'comp.windows.x', 'misc.forsale', 'rec.autos', 'rec.motorcycles', 'rec.sport.baseball', 'rec.sport.hockey', 'sci.crypt', 'sci.electronics', 'sci.med', 'sci.space', 'soc.religion.christian', 'talk.politics.guns', 'talk.politics.mideast', 'talk.politics.misc', 'talk.religion.misc']\n",
            "18846\n",
            "18846\n"
          ]
        }
      ]
    },
    {
      "cell_type": "code",
      "source": [
        "print(news.data[0])\n",
        "print(news.target[0], news.target_names[news.target[0]])"
      ],
      "metadata": {
        "colab": {
          "base_uri": "https://localhost:8080/"
        },
        "id": "9ADF1Vsv8dJv",
        "outputId": "7d19d042-5494-496a-9c2b-6c458078019f"
      },
      "execution_count": 47,
      "outputs": [
        {
          "output_type": "stream",
          "name": "stdout",
          "text": [
            "From: Mamatha Devineni Ratnam <mr47+@andrew.cmu.edu>\n",
            "Subject: Pens fans reactions\n",
            "Organization: Post Office, Carnegie Mellon, Pittsburgh, PA\n",
            "Lines: 12\n",
            "NNTP-Posting-Host: po4.andrew.cmu.edu\n",
            "\n",
            "\n",
            "\n",
            "I am sure some bashers of Pens fans are pretty confused about the lack\n",
            "of any kind of posts about the recent Pens massacre of the Devils. Actually,\n",
            "I am  bit puzzled too and a bit relieved. However, I am going to put an end\n",
            "to non-PIttsburghers' relief with a bit of praise for the Pens. Man, they\n",
            "are killing those Devils worse than I thought. Jagr just showed you why\n",
            "he is much better than his regular season stats. He is also a lot\n",
            "fo fun to watch in the playoffs. Bowman should let JAgr have a lot of\n",
            "fun in the next couple of games since the Pens are going to beat the pulp out of Jersey anyway. I was very disappointed not to see the Islanders lose the final\n",
            "regular season game.          PENS RULE!!!\n",
            "\n",
            "\n",
            "10 rec.sport.hockey\n"
          ]
        }
      ]
    },
    {
      "cell_type": "code",
      "source": [
        "SPLIT_PERC = 0.75\n",
        "split_size = int(len(news.data)*SPLIT_PERC)\n",
        "X_train = news.data[:split_size]\n",
        "X_test = news.data[split_size:]\n",
        "y_train = news.target[:split_size]\n",
        "y_test = news.target[split_size:]"
      ],
      "metadata": {
        "id": "QUvPZ0BA8z0i"
      },
      "execution_count": 48,
      "outputs": []
    },
    {
      "cell_type": "code",
      "source": [
        "from sklearn.naive_bayes import MultinomialNB\n",
        "from sklearn.feature_extraction.text import TfidfVectorizer, HashingVectorizer, CountVectorizer"
      ],
      "metadata": {
        "id": "dL6rkwcj82h4"
      },
      "execution_count": 49,
      "outputs": []
    },
    {
      "cell_type": "code",
      "source": [
        "vectorizer = CountVectorizer()\n",
        "X = vectorizer.fit_transform(X_train)\n",
        "X.shape"
      ],
      "metadata": {
        "colab": {
          "base_uri": "https://localhost:8080/"
        },
        "id": "07jVsssI9JAa",
        "outputId": "d373126c-fc99-453e-c06c-660e91c91f75"
      },
      "execution_count": 51,
      "outputs": [
        {
          "output_type": "execute_result",
          "data": {
            "text/plain": [
              "(14134, 140678)"
            ]
          },
          "metadata": {},
          "execution_count": 51
        }
      ]
    },
    {
      "cell_type": "code",
      "source": [
        "clf = MultinomialNB().fit(X, y_train)\n",
        "\n",
        "print(\"Accuracy on training set:\")\n",
        "print(clf.score(X, y_train))\n",
        "\n",
        "X_test_vec = vectorizer.transform(X_test)\n",
        "print(\"Accuracy on testing set:\")\n",
        "print(clf.score(X_test_vec, y_test))\n",
        "\n",
        "y_pred = clf.predict(X_test_vec)\n",
        "\n",
        "print(\"Classification Report:\")\n",
        "print(metrics.classification_report(y_test, y_pred))\n",
        "print(\"Confusion Matrix:\")\n",
        "print(metrics.confusion_matrix(y_test, y_pred))"
      ],
      "metadata": {
        "colab": {
          "base_uri": "https://localhost:8080/"
        },
        "id": "fh1y3D-Q9gFu",
        "outputId": "376e4773-2267-4351-8a17-48475316302d"
      },
      "execution_count": 53,
      "outputs": [
        {
          "output_type": "stream",
          "name": "stdout",
          "text": [
            "Accuracy on training set:\n",
            "0.9267015706806283\n",
            "Accuracy on testing set:\n",
            "0.8425297113752123\n",
            "Classification Report:\n",
            "              precision    recall  f1-score   support\n",
            "\n",
            "           0       0.90      0.87      0.88       216\n",
            "           1       0.61      0.85      0.71       246\n",
            "           2       0.94      0.12      0.21       274\n",
            "           3       0.61      0.85      0.71       235\n",
            "           4       0.89      0.87      0.88       231\n",
            "           5       0.75      0.90      0.82       225\n",
            "           6       0.88      0.68      0.77       248\n",
            "           7       0.90      0.88      0.89       275\n",
            "           8       0.94      0.94      0.94       226\n",
            "           9       0.97      0.94      0.96       250\n",
            "          10       0.97      0.98      0.98       257\n",
            "          11       0.87      0.98      0.92       261\n",
            "          12       0.85      0.86      0.85       216\n",
            "          13       0.90      0.92      0.91       257\n",
            "          14       0.91      0.93      0.92       246\n",
            "          15       0.81      0.95      0.87       234\n",
            "          16       0.82      0.94      0.88       218\n",
            "          17       0.90      0.99      0.94       236\n",
            "          18       0.84      0.85      0.84       213\n",
            "          19       0.94      0.54      0.69       148\n",
            "\n",
            "    accuracy                           0.84      4712\n",
            "   macro avg       0.86      0.84      0.83      4712\n",
            "weighted avg       0.86      0.84      0.83      4712\n",
            "\n",
            "Confusion Matrix:\n",
            "[[187   1   0   0   0   0   0   0   0   0   1   0   2   2   0  16   1   2\n",
            "    1   3]\n",
            " [  0 210   0   6   0  11   4   0   1   1   0   4   1   2   1   0   0   1\n",
            "    4   0]\n",
            " [  0  69  32  90  11  42   0   1   1   1   0   9   4   1   4   3   0   0\n",
            "    5   1]\n",
            " [  0  10   1 199   5   6   4   0   0   1   0   3   3   0   1   0   1   0\n",
            "    1   0]\n",
            " [  0   5   0   8 200   2   4   0   0   0   0   4   6   1   1   0   0   0\n",
            "    0   0]\n",
            " [  0  15   0   2   1 203   0   1   0   1   0   0   0   1   1   0   0   0\n",
            "    0   0]\n",
            " [  0   9   0  11   4   1 169  19   2   1   3   5   9   3   1   1   4   3\n",
            "    3   0]\n",
            " [  1   2   0   1   0   1   7 241   4   1   0   0   2   2   1   0   5   2\n",
            "    5   0]\n",
            " [  0   0   0   1   0   1   2   2 212   0   0   1   0   1   1   1   1   2\n",
            "    1   0]\n",
            " [  0   1   0   0   1   0   0   1   2 235   3   0   2   2   0   1   1   1\n",
            "    0   0]\n",
            " [  0   1   0   0   0   0   0   0   0   1 253   0   1   0   0   0   0   0\n",
            "    1   0]\n",
            " [  0   2   0   0   0   0   0   0   0   0   0 255   0   0   0   0   2   1\n",
            "    1   0]\n",
            " [  0   8   0   3   2   1   0   1   0   0   1   4 185   3   7   0   0   0\n",
            "    1   0]\n",
            " [  1   3   0   0   0   0   0   1   1   0   0   1   1 236   3   4   4   1\n",
            "    1   0]\n",
            " [  0   7   0   0   1   1   2   0   0   0   0   0   0   1 230   0   2   1\n",
            "    1   0]\n",
            " [  1   3   0   2   0   0   0   1   0   0   0   1   0   2   0 223   0   1\n",
            "    0   0]\n",
            " [  0   0   1   0   0   0   1   0   2   0   0   2   0   0   0   0 206   3\n",
            "    3   0]\n",
            " [  0   1   0   0   0   0   0   0   0   0   0   0   0   0   0   0   0 234\n",
            "    1   0]\n",
            " [  1   0   0   1   0   0   0   1   1   0   0   3   1   1   1   2  13   7\n",
            "  180   1]\n",
            " [ 17   0   0   0   0   1   0   0   0   0   0   0   1   3   1  26  11   2\n",
            "    6  80]]\n"
          ]
        }
      ]
    },
    {
      "cell_type": "code",
      "source": [
        ""
      ],
      "metadata": {
        "id": "jEkQb6ZX-H5U"
      },
      "execution_count": null,
      "outputs": []
    }
  ]
}