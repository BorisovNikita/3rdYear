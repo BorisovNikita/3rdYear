{
  "nbformat": 4,
  "nbformat_minor": 0,
  "metadata": {
    "colab": {
      "name": "ML2.ipynb",
      "provenance": [],
      "collapsed_sections": [],
      "authorship_tag": "ABX9TyNGl1FyHDtLUn/V0r431Uct",
      "include_colab_link": true
    },
    "kernelspec": {
      "name": "python3",
      "display_name": "Python 3"
    },
    "language_info": {
      "name": "python"
    }
  },
  "cells": [
    {
      "cell_type": "markdown",
      "metadata": {
        "id": "view-in-github",
        "colab_type": "text"
      },
      "source": [
        "<a href=\"https://colab.research.google.com/github/koroteevmv/ML_course/blob/main/ML2.ipynb\" target=\"_parent\"><img src=\"https://colab.research.google.com/assets/colab-badge.svg\" alt=\"Open In Colab\"/></a>"
      ]
    },
    {
      "cell_type": "code",
      "execution_count": 2,
      "metadata": {
        "id": "OkfleMPG6Lyg"
      },
      "outputs": [],
      "source": [
        "import numpy as np\n",
        "import pandas as pd\n",
        "import matplotlib.pyplot as plt"
      ]
    },
    {
      "cell_type": "code",
      "source": [
        "from sklearn.datasets import make_classification\n",
        "X, Y = make_classification( n_features=2, n_redundant=0, n_informative=2, n_samples=20,\n",
        "                           n_clusters_per_class=1, random_state=7\n",
        ")\n",
        "plt.figure(figsize=(12, 9))\n",
        "plt.scatter(X[:, 0], X[:, 1], marker=\"o\", c=Y, s=25, edgecolor=\"k\")\n",
        "plt.show()"
      ],
      "metadata": {
        "colab": {
          "base_uri": "https://localhost:8080/",
          "height": 537
        },
        "id": "7I49dc2_ON21",
        "outputId": "519471e1-7574-4892-b284-a5d4c07f5b7c"
      },
      "execution_count": 21,
      "outputs": [
        {
          "output_type": "display_data",
          "data": {
            "text/plain": [
              "<Figure size 864x648 with 1 Axes>"
            ],
            "image/png": "[encoded data removed]"
          },
          "metadata": {
            "needs_background": "light"
          }
        }
      ]
    },
    {
      "cell_type": "code",
      "source": [
        "X = X.T"
      ],
      "metadata": {
        "id": "zwEVtFAvO3BX"
      },
      "execution_count": 48,
      "outputs": []
    },
    {
      "cell_type": "code",
      "source": [
        "X"
      ],
      "metadata": {
        "colab": {
          "base_uri": "https://localhost:8080/"
        },
        "id": "4OaLHrarYb5j",
        "outputId": "5530ab79-a857-4ee6-9806-eac96baf4c06"
      },
      "execution_count": 109,
      "outputs": [
        {
          "output_type": "execute_result",
          "data": {
            "text/plain": [
              "array([[-1.24226772,  0.87046494,  1.63551216, -1.17524944, -0.9462694 ,\n",
              "         1.01743287, -0.79447272, -0.67702168,  1.05011594, -0.69757676,\n",
              "         1.22290675, -1.24351642,  0.21694237,  1.51224037, -0.37800299,\n",
              "         0.93331463,  1.16169367, -1.21641228, -0.75555662,  1.94004697],\n",
              "       [ 0.98372215,  0.03911246, -2.07676447,  1.04522329,  0.9127419 ,\n",
              "        -1.24797582,  0.68485195,  0.82551772, -2.69209777,  0.71334588,\n",
              "        -1.36723201,  0.7387514 , -1.48836945, -0.22199517,  0.68426186,\n",
              "        -1.30582287, -1.20324146,  0.70319151,  1.2467747 , -2.42471234]])"
            ]
          },
          "metadata": {},
          "execution_count": 109
        }
      ]
    },
    {
      "cell_type": "code",
      "source": [
        "x = np.array([1.46, 1.13, -2.30, 1.74, 0.04, \n",
        "    -0.61, 0.32, -0.76, 0.58, -1.10, \n",
        "     0.87, 1.62, -0.53, -0.25, -1.07, \n",
        "    -0.38, -0.17, -0.32, -2.06, -0.88, ])"
      ],
      "metadata": {
        "id": "g620p6rX6aXY"
      },
      "execution_count": null,
      "outputs": []
    },
    {
      "cell_type": "code",
      "source": [
        "y = np.array([101.16, 78.44, -159.24, 120.72, 2.92, \n",
        "    -42.33, 22.07, -52.67, 40.32, -76.10, \n",
        "     59.88, 112.38, -36.54, -17.25, -74.24, \n",
        "    -26.57, -11.93, -22.31, -142.54, -60.74,])"
      ],
      "metadata": {
        "id": "Vu72ToWi8XFA"
      },
      "execution_count": null,
      "outputs": []
    },
    {
      "cell_type": "code",
      "source": [
        "class hypothesis(object):\n",
        "    \"\"\"Модель логистической регрессии\"\"\"\n",
        "    def __init__(self):\n",
        "        self.b0 = 0\n",
        "        self.b1 = 0\n",
        "        self.b2 = 1\n",
        "    def predict(self, x):\n",
        "        x1, x2 = x\n",
        "        z = self.b0 + self.b1 * x1 + self.b2 * x2\n",
        "        return 1 / (1 + np.exp(-z))\n",
        "    def error(self, X, Y):\n",
        "        return -sum(Y * np.log2(self.predict(X)) + (1 - Y) *(1 - np.log2(self.predict(X)))) / len(X[0])\n",
        "    def BGD(self, X, Y):  \n",
        "        alpha = 0.5\n",
        "        for _ in range(1000):\n",
        "          dJ0 = sum(self.predict(X) - Y) /len(X)\n",
        "          dJ1 = sum((self.predict(X) - Y) * X[0]) /len(X[0])\n",
        "          dJ2 = sum((self.predict(X) - Y) * X[1]) /len(X[0])\n",
        "          self.b0 -= alpha * dJ0\n",
        "          self.b1 -= alpha * dJ1\n",
        "          self.b2 -= alpha * dJ2"
      ],
      "metadata": {
        "id": "ygakWxMN9vmg"
      },
      "execution_count": 106,
      "outputs": []
    },
    {
      "cell_type": "code",
      "source": [
        "hyp = hypothesis()\n",
        "print(hyp.predict((0, 0)))\n",
        "J = hyp.error(X, Y)\n",
        "print(\"initial error:\", J)\n",
        "hyp.BGD(X, Y)\n",
        "J = hyp.error(X, Y)\n",
        "print(\"error after gradient descent:\", J)"
      ],
      "metadata": {
        "colab": {
          "base_uri": "https://localhost:8080/"
        },
        "id": "LXizyroG97Dn",
        "outputId": "2b3c3a73-0666-4f18-b96e-618af3af3739"
      },
      "execution_count": 113,
      "outputs": [
        {
          "output_type": "stream",
          "name": "stdout",
          "text": [
            "0.5\n",
            "initial error: -1.4495454090399034\n",
            "error after gradient descent: -7.8762626938368445\n"
          ]
        }
      ]
    },
    {
      "cell_type": "code",
      "source": [
        "x_min, x_max = X[:, 0].min() - 1, X[:, 0].max() + 1\n",
        "y_min, y_max = X[:, 1].min() - 1, X[:, 1].max() + 1\n",
        "xx, yy = np.meshgrid(np.arange(-2, 3, 0.1), np.arange(-3, 2, 0.1))\n",
        "Z = hyp.predict((xx, yy))\n",
        "Z = Z.reshape(xx.shape)\n",
        "plt.figure(figsize=(12, 9))\n",
        "plt.contourf(xx, yy, Z, alpha=0.4)\n",
        "plt.scatter(X.T[:, 0], X.T[:, 1], marker=\"o\", c=Y, s=25, edgecolor=\"k\")\n",
        "plt.show()"
      ],
      "metadata": {
        "colab": {
          "base_uri": "https://localhost:8080/",
          "height": 537
        },
        "id": "uKrCFLTQ97yD",
        "outputId": "8515b4fc-68a8-4992-baf2-373b1c5ce0c3"
      },
      "execution_count": 114,
      "outputs": [
        {
          "output_type": "display_data",
          "data": {
            "text/plain": [
              "<Figure size 864x648 with 1 Axes>"
            ],
            "image/png": "[encoded data removed]"
          },
          "metadata": {
            "needs_background": "light"
          }
        }
      ]
    },
    {
      "cell_type": "code",
      "source": [
        "from sklearn import linear_model\n",
        "\n",
        "X = X.T\n",
        "\n",
        "reg = linear_model.LogisticRegression()\n",
        "reg.fit(X, Y)\n",
        "print(reg.score(X, Y))"
      ],
      "metadata": {
        "colab": {
          "base_uri": "https://localhost:8080/"
        },
        "id": "p0o1zjGHBDU7",
        "outputId": "79c1e60c-5fa2-4577-aeaa-41fd859834d8"
      },
      "execution_count": 117,
      "outputs": [
        {
          "output_type": "stream",
          "name": "stdout",
          "text": [
            "1.0\n"
          ]
        }
      ]
    },
    {
      "cell_type": "code",
      "source": [
        "from sklearn.metrics import mean_squared_error, r2_score\n",
        "\n",
        "y_pred = reg.predict(X)\n",
        "print(\"Коэффициенты: \\n\", reg.coef_)\n",
        "print(\"Среднеквадратичная ошибка: %.2f\" % mean_squared_error(Y, y_pred))\n",
        "print(\"Коэффициент детерминации: %.2f\" % r2_score(Y, y_pred))"
      ],
      "metadata": {
        "colab": {
          "base_uri": "https://localhost:8080/"
        },
        "id": "J0zhBFN0BM2e",
        "outputId": "50044ced-58ce-44d4-d78e-9d6fe85f3300"
      },
      "execution_count": 120,
      "outputs": [
        {
          "output_type": "stream",
          "name": "stdout",
          "text": [
            "Коэффициенты: \n",
            " [[-1.37021215  1.21891045]]\n",
            "Среднеквадратичная ошибка: 0.00\n",
            "Коэффициент детерминации: 1.00\n"
          ]
        }
      ]
    },
    {
      "cell_type": "code",
      "source": [
        "\n",
        "xx, yy = np.meshgrid(np.arange(-2, 3, 0.1), np.arange(-3, 2, 0.1))\n",
        "Z = reg.predict(np.c_[xx.ravel(), yy.ravel()])\n",
        "Z = Z.reshape(xx.shape)\n",
        "plt.figure(figsize=(12, 9))\n",
        "plt.contourf(xx, yy, Z, alpha=0.4)\n",
        "plt.scatter(X[:, 0], X[:, 1], marker=\"o\", c=Y, s=25, edgecolor=\"k\")\n",
        "plt.show()"
      ],
      "metadata": {
        "colab": {
          "base_uri": "https://localhost:8080/",
          "height": 537
        },
        "id": "vPSL86SvB1NY",
        "outputId": "0763baa6-1cda-44e0-a01d-6fb975539bc0"
      },
      "execution_count": 125,
      "outputs": [
        {
          "output_type": "display_data",
          "data": {
            "text/plain": [
              "<Figure size 864x648 with 1 Axes>"
            ],
            "image/png": "[encoded data removed]"
          },
          "metadata": {
            "needs_background": "light"
          }
        }
      ]
    },
    {
      "cell_type": "code",
      "source": [
        ""
      ],
      "metadata": {
        "id": "KwA-lst0B_eM"
      },
      "execution_count": null,
      "outputs": []
    }
  ]
}