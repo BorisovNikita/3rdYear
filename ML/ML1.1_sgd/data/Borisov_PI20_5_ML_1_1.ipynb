{
 "cells": [
  {
   "cell_type": "code",
   "execution_count": 1,
   "id": "9394414d",
   "metadata": {},
   "outputs": [],
   "source": [
    "import numpy as np\n",
    "import pandas as pd\n",
    "import matplotlib.pyplot as plt\n",
    "from sklearn import linear_model\n",
    "from sklearn.metrics import mean_squared_error, r2_score"
   ]
  },
  {
   "cell_type": "markdown",
   "id": "b9dfbb38",
   "metadata": {},
   "source": [
    "# Пример использования sklearn"
   ]
  },
  {
   "cell_type": "code",
   "execution_count": 2,
   "id": "9aebf5fd",
   "metadata": {},
   "outputs": [],
   "source": [
    "x = pd.read_csv('../x.csv', index_col=0)\n",
    "x = np.array([1.46, 1.13, -2.30, 1.74, 0.04, \n",
    "    -0.61, 0.32, -0.76, 0.58, -1.10, \n",
    "     0.87, 1.62, -0.53, -0.25, -1.07, \n",
    "    -0.38, -0.17, -0.32, -2.06, -0.88, ])\n",
    "\n",
    "y = pd.read_csv('../y.csv', index_col=0)\n",
    "y = np.array([101.16, 78.44, -159.24, 120.72, 2.92, \n",
    "    -42.33, 22.07, -52.67, 40.32, -76.10, \n",
    "     59.88, 112.38, -36.54, -17.25, -74.24, \n",
    "    -26.57, -11.93, -22.31, -142.54, -60.74,])"
   ]
  },
  {
   "cell_type": "code",
   "execution_count": 3,
   "id": "155510f4",
   "metadata": {},
   "outputs": [
    {
     "data": {
      "image/png": "[encoded data removed]",
      "text/plain": [
       "<Figure size 432x288 with 1 Axes>"
      ]
     },
     "metadata": {
      "needs_background": "light"
     },
     "output_type": "display_data"
    }
   ],
   "source": [
    "plt.figure()\n",
    "plt.scatter(x,y)\n",
    "plt.show()"
   ]
  },
  {
   "cell_type": "code",
   "execution_count": 4,
   "id": "bc4ed1e0",
   "metadata": {},
   "outputs": [
    {
     "name": "stdout",
     "output_type": "stream",
     "text": [
      "0.9999954044390408\n"
     ]
    }
   ],
   "source": [
    "x = x.reshape((-1, 1))\n",
    "reg=linear_model.LinearRegression()\n",
    "reg.fit(x,y)\n",
    "print(reg.score(x,y))"
   ]
  },
  {
   "cell_type": "code",
   "execution_count": 5,
   "id": "90fb5bc1",
   "metadata": {},
   "outputs": [
    {
     "name": "stdout",
     "output_type": "stream",
     "text": [
      "Коэффициенты: \n",
      " [69.27158642]\n",
      "Среднеквадратичная ошибка: 0.03\n",
      "Коэффициент детерминации: 1.00\n"
     ]
    },
    {
     "data": {
      "image/png": "[encoded data removed]",
      "text/plain": [
       "<Figure size 864x648 with 1 Axes>"
      ]
     },
     "metadata": {
      "needs_background": "light"
     },
     "output_type": "display_data"
    }
   ],
   "source": [
    "y_pred = reg.predict(x)\n",
    "print(\"Коэффициенты: \\n\", reg.coef_)\n",
    "print(\"Среднеквадратичная ошибка: %.2f\" % mean_squared_error(y, y_pred))\n",
    "print(\"Коэффициент детерминации: %.2f\" % r2_score(y, y_pred))\n",
    "\n",
    "plt.figure(figsize=(12, 9))\n",
    "plt.scatter(x, y, color=\"black\")\n",
    "plt.plot(x, y_pred, color=\"blue\", linewidth=3)\n",
    "plt.show()"
   ]
  },
  {
   "cell_type": "markdown",
   "id": "159c2328",
   "metadata": {},
   "source": [
    "# Первая пара инструментов"
   ]
  },
  {
   "cell_type": "code",
   "execution_count": 6,
   "id": "dd4d0e38",
   "metadata": {},
   "outputs": [],
   "source": [
    "mvid = pd.read_csv('MVID_101001_171001.txt')\n",
    "sber = pd.read_csv('SBER_101001_171001.txt')"
   ]
  },
  {
   "cell_type": "code",
   "execution_count": 7,
   "id": "0300e990",
   "metadata": {},
   "outputs": [
    {
     "data": {
      "text/html": [
       "<div>\n",
       "<style scoped>\n",
       "    .dataframe tbody tr th:only-of-type {\n",
       "        vertical-align: middle;\n",
       "    }\n",
       "\n",
       "    .dataframe tbody tr th {\n",
       "        vertical-align: top;\n",
       "    }\n",
       "\n",
       "    .dataframe thead th {\n",
       "        text-align: right;\n",
       "    }\n",
       "</style>\n",
       "<table border=\"1\" class=\"dataframe\">\n",
       "  <thead>\n",
       "    <tr style=\"text-align: right;\">\n",
       "      <th></th>\n",
       "      <th>&lt;TICKER&gt;</th>\n",
       "      <th>&lt;PER&gt;</th>\n",
       "      <th>&lt;DATE&gt;</th>\n",
       "      <th>&lt;TIME&gt;</th>\n",
       "      <th>&lt;CLOSE&gt;</th>\n",
       "      <th>&lt;VOL&gt;</th>\n",
       "    </tr>\n",
       "  </thead>\n",
       "  <tbody>\n",
       "    <tr>\n",
       "      <th>0</th>\n",
       "      <td>SBER</td>\n",
       "      <td>D</td>\n",
       "      <td>20101001</td>\n",
       "      <td>0</td>\n",
       "      <td>89.09</td>\n",
       "      <td>332429890</td>\n",
       "    </tr>\n",
       "    <tr>\n",
       "      <th>1</th>\n",
       "      <td>SBER</td>\n",
       "      <td>D</td>\n",
       "      <td>20101004</td>\n",
       "      <td>0</td>\n",
       "      <td>89.88</td>\n",
       "      <td>194032721</td>\n",
       "    </tr>\n",
       "    <tr>\n",
       "      <th>2</th>\n",
       "      <td>SBER</td>\n",
       "      <td>D</td>\n",
       "      <td>20101005</td>\n",
       "      <td>0</td>\n",
       "      <td>91.97</td>\n",
       "      <td>198775753</td>\n",
       "    </tr>\n",
       "    <tr>\n",
       "      <th>3</th>\n",
       "      <td>SBER</td>\n",
       "      <td>D</td>\n",
       "      <td>20101006</td>\n",
       "      <td>0</td>\n",
       "      <td>91.20</td>\n",
       "      <td>210406027</td>\n",
       "    </tr>\n",
       "    <tr>\n",
       "      <th>4</th>\n",
       "      <td>SBER</td>\n",
       "      <td>D</td>\n",
       "      <td>20101007</td>\n",
       "      <td>0</td>\n",
       "      <td>90.40</td>\n",
       "      <td>145137617</td>\n",
       "    </tr>\n",
       "  </tbody>\n",
       "</table>\n",
       "</div>"
      ],
      "text/plain": [
       "  <TICKER> <PER>    <DATE>  <TIME>  <CLOSE>      <VOL>\n",
       "0     SBER     D  20101001       0    89.09  332429890\n",
       "1     SBER     D  20101004       0    89.88  194032721\n",
       "2     SBER     D  20101005       0    91.97  198775753\n",
       "3     SBER     D  20101006       0    91.20  210406027\n",
       "4     SBER     D  20101007       0    90.40  145137617"
      ]
     },
     "execution_count": 7,
     "metadata": {},
     "output_type": "execute_result"
    }
   ],
   "source": [
    "sber.head()"
   ]
  },
  {
   "cell_type": "code",
   "execution_count": 8,
   "id": "92426a89",
   "metadata": {},
   "outputs": [
    {
     "data": {
      "text/html": [
       "<div>\n",
       "<style scoped>\n",
       "    .dataframe tbody tr th:only-of-type {\n",
       "        vertical-align: middle;\n",
       "    }\n",
       "\n",
       "    .dataframe tbody tr th {\n",
       "        vertical-align: top;\n",
       "    }\n",
       "\n",
       "    .dataframe thead th {\n",
       "        text-align: right;\n",
       "    }\n",
       "</style>\n",
       "<table border=\"1\" class=\"dataframe\">\n",
       "  <thead>\n",
       "    <tr style=\"text-align: right;\">\n",
       "      <th></th>\n",
       "      <th>&lt;TICKER&gt;_x</th>\n",
       "      <th>&lt;PER&gt;_x</th>\n",
       "      <th>&lt;DATE&gt;</th>\n",
       "      <th>&lt;TIME&gt;_x</th>\n",
       "      <th>&lt;CLOSE&gt;_x</th>\n",
       "      <th>&lt;VOL&gt;_x</th>\n",
       "      <th>&lt;TICKER&gt;_y</th>\n",
       "      <th>&lt;PER&gt;_y</th>\n",
       "      <th>&lt;TIME&gt;_y</th>\n",
       "      <th>&lt;CLOSE&gt;_y</th>\n",
       "      <th>&lt;VOL&gt;_y</th>\n",
       "    </tr>\n",
       "  </thead>\n",
       "  <tbody>\n",
       "    <tr>\n",
       "      <th>0</th>\n",
       "      <td>SBER</td>\n",
       "      <td>D</td>\n",
       "      <td>20101001</td>\n",
       "      <td>0</td>\n",
       "      <td>89.09</td>\n",
       "      <td>332429890</td>\n",
       "      <td>MVID</td>\n",
       "      <td>D</td>\n",
       "      <td>0</td>\n",
       "      <td>194.38</td>\n",
       "      <td>19406</td>\n",
       "    </tr>\n",
       "    <tr>\n",
       "      <th>1</th>\n",
       "      <td>SBER</td>\n",
       "      <td>D</td>\n",
       "      <td>20101004</td>\n",
       "      <td>0</td>\n",
       "      <td>89.88</td>\n",
       "      <td>194032721</td>\n",
       "      <td>MVID</td>\n",
       "      <td>D</td>\n",
       "      <td>0</td>\n",
       "      <td>190.00</td>\n",
       "      <td>31039</td>\n",
       "    </tr>\n",
       "    <tr>\n",
       "      <th>2</th>\n",
       "      <td>SBER</td>\n",
       "      <td>D</td>\n",
       "      <td>20101005</td>\n",
       "      <td>0</td>\n",
       "      <td>91.97</td>\n",
       "      <td>198775753</td>\n",
       "      <td>MVID</td>\n",
       "      <td>D</td>\n",
       "      <td>0</td>\n",
       "      <td>187.00</td>\n",
       "      <td>17651</td>\n",
       "    </tr>\n",
       "    <tr>\n",
       "      <th>3</th>\n",
       "      <td>SBER</td>\n",
       "      <td>D</td>\n",
       "      <td>20101006</td>\n",
       "      <td>0</td>\n",
       "      <td>91.20</td>\n",
       "      <td>210406027</td>\n",
       "      <td>MVID</td>\n",
       "      <td>D</td>\n",
       "      <td>0</td>\n",
       "      <td>190.04</td>\n",
       "      <td>36482</td>\n",
       "    </tr>\n",
       "    <tr>\n",
       "      <th>4</th>\n",
       "      <td>SBER</td>\n",
       "      <td>D</td>\n",
       "      <td>20101007</td>\n",
       "      <td>0</td>\n",
       "      <td>90.40</td>\n",
       "      <td>145137617</td>\n",
       "      <td>MVID</td>\n",
       "      <td>D</td>\n",
       "      <td>0</td>\n",
       "      <td>199.85</td>\n",
       "      <td>204248</td>\n",
       "    </tr>\n",
       "  </tbody>\n",
       "</table>\n",
       "</div>"
      ],
      "text/plain": [
       "  <TICKER>_x <PER>_x    <DATE>  <TIME>_x  <CLOSE>_x    <VOL>_x <TICKER>_y  \\\n",
       "0       SBER       D  20101001         0      89.09  332429890       MVID   \n",
       "1       SBER       D  20101004         0      89.88  194032721       MVID   \n",
       "2       SBER       D  20101005         0      91.97  198775753       MVID   \n",
       "3       SBER       D  20101006         0      91.20  210406027       MVID   \n",
       "4       SBER       D  20101007         0      90.40  145137617       MVID   \n",
       "\n",
       "  <PER>_y  <TIME>_y  <CLOSE>_y  <VOL>_y  \n",
       "0       D         0     194.38    19406  \n",
       "1       D         0     190.00    31039  \n",
       "2       D         0     187.00    17651  \n",
       "3       D         0     190.04    36482  \n",
       "4       D         0     199.85   204248  "
      ]
     },
     "execution_count": 8,
     "metadata": {},
     "output_type": "execute_result"
    }
   ],
   "source": [
    "res = pd.merge(sber, mvid, on='<DATE>')\n",
    "res.head()"
   ]
  },
  {
   "cell_type": "code",
   "execution_count": 9,
   "id": "88a8c2a9",
   "metadata": {},
   "outputs": [],
   "source": [
    "x = res['<CLOSE>_x']\n",
    "y = res['<CLOSE>_y']"
   ]
  },
  {
   "cell_type": "code",
   "execution_count": 10,
   "id": "e0ac024d",
   "metadata": {},
   "outputs": [
    {
     "data": {
      "image/png": "[encoded data removed]",
      "text/plain": [
       "<Figure size 432x288 with 1 Axes>"
      ]
     },
     "metadata": {
      "needs_background": "light"
     },
     "output_type": "display_data"
    }
   ],
   "source": [
    "plt.figure()\n",
    "plt.scatter(x, y)\n",
    "plt.show()"
   ]
  },
  {
   "cell_type": "code",
   "execution_count": 702,
   "id": "1912fa80",
   "metadata": {},
   "outputs": [],
   "source": [
    "class hypothesis(object):\n",
    "    \"\"\"Модель парной линейной регрессии\"\"\"\n",
    "    def __init__(self):\n",
    "        self.b0 = 0\n",
    "        self.b1 = 0\n",
    "        \n",
    "    def predict(self, x):\n",
    "        return self.b0 + self.b1 * x\n",
    "    \n",
    "    def error(self, X, Y):    \n",
    "        return sum((self.predict(X) - Y)**2) / (2 * len(X))\n",
    "    \n",
    "    def BGD(\n",
    "        self,\n",
    "        X,\n",
    "        Y,\n",
    "        alpha=0.000005,\n",
    "        accuracy=0.01,\n",
    "        max_steps=50000,\n",
    "        slowdown_step=10,\n",
    "        slowdown=0.95,\n",
    "        part=1/4\n",
    "        \n",
    "    ):\n",
    "#         part_x = X\n",
    "#         part_y = Y\n",
    "        part_x = X.sample(frac=part).sort_index()\n",
    "        part_y = Y[part_x.index]\n",
    "        print(part_x)\n",
    "        steps, errors, whole_err = [], [], []\n",
    "        step = 0        \n",
    "        old_err = self.error(part_x, part_y)\n",
    "        new_err = self.error(part_x, part_y) - 1\n",
    "        dJ = np.inf\n",
    "        while (dJ > accuracy) and (step<max_steps):\n",
    "            alpha= alpha*slowdown if not step%slowdown_step else alpha\n",
    "            dJ0 = sum(self.predict(part_x) - part_y) /len(part_x)\n",
    "            dJ1 = sum((self.predict(part_x) - part_y) * part_x) /len(part_x)\n",
    "            self.b0 -= alpha * dJ0\n",
    "            self.b1 -= alpha * dJ1            \n",
    "            old_err = new_err\n",
    "            new_err = self.error(part_x, part_y)\n",
    "            if (new_err!=np.inf) and (not np.isnan(new_err)):\n",
    "                dJ = abs(old_err - new_err)\n",
    "            else:\n",
    "                dJ = accuracy +1\n",
    "            step += 1            \n",
    "            steps.append(step)\n",
    "            errors.append(new_err)\n",
    "            whole_err.append(self.error(X, Y))\n",
    "#             print('ALPHA', alpha)\n",
    "        print('STEEEEPS', step, dJ, old_err, new_err)\n",
    "        print(type(new_err))\n",
    "        return steps, errors, whole_err"
   ]
  },
  {
   "cell_type": "code",
   "execution_count": 683,
   "id": "f758781b",
   "metadata": {},
   "outputs": [
    {
     "name": "stdout",
     "output_type": "stream",
     "text": [
      "0\n",
      "0\n",
      "initial error: 36271.58344889084\n"
     ]
    }
   ],
   "source": [
    "hypot = hypothesis()\n",
    "print(hypot.predict(0))\n",
    "print(hypot.predict(100))\n",
    "J = hypot.error(x, y)\n",
    "print(\"initial error:\", J)\n"
   ]
  },
  {
   "cell_type": "code",
   "execution_count": 684,
   "id": "d1eeca58",
   "metadata": {},
   "outputs": [
    {
     "data": {
      "image/png": "[encoded data removed]",
      "text/plain": [
       "<Figure size 432x288 with 1 Axes>"
      ]
     },
     "metadata": {
      "needs_background": "light"
     },
     "output_type": "display_data"
    }
   ],
   "source": [
    "X0 = np.linspace(60, 180, 100)\n",
    "Y0 = hypot.predict(X0)\n",
    "plt.figure()\n",
    "plt.scatter(x, y)\n",
    "plt.plot(X0, Y0, 'r')\n",
    "plt.show()"
   ]
  },
  {
   "cell_type": "code",
   "execution_count": 685,
   "id": "5abee857",
   "metadata": {},
   "outputs": [
    {
     "name": "stdout",
     "output_type": "stream",
     "text": [
      "1        89.88\n",
      "16      102.30\n",
      "18       99.72\n",
      "25      103.59\n",
      "27       98.40\n",
      "         ...  \n",
      "1738    184.14\n",
      "1744    189.10\n",
      "1749    186.47\n",
      "1751    187.55\n",
      "1752    191.20\n",
      "Name: <CLOSE>_x, Length: 440, dtype: float64\n",
      "STEEEEPS 152 0.00974875669191988 319.266626145565 319.2568773888731\n",
      "error after gradient descent: 298.71522331017695\n"
     ]
    },
    {
     "data": {
      "image/png": "[encoded data removed]",
      "text/plain": [
       "<Figure size 432x288 with 1 Axes>"
      ]
     },
     "metadata": {
      "needs_background": "light"
     },
     "output_type": "display_data"
    }
   ],
   "source": [
    "hypot.BGD(x, y)\n",
    "J = hypot.error(x, y)\n",
    "print(\"error after gradient descent:\", J)\n",
    "\n",
    "X0 = np.linspace(60, 180, 100)\n",
    "Y0 = hypot.predict(X0)\n",
    "plt.figure()\n",
    "plt.scatter(x, y)\n",
    "plt.plot(X0, Y0, 'r')\n",
    "plt.show()"
   ]
  },
  {
   "cell_type": "code",
   "execution_count": 676,
   "id": "3d7b7b08",
   "metadata": {},
   "outputs": [
    {
     "name": "stdout",
     "output_type": "stream",
     "text": [
      "5        90.50\n",
      "9        91.47\n",
      "11       94.96\n",
      "34       98.70\n",
      "42      103.34\n",
      "         ...  \n",
      "1743    189.32\n",
      "1744    189.10\n",
      "1747    188.04\n",
      "1754    193.70\n",
      "1757    193.00\n",
      "Name: <CLOSE>_x, Length: 440, dtype: float64\n",
      "STEEEEPS 22301 9.609948392608203e-10 279.2577597718115 279.2577597708505\n",
      "error after gradient descent: 298.55181798981835\n"
     ]
    }
   ],
   "source": [
    "hypot = hypothesis()\n",
    "steps, errors, all_err = hypot.BGD(\n",
    "    x, y,\n",
    "    accuracy=0.000000001,\n",
    "    alpha=0.000005,\n",
    "    slowdown=0.95,\n",
    "    slowdown_step=100\n",
    ")\n",
    "J = hypot.error(x, y)\n",
    "print(\"error after gradient descent:\", J)"
   ]
  },
  {
   "cell_type": "code",
   "execution_count": 677,
   "id": "909f2985",
   "metadata": {},
   "outputs": [
    {
     "data": {
      "image/png": "[encoded data removed]",
      "text/plain": [
       "<Figure size 432x288 with 1 Axes>"
      ]
     },
     "metadata": {
      "needs_background": "light"
     },
     "output_type": "display_data"
    }
   ],
   "source": [
    "X0 = np.linspace(60, 180, 100)\n",
    "Y0 = hypot.predict(X0)\n",
    "plt.figure()\n",
    "plt.scatter(x, y)\n",
    "plt.plot(X0, Y0, 'r')\n",
    "plt.show()"
   ]
  },
  {
   "cell_type": "code",
   "execution_count": 678,
   "id": "dc7b2f9f",
   "metadata": {},
   "outputs": [
    {
     "data": {
      "image/png": "[encoded data removed]",
      "text/plain": [
       "<Figure size 432x288 with 1 Axes>"
      ]
     },
     "metadata": {
      "needs_background": "light"
     },
     "output_type": "display_data"
    }
   ],
   "source": [
    "plt.figure()\n",
    "plt.plot(steps, errors, 'g')\n",
    "plt.plot(steps, all_err, 'r')\n",
    "plt.show()"
   ]
  },
  {
   "cell_type": "markdown",
   "id": "bb927957",
   "metadata": {},
   "source": [
    "# Другая пара инструментов"
   ]
  },
  {
   "cell_type": "code",
   "execution_count": 703,
   "id": "1b78a690",
   "metadata": {
    "scrolled": true
   },
   "outputs": [
    {
     "data": {
      "image/png": "[encoded data removed]",
      "text/plain": [
       "<Figure size 432x288 with 1 Axes>"
      ]
     },
     "metadata": {
      "needs_background": "light"
     },
     "output_type": "display_data"
    }
   ],
   "source": [
    "yndx = pd.read_csv('YNDX_101001_171001.txt')\n",
    "usdrub = pd.read_csv('USDRUB_101001_171001.txt')\n",
    "res2 = pd.merge(yndx, usdrub, on='<DATE>')\n",
    "x2 = res2['<CLOSE>_x']\n",
    "y2 = res2['<CLOSE>_y']\n",
    "plt.figure()\n",
    "plt.scatter(x2, y2)\n",
    "plt.show()"
   ]
  },
  {
   "cell_type": "code",
   "execution_count": 780,
   "id": "5e388e80",
   "metadata": {},
   "outputs": [],
   "source": [
    "class hypothesis(object):\n",
    "    \"\"\"Модель парной линейной регрессии\"\"\"\n",
    "    def __init__(self):\n",
    "        self.b0 = 0\n",
    "        self.b1 = 0\n",
    "        \n",
    "    def predict(self, x):\n",
    "        return self.b0 + self.b1 * x\n",
    "    \n",
    "    def normalize(self, X):\n",
    "        x_max = X.max()\n",
    "        x_min = X.min()\n",
    "        X = (X-x_min)/(x_max-x_min)\n",
    "        return X, x_min, x_max-x_min\n",
    "    \n",
    "    def error(self, X, Y):    \n",
    "        return sum((self.predict(X) - Y)**2) / (2 * len(X))\n",
    "    \n",
    "    def BGD(\n",
    "        self,\n",
    "        X,\n",
    "        Y,\n",
    "        alpha=0.000005,\n",
    "        accuracy=0.01,\n",
    "        max_steps=500,\n",
    "        slowdown_step=10,\n",
    "        slowdown=0.95,\n",
    "        part=1/4\n",
    "        \n",
    "    ):\n",
    "#         part_x = X\n",
    "#         part_y = Y\n",
    "        part_x = X.sample(frac=part).sort_index()\n",
    "#         part_x, x_min, x_diff = self.normalize(part_x)\n",
    "        part_y = Y[part_x.index]\n",
    "#         part_y, y_min, y_diff = self.normalize(part_y)\n",
    "        print(part_x)\n",
    "        steps, errors, whole_err = [], [], []\n",
    "        step = 0        \n",
    "        old_err = self.error(part_x, part_y)\n",
    "        new_err = self.error(part_x, part_y) - 1\n",
    "        dJ = np.inf\n",
    "        while (dJ > accuracy) and (step<max_steps):\n",
    "            alpha= alpha*slowdown if not step%slowdown_step else alpha\n",
    "            dJ0 = sum(self.predict(part_x) - part_y) /len(part_x)\n",
    "            dJ1 = sum((self.predict(part_x) - part_y) * part_x) /len(part_x)\n",
    "            if dJ0==np.inf or dJ1==np.inf:\n",
    "                break\n",
    "            self.b0 -= alpha * dJ0\n",
    "            self.b1 -= alpha * dJ1            \n",
    "            old_err = new_err\n",
    "            new_err = self.error(part_x, part_y)\n",
    "#             if (new_err!=np.inf) and (not np.isnan(new_err)):\n",
    "            if np.isnan(new_err):\n",
    "                print(alpha, dJ0, dJ1)\n",
    "            if (new_err!=np.inf):\n",
    "                dJ = abs(old_err - new_err)\n",
    "            else:\n",
    "                dJ = accuracy +1\n",
    "            step += 1            \n",
    "            steps.append(step)\n",
    "            errors.append(new_err)\n",
    "            whole_err.append(self.error(X, Y))\n",
    "#             print('ALPHA', alpha)\n",
    "\n",
    "        print('STEEEEPS', step, dJ, old_err, new_err)\n",
    "        print(type(new_err))\n",
    "        return steps, errors, whole_err"
   ]
  },
  {
   "cell_type": "code",
   "execution_count": 782,
   "id": "7b5b073c",
   "metadata": {},
   "outputs": [
    {
     "name": "stdout",
     "output_type": "stream",
     "text": [
      "0      1170.0\n",
      "1      1145.1\n",
      "2      1163.0\n",
      "3      1172.1\n",
      "4      1170.0\n",
      "        ...  \n",
      "833    1848.0\n",
      "834    1867.0\n",
      "835    1856.5\n",
      "836    1873.0\n",
      "837    1906.5\n",
      "Name: <CLOSE>_x, Length: 838, dtype: float64\n",
      "STEEEEPS 56 7.773063202876074e-06 134.8002892211873 134.8002814481241\n",
      "<class 'float'>\n",
      "error after gradient descent: 134.8002814481241\n"
     ]
    },
    {
     "data": {
      "image/png": "[encoded data removed]",
      "text/plain": [
       "<Figure size 432x288 with 1 Axes>"
      ]
     },
     "metadata": {
      "needs_background": "light"
     },
     "output_type": "display_data"
    }
   ],
   "source": [
    "hyp2 = hypothesis()\n",
    "steps, errors, whole_err = hyp2.BGD(\n",
    "    x2, y2,\n",
    "    accuracy=0.00001,\n",
    "    alpha=0.0000001,\n",
    "    slowdown=1,\n",
    "    slowdown_step=100,\n",
    "    part=1,\n",
    ")\n",
    "J = hyp2.error(x2, y2)\n",
    "print(\"error after gradient descent:\", J)\n",
    "X02 = np.linspace(800, 1800, 100)\n",
    "Y02 = hyp2.predict(X0)\n",
    "plt.figure()\n",
    "plt.scatter(x2, y2)\n",
    "plt.plot(X02, Y02, 'r')\n",
    "plt.show()"
   ]
  },
  {
   "cell_type": "code",
   "execution_count": 777,
   "id": "47b202c4",
   "metadata": {
    "scrolled": true
   },
   "outputs": [
    {
     "data": {
      "image/png": "[encoded data removed]",
      "text/plain": [
       "<Figure size 432x288 with 1 Axes>"
      ]
     },
     "metadata": {
      "needs_background": "light"
     },
     "output_type": "display_data"
    }
   ],
   "source": [
    "plt.figure()\n",
    "plt.plot(steps, errors, 'g')\n",
    "plt.plot(steps, whole_err, 'r')\n",
    "plt.show()"
   ]
  },
  {
   "cell_type": "markdown",
   "id": "b8b3b20a",
   "metadata": {},
   "source": [
    "# То же самое только при помощи sklearn"
   ]
  },
  {
   "cell_type": "code",
   "execution_count": 773,
   "id": "29a5e24d",
   "metadata": {},
   "outputs": [],
   "source": [
    "x3 = np.array(res2['<CLOSE>_x'])\n",
    "y3 = np.array(res2['<CLOSE>_y'])"
   ]
  },
  {
   "cell_type": "code",
   "execution_count": 774,
   "id": "96e38773",
   "metadata": {},
   "outputs": [
    {
     "name": "stdout",
     "output_type": "stream",
     "text": [
      "0.00019456424733388378\n"
     ]
    }
   ],
   "source": [
    "x3= x3.reshape((-1,1))\n",
    "# x = x.reshape((-1, 1))\n",
    "reg=linear_model.LinearRegression()\n",
    "reg.fit(x3,y3)\n",
    "print(reg.score(x3,y3))"
   ]
  },
  {
   "cell_type": "code",
   "execution_count": 775,
   "id": "2d9ddef7",
   "metadata": {},
   "outputs": [
    {
     "name": "stdout",
     "output_type": "stream",
     "text": [
      "Коэффициенты: \n",
      " [-0.00053488]\n",
      "Среднеквадратичная ошибка: 104.34\n",
      "Коэффициент детерминации: 0.00\n"
     ]
    },
    {
     "data": {
      "image/png": "[encoded data removed]",
      "text/plain": [
       "<Figure size 864x648 with 1 Axes>"
      ]
     },
     "metadata": {
      "needs_background": "light"
     },
     "output_type": "display_data"
    }
   ],
   "source": [
    "y_pred = reg.predict(x3)\n",
    "y_pred = y_pred.reshape((-1, 1))\n",
    "                        \n",
    "print(\"Коэффициенты: \\n\", reg.coef_)\n",
    "print(\"Среднеквадратичная ошибка: %.2f\" % mean_squared_error(y3, y_pred))\n",
    "print(\"Коэффициент детерминации: %.2f\" % r2_score(y3, y_pred))\n",
    "\n",
    "plt.figure(figsize=(12, 9))\n",
    "plt.scatter(x3, y3, color=\"black\")\n",
    "plt.plot(x3, y_pred, color=\"blue\", linewidth=3)\n",
    "plt.show()"
   ]
  },
  {
   "cell_type": "code",
   "execution_count": 729,
   "id": "44b8f119",
   "metadata": {},
   "outputs": [
    {
     "data": {
      "text/plain": [
       "254     950.0\n",
       "576    1341.0\n",
       "93     1015.0\n",
       "142     996.0\n",
       "156    1165.0\n",
       "        ...  \n",
       "245     941.0\n",
       "338     736.0\n",
       "388    1075.1\n",
       "780    1898.5\n",
       "413    1017.4\n",
       "Name: <CLOSE>_x, Length: 419, dtype: float64"
      ]
     },
     "execution_count": 729,
     "metadata": {},
     "output_type": "execute_result"
    }
   ],
   "source": [
    "x2.sample(frac=1/2)"
   ]
  },
  {
   "cell_type": "code",
   "execution_count": null,
   "id": "a22bb26f",
   "metadata": {},
   "outputs": [],
   "source": []
  }
 ],
 "metadata": {
  "kernelspec": {
   "display_name": "Python 3 (ipykernel)",
   "language": "python",
   "name": "python3"
  },
  "language_info": {
   "codemirror_mode": {
    "name": "ipython",
    "version": 3
   },
   "file_extension": ".py",
   "mimetype": "text/x-python",
   "name": "python",
   "nbconvert_exporter": "python",
   "pygments_lexer": "ipython3",
   "version": "3.9.12"
  }
 },
 "nbformat": 4,
 "nbformat_minor": 5
}
