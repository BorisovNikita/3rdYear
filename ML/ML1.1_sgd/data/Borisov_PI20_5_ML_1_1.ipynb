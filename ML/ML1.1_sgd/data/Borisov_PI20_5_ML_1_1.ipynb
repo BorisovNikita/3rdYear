{
 "cells": [
  {
   "cell_type": "code",
   "execution_count": 1,
   "id": "b3c86e53",
   "metadata": {},
   "outputs": [],
   "source": [
    "import numpy as np\n",
    "import pandas as pd\n",
    "import matplotlib.pyplot as plt\n",
    "from sklearn import linear_model\n",
    "from sklearn.metrics import mean_squared_error, r2_score"
   ]
  },
  {
   "cell_type": "markdown",
   "id": "f4bfcf79",
   "metadata": {},
   "source": [
    "# Пример использования sklearn"
   ]
  },
  {
   "cell_type": "code",
   "execution_count": 2,
   "id": "4073d829",
   "metadata": {},
   "outputs": [],
   "source": [
    "x = pd.read_csv('../x.csv', index_col=0)\n",
    "x = np.array([1.46, 1.13, -2.30, 1.74, 0.04, \n",
    "    -0.61, 0.32, -0.76, 0.58, -1.10, \n",
    "     0.87, 1.62, -0.53, -0.25, -1.07, \n",
    "    -0.38, -0.17, -0.32, -2.06, -0.88, ])\n",
    "\n",
    "y = pd.read_csv('../y.csv', index_col=0)\n",
    "y = np.array([101.16, 78.44, -159.24, 120.72, 2.92, \n",
    "    -42.33, 22.07, -52.67, 40.32, -76.10, \n",
    "     59.88, 112.38, -36.54, -17.25, -74.24, \n",
    "    -26.57, -11.93, -22.31, -142.54, -60.74,])"
   ]
  },
  {
   "cell_type": "code",
   "execution_count": 3,
   "id": "eb8bc20b",
   "metadata": {},
   "outputs": [
    {
     "data": {
      "image/png": "[encoded data removed]",
      "text/plain": [
       "<Figure size 432x288 with 1 Axes>"
      ]
     },
     "metadata": {
      "needs_background": "light"
     },
     "output_type": "display_data"
    }
   ],
   "source": [
    "plt.figure()\n",
    "plt.scatter(x,y)\n",
    "plt.show()"
   ]
  },
  {
   "cell_type": "code",
   "execution_count": 4,
   "id": "3c16b636",
   "metadata": {},
   "outputs": [
    {
     "name": "stdout",
     "output_type": "stream",
     "text": [
      "0.9999954044390408\n"
     ]
    }
   ],
   "source": [
    "x = x.reshape((-1, 1))\n",
    "reg=linear_model.LinearRegression()\n",
    "reg.fit(x,y)\n",
    "print(reg.score(x,y))"
   ]
  },
  {
   "cell_type": "code",
   "execution_count": 5,
   "id": "c6350361",
   "metadata": {},
   "outputs": [
    {
     "name": "stdout",
     "output_type": "stream",
     "text": [
      "Коэффициенты: \n",
      " [69.27158642]\n",
      "Среднеквадратичная ошибка: 0.03\n",
      "Коэффициент детерминации: 1.00\n"
     ]
    },
    {
     "data": {
      "image/png": "[encoded data removed]",
      "text/plain": [
       "<Figure size 864x648 with 1 Axes>"
      ]
     },
     "metadata": {
      "needs_background": "light"
     },
     "output_type": "display_data"
    }
   ],
   "source": [
    "y_pred = reg.predict(x)\n",
    "print(\"Коэффициенты: \\n\", reg.coef_)\n",
    "print(\"Среднеквадратичная ошибка: %.2f\" % mean_squared_error(y, y_pred))\n",
    "print(\"Коэффициент детерминации: %.2f\" % r2_score(y, y_pred))\n",
    "\n",
    "plt.figure(figsize=(12, 9))\n",
    "plt.scatter(x, y, color=\"black\")\n",
    "plt.plot(x, y_pred, color=\"blue\", linewidth=3)\n",
    "plt.show()"
   ]
  },
  {
   "cell_type": "markdown",
   "id": "701f738c",
   "metadata": {},
   "source": [
    "# Первая пара инструментов"
   ]
  },
  {
   "cell_type": "code",
   "execution_count": 4,
   "id": "fdc98aea",
   "metadata": {},
   "outputs": [],
   "source": [
    "mvid = pd.read_csv('MVID_101001_171001.txt')\n",
    "sber = pd.read_csv('SBER_101001_171001.txt')"
   ]
  },
  {
   "cell_type": "code",
   "execution_count": 5,
   "id": "483c8193",
   "metadata": {},
   "outputs": [
    {
     "data": {
      "text/html": [
       "<div>\n",
       "<style scoped>\n",
       "    .dataframe tbody tr th:only-of-type {\n",
       "        vertical-align: middle;\n",
       "    }\n",
       "\n",
       "    .dataframe tbody tr th {\n",
       "        vertical-align: top;\n",
       "    }\n",
       "\n",
       "    .dataframe thead th {\n",
       "        text-align: right;\n",
       "    }\n",
       "</style>\n",
       "<table border=\"1\" class=\"dataframe\">\n",
       "  <thead>\n",
       "    <tr style=\"text-align: right;\">\n",
       "      <th></th>\n",
       "      <th>&lt;TICKER&gt;</th>\n",
       "      <th>&lt;PER&gt;</th>\n",
       "      <th>&lt;DATE&gt;</th>\n",
       "      <th>&lt;TIME&gt;</th>\n",
       "      <th>&lt;CLOSE&gt;</th>\n",
       "      <th>&lt;VOL&gt;</th>\n",
       "    </tr>\n",
       "  </thead>\n",
       "  <tbody>\n",
       "    <tr>\n",
       "      <th>0</th>\n",
       "      <td>SBER</td>\n",
       "      <td>D</td>\n",
       "      <td>20101001</td>\n",
       "      <td>0</td>\n",
       "      <td>89.09</td>\n",
       "      <td>332429890</td>\n",
       "    </tr>\n",
       "    <tr>\n",
       "      <th>1</th>\n",
       "      <td>SBER</td>\n",
       "      <td>D</td>\n",
       "      <td>20101004</td>\n",
       "      <td>0</td>\n",
       "      <td>89.88</td>\n",
       "      <td>194032721</td>\n",
       "    </tr>\n",
       "    <tr>\n",
       "      <th>2</th>\n",
       "      <td>SBER</td>\n",
       "      <td>D</td>\n",
       "      <td>20101005</td>\n",
       "      <td>0</td>\n",
       "      <td>91.97</td>\n",
       "      <td>198775753</td>\n",
       "    </tr>\n",
       "    <tr>\n",
       "      <th>3</th>\n",
       "      <td>SBER</td>\n",
       "      <td>D</td>\n",
       "      <td>20101006</td>\n",
       "      <td>0</td>\n",
       "      <td>91.20</td>\n",
       "      <td>210406027</td>\n",
       "    </tr>\n",
       "    <tr>\n",
       "      <th>4</th>\n",
       "      <td>SBER</td>\n",
       "      <td>D</td>\n",
       "      <td>20101007</td>\n",
       "      <td>0</td>\n",
       "      <td>90.40</td>\n",
       "      <td>145137617</td>\n",
       "    </tr>\n",
       "  </tbody>\n",
       "</table>\n",
       "</div>"
      ],
      "text/plain": [
       "  <TICKER> <PER>    <DATE>  <TIME>  <CLOSE>      <VOL>\n",
       "0     SBER     D  20101001       0    89.09  332429890\n",
       "1     SBER     D  20101004       0    89.88  194032721\n",
       "2     SBER     D  20101005       0    91.97  198775753\n",
       "3     SBER     D  20101006       0    91.20  210406027\n",
       "4     SBER     D  20101007       0    90.40  145137617"
      ]
     },
     "execution_count": 5,
     "metadata": {},
     "output_type": "execute_result"
    }
   ],
   "source": [
    "sber.head()"
   ]
  },
  {
   "cell_type": "code",
   "execution_count": 6,
   "id": "74068f4c",
   "metadata": {},
   "outputs": [
    {
     "data": {
      "text/html": [
       "<div>\n",
       "<style scoped>\n",
       "    .dataframe tbody tr th:only-of-type {\n",
       "        vertical-align: middle;\n",
       "    }\n",
       "\n",
       "    .dataframe tbody tr th {\n",
       "        vertical-align: top;\n",
       "    }\n",
       "\n",
       "    .dataframe thead th {\n",
       "        text-align: right;\n",
       "    }\n",
       "</style>\n",
       "<table border=\"1\" class=\"dataframe\">\n",
       "  <thead>\n",
       "    <tr style=\"text-align: right;\">\n",
       "      <th></th>\n",
       "      <th>&lt;TICKER&gt;_x</th>\n",
       "      <th>&lt;PER&gt;_x</th>\n",
       "      <th>&lt;DATE&gt;</th>\n",
       "      <th>&lt;TIME&gt;_x</th>\n",
       "      <th>&lt;CLOSE&gt;_x</th>\n",
       "      <th>&lt;VOL&gt;_x</th>\n",
       "      <th>&lt;TICKER&gt;_y</th>\n",
       "      <th>&lt;PER&gt;_y</th>\n",
       "      <th>&lt;TIME&gt;_y</th>\n",
       "      <th>&lt;CLOSE&gt;_y</th>\n",
       "      <th>&lt;VOL&gt;_y</th>\n",
       "    </tr>\n",
       "  </thead>\n",
       "  <tbody>\n",
       "    <tr>\n",
       "      <th>0</th>\n",
       "      <td>SBER</td>\n",
       "      <td>D</td>\n",
       "      <td>20101001</td>\n",
       "      <td>0</td>\n",
       "      <td>89.09</td>\n",
       "      <td>332429890</td>\n",
       "      <td>MVID</td>\n",
       "      <td>D</td>\n",
       "      <td>0</td>\n",
       "      <td>194.38</td>\n",
       "      <td>19406</td>\n",
       "    </tr>\n",
       "    <tr>\n",
       "      <th>1</th>\n",
       "      <td>SBER</td>\n",
       "      <td>D</td>\n",
       "      <td>20101004</td>\n",
       "      <td>0</td>\n",
       "      <td>89.88</td>\n",
       "      <td>194032721</td>\n",
       "      <td>MVID</td>\n",
       "      <td>D</td>\n",
       "      <td>0</td>\n",
       "      <td>190.00</td>\n",
       "      <td>31039</td>\n",
       "    </tr>\n",
       "    <tr>\n",
       "      <th>2</th>\n",
       "      <td>SBER</td>\n",
       "      <td>D</td>\n",
       "      <td>20101005</td>\n",
       "      <td>0</td>\n",
       "      <td>91.97</td>\n",
       "      <td>198775753</td>\n",
       "      <td>MVID</td>\n",
       "      <td>D</td>\n",
       "      <td>0</td>\n",
       "      <td>187.00</td>\n",
       "      <td>17651</td>\n",
       "    </tr>\n",
       "    <tr>\n",
       "      <th>3</th>\n",
       "      <td>SBER</td>\n",
       "      <td>D</td>\n",
       "      <td>20101006</td>\n",
       "      <td>0</td>\n",
       "      <td>91.20</td>\n",
       "      <td>210406027</td>\n",
       "      <td>MVID</td>\n",
       "      <td>D</td>\n",
       "      <td>0</td>\n",
       "      <td>190.04</td>\n",
       "      <td>36482</td>\n",
       "    </tr>\n",
       "    <tr>\n",
       "      <th>4</th>\n",
       "      <td>SBER</td>\n",
       "      <td>D</td>\n",
       "      <td>20101007</td>\n",
       "      <td>0</td>\n",
       "      <td>90.40</td>\n",
       "      <td>145137617</td>\n",
       "      <td>MVID</td>\n",
       "      <td>D</td>\n",
       "      <td>0</td>\n",
       "      <td>199.85</td>\n",
       "      <td>204248</td>\n",
       "    </tr>\n",
       "  </tbody>\n",
       "</table>\n",
       "</div>"
      ],
      "text/plain": [
       "  <TICKER>_x <PER>_x    <DATE>  <TIME>_x  <CLOSE>_x    <VOL>_x <TICKER>_y  \\\n",
       "0       SBER       D  20101001         0      89.09  332429890       MVID   \n",
       "1       SBER       D  20101004         0      89.88  194032721       MVID   \n",
       "2       SBER       D  20101005         0      91.97  198775753       MVID   \n",
       "3       SBER       D  20101006         0      91.20  210406027       MVID   \n",
       "4       SBER       D  20101007         0      90.40  145137617       MVID   \n",
       "\n",
       "  <PER>_y  <TIME>_y  <CLOSE>_y  <VOL>_y  \n",
       "0       D         0     194.38    19406  \n",
       "1       D         0     190.00    31039  \n",
       "2       D         0     187.00    17651  \n",
       "3       D         0     190.04    36482  \n",
       "4       D         0     199.85   204248  "
      ]
     },
     "execution_count": 6,
     "metadata": {},
     "output_type": "execute_result"
    }
   ],
   "source": [
    "res = pd.merge(sber, mvid, on='<DATE>')\n",
    "res.head()"
   ]
  },
  {
   "cell_type": "code",
   "execution_count": 7,
   "id": "fd284f4f",
   "metadata": {},
   "outputs": [],
   "source": [
    "x = res['<CLOSE>_x']\n",
    "y = res['<CLOSE>_y']"
   ]
  },
  {
   "cell_type": "code",
   "execution_count": 8,
   "id": "c52c9b96",
   "metadata": {},
   "outputs": [
    {
     "data": {
      "image/png": "[encoded data removed]",
      "text/plain": [
       "<Figure size 432x288 with 1 Axes>"
      ]
     },
     "metadata": {},
     "output_type": "display_data"
    }
   ],
   "source": [
    "plt.figure()\n",
    "plt.scatter(x, y)\n",
    "plt.show()"
   ]
  },
  {
   "cell_type": "code",
   "execution_count": 9,
   "id": "9bd2f5f2",
   "metadata": {},
   "outputs": [],
   "source": [
    "class hypothesis(object):\n",
    "    \"\"\"Модель парной линейной регрессии\"\"\"\n",
    "    def __init__(self):\n",
    "        self.b0 = 0\n",
    "        self.b1 = 0\n",
    "        \n",
    "    def predict(self, x):\n",
    "        return self.b0 + self.b1 * x\n",
    "    \n",
    "    def error(self, X, Y):    \n",
    "        return sum((self.predict(X) - Y)**2) / (2 * len(X))\n",
    "    \n",
    "    def BGD(\n",
    "        self,\n",
    "        X,\n",
    "        Y,\n",
    "        alpha=0.000005,\n",
    "        accuracy=0.01,\n",
    "        max_steps=50000,\n",
    "        slowdown_step=10,\n",
    "        slowdown=0.95,\n",
    "        part=1/4\n",
    "        \n",
    "    ):\n",
    "#         part_x = X\n",
    "#         part_y = Y\n",
    "        part_x = X.sample(frac=part).sort_index()\n",
    "        part_y = Y[part_x.index]\n",
    "        print(part_x)\n",
    "        steps, errors, whole_err = [], [], []\n",
    "        step = 0        \n",
    "        old_err = self.error(part_x, part_y)\n",
    "        new_err = self.error(part_x, part_y) - 1\n",
    "        dJ = np.inf\n",
    "        while (dJ > accuracy) and (step<max_steps):\n",
    "            alpha= alpha*slowdown if not step%slowdown_step else alpha\n",
    "            dJ0 = sum(self.predict(part_x) - part_y) /len(part_x)\n",
    "            dJ1 = sum((self.predict(part_x) - part_y) * part_x) /len(part_x)\n",
    "            self.b0 -= alpha * dJ0\n",
    "            self.b1 -= alpha * dJ1            \n",
    "            old_err = new_err\n",
    "            new_err = self.error(part_x, part_y)\n",
    "            if (new_err!=np.inf) and (not np.isnan(new_err)):\n",
    "                dJ = abs(old_err - new_err)\n",
    "            else:\n",
    "                dJ = accuracy +1\n",
    "            step += 1            \n",
    "            steps.append(step)\n",
    "            errors.append(new_err)\n",
    "            whole_err.append(self.error(X, Y))\n",
    "#             print('ALPHA', alpha)\n",
    "        print('STEEEEPS', step, dJ, old_err, new_err)\n",
    "        print(type(new_err))\n",
    "        return steps, errors, whole_err"
   ]
  },
  {
   "cell_type": "code",
   "execution_count": 10,
   "id": "175a6ed1",
   "metadata": {},
   "outputs": [
    {
     "name": "stdout",
     "output_type": "stream",
     "text": [
      "0\n",
      "0\n",
      "initial error: 36271.58344889084\n"
     ]
    }
   ],
   "source": [
    "hypot = hypothesis()\n",
    "print(hypot.predict(0))\n",
    "print(hypot.predict(100))\n",
    "J = hypot.error(x, y)\n",
    "print(\"initial error:\", J)\n"
   ]
  },
  {
   "cell_type": "code",
   "execution_count": 11,
   "id": "8141023b",
   "metadata": {},
   "outputs": [
    {
     "data": {
      "image/png": "[encoded data removed]",
      "text/plain": [
       "<Figure size 432x288 with 1 Axes>"
      ]
     },
     "metadata": {},
     "output_type": "display_data"
    }
   ],
   "source": [
    "X0 = np.linspace(60, 180, 100)\n",
    "Y0 = hypot.predict(X0)\n",
    "plt.figure()\n",
    "plt.scatter(x, y)\n",
    "plt.plot(X0, Y0, 'r')\n",
    "plt.show()"
   ]
  },
  {
   "cell_type": "code",
   "execution_count": 12,
   "id": "ebe3641c",
   "metadata": {},
   "outputs": [
    {
     "name": "stdout",
     "output_type": "stream",
     "text": [
      "11       94.96\n",
      "12       95.37\n",
      "19       99.35\n",
      "22      102.35\n",
      "25      103.59\n",
      "26      100.44\n",
      "31       95.26\n",
      "34       98.70\n",
      "37      101.31\n",
      "42      103.34\n",
      "47      104.67\n",
      "49      104.92\n",
      "51      107.25\n",
      "55      105.60\n",
      "59      106.23\n",
      "60      105.12\n",
      "65      107.08\n",
      "70      107.66\n",
      "72      105.61\n",
      "74      105.98\n",
      "75      108.60\n",
      "78      105.90\n",
      "79      106.40\n",
      "96      100.34\n",
      "97      102.10\n",
      "104      99.77\n",
      "107      95.00\n",
      "108      94.47\n",
      "110     100.16\n",
      "118     106.93\n",
      "         ...  \n",
      "1638    150.28\n",
      "1643    153.60\n",
      "1645    159.59\n",
      "1646    162.50\n",
      "1654    165.80\n",
      "1660    169.24\n",
      "1667    160.70\n",
      "1670    155.93\n",
      "1671    153.00\n",
      "1677    150.13\n",
      "1679    143.00\n",
      "1680    139.00\n",
      "1684    143.49\n",
      "1685    144.25\n",
      "1688    147.10\n",
      "1699    160.85\n",
      "1702    161.98\n",
      "1705    163.93\n",
      "1708    160.22\n",
      "1711    165.40\n",
      "1722    172.51\n",
      "1723    172.33\n",
      "1730    179.80\n",
      "1731    180.51\n",
      "1736    183.66\n",
      "1737    184.10\n",
      "1739    183.12\n",
      "1745    188.64\n",
      "1753    192.54\n",
      "1755    191.96\n",
      "Name: <CLOSE>_x, Length: 440, dtype: float64\n",
      "STEEEEPS 151 0.009343351738266392 289.4207114566778 289.4113681049395\n",
      "<class 'float'>\n",
      "error after gradient descent: 299.2593104556512\n"
     ]
    },
    {
     "data": {
      "image/png": "[encoded data removed]",
      "text/plain": [
       "<Figure size 432x288 with 1 Axes>"
      ]
     },
     "metadata": {},
     "output_type": "display_data"
    }
   ],
   "source": [
    "hypot.BGD(x, y)\n",
    "J = hypot.error(x, y)\n",
    "print(\"error after gradient descent:\", J)\n",
    "\n",
    "X0 = np.linspace(60, 180, 100)\n",
    "Y0 = hypot.predict(X0)\n",
    "plt.figure()\n",
    "plt.scatter(x, y)\n",
    "plt.plot(X0, Y0, 'r')\n",
    "plt.show()"
   ]
  },
  {
   "cell_type": "code",
   "execution_count": 51,
   "id": "ed4ce752",
   "metadata": {},
   "outputs": [
    {
     "name": "stdout",
     "output_type": "stream",
     "text": [
      "STEEEEPS 500 inf 299.58518464133397 299.58510444421177\n",
      "<class 'float'>\n",
      "error after gradient descent: 298.83098209523604\n"
     ]
    }
   ],
   "source": [
    "hypot = hypothesis()\n",
    "steps, errors, all_err = hypot.BGD(\n",
    "    x, y,\n",
    "    accuracy=0.000001,\n",
    "    alpha=0.000005,\n",
    "    slowdown=0.95,\n",
    "    slowdown_step=100\n",
    ")\n",
    "J = hypot.error(x, y)\n",
    "print(\"error after gradient descent:\", J)"
   ]
  },
  {
   "cell_type": "code",
   "execution_count": 52,
   "id": "86b2441c",
   "metadata": {},
   "outputs": [
    {
     "data": {
      "image/png": "[encoded data removed]",
      "text/plain": [
       "<Figure size 432x288 with 1 Axes>"
      ]
     },
     "metadata": {},
     "output_type": "display_data"
    }
   ],
   "source": [
    "X0 = np.linspace(60, 180, 100)\n",
    "Y0 = hypot.predict(X0)\n",
    "plt.figure()\n",
    "plt.scatter(x, y)\n",
    "plt.plot(X0, Y0, 'r')\n",
    "plt.show()"
   ]
  },
  {
   "cell_type": "code",
   "execution_count": 678,
   "id": "488e07c0",
   "metadata": {},
   "outputs": [
    {
     "data": {
      "image/png": "[encoded data removed]",
      "text/plain": [
       "<Figure size 432x288 with 1 Axes>"
      ]
     },
     "metadata": {
      "needs_background": "light"
     },
     "output_type": "display_data"
    }
   ],
   "source": [
    "plt.figure()\n",
    "plt.plot(steps, errors, 'g')\n",
    "plt.plot(steps, all_err, 'r')\n",
    "plt.show()"
   ]
  },
  {
   "cell_type": "markdown",
   "id": "64b73c85",
   "metadata": {},
   "source": [
    "# Другая пара инструментов"
   ]
  },
  {
   "cell_type": "code",
   "execution_count": 2,
   "id": "9c0e23f8",
   "metadata": {
    "scrolled": true
   },
   "outputs": [
    {
     "data": {
      "image/png": "[encoded data removed]",
      "text/plain": [
       "<Figure size 432x288 with 1 Axes>"
      ]
     },
     "metadata": {
      "needs_background": "light"
     },
     "output_type": "display_data"
    }
   ],
   "source": [
    "import numpy as np\n",
    "import pandas as pd\n",
    "import matplotlib.pyplot as plt\n",
    "from sklearn import linear_model\n",
    "from sklearn.metrics import mean_squared_error, r2_score\n",
    "\n",
    "yndx = pd.read_csv('YNDX_101001_171001.txt')\n",
    "usdrub = pd.read_csv('USDRUB_101001_171001.txt')\n",
    "res2 = pd.merge(yndx, usdrub, on='<DATE>')\n",
    "x2 = res2['<CLOSE>_x']\n",
    "y2 = res2['<CLOSE>_y']\n",
    "plt.figure()\n",
    "plt.scatter(x2, y2)\n",
    "plt.show()"
   ]
  },
  {
   "cell_type": "code",
   "execution_count": 3,
   "id": "3f4fb125",
   "metadata": {},
   "outputs": [],
   "source": [
    "class hypothesis(object):\n",
    "    \"\"\"Модель парной линейной регрессии\"\"\"\n",
    "    def __init__(self):\n",
    "        self.b0 = 0\n",
    "        self.b1 = 0\n",
    "        \n",
    "    def predict(self, x):\n",
    "        return self.b0 + self.b1 * x\n",
    "    \n",
    "    def normalize(self, X):\n",
    "        x_max = X.max()\n",
    "        x_min = X.min()\n",
    "        X = (X-x_min)/(x_max-x_min)\n",
    "        return X, x_min, x_max-x_min\n",
    "    \n",
    "    def error(self, X, Y):    \n",
    "        return sum((self.predict(X) - Y)**2) / (2 * len(X))\n",
    "    \n",
    "    def BGD(\n",
    "        self,\n",
    "        X,\n",
    "        Y,\n",
    "        alpha=0.000005,\n",
    "        accuracy=0.01,\n",
    "        max_steps=500,\n",
    "        slowdown_step=10,\n",
    "        slowdown=0.95,\n",
    "        part=1/4,\n",
    "        start_id=0,\n",
    "        \n",
    "    ):\n",
    "        print(f'INIT BGD {start_id}')\n",
    "#         part_x = X\n",
    "#         part_y = Y\n",
    "        def_part_x = X.sample(frac=part).sort_index()\n",
    "        def_part_y = Y[part_x.index]\n",
    "        \n",
    "        part_x, x_min, x_diff = self.normalize(def_part_x)\n",
    "        part_y, y_min, y_diff = self.normalize(def_part_y)\n",
    "        \n",
    "#         print(part_x)\n",
    "        steps, errors, whole_err = [], [], []\n",
    "        step = 0        \n",
    "#         old_err = self.error(part_x, part_y)\n",
    "        new_err = self.error(part_x, part_y)\n",
    "        dJ = np.inf\n",
    "        while (dJ > accuracy) and (step<max_steps):\n",
    "            alpha= alpha*slowdown if not step%slowdown_step else alpha\n",
    "            \n",
    "            dJ0 = sum(self.predict(part_x) - part_y) /len(part_x)\n",
    "            dJ1 = sum((self.predict(part_x) - part_y) * part_x) /len(part_x)\n",
    "#             if dJ0==np.inf or dJ1==np.inf:\n",
    "#                 break\n",
    "                       \n",
    "            \n",
    "            self.b0 -= alpha * dJ0\n",
    "            self.b1 -= alpha * dJ1\n",
    "            old_err = new_err\n",
    "            new_err = self.error(part_x, part_y)\n",
    "            if new_err > old_err:\n",
    "                self.b0 = 0\n",
    "                self.b1 = 0\n",
    "                print(new_err, old_err, alpha, step)\n",
    "                return self.BGD(\n",
    "                    X,\n",
    "                    Y,\n",
    "                    alpha=alpha/10,\n",
    "                    accuracy=accuracy,\n",
    "                    max_steps=max_steps,\n",
    "                    slowdown_step=slowdown_step,\n",
    "                    slowdown=slowdown,\n",
    "                    part=part,\n",
    "                    start_id=start_id+1,\n",
    "                )\n",
    "            \n",
    "            \n",
    "#             if (new_err!=np.inf) and (not np.isnan(new_err)):\n",
    "#             if np.isnan(new_err):\n",
    "#                 print(alpha, dJ0, dJ1)\n",
    "#             if (new_err!=np.inf):\n",
    "            dJ = abs(old_err - new_err)\n",
    "#             else:\n",
    "#                 dJ = accuracy +1\n",
    "            step += 1            \n",
    "            steps.append(step)\n",
    "            errors.append(new_err)\n",
    "            whole_err.append(self.error(X, Y))\n",
    "#             print('ALPHA', alpha)\n",
    "#         self.b0 = self.b0*x_diff+x_min\n",
    "#         self.b1 = self.b1*y_diff+y_min\n",
    "        print('STEEEEPS', step, dJ, old_err, new_err)\n",
    "#         print(type(new_err))\n",
    "        return steps, errors, whole_err"
   ]
  },
  {
   "cell_type": "code",
   "execution_count": 6,
   "id": "0cb2e3f5",
   "metadata": {},
   "outputs": [
    {
     "name": "stdout",
     "output_type": "stream",
     "text": [
      "INIT BGD 0\n",
      "33207213727950.02 1715.33524121875 0.1 0\n",
      "INIT BGD 1\n",
      "372592281163.4191 1862.163805344375 0.01 0\n",
      "INIT BGD 2\n",
      "2312729545.0434666 2118.335317856875 0.001 0\n",
      "INIT BGD 3\n",
      "47197424.00876403 1826.680837984375 0.0001 0\n",
      "INIT BGD 4\n",
      "337496.0990984672 1560.3417096825 1e-05 0\n",
      "INIT BGD 5\n",
      "STEEEEPS 15 0.007419451149559109 118.80539955337952 118.79798010222996\n",
      "error after gradient descent: 136.34212772161453\n"
     ]
    },
    {
     "data": {
      "image/png": "[encoded data removed]",
      "text/plain": [
       "<Figure size 432x288 with 1 Axes>"
      ]
     },
     "metadata": {
      "needs_background": "light"
     },
     "output_type": "display_data"
    }
   ],
   "source": [
    "hyp2 = hypothesis()\n",
    "steps, errors, whole_err = hyp2.BGD(\n",
    "    x2, y2,\n",
    "    accuracy=0.01,\n",
    "    alpha=0.1,\n",
    "    max_steps=5000,\n",
    "    slowdown=1,\n",
    "    slowdown_step=100,\n",
    "    part=1/100\n",
    ")\n",
    "J = hyp2.error(x2, y2)\n",
    "print(\"error after gradient descent:\", J)\n",
    "X02 = np.linspace(800, 1800, 100)\n",
    "Y02 = hyp2.predict(X02)\n",
    "plt.figure()\n",
    "plt.scatter(x2, y2)\n",
    "plt.plot(X02, Y02, 'r')\n",
    "plt.show()"
   ]
  },
  {
   "cell_type": "code",
   "execution_count": 7,
   "id": "7b9e398b",
   "metadata": {
    "scrolled": true
   },
   "outputs": [
    {
     "data": {
      "image/png": "[encoded data removed]",
      "text/plain": [
       "<Figure size 432x288 with 1 Axes>"
      ]
     },
     "metadata": {
      "needs_background": "light"
     },
     "output_type": "display_data"
    }
   ],
   "source": [
    "plt.figure()\n",
    "plt.plot(steps, errors, 'g')\n",
    "plt.plot(steps, whole_err, 'r')\n",
    "plt.show()"
   ]
  },
  {
   "cell_type": "markdown",
   "id": "33931883",
   "metadata": {},
   "source": [
    "# То же самое только при помощи sklearn"
   ]
  },
  {
   "cell_type": "code",
   "execution_count": 773,
   "id": "4ca8c596",
   "metadata": {},
   "outputs": [],
   "source": [
    "x3 = np.array(res2['<CLOSE>_x'])\n",
    "y3 = np.array(res2['<CLOSE>_y'])"
   ]
  },
  {
   "cell_type": "code",
   "execution_count": 774,
   "id": "6b6dfb7f",
   "metadata": {},
   "outputs": [
    {
     "name": "stdout",
     "output_type": "stream",
     "text": [
      "0.00019456424733388378\n"
     ]
    }
   ],
   "source": [
    "x3= x3.reshape((-1,1))\n",
    "# x = x.reshape((-1, 1))\n",
    "reg=linear_model.LinearRegression()\n",
    "reg.fit(x3,y3)\n",
    "print(reg.score(x3,y3))"
   ]
  },
  {
   "cell_type": "code",
   "execution_count": 775,
   "id": "070f23b8",
   "metadata": {},
   "outputs": [
    {
     "name": "stdout",
     "output_type": "stream",
     "text": [
      "Коэффициенты: \n",
      " [-0.00053488]\n",
      "Среднеквадратичная ошибка: 104.34\n",
      "Коэффициент детерминации: 0.00\n"
     ]
    },
    {
     "data": {
      "image/png": "[encoded data removed]",
      "text/plain": [
       "<Figure size 864x648 with 1 Axes>"
      ]
     },
     "metadata": {
      "needs_background": "light"
     },
     "output_type": "display_data"
    }
   ],
   "source": [
    "y_pred = reg.predict(x3)\n",
    "y_pred = y_pred.reshape((-1, 1))\n",
    "                        \n",
    "print(\"Коэффициенты: \\n\", reg.coef_)\n",
    "print(\"Среднеквадратичная ошибка: %.2f\" % mean_squared_error(y3, y_pred))\n",
    "print(\"Коэффициент детерминации: %.2f\" % r2_score(y3, y_pred))\n",
    "\n",
    "plt.figure(figsize=(12, 9))\n",
    "plt.scatter(x3, y3, color=\"black\")\n",
    "plt.plot(x3, y_pred, color=\"blue\", linewidth=3)\n",
    "plt.show()"
   ]
  },
  {
   "cell_type": "code",
   "execution_count": 729,
   "id": "cabe4bae",
   "metadata": {},
   "outputs": [
    {
     "data": {
      "text/plain": [
       "254     950.0\n",
       "576    1341.0\n",
       "93     1015.0\n",
       "142     996.0\n",
       "156    1165.0\n",
       "        ...  \n",
       "245     941.0\n",
       "338     736.0\n",
       "388    1075.1\n",
       "780    1898.5\n",
       "413    1017.4\n",
       "Name: <CLOSE>_x, Length: 419, dtype: float64"
      ]
     },
     "execution_count": 729,
     "metadata": {},
     "output_type": "execute_result"
    }
   ],
   "source": [
    "x2.sample(frac=1/2)"
   ]
  },
  {
   "cell_type": "code",
   "execution_count": null,
   "id": "91098a4e",
   "metadata": {},
   "outputs": [],
   "source": []
  }
 ],
 "metadata": {
  "kernelspec": {
   "display_name": "Python 3 (ipykernel)",
   "language": "python",
   "name": "python3"
  },
  "language_info": {
   "codemirror_mode": {
    "name": "ipython",
    "version": 3
   },
   "file_extension": ".py",
   "mimetype": "text/x-python",
   "name": "python",
   "nbconvert_exporter": "python",
   "pygments_lexer": "ipython3",
   "version": "3.9.12"
  }
 },
 "nbformat": 4,
 "nbformat_minor": 5
}
