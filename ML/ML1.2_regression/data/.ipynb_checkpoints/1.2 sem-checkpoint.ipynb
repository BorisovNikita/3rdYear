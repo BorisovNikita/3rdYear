{
 "cells": [
  {
   "cell_type": "markdown",
   "id": "230d3e73",
   "metadata": {},
   "source": [
    "Ваша задача - построить предиктивную модель предсказания целевой переменной в зависимости от значения нескольких факторов (признаков)."
   ]
  },
  {
   "cell_type": "code",
   "execution_count": 109,
   "id": "4e7dc9f7",
   "metadata": {},
   "outputs": [],
   "source": [
    "import numpy as np\n",
    "import pandas as pd\n",
    "import matplotlib.pyplot as plt\n",
    "from sklearn import linear_model\n",
    "from sklearn.model_selection import train_test_split\n",
    "from sklearn.metrics import mean_squared_error, r2_score"
   ]
  },
  {
   "cell_type": "markdown",
   "id": "3dcb47d0",
   "metadata": {},
   "source": [
    "Загрузите датасет из приложения. Вам понадобится два файла - отдельно с признаками (помечен x) и значениями целевой переменной (помечен y). Файлы не содержат заголовков столбцов и строк."
   ]
  },
  {
   "cell_type": "code",
   "execution_count": 15,
   "id": "80fa0543",
   "metadata": {},
   "outputs": [],
   "source": [
    "X = pd.read_csv('3_x.csv', header=None)\n",
    "Y = pd.read_csv('3_y.csv', header=None)"
   ]
  },
  {
   "cell_type": "markdown",
   "id": "828b51e7",
   "metadata": {},
   "source": [
    "Сделайте количественное описание датасета: количество точек данных, признаков, статистику по каждому признаку."
   ]
  },
  {
   "cell_type": "markdown",
   "id": "fa081039",
   "metadata": {},
   "source": [
    "кол-во точек данных"
   ]
  },
  {
   "cell_type": "code",
   "execution_count": 18,
   "id": "c2378da6",
   "metadata": {
    "scrolled": true
   },
   "outputs": [
    {
     "data": {
      "text/plain": [
       "(118, 118)"
      ]
     },
     "execution_count": 18,
     "metadata": {},
     "output_type": "execute_result"
    }
   ],
   "source": [
    "X.shape[0], Y.shape[0]"
   ]
  },
  {
   "cell_type": "markdown",
   "id": "83cb7475",
   "metadata": {},
   "source": [
    "кол-во признаков"
   ]
  },
  {
   "cell_type": "code",
   "execution_count": 19,
   "id": "ce59fdfb",
   "metadata": {},
   "outputs": [
    {
     "data": {
      "text/plain": [
       "(4, 1)"
      ]
     },
     "execution_count": 19,
     "metadata": {},
     "output_type": "execute_result"
    }
   ],
   "source": [
    "X.shape[1], Y.shape[1]"
   ]
  },
  {
   "cell_type": "markdown",
   "id": "c5295237",
   "metadata": {},
   "source": [
    "Статистика по каждому признаку"
   ]
  },
  {
   "cell_type": "code",
   "execution_count": 16,
   "id": "2d724717",
   "metadata": {
    "scrolled": false
   },
   "outputs": [
    {
     "data": {
      "text/html": [
       "<div>\n",
       "<style scoped>\n",
       "    .dataframe tbody tr th:only-of-type {\n",
       "        vertical-align: middle;\n",
       "    }\n",
       "\n",
       "    .dataframe tbody tr th {\n",
       "        vertical-align: top;\n",
       "    }\n",
       "\n",
       "    .dataframe thead th {\n",
       "        text-align: right;\n",
       "    }\n",
       "</style>\n",
       "<table border=\"1\" class=\"dataframe\">\n",
       "  <thead>\n",
       "    <tr style=\"text-align: right;\">\n",
       "      <th></th>\n",
       "      <th>0</th>\n",
       "      <th>1</th>\n",
       "      <th>2</th>\n",
       "      <th>3</th>\n",
       "    </tr>\n",
       "  </thead>\n",
       "  <tbody>\n",
       "    <tr>\n",
       "      <th>count</th>\n",
       "      <td>118.000000</td>\n",
       "      <td>118.000000</td>\n",
       "      <td>118.000000</td>\n",
       "      <td>118.000000</td>\n",
       "    </tr>\n",
       "    <tr>\n",
       "      <th>mean</th>\n",
       "      <td>-0.106842</td>\n",
       "      <td>-0.029460</td>\n",
       "      <td>-0.116980</td>\n",
       "      <td>0.148650</td>\n",
       "    </tr>\n",
       "    <tr>\n",
       "      <th>std</th>\n",
       "      <td>1.013427</td>\n",
       "      <td>0.955885</td>\n",
       "      <td>0.961906</td>\n",
       "      <td>1.028030</td>\n",
       "    </tr>\n",
       "    <tr>\n",
       "      <th>min</th>\n",
       "      <td>-3.239031</td>\n",
       "      <td>-2.021677</td>\n",
       "      <td>-3.321061</td>\n",
       "      <td>-2.149979</td>\n",
       "    </tr>\n",
       "    <tr>\n",
       "      <th>25%</th>\n",
       "      <td>-0.831455</td>\n",
       "      <td>-0.707448</td>\n",
       "      <td>-0.762307</td>\n",
       "      <td>-0.700273</td>\n",
       "    </tr>\n",
       "    <tr>\n",
       "      <th>50%</th>\n",
       "      <td>-0.147284</td>\n",
       "      <td>0.002146</td>\n",
       "      <td>-0.133951</td>\n",
       "      <td>0.060890</td>\n",
       "    </tr>\n",
       "    <tr>\n",
       "      <th>75%</th>\n",
       "      <td>0.611048</td>\n",
       "      <td>0.693602</td>\n",
       "      <td>0.401799</td>\n",
       "      <td>0.859922</td>\n",
       "    </tr>\n",
       "    <tr>\n",
       "      <th>max</th>\n",
       "      <td>2.406114</td>\n",
       "      <td>2.955454</td>\n",
       "      <td>2.928009</td>\n",
       "      <td>2.650516</td>\n",
       "    </tr>\n",
       "  </tbody>\n",
       "</table>\n",
       "</div>"
      ],
      "text/plain": [
       "                0           1           2           3\n",
       "count  118.000000  118.000000  118.000000  118.000000\n",
       "mean    -0.106842   -0.029460   -0.116980    0.148650\n",
       "std      1.013427    0.955885    0.961906    1.028030\n",
       "min     -3.239031   -2.021677   -3.321061   -2.149979\n",
       "25%     -0.831455   -0.707448   -0.762307   -0.700273\n",
       "50%     -0.147284    0.002146   -0.133951    0.060890\n",
       "75%      0.611048    0.693602    0.401799    0.859922\n",
       "max      2.406114    2.955454    2.928009    2.650516"
      ]
     },
     "execution_count": 16,
     "metadata": {},
     "output_type": "execute_result"
    }
   ],
   "source": [
    "X.describe()"
   ]
  },
  {
   "cell_type": "markdown",
   "id": "cbb85e9b",
   "metadata": {},
   "source": [
    "Разделите все наблюдения на обучающую и тестовую выборки в соотношении 80-20."
   ]
  },
  {
   "cell_type": "code",
   "execution_count": 95,
   "id": "0fc3e26c",
   "metadata": {
    "scrolled": true
   },
   "outputs": [
    {
     "data": {
      "text/plain": [
       "[            0         1         2         3\n",
       " 0   -0.443802 -0.825271 -0.822242 -0.432585\n",
       " 1    1.484093  1.028294  1.999780  0.280281\n",
       " 2    0.289818 -0.206881 -0.137265  0.834741\n",
       " 3   -0.800553 -1.388810 -0.772306 -0.713601\n",
       " 4    1.450389 -0.241386  0.211624  0.861339\n",
       " ..        ...       ...       ...       ...\n",
       " 111 -0.585002  0.870422 -2.681865  0.730354\n",
       " 112 -0.156071 -0.644905 -0.044534  1.612715\n",
       " 114 -0.177044  1.007955 -0.111730 -0.199791\n",
       " 115 -0.238853  0.016131  0.797602  1.747533\n",
       " 117  0.173527 -0.568219 -0.787297 -0.843719\n",
       " \n",
       " [94 rows x 4 columns],\n",
       "             0         1         2         3\n",
       " 9   -1.469506  0.191950 -0.794511  2.523583\n",
       " 12   1.375083 -0.991712 -0.381997 -0.590746\n",
       " 14   1.433870  0.402578 -0.422949 -0.803168\n",
       " 15  -1.291452  0.900548  0.739753  0.508346\n",
       " 23  -0.733028 -0.870428 -1.326949  0.094432\n",
       " 31   0.036087  1.143506  1.056195 -1.343910\n",
       " 39  -0.541699  0.694205 -1.273801  0.710694\n",
       " 44   0.370092 -0.146109 -1.065519 -0.406991\n",
       " 50  -0.993614 -0.069068 -0.045113  0.401490\n",
       " 55  -1.214324 -1.433861  1.447931  0.583713\n",
       " 56   1.326059  0.636843 -0.936927  1.190295\n",
       " 59  -0.845009  0.375290  0.607796  1.707724\n",
       " 60   1.792713 -0.186886 -0.270185 -0.112585\n",
       " 63  -1.051375 -1.892316 -0.479811 -2.149979\n",
       " 69   1.506513 -0.157017 -0.400529 -0.636931\n",
       " 80   0.429401 -0.107062 -2.284485 -1.695343\n",
       " 83  -0.304424 -1.199044  1.321510  0.505459\n",
       " 84   0.639025 -1.671398 -0.354593 -0.660289\n",
       " 88  -0.216177 -0.441993  0.319069  0.210367\n",
       " 96  -0.613697  1.112440 -3.321061  0.673668\n",
       " 104  0.974253 -1.831564  0.467002  0.058308\n",
       " 105 -1.211202  0.009328  1.300667 -0.082166\n",
       " 113  0.374857  0.402709 -0.809317 -0.007616\n",
       " 116  0.683801  0.943827  0.051339 -1.260744,\n",
       "               0\n",
       " 0   -141.829084\n",
       " 1    338.286020\n",
       " 2     -0.060150\n",
       " 3   -198.215704\n",
       " 4     91.666515\n",
       " ..          ...\n",
       " 111 -213.380905\n",
       " 112  -44.240659\n",
       " 114   47.723521\n",
       " 115   56.191181\n",
       " 117  -99.000613\n",
       " \n",
       " [94 rows x 1 columns],\n",
       "               0\n",
       " 9   -162.554216\n",
       " 12   -13.201402\n",
       " 14    78.399454\n",
       " 15    40.921732\n",
       " 23  -221.135184\n",
       " 31   172.246894\n",
       " 39  -114.156753\n",
       " 44   -84.989148\n",
       " 50   -79.730529\n",
       " 55   -50.902565\n",
       " 56    47.218368\n",
       " 59    29.594357\n",
       " 60    87.556211\n",
       " 63  -228.078268\n",
       " 69    49.615039\n",
       " 80  -171.554960\n",
       " 83    29.861177\n",
       " 84   -75.078828\n",
       " 88    -5.151548\n",
       " 96  -251.002265\n",
       " 104  -10.029399\n",
       " 105   28.914068\n",
       " 113  -44.493382\n",
       " 116  105.142866]"
      ]
     },
     "execution_count": 95,
     "metadata": {},
     "output_type": "execute_result"
    }
   ],
   "source": [
    "x_train, x_test, y_train, y_test = train_test_split(\n",
    "    X,\n",
    "    Y,\n",
    "    test_size=0.2,\n",
    "    train_size=0.8,\n",
    ")\n",
    "for el in results:\n",
    "    el.sort_index(inplace=True)\n",
    "x_train, x_test, y_train, y_test = results\n",
    "results\n",
    "# x_train, x_test, y_train, y_test"
   ]
  },
  {
   "cell_type": "markdown",
   "id": "b8b33929",
   "metadata": {},
   "source": [
    "Для целевой и каждого из признаков постройте парную регрессионную модель. Визуализируйте линию регрессии и исходные данные на графике. При помощи коэффициентов оцените силу связи."
   ]
  },
  {
   "cell_type": "code",
   "execution_count": 132,
   "id": "ab475444",
   "metadata": {},
   "outputs": [],
   "source": [
    "def draw_dual_model(x_train, y_train, x_test, y_test):\n",
    "    x_train=x_train.to_frame()\n",
    "    x_test=x_test.to_frame()\n",
    "    reg = linear_model.LinearRegression()\n",
    "    reg.fit(x_train, y_train)\n",
    "    y_pred = reg.predict(x_test)\n",
    "    print(\"Коэффициенты регрессии:\",reg.coef_)\n",
    "    print(\"Среднеквадратичная ошибка: %.2f\" % mean_squared_error(y_test, y_pred))\n",
    "    print(\"Коэффициент детерминации: %.10f\" % r2_score(y_test, y_pred))\n",
    "\n",
    "    plt.figure(figsize=(12, 9))\n",
    "    plt.scatter(x_train, y_train, color=\"black\")\n",
    "    plt.plot(x_test.iloc[:,0], y_pred, color=\"blue\", linewidth=3)\n",
    "    plt.show()"
   ]
  },
  {
   "cell_type": "code",
   "execution_count": 133,
   "id": "2fa4b360",
   "metadata": {
    "scrolled": false
   },
   "outputs": [
    {
     "name": "stdout",
     "output_type": "stream",
     "text": [
      "Коэффициенты регрессии: [[71.8106825]]\n",
      "Среднеквадратичная ошибка: 11475.05\n",
      "Коэффициент детерминации: 0.0530279509\n"
     ]
    },
    {
     "data": {
      "image/png": "[encoded data removed]",
      "text/plain": [
       "<Figure size 864x648 with 1 Axes>"
      ]
     },
     "metadata": {
      "needs_background": "light"
     },
     "output_type": "display_data"
    }
   ],
   "source": [
    "draw_dual_model(x_train[0], y_train, x_test[0], y_test)"
   ]
  },
  {
   "cell_type": "code",
   "execution_count": 134,
   "id": "a39cf7d4",
   "metadata": {},
   "outputs": [
    {
     "name": "stdout",
     "output_type": "stream",
     "text": [
      "Коэффициенты регрессии: [[50.89578456]]\n",
      "Среднеквадратичная ошибка: 11580.33\n",
      "Коэффициент детерминации: 0.0443396342\n"
     ]
    },
    {
     "data": {
      "image/png": "[encoded data removed]",
      "text/plain": [
       "<Figure size 864x648 with 1 Axes>"
      ]
     },
     "metadata": {
      "needs_background": "light"
     },
     "output_type": "display_data"
    }
   ],
   "source": [
    "draw_dual_model(x_train[1], y_train, x_test[1], y_test)"
   ]
  },
  {
   "cell_type": "code",
   "execution_count": 135,
   "id": "aefa10bc",
   "metadata": {},
   "outputs": [
    {
     "name": "stdout",
     "output_type": "stream",
     "text": [
      "Коэффициенты регрессии: [[88.09446947]]\n",
      "Среднеквадратичная ошибка: 7554.52\n",
      "Коэффициент детерминации: 0.3765671625\n"
     ]
    },
    {
     "data": {
      "image/png": "[encoded data removed]",
      "text/plain": [
       "<Figure size 864x648 with 1 Axes>"
      ]
     },
     "metadata": {
      "needs_background": "light"
     },
     "output_type": "display_data"
    }
   ],
   "source": [
    "draw_dual_model(x_train[2], y_train, x_test[2], y_test)"
   ]
  },
  {
   "cell_type": "code",
   "execution_count": 136,
   "id": "527d5e5e",
   "metadata": {
    "scrolled": false
   },
   "outputs": [
    {
     "name": "stdout",
     "output_type": "stream",
     "text": [
      "Коэффициенты регрессии: [[-5.87597164]]\n",
      "Среднеквадратичная ошибка: 12635.07\n",
      "Коэффициент детерминации: -0.0427020363\n"
     ]
    },
    {
     "data": {
      "image/png": "[encoded data removed]",
      "text/plain": [
       "<Figure size 864x648 with 1 Axes>"
      ]
     },
     "metadata": {
      "needs_background": "light"
     },
     "output_type": "display_data"
    }
   ],
   "source": [
    "draw_dual_model(x_train[3], y_train, x_test[3], y_test)"
   ]
  },
  {
   "cell_type": "markdown",
   "id": "77bebcc7",
   "metadata": {},
   "source": [
    "Постройте модель множественной линейной регрессии целевой переменной от всех показателей. Оцените качество регрессии, сделайте вывод."
   ]
  },
  {
   "cell_type": "code",
   "execution_count": 151,
   "id": "1565b99e",
   "metadata": {},
   "outputs": [
    {
     "name": "stdout",
     "output_type": "stream",
     "text": [
      "Коэффициенты:\n",
      "x1) 64.85386886720886\n",
      "x2) 60.10480774875859\n",
      "x3) 86.6635411432436\n",
      "x4) -0.32042832150245815\n",
      "Среднеквадратичная ошибка: 85.51\n",
      "Коэффициент детерминации: 0.99\n"
     ]
    }
   ],
   "source": [
    "reg = linear_model.LinearRegression()\n",
    "reg.fit(X, Y)\n",
    "y_pred = reg.predict(X)\n",
    "print(\n",
    "    \"Коэффициенты:\\n\",\n",
    "    \"\\n\".join(\n",
    "        [\"x\"+str(i+1)+\") \" + str(item) for i, item in enumerate(reg.coef_[0])]\n",
    "    ),\n",
    "    sep=''\n",
    ")\n",
    "print(\"Среднеквадратичная ошибка: %.2f\" % mean_squared_error(Y, y_pred))\n",
    "print(\"Коэффициент детерминации: %.2f\" % r2_score(Y, y_pred))"
   ]
  },
  {
   "cell_type": "markdown",
   "id": "b90d78ad",
   "metadata": {},
   "source": [
    "Коэффициент детерминации практически равен 0, следовательно модель почти идеально обучена. Среднеквадратичная ошибка приемлема."
   ]
  },
  {
   "cell_type": "code",
   "execution_count": null,
   "id": "e967c68d",
   "metadata": {},
   "outputs": [],
   "source": []
  }
 ],
 "metadata": {
  "kernelspec": {
   "display_name": "Python 3 (ipykernel)",
   "language": "python",
   "name": "python3"
  },
  "language_info": {
   "codemirror_mode": {
    "name": "ipython",
    "version": 3
   },
   "file_extension": ".py",
   "mimetype": "text/x-python",
   "name": "python",
   "nbconvert_exporter": "python",
   "pygments_lexer": "ipython3",
   "version": "3.10.9"
  }
 },
 "nbformat": 4,
 "nbformat_minor": 5
}
