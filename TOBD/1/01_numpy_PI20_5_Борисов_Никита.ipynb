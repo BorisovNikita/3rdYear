{
 "cells": [
  {
   "cell_type": "markdown",
   "metadata": {
    "id": "36Qx9eHdXZky"
   },
   "source": [
    "# Numpy"
   ]
  },
  {
   "cell_type": "markdown",
   "metadata": {
    "id": "sW3qeSZEXZk0"
   },
   "source": [
    "Материалы:\n",
    "* Макрушин С.В. \"Лекция 1: Библиотека Numpy\"\n",
    "* https://numpy.org/doc/stable/user/index.html\n",
    "* https://numpy.org/doc/stable/reference/index.html"
   ]
  },
  {
   "cell_type": "code",
   "execution_count": 2,
   "metadata": {},
   "outputs": [],
   "source": [
    "import numpy as np"
   ]
  },
  {
   "cell_type": "markdown",
   "metadata": {
    "id": "QLu2-i7SXZk1"
   },
   "source": [
    "## Задачи для совместного разбора"
   ]
  },
  {
   "cell_type": "markdown",
   "metadata": {
    "id": "8zQsIi8fXZk1"
   },
   "source": [
    "1. Сгенерировать двухмерный массив `arr` размерности (4, 7), состоящий из случайных действительных чисел, равномерно распределенных в диапазоне от 0 до 20. Нормализовать значения массива с помощью преобразования вида  $𝑎𝑥+𝑏$  так, что после нормализации максимальный элемент масcива будет равен 1.0, минимальный 0.0"
   ]
  },
  {
   "cell_type": "code",
   "execution_count": 6,
   "metadata": {
    "id": "t1ZVRPNJXZk2"
   },
   "outputs": [
    {
     "data": {
      "text/plain": [
       "array([[ 3.69200333, 14.73999081,  1.21896336, 19.50901422, 17.78943343,\n",
       "         6.83420778,  6.69429265],\n",
       "       [ 1.54805888,  7.47119433, 17.67077631,  7.04195581,  4.43799893,\n",
       "        10.58821196, 15.41349842],\n",
       "       [17.59609723, 15.16699678,  3.34378688,  5.95580776,  9.01158572,\n",
       "         5.30108264, 15.85522105],\n",
       "       [13.22820328,  5.47880482, 19.78757536,  2.22443016,  3.34850287,\n",
       "         5.12649781, 13.50679066]])"
      ]
     },
     "execution_count": 6,
     "metadata": {},
     "output_type": "execute_result"
    }
   ],
   "source": [
    "arr = np.random.uniform(0,20,(4, 7))\n",
    "arr"
   ]
  },
  {
   "cell_type": "code",
   "execution_count": 9,
   "metadata": {},
   "outputs": [
    {
     "data": {
      "text/plain": [
       "array([[0.13318389, 0.72816576, 0.        , 0.98499828, 0.89239142,\n",
       "        0.30240518, 0.29487014],\n",
       "       [0.01772322, 0.33670966, 0.88600122, 0.31359331, 0.17335898,\n",
       "        0.50457453, 0.76443705],\n",
       "       [0.88197943, 0.75116188, 0.11443093, 0.25509954, 0.41966639,\n",
       "        0.21983976, 0.78822573],\n",
       "       [0.64674947, 0.22941087, 1.        , 0.05414873, 0.11468491,\n",
       "        0.21043762, 0.6617526 ]])"
      ]
     },
     "execution_count": 9,
     "metadata": {},
     "output_type": "execute_result"
    }
   ],
   "source": [
    "arr_min = np.min(arr)\n",
    "arr_max = np.max(arr)\n",
    "(arr-arr_min)/(arr_max-arr_min)"
   ]
  },
  {
   "cell_type": "markdown",
   "metadata": {
    "id": "6HFan2EWXZk2"
   },
   "source": [
    "2. Создать матрицу 8 на 10 из случайных целых (используя модуль `numpy.random`) чисел из диапозона от 0 до 10 и найти в ней строку (ее индекс и вывести саму строку), в которой сумма значений минимальна."
   ]
  },
  {
   "cell_type": "code",
   "execution_count": 12,
   "metadata": {},
   "outputs": [
    {
     "data": {
      "text/plain": [
       "array([[6.13188842, 8.12128946, 6.02399898, 5.80994954, 1.28005992,\n",
       "        7.88428377, 5.09149632, 7.78140348, 6.8790545 , 2.14174738],\n",
       "       [6.60889606, 1.91841733, 9.61065336, 8.05481355, 9.23727552,\n",
       "        5.20864292, 0.03417892, 6.02757693, 7.61970934, 3.78575642],\n",
       "       [2.12829664, 0.03333082, 1.85331002, 2.83084266, 8.11109263,\n",
       "        6.92357055, 1.07892658, 8.12381984, 7.97412187, 0.92087137],\n",
       "       [1.71392681, 5.49627771, 7.18944954, 5.57750556, 4.87660904,\n",
       "        5.55498291, 3.62466904, 3.06820201, 4.64787859, 6.71752897],\n",
       "       [3.33505467, 7.18281114, 9.40799828, 4.3149591 , 6.10008176,\n",
       "        4.3044945 , 9.89542354, 3.07631967, 9.76516621, 0.37595171],\n",
       "       [5.07522975, 9.69987088, 1.61961453, 1.24187716, 9.68557015,\n",
       "        5.57508279, 2.97213428, 8.17804997, 6.53661994, 2.37443921],\n",
       "       [7.58216997, 3.06642535, 2.54484971, 8.00823275, 1.39967621,\n",
       "        0.6009978 , 6.83307566, 7.10149029, 6.70476393, 4.63025306],\n",
       "       [4.17103433, 3.07717638, 5.4497451 , 6.60390081, 8.77672123,\n",
       "        7.92580275, 6.12582479, 9.68210811, 7.54852613, 3.96846181]])"
      ]
     },
     "execution_count": 12,
     "metadata": {},
     "output_type": "execute_result"
    }
   ],
   "source": [
    "arr2 = np.random.uniform(0, 10, (8,10))\n",
    "arr2"
   ]
  },
  {
   "cell_type": "code",
   "execution_count": 16,
   "metadata": {},
   "outputs": [
    {
     "data": {
      "text/plain": [
       "array([2.12829664, 0.03333082, 1.85331002, 2.83084266, 8.11109263,\n",
       "       6.92357055, 1.07892658, 8.12381984, 7.97412187, 0.92087137])"
      ]
     },
     "execution_count": 16,
     "metadata": {},
     "output_type": "execute_result"
    }
   ],
   "source": [
    "arr2_argmin = np.argmin(np.sum(arr2, axis=1))\n",
    "arr2[arr2_argmin]"
   ]
  },
  {
   "cell_type": "markdown",
   "metadata": {
    "id": "Hk4SGXbUXZk3"
   },
   "source": [
    "3. Найти евклидово расстояние между двумя одномерными векторами одинаковой размерности."
   ]
  },
  {
   "cell_type": "code",
   "execution_count": 20,
   "metadata": {},
   "outputs": [
    {
     "name": "stdout",
     "output_type": "stream",
     "text": [
      "[8 2 3 0 5 0 0 4 8 2]\n",
      "[5 3 7 9 2 5 2 9 8 3]\n"
     ]
    },
    {
     "data": {
      "text/plain": [
       "13.076696830622021"
      ]
     },
     "execution_count": 20,
     "metadata": {},
     "output_type": "execute_result"
    }
   ],
   "source": [
    "arr3 = np.random.randint(0, 10, size=10)\n",
    "print(arr3)\n",
    "arr4 = np.random.randint(0, 10, size=10)\n",
    "print(arr4)\n",
    "np.linalg.norm(arr3 - arr4)"
   ]
  },
  {
   "cell_type": "markdown",
   "metadata": {
    "id": "yYxUlXEpXZk3"
   },
   "source": [
    "4. Решить матричное уравнение `A*X*B=-C` - найти матрицу `X`. Где `A = [[-1, 2, 4], [-3, 1, 2], [-3, 0, 1]]`, `B=[[3, -1], [2, 1]]`, `C=[[7, 21], [11, 8], [8, 4]]`."
   ]
  },
  {
   "cell_type": "code",
   "execution_count": 21,
   "metadata": {},
   "outputs": [
    {
     "data": {
      "text/plain": [
       "matrix([[ 1.00000000e+00,  1.11022302e-15],\n",
       "        [-2.00000000e+00,  1.00000000e+00],\n",
       "        [ 3.00000000e+00, -4.00000000e+00]])"
      ]
     },
     "execution_count": 21,
     "metadata": {},
     "output_type": "execute_result"
    }
   ],
   "source": [
    "a = np.matrix([[-1, 2, 4], [-3, 1, 2], [-3, 0, 1]])\n",
    "b = np.matrix([[3, -1], [2, 1]])\n",
    "c = np.matrix([[7, 21], [11, 8], [8, 4]])\n",
    "np.linalg.inv(a) @ -c @ np.linalg.inv(b)"
   ]
  },
  {
   "cell_type": "markdown",
   "metadata": {
    "id": "xw3ddSkiXZk4"
   },
   "source": [
    "## Лабораторная работа №1"
   ]
  },
  {
   "cell_type": "markdown",
   "metadata": {
    "id": "1sg-poU1XZk4"
   },
   "source": [
    "Замечание: при решении данных задач не подразумевается использования циклов или генераторов Python, если в задании не сказано обратного. Решение должно опираться на использования функционала библиотеки `numpy`."
   ]
  },
  {
   "cell_type": "markdown",
   "metadata": {
    "id": "4sH6zWa_XZk4"
   },
   "source": [
    "1. Файл `minutes_n_ingredients.csv` содержит информацию об идентификаторе рецепта, времени его выполнения в минутах и количестве необходимых ингредиентов. Считайте данные из этого файла в виде массива `numpy` типа `int32`, используя `np.loadtxt`. Выведите на экран первые 5 строк массива."
   ]
  },
  {
   "cell_type": "code",
   "execution_count": 25,
   "metadata": {},
   "outputs": [
    {
     "data": {
      "text/plain": [
       "array([[127244,     60,     16],\n",
       "       [ 23891,     25,      7],\n",
       "       [ 94746,     10,      6],\n",
       "       [ 67660,      5,      6],\n",
       "       [157911,     60,     14]])"
      ]
     },
     "execution_count": 25,
     "metadata": {},
     "output_type": "execute_result"
    }
   ],
   "source": [
    "my_data = np.loadtxt(r'minutes_n_ingredients.csv', delimiter = ',', dtype=np.int32, skiprows=1)\n",
    "my_data[:5]"
   ]
  },
  {
   "cell_type": "markdown",
   "metadata": {
    "id": "UvLrPmfcXZk5"
   },
   "source": [
    "2. Вычислите среднее значение, минимум, максимум и медиану по каждому из столбцов, кроме первого."
   ]
  },
  {
   "cell_type": "code",
   "execution_count": 26,
   "metadata": {},
   "outputs": [
    {
     "data": {
      "text/plain": [
       "array([2.16010017e+04, 9.05528000e+00])"
      ]
     },
     "execution_count": 26,
     "metadata": {},
     "output_type": "execute_result"
    }
   ],
   "source": [
    "my_data[:,1:].mean(axis=0)"
   ]
  },
  {
   "cell_type": "code",
   "execution_count": 27,
   "metadata": {},
   "outputs": [
    {
     "data": {
      "text/plain": [
       "array([0, 1])"
      ]
     },
     "execution_count": 27,
     "metadata": {},
     "output_type": "execute_result"
    }
   ],
   "source": [
    "my_data[:,1:].min(axis=0)"
   ]
  },
  {
   "cell_type": "code",
   "execution_count": 28,
   "metadata": {},
   "outputs": [
    {
     "data": {
      "text/plain": [
       "array([2147483647,         39])"
      ]
     },
     "execution_count": 28,
     "metadata": {},
     "output_type": "execute_result"
    }
   ],
   "source": [
    "my_data[:,1:].max(axis=0)"
   ]
  },
  {
   "cell_type": "code",
   "execution_count": 29,
   "metadata": {},
   "outputs": [
    {
     "data": {
      "text/plain": [
       "array([40.,  9.])"
      ]
     },
     "execution_count": 29,
     "metadata": {},
     "output_type": "execute_result"
    }
   ],
   "source": [
    "np.median(my_data[:,1:],axis=0)"
   ]
  },
  {
   "cell_type": "markdown",
   "metadata": {
    "id": "VJvegQ0vXZk5"
   },
   "source": [
    "3. Ограничьте сверху значения продолжительности выполнения рецепта значением квантиля $q_{0.75}$. "
   ]
  },
  {
   "cell_type": "code",
   "execution_count": 34,
   "metadata": {},
   "outputs": [
    {
     "data": {
      "text/plain": [
       "array([[127244,     60,     16],\n",
       "       [ 23891,     25,      7],\n",
       "       [ 94746,     10,      6],\n",
       "       ...,\n",
       "       [ 43407,     35,      7],\n",
       "       [498432,     65,     15],\n",
       "       [370915,      5,      4]])"
      ]
     },
     "execution_count": 34,
     "metadata": {},
     "output_type": "execute_result"
    }
   ],
   "source": [
    "q2 = np.quantile(my_data[:,1], q=0.75, axis=0)\n",
    "my_data[my_data[:,1]<=q2]"
   ]
  },
  {
   "cell_type": "markdown",
   "metadata": {
    "id": "Yo8oF1CRXZk5"
   },
   "source": [
    "4. Посчитайте, для скольких рецептов указана продолжительность, равная нулю. Замените для таких строк значение в данном столбце на 1."
   ]
  },
  {
   "cell_type": "code",
   "execution_count": 37,
   "metadata": {},
   "outputs": [
    {
     "name": "stdout",
     "output_type": "stream",
     "text": [
      "479\n"
     ]
    },
    {
     "data": {
      "text/plain": [
       "array([[9325,    1,   10],\n",
       "       [2828,    1,    8],\n",
       "       [8008,    1,   11],\n",
       "       ...,\n",
       "       [3383,    1,    7],\n",
       "       [2778,    1,   11],\n",
       "       [4747,    1,    9]])"
      ]
     },
     "execution_count": 37,
     "metadata": {},
     "output_type": "execute_result"
    }
   ],
   "source": [
    "mask = my_data[:,1]==0\n",
    "print(my_data[mask].shape[0])\n",
    "new_data = my_data.copy()\n",
    "new_data[mask, 1] = 1\n",
    "new_data[mask]"
   ]
  },
  {
   "cell_type": "markdown",
   "metadata": {
    "id": "MfxfaYUDXZk5"
   },
   "source": [
    "5. Посчитайте, сколько уникальных рецептов находится в датасете."
   ]
  },
  {
   "cell_type": "code",
   "execution_count": 45,
   "metadata": {},
   "outputs": [
    {
     "data": {
      "text/plain": [
       "100000"
      ]
     },
     "execution_count": 45,
     "metadata": {},
     "output_type": "execute_result"
    }
   ],
   "source": [
    "np.unique(my_data, axis=1).shape[0]"
   ]
  },
  {
   "cell_type": "markdown",
   "metadata": {
    "id": "TeXHXuxsXZk5"
   },
   "source": [
    "6. Сколько и каких различных значений кол-ва ингредиентов присутвует в рецептах из датасета?"
   ]
  },
  {
   "cell_type": "code",
   "execution_count": 48,
   "metadata": {},
   "outputs": [
    {
     "data": {
      "text/plain": [
       "37"
      ]
     },
     "execution_count": 48,
     "metadata": {},
     "output_type": "execute_result"
    }
   ],
   "source": [
    "np.unique(my_data[:,2]).shape[0]"
   ]
  },
  {
   "cell_type": "markdown",
   "metadata": {
    "id": "yq0TYtc7XZk6"
   },
   "source": [
    "7. Создайте версию массива, содержащую информацию только о рецептах, состоящих не более чем из 5 ингредиентов."
   ]
  },
  {
   "cell_type": "code",
   "execution_count": 49,
   "metadata": {},
   "outputs": [
    {
     "data": {
      "text/plain": [
       "array([[446597,     15,      5],\n",
       "       [204134,      5,      3],\n",
       "       [ 25623,      6,      4],\n",
       "       ...,\n",
       "       [ 52088,     60,      5],\n",
       "       [128811,     15,      4],\n",
       "       [370915,      5,      4]])"
      ]
     },
     "execution_count": 49,
     "metadata": {},
     "output_type": "execute_result"
    }
   ],
   "source": [
    "my_data[my_data[:,2] <= 5]"
   ]
  },
  {
   "cell_type": "markdown",
   "metadata": {
    "id": "feEvfsiFXZk6"
   },
   "source": [
    "8. Для каждого рецепта посчитайте, сколько в среднем ингредиентов приходится на одну минуту рецепта. Найдите максимальное значение этой величины для всего датасета"
   ]
  },
  {
   "cell_type": "code",
   "execution_count": 51,
   "metadata": {},
   "outputs": [
    {
     "data": {
      "text/plain": [
       "array([0.26666667, 0.28      , 0.6       , ..., 0.23076923, 0.8       ,\n",
       "       0.1       ])"
      ]
     },
     "execution_count": 51,
     "metadata": {},
     "output_type": "execute_result"
    }
   ],
   "source": [
    "new_data[:,2]/new_data[:,1]"
   ]
  },
  {
   "cell_type": "code",
   "execution_count": 52,
   "metadata": {},
   "outputs": [
    {
     "data": {
      "text/plain": [
       "24.0"
      ]
     },
     "execution_count": 52,
     "metadata": {},
     "output_type": "execute_result"
    }
   ],
   "source": [
    "np.max(new_data[:,2]/new_data[:,1])"
   ]
  },
  {
   "cell_type": "markdown",
   "metadata": {
    "id": "_VhDQ2SSXZk6"
   },
   "source": [
    "9. Вычислите среднее количество ингредиентов для топ-100 рецептов с наибольшей продолжительностью"
   ]
  },
  {
   "cell_type": "code",
   "execution_count": 64,
   "metadata": {},
   "outputs": [
    {
     "data": {
      "text/plain": [
       "6.61"
      ]
     },
     "execution_count": 64,
     "metadata": {},
     "output_type": "execute_result"
    }
   ],
   "source": [
    "np.sum(my_data[my_data[:, 1].argsort()][::-1][:100,2])/100"
   ]
  },
  {
   "cell_type": "markdown",
   "metadata": {
    "id": "bhjRc3opXZk6"
   },
   "source": [
    "10. Выберите случайным образом и выведите информацию о 10 различных рецептах"
   ]
  },
  {
   "cell_type": "code",
   "execution_count": 67,
   "metadata": {},
   "outputs": [
    {
     "data": {
      "text/plain": [
       "array([[245988,      5,      5],\n",
       "       [ 82357,     90,      5],\n",
       "       [128908,     55,     15],\n",
       "       [206695,     15,      4],\n",
       "       [299902,      7,     10],\n",
       "       [123609,     45,      8],\n",
       "       [362899,     51,     11],\n",
       "       [ 26946,     20,      5],\n",
       "       [265524,     15,     13],\n",
       "       [249511,     60,     13]])"
      ]
     },
     "execution_count": 67,
     "metadata": {},
     "output_type": "execute_result"
    }
   ],
   "source": [
    "my_data[np.random.randint(my_data.shape[0], size=10)]"
   ]
  },
  {
   "cell_type": "markdown",
   "metadata": {
    "id": "Ro9WjaJHXZk7"
   },
   "source": [
    "11. Выведите процент рецептов, кол-во ингредиентов в которых меньше среднего."
   ]
  },
  {
   "cell_type": "code",
   "execution_count": 77,
   "metadata": {},
   "outputs": [
    {
     "data": {
      "text/plain": [
       "58.802"
      ]
     },
     "execution_count": 77,
     "metadata": {},
     "output_type": "execute_result"
    }
   ],
   "source": [
    "my_data[my_data[:,2] < my_data[:,2].mean()].shape[0]/my_data.shape[0]*100"
   ]
  },
  {
   "cell_type": "markdown",
   "metadata": {
    "id": "3Ly5pNySXZk7"
   },
   "source": [
    "12. Назовем \"простым\" такой рецепт, длительность выполнения которого не больше 20 минут и кол-во ингредиентов в котором не больше 5. Создайте версию датасета с дополнительным столбцом, значениями которого являются 1, если рецепт простой, и 0 в противном случае."
   ]
  },
  {
   "cell_type": "code",
   "execution_count": 83,
   "metadata": {},
   "outputs": [
    {
     "data": {
      "text/plain": [
       "array([[127244,     60,     16,      0],\n",
       "       [ 23891,     25,      7,      0],\n",
       "       [ 94746,     10,      6,      0],\n",
       "       ...,\n",
       "       [498432,     65,     15,      0],\n",
       "       [370915,      5,      4,      1],\n",
       "       [ 81993,    140,     14,      0]])"
      ]
     },
     "execution_count": 83,
     "metadata": {},
     "output_type": "execute_result"
    }
   ],
   "source": [
    "new_data2 = np.c_[my_data, (my_data[:,1] <= 20) * (my_data[:,2]<=5)]\n",
    "new_data2"
   ]
  },
  {
   "cell_type": "markdown",
   "metadata": {
    "id": "1h4cig32XZk7"
   },
   "source": [
    "13. Выведите процент \"простых\" рецептов в датасете"
   ]
  },
  {
   "cell_type": "code",
   "execution_count": 92,
   "metadata": {},
   "outputs": [
    {
     "data": {
      "text/plain": [
       "9.552"
      ]
     },
     "execution_count": 92,
     "metadata": {},
     "output_type": "execute_result"
    }
   ],
   "source": [
    "new_data2[new_data2[:,3]!=0].shape[0]/new_data2.shape[0]*100"
   ]
  },
  {
   "cell_type": "markdown",
   "metadata": {
    "id": "qR4lVThaXZk7"
   },
   "source": [
    "14. Разделим рецепты на группы по следующему правилу. Назовем рецепты короткими, если их продолжительность составляет менее 10 минут; стандартными, если их продолжительность составляет более 10, но менее 20 минут; и длинными, если их продолжительность составляет не менее 20 минут. Создайте трехмерный массив, где нулевая ось отвечает за номер группы (короткий, стандартный или длинный рецепт), первая ось - за сам рецепт и вторая ось - за характеристики рецепта. Выберите максимальное количество рецептов из каждой группы таким образом, чтобы было возможно сформировать трехмерный массив. Выведите форму полученного массива."
   ]
  },
  {
   "cell_type": "code",
   "execution_count": 91,
   "metadata": {
    "id": "gFQ0zKqMXZk8"
   },
   "outputs": [],
   "source": [
    "short_arr = my_data[my_data[:, 2] < 10]\n",
    "norm_arr = my_data[(my_data[:, 2] >= 10) * (my_data[:,2] < 20)]\n",
    "long_arr = my_data[my_data[:, 2] >= 20]\n",
    "max_len = min(short_arr.shape[0], norm_arr.shape[0], long_arr.shape[0])\n"
   ]
  },
  {
   "cell_type": "code",
   "execution_count": 97,
   "metadata": {},
   "outputs": [
    {
     "data": {
      "text/plain": [
       "array([[[ 23891,     25,      7],\n",
       "        [ 94746,     10,      6],\n",
       "        [ 67660,      5,      6],\n",
       "        ...,\n",
       "        [230210,     30,      6],\n",
       "        [281614,     25,      8],\n",
       "        [139843,     50,      6]],\n",
       "\n",
       "       [[127244,     60,     16],\n",
       "        [157911,     60,     14],\n",
       "        [280968,     85,     11],\n",
       "        ...,\n",
       "        [382527,     55,     12],\n",
       "        [ 19716,     30,     10],\n",
       "        [ 37210,     25,     10]],\n",
       "\n",
       "       [[504666,     65,     20],\n",
       "        [ 44512,     50,     20],\n",
       "        [470973,    180,     20],\n",
       "        ...,\n",
       "        [188457,    735,     26],\n",
       "        [ 51720,     30,     22],\n",
       "        [451245,    390,     21]]])"
      ]
     },
     "execution_count": 97,
     "metadata": {},
     "output_type": "execute_result"
    }
   ],
   "source": [
    "new_data3 = np.array([short_arr[:max_len], norm_arr[:max_len], long_arr[:max_len]])\n",
    "new_data3"
   ]
  },
  {
   "cell_type": "code",
   "execution_count": null,
   "metadata": {},
   "outputs": [],
   "source": []
  }
 ],
 "metadata": {
  "colab": {
   "provenance": []
  },
  "kernelspec": {
   "display_name": "Python 3 (ipykernel)",
   "language": "python",
   "name": "python3"
  },
  "language_info": {
   "codemirror_mode": {
    "name": "ipython",
    "version": 3
   },
   "file_extension": ".py",
   "mimetype": "text/x-python",
   "name": "python",
   "nbconvert_exporter": "python",
   "pygments_lexer": "ipython3",
   "version": "3.9.12"
  }
 },
 "nbformat": 4,
 "nbformat_minor": 1
}
