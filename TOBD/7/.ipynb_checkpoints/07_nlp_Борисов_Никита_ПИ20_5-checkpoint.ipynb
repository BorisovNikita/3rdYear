{
 "cells": [
  {
   "cell_type": "markdown",
   "metadata": {},
   "source": [
    "# Введение в обработку текста на естественном языке"
   ]
  },
  {
   "cell_type": "markdown",
   "metadata": {},
   "source": [
    "__Автор задач: Блохин Н.В. (NVBlokhin@fa.ru)__\n",
    "\n",
    "Материалы:\n",
    "* Макрушин С.В. Лекция \"Введение в обработку текста на естественном языке\"\n",
    "* https://www.nltk.org/api/nltk.metrics.distance.html\n",
    "* https://pymorphy2.readthedocs.io/en/stable/user/guide.html\n",
    "* https://realpython.com/nltk-nlp-python/\n",
    "* https://scikit-learn.org/stable/modules/feature_extraction.html"
   ]
  },
  {
   "cell_type": "markdown",
   "metadata": {},
   "source": [
    "## Задачи для совместного разбора"
   ]
  },
  {
   "cell_type": "code",
   "execution_count": 1,
   "metadata": {},
   "outputs": [
    {
     "name": "stdout",
     "output_type": "stream",
     "text": [
      "Collecting pymorphy2\n",
      "  Downloading pymorphy2-0.9.1-py3-none-any.whl (55 kB)\n",
      "Collecting pymorphy2-dicts-ru<3.0,>=2.4\n",
      "  Downloading pymorphy2_dicts_ru-2.4.417127.4579844-py2.py3-none-any.whl (8.2 MB)\n",
      "Collecting docopt>=0.6\n",
      "  Downloading docopt-0.6.2.tar.gz (25 kB)\n",
      "Collecting dawg-python>=0.7.1\n",
      "  Downloading DAWG_Python-0.7.2-py2.py3-none-any.whl (11 kB)\n",
      "Building wheels for collected packages: docopt\n",
      "  Building wheel for docopt (setup.py): started\n",
      "  Building wheel for docopt (setup.py): finished with status 'done'\n",
      "  Created wheel for docopt: filename=docopt-0.6.2-py2.py3-none-any.whl size=13723 sha256=4beac3730c76c0336b3f288a287d0fc71db1957720270f13b877f19826c14d15\n",
      "  Stored in directory: c:\\users\\nikita\\appdata\\local\\pip\\cache\\wheels\\70\\4a\\46\\1309fc853b8d395e60bafaf1b6df7845bdd82c95fd59dd8d2b\n",
      "Successfully built docopt\n",
      "Installing collected packages: pymorphy2-dicts-ru, docopt, dawg-python, pymorphy2\n",
      "Successfully installed dawg-python-0.7.2 docopt-0.6.2 pymorphy2-0.9.1 pymorphy2-dicts-ru-2.4.417127.4579844\n"
     ]
    }
   ],
   "source": [
    "!pip install pymorphy2"
   ]
  },
  {
   "cell_type": "code",
   "execution_count": 2,
   "metadata": {},
   "outputs": [
    {
     "name": "stderr",
     "output_type": "stream",
     "text": [
      "[nltk_data] Downloading package punkt to\n",
      "[nltk_data]     C:\\Users\\Nikita\\AppData\\Roaming\\nltk_data...\n",
      "[nltk_data]   Package punkt is already up-to-date!\n"
     ]
    },
    {
     "data": {
      "text/plain": [
       "True"
      ]
     },
     "execution_count": 2,
     "metadata": {},
     "output_type": "execute_result"
    }
   ],
   "source": [
    "import nltk\n",
    "nltk.download('punkt')"
   ]
  },
  {
   "cell_type": "markdown",
   "metadata": {},
   "source": [
    "1. Считайте слова из файла `litw-win.txt` и запишите их в список `words`. При помощи расстояния Левенштейна иправьте опечатку в слове \"велечайшим\"."
   ]
  },
  {
   "cell_type": "code",
   "execution_count": 4,
   "metadata": {},
   "outputs": [],
   "source": [
    "from nltk import edit_distance"
   ]
  },
  {
   "cell_type": "code",
   "execution_count": 22,
   "metadata": {},
   "outputs": [],
   "source": [
    "words = []\n",
    "with open('litw-win.txt') as file:\n",
    "    while True:\n",
    "        line = file.readline()\n",
    "        if not line:\n",
    "            break\n",
    "        words.append(line[8:].strip())"
   ]
  },
  {
   "cell_type": "code",
   "execution_count": 24,
   "metadata": {},
   "outputs": [
    {
     "data": {
      "text/plain": [
       "162166"
      ]
     },
     "execution_count": 24,
     "metadata": {},
     "output_type": "execute_result"
    }
   ],
   "source": [
    "len(words)"
   ]
  },
  {
   "cell_type": "code",
   "execution_count": 36,
   "metadata": {},
   "outputs": [],
   "source": [
    "distance = [edit_distance('велечайшим', word, substitution_cost=2) for word in words]"
   ]
  },
  {
   "cell_type": "code",
   "execution_count": 38,
   "metadata": {},
   "outputs": [
    {
     "data": {
      "text/plain": [
       "'величайшим'"
      ]
     },
     "execution_count": 38,
     "metadata": {},
     "output_type": "execute_result"
    }
   ],
   "source": [
    "words[distance.index(min(distance))]"
   ]
  },
  {
   "cell_type": "markdown",
   "metadata": {},
   "source": [
    "2. Разбейте текст из формулировки второго задания на слова. Проведите стемминг и лемматизацию слов."
   ]
  },
  {
   "cell_type": "code",
   "execution_count": 39,
   "metadata": {},
   "outputs": [],
   "source": [
    "from nltk.stem import SnowballStemmer\n",
    "from nltk import word_tokenize\n",
    "import pymorphy2"
   ]
  },
  {
   "cell_type": "code",
   "execution_count": 40,
   "metadata": {},
   "outputs": [],
   "source": [
    "text = '''Разбейте текст из формулировки второго задания на слова. Проведите стемминг и лемматизацию слов.'''"
   ]
  },
  {
   "cell_type": "code",
   "execution_count": 41,
   "metadata": {},
   "outputs": [],
   "source": [
    "snb_stemmer_ru = SnowballStemmer('russian')"
   ]
  },
  {
   "cell_type": "code",
   "execution_count": 43,
   "metadata": {},
   "outputs": [],
   "source": [
    "import re\n",
    "w = re.compile('^[а-яА-ЯёЁ]*$')"
   ]
  },
  {
   "cell_type": "code",
   "execution_count": 45,
   "metadata": {
    "scrolled": false
   },
   "outputs": [
    {
     "data": {
      "text/plain": [
       "['разб',\n",
       " 'текст',\n",
       " 'из',\n",
       " 'формулировк',\n",
       " 'втор',\n",
       " 'задан',\n",
       " 'на',\n",
       " 'слов',\n",
       " 'провед',\n",
       " 'стемминг',\n",
       " 'и',\n",
       " 'лемматизац',\n",
       " 'слов']"
      ]
     },
     "execution_count": 45,
     "metadata": {},
     "output_type": "execute_result"
    }
   ],
   "source": [
    "[snb_stemmer_ru.stem(word) for word in word_tokenize(text) if w.search(word)]"
   ]
  },
  {
   "cell_type": "code",
   "execution_count": 46,
   "metadata": {},
   "outputs": [],
   "source": [
    "morph = pymorphy2.MorphAnalyzer()"
   ]
  },
  {
   "cell_type": "code",
   "execution_count": 47,
   "metadata": {},
   "outputs": [
    {
     "data": {
      "text/plain": [
       "['разбить',\n",
       " 'текст',\n",
       " 'из',\n",
       " 'формулировка',\n",
       " 'второй',\n",
       " 'задание',\n",
       " 'на',\n",
       " 'слово',\n",
       " 'провести',\n",
       " 'стемминг',\n",
       " 'и',\n",
       " 'лемматизация',\n",
       " 'слово']"
      ]
     },
     "execution_count": 47,
     "metadata": {},
     "output_type": "execute_result"
    }
   ],
   "source": [
    "pt = [morph.parse(word) for word in word_tokenize(text) if w.search(word)] \n",
    "[word[0].normalized.word for word in pt]"
   ]
  },
  {
   "cell_type": "markdown",
   "metadata": {},
   "source": [
    "3. Преобразуйте предложения из формулировки задания 2 в векторы при помощи `CountVectorizer`. Выведите на экран словарь обученного токенизатора."
   ]
  },
  {
   "cell_type": "code",
   "execution_count": 48,
   "metadata": {},
   "outputs": [],
   "source": [
    "from sklearn.feature_extraction.text import CountVectorizer\n",
    "from nltk import sent_tokenize"
   ]
  },
  {
   "cell_type": "code",
   "execution_count": 49,
   "metadata": {},
   "outputs": [],
   "source": [
    "text = '''Разбейте текст из формулировки второго задания на слова. Проведите стемминг и лемматизацию слов.'''"
   ]
  },
  {
   "cell_type": "code",
   "execution_count": 50,
   "metadata": {},
   "outputs": [],
   "source": [
    "sentences = sent_tokenize(text)"
   ]
  },
  {
   "cell_type": "code",
   "execution_count": 54,
   "metadata": {},
   "outputs": [
    {
     "data": {
      "text/plain": [
       "array(['второго', 'задания', 'из', 'лемматизацию', 'на', 'проведите',\n",
       "       'разбейте', 'слов', 'слова', 'стемминг', 'текст', 'формулировки'],\n",
       "      dtype=object)"
      ]
     },
     "execution_count": 54,
     "metadata": {},
     "output_type": "execute_result"
    }
   ],
   "source": [
    "vectorizer = CountVectorizer()\n",
    "vectors = vectorizer.fit_transform(sentences)\n",
    "vectorizer.get_feature_names_out()"
   ]
  },
  {
   "cell_type": "markdown",
   "metadata": {},
   "source": [
    "## Лабораторная работа 7"
   ]
  },
  {
   "cell_type": "markdown",
   "metadata": {},
   "source": [
    "1\\. Загрузите данные из файла `ru_recipes_sample.csv` в виде `pd.DataFrame` `recipes` Используя регулярные выражения, удалите из описаний (столбец `description`) все символы, кроме русских букв, цифр и пробелов. Приведите все слова в описании к нижнему регистру. Сохраните полученный результат в столбец `description`."
   ]
  },
  {
   "cell_type": "code",
   "execution_count": 55,
   "metadata": {},
   "outputs": [],
   "source": [
    "import pandas as pd\n",
    "import numpy as np"
   ]
  },
  {
   "cell_type": "code",
   "execution_count": 60,
   "metadata": {},
   "outputs": [],
   "source": [
    "recipes = pd.read_csv('ru_recipes_sample.csv')"
   ]
  },
  {
   "cell_type": "code",
   "execution_count": 84,
   "metadata": {},
   "outputs": [],
   "source": [
    "w = re.compile('[а-яА-ЯёЁ0-9 ]+')"
   ]
  },
  {
   "cell_type": "code",
   "execution_count": 85,
   "metadata": {},
   "outputs": [
    {
     "data": {
      "text/plain": [
       "'этот коктейль готовлю из замороженной клубники. если клубника свежая, то добавляю перепелиное яйцо, благодаря этому коктейль получается устойчиво густым.'"
      ]
     },
     "execution_count": 85,
     "metadata": {},
     "output_type": "execute_result"
    }
   ],
   "source": [
    "recipes.description[0].lower()"
   ]
  },
  {
   "cell_type": "code",
   "execution_count": 92,
   "metadata": {},
   "outputs": [],
   "source": [
    "new_descr = recipes.description.apply(lambda text: \" \".join([part.strip() for part in w.findall(text.lower())]))"
   ]
  },
  {
   "cell_type": "code",
   "execution_count": 93,
   "metadata": {},
   "outputs": [],
   "source": [
    "recipes.description = new_descr"
   ]
  },
  {
   "cell_type": "code",
   "execution_count": 94,
   "metadata": {},
   "outputs": [
    {
     "data": {
      "text/html": [
       "<div>\n",
       "<style scoped>\n",
       "    .dataframe tbody tr th:only-of-type {\n",
       "        vertical-align: middle;\n",
       "    }\n",
       "\n",
       "    .dataframe tbody tr th {\n",
       "        vertical-align: top;\n",
       "    }\n",
       "\n",
       "    .dataframe thead th {\n",
       "        text-align: right;\n",
       "    }\n",
       "</style>\n",
       "<table border=\"1\" class=\"dataframe\">\n",
       "  <thead>\n",
       "    <tr style=\"text-align: right;\">\n",
       "      <th></th>\n",
       "      <th>url</th>\n",
       "      <th>name</th>\n",
       "      <th>ingredients</th>\n",
       "      <th>description</th>\n",
       "    </tr>\n",
       "  </thead>\n",
       "  <tbody>\n",
       "    <tr>\n",
       "      <th>0</th>\n",
       "      <td>https://www.povarenok.ru/recipes/show/164365/</td>\n",
       "      <td>Густой молочно-клубничный коктейль</td>\n",
       "      <td>{'Молоко': '250 мл', 'Клубника': '200 г', 'Сах...</td>\n",
       "      <td>этот коктейль готовлю из замороженной клубники...</td>\n",
       "    </tr>\n",
       "    <tr>\n",
       "      <th>1</th>\n",
       "      <td>https://www.povarenok.ru/recipes/show/1306/</td>\n",
       "      <td>Рулетики</td>\n",
       "      <td>{'Сыр твердый': None, 'Чеснок': None, 'Яйцо ку...</td>\n",
       "      <td>быстро и вкусно</td>\n",
       "    </tr>\n",
       "    <tr>\n",
       "      <th>2</th>\n",
       "      <td>https://www.povarenok.ru/recipes/show/10625/</td>\n",
       "      <td>Салат \"Баклажанчик\"</td>\n",
       "      <td>{'Баклажан': '3 шт', 'Лук репчатый': '2 шт', '...</td>\n",
       "      <td>сытный овощной салатик пальчики оближете</td>\n",
       "    </tr>\n",
       "    <tr>\n",
       "      <th>3</th>\n",
       "      <td>https://www.povarenok.ru/recipes/show/167337/</td>\n",
       "      <td>Куриные котлеты с картофельным пюре в духовке</td>\n",
       "      <td>{'Фарш куриный': '800 г', 'Пюре картофельное':...</td>\n",
       "      <td>картофельное пюре и куриные котлеты вкусная кл...</td>\n",
       "    </tr>\n",
       "    <tr>\n",
       "      <th>4</th>\n",
       "      <td>https://www.povarenok.ru/recipes/show/91919/</td>\n",
       "      <td>Рецепт вишневой наливки</td>\n",
       "      <td>{'Вишня': '1 кг', 'Водка': '1 л', 'Сахар': '30...</td>\n",
       "      <td>вишневая наливка имеет яркий вишневый вкус кот...</td>\n",
       "    </tr>\n",
       "  </tbody>\n",
       "</table>\n",
       "</div>"
      ],
      "text/plain": [
       "                                             url  \\\n",
       "0  https://www.povarenok.ru/recipes/show/164365/   \n",
       "1    https://www.povarenok.ru/recipes/show/1306/   \n",
       "2   https://www.povarenok.ru/recipes/show/10625/   \n",
       "3  https://www.povarenok.ru/recipes/show/167337/   \n",
       "4   https://www.povarenok.ru/recipes/show/91919/   \n",
       "\n",
       "                                            name  \\\n",
       "0             Густой молочно-клубничный коктейль   \n",
       "1                                       Рулетики   \n",
       "2                            Салат \"Баклажанчик\"   \n",
       "3  Куриные котлеты с картофельным пюре в духовке   \n",
       "4                        Рецепт вишневой наливки   \n",
       "\n",
       "                                         ingredients  \\\n",
       "0  {'Молоко': '250 мл', 'Клубника': '200 г', 'Сах...   \n",
       "1  {'Сыр твердый': None, 'Чеснок': None, 'Яйцо ку...   \n",
       "2  {'Баклажан': '3 шт', 'Лук репчатый': '2 шт', '...   \n",
       "3  {'Фарш куриный': '800 г', 'Пюре картофельное':...   \n",
       "4  {'Вишня': '1 кг', 'Водка': '1 л', 'Сахар': '30...   \n",
       "\n",
       "                                         description  \n",
       "0  этот коктейль готовлю из замороженной клубники...  \n",
       "1                                    быстро и вкусно  \n",
       "2           сытный овощной салатик пальчики оближете  \n",
       "3  картофельное пюре и куриные котлеты вкусная кл...  \n",
       "4  вишневая наливка имеет яркий вишневый вкус кот...  "
      ]
     },
     "execution_count": 94,
     "metadata": {},
     "output_type": "execute_result"
    }
   ],
   "source": [
    "recipes.head()"
   ]
  },
  {
   "cell_type": "markdown",
   "metadata": {},
   "source": [
    "### Расстояние редактирования"
   ]
  },
  {
   "cell_type": "markdown",
   "metadata": {},
   "source": [
    "2\\. Получите набор уникальных слов `words`, содержащихся в текстах описаний рецептов (воспользуйтесь `word_tokenize` из `nltk`). Сгенерируйте 5 пар случайно выбранных слов и посчитайте между ними расстояние Левенштейна. Выведите на экран результат в следующем виде:\n",
    "\n",
    "```\n",
    "d(word1, word2) = x\n",
    "```"
   ]
  },
  {
   "cell_type": "code",
   "execution_count": 109,
   "metadata": {},
   "outputs": [],
   "source": [
    "words = list(set([word for desc in recipes.description.apply(lambda descr: word_tokenize(descr)) for word in desc]))"
   ]
  },
  {
   "cell_type": "code",
   "execution_count": 105,
   "metadata": {},
   "outputs": [],
   "source": [
    "import random"
   ]
  },
  {
   "cell_type": "code",
   "execution_count": 111,
   "metadata": {},
   "outputs": [
    {
     "name": "stdout",
     "output_type": "stream",
     "text": [
      "d(припеками, общения) = 12\n",
      "d(полдня, отдельными) = 10\n",
      "d(туношна, тушку) = 6\n",
      "d(цветочки, вдохновил) = 11\n",
      "d(панируется, поделюсь) = 12\n"
     ]
    }
   ],
   "source": [
    "for _ in range(5):\n",
    "    word1 = random.choice(words)\n",
    "    word2 = random.choice(words)\n",
    "    d = edit_distance(word1, word2, substitution_cost=2)\n",
    "    print(f\"d({word1}, {word2}) = {d}\")"
   ]
  },
  {
   "cell_type": "markdown",
   "metadata": {},
   "source": [
    "3\\. Напишите функцию, которая принимает на вход 2 текстовые строки `s1` и `s2` и при помощи расстояния Левенштейна определяет, является ли строка `s2` плагиатом `s1`. Функция должна реализовывать следующую логику: для каждого слова `w1` из `s1` проверяет, есть в `s2` хотя бы одно слово `w2`, такое, что расстояние Левенштейна между `w1` и `w2` меньше 2, и считает количество таких слов в `s1` $P$. \n",
    "\n",
    "$$ P = \\#\\{w_1 \\in s_1\\ | \\exists w_2 \\in s_2 : d(w_1, w_2) < tol\\}$$\n",
    "\n",
    "$$ L = max(|s1|, |s2|) $$\n",
    "\n",
    "Здесь $|\\cdot|$ - количество слов в строке, $\\#A$ - число элементов в множестве $A$, $w \\in s$ означает, что слово $w$ содержится в тексте $s$.\n",
    "\n",
    "Если отношение $P / L$ больше 0.8, то функция должна вернуть True; иначе False.\n",
    "\n",
    "Продемонстрируйте работу вашей функции на примере описаний двух рецептов с ID 135488 и 851934 (ID рецепта - это число, стоящее в конце url рецепта). Выведите на экран описания этих рецептов и результат работы функции."
   ]
  },
  {
   "cell_type": "code",
   "execution_count": 112,
   "metadata": {},
   "outputs": [],
   "source": [
    "def is_plagiarism(s1: str, s2: str) -> bool:\n",
    "    words1 = word_tokenize(s1)\n",
    "    words2 = word_tokenize(s2)\n",
    "    P = 0\n",
    "    for w1 in words1:\n",
    "        for w2 in words2:\n",
    "            d = edit_distance(w1, w2, substitution_cost=2)\n",
    "            if(d<2):\n",
    "                P+=1\n",
    "    L = max(len(words1), len(words2))\n",
    "    return P/L>0.8"
   ]
  },
  {
   "cell_type": "code",
   "execution_count": 116,
   "metadata": {},
   "outputs": [],
   "source": [
    "rec_id = recipes.url.apply(lambda url: int(url.split('/')[-2]))"
   ]
  },
  {
   "cell_type": "code",
   "execution_count": 123,
   "metadata": {},
   "outputs": [],
   "source": [
    "descr_135488 = recipes[rec_id == 135488].description.iloc[0]\n",
    "descr_851934 = recipes[rec_id == 851934].description.iloc[0]"
   ]
  },
  {
   "cell_type": "code",
   "execution_count": 125,
   "metadata": {},
   "outputs": [
    {
     "data": {
      "text/plain": [
       "('прекрасной закуской к крепким напиткам на фуршетном столе станет паштет из сала и авокадо с чесноком который мы спрячем в орешках из бородинского хлеба положив в середину маслину закуска получается необычной оригинальной и ценится особенно мужчинами',\n",
       " 'замечательной закуской к напиткам на фуршетном столе станет паштет из сала и авокадо с чесноком куда мы добавим орешков из бородинского хлеба положив в середину маслины закуска получается крайне необычной оригинальной и ценится особенно мужчинами')"
      ]
     },
     "execution_count": 125,
     "metadata": {},
     "output_type": "execute_result"
    }
   ],
   "source": [
    "descr_135488, descr_851934"
   ]
  },
  {
   "cell_type": "code",
   "execution_count": 124,
   "metadata": {},
   "outputs": [
    {
     "data": {
      "text/plain": [
       "True"
      ]
     },
     "execution_count": 124,
     "metadata": {},
     "output_type": "execute_result"
    }
   ],
   "source": [
    "is_plagiarism(descr_135488, descr_851934)"
   ]
  },
  {
   "cell_type": "markdown",
   "metadata": {},
   "source": [
    "### Стемминг, лемматизация"
   ]
  },
  {
   "cell_type": "markdown",
   "metadata": {},
   "source": [
    "4\\. На основе набора слов из задания 2 создайте `pd.DataFrame` со столбцами `word`, `stemmed_word` и `normalized_word`. В столбец `stemmed_word` поместите версию слова после проведения процедуры стемминга; в столбец `normalized_word` поместите версию слова после проведения процедуры лемматизации. Столбец `word` укажите в качестве индекса. \n",
    "\n",
    "Для стемминга можно воспользоваться `SnowballStemmer` из `nltk`, для лемматизации слов - пакетом `pymorphy2`. Сравните результаты стемминга и лемматизации. Поясните на примере одной из строк получившегося фрейма (в виде текстового комментария), в чем разница между двумя этими подходами. "
   ]
  },
  {
   "cell_type": "code",
   "execution_count": 157,
   "metadata": {},
   "outputs": [],
   "source": [
    "words = list(set([word for description in recipes.description.apply(lambda desc: word_tokenize(desc)) for word in description]))"
   ]
  },
  {
   "cell_type": "code",
   "execution_count": 158,
   "metadata": {},
   "outputs": [],
   "source": [
    "df4 = pd.DataFrame(columns=['word', 'stemmed_word','normalized_word'])"
   ]
  },
  {
   "cell_type": "code",
   "execution_count": 159,
   "metadata": {},
   "outputs": [],
   "source": [
    "df4.word = words"
   ]
  },
  {
   "cell_type": "code",
   "execution_count": 160,
   "metadata": {},
   "outputs": [],
   "source": [
    "snb_stemmer_ru = SnowballStemmer('russian')\n",
    "df4.stemmed_word = [snb_stemmer_ru.stem(word) for word in df4.word]"
   ]
  },
  {
   "cell_type": "code",
   "execution_count": 161,
   "metadata": {},
   "outputs": [],
   "source": [
    "morph = pymorphy2.MorphAnalyzer()\n",
    "df4.normalized_word = [morph.parse(word)[0].normalized.word for word in df4.word] "
   ]
  },
  {
   "cell_type": "code",
   "execution_count": 162,
   "metadata": {},
   "outputs": [],
   "source": [
    "df4 = df4.set_index('word')"
   ]
  },
  {
   "cell_type": "code",
   "execution_count": 163,
   "metadata": {},
   "outputs": [
    {
     "data": {
      "text/html": [
       "<div>\n",
       "<style scoped>\n",
       "    .dataframe tbody tr th:only-of-type {\n",
       "        vertical-align: middle;\n",
       "    }\n",
       "\n",
       "    .dataframe tbody tr th {\n",
       "        vertical-align: top;\n",
       "    }\n",
       "\n",
       "    .dataframe thead th {\n",
       "        text-align: right;\n",
       "    }\n",
       "</style>\n",
       "<table border=\"1\" class=\"dataframe\">\n",
       "  <thead>\n",
       "    <tr style=\"text-align: right;\">\n",
       "      <th></th>\n",
       "      <th>stemmed_word</th>\n",
       "      <th>normalized_word</th>\n",
       "    </tr>\n",
       "    <tr>\n",
       "      <th>word</th>\n",
       "      <th></th>\n",
       "      <th></th>\n",
       "    </tr>\n",
       "  </thead>\n",
       "  <tbody>\n",
       "    <tr>\n",
       "      <th>праздников</th>\n",
       "      <td>праздник</td>\n",
       "      <td>праздник</td>\n",
       "    </tr>\n",
       "    <tr>\n",
       "      <th>гурман</th>\n",
       "      <td>гурма</td>\n",
       "      <td>гурман</td>\n",
       "    </tr>\n",
       "    <tr>\n",
       "      <th>еврейской</th>\n",
       "      <td>еврейск</td>\n",
       "      <td>еврейский</td>\n",
       "    </tr>\n",
       "    <tr>\n",
       "      <th>конфетенбург</th>\n",
       "      <td>конфетенбург</td>\n",
       "      <td>конфетенбург</td>\n",
       "    </tr>\n",
       "    <tr>\n",
       "      <th>чебуреках</th>\n",
       "      <td>чебурек</td>\n",
       "      <td>чебурек</td>\n",
       "    </tr>\n",
       "  </tbody>\n",
       "</table>\n",
       "</div>"
      ],
      "text/plain": [
       "              stemmed_word normalized_word\n",
       "word                                      \n",
       "праздников        праздник        праздник\n",
       "гурман               гурма          гурман\n",
       "еврейской          еврейск       еврейский\n",
       "конфетенбург  конфетенбург    конфетенбург\n",
       "чебуреках          чебурек         чебурек"
      ]
     },
     "execution_count": 163,
     "metadata": {},
     "output_type": "execute_result"
    }
   ],
   "source": [
    "df4.head()"
   ]
  },
  {
   "cell_type": "markdown",
   "metadata": {},
   "source": [
    "5\\. Добавьте в таблицу `recipes` столбец `description_no_stopwords`, в котором содержится текст описания рецепта после удаления из него стоп-слов. Посчитайте и выведите на экран долю стоп-слов среди общего количества слов. Сравните топ-10 самых часто употребляемых слов до и после удаления стоп-слов."
   ]
  },
  {
   "cell_type": "code",
   "execution_count": 138,
   "metadata": {},
   "outputs": [],
   "source": [
    "from nltk.corpus import stopwords"
   ]
  },
  {
   "cell_type": "code",
   "execution_count": 140,
   "metadata": {},
   "outputs": [],
   "source": [
    "ru_stopwords = stopwords.words('russian')"
   ]
  },
  {
   "cell_type": "code",
   "execution_count": 142,
   "metadata": {},
   "outputs": [],
   "source": [
    "description_no_stopwords = recipes.description.apply(\n",
    "    lambda desc: \" \".join([\n",
    "        word for word in word_tokenize(desc) if word not in ru_stopwords\n",
    "    ])\n",
    ")"
   ]
  },
  {
   "cell_type": "code",
   "execution_count": 143,
   "metadata": {},
   "outputs": [],
   "source": [
    "recipes['description_no_stopwords'] = description_no_stopwords"
   ]
  },
  {
   "cell_type": "code",
   "execution_count": 144,
   "metadata": {},
   "outputs": [
    {
     "data": {
      "text/html": [
       "<div>\n",
       "<style scoped>\n",
       "    .dataframe tbody tr th:only-of-type {\n",
       "        vertical-align: middle;\n",
       "    }\n",
       "\n",
       "    .dataframe tbody tr th {\n",
       "        vertical-align: top;\n",
       "    }\n",
       "\n",
       "    .dataframe thead th {\n",
       "        text-align: right;\n",
       "    }\n",
       "</style>\n",
       "<table border=\"1\" class=\"dataframe\">\n",
       "  <thead>\n",
       "    <tr style=\"text-align: right;\">\n",
       "      <th></th>\n",
       "      <th>url</th>\n",
       "      <th>name</th>\n",
       "      <th>ingredients</th>\n",
       "      <th>description</th>\n",
       "      <th>description_no_stopwords</th>\n",
       "    </tr>\n",
       "  </thead>\n",
       "  <tbody>\n",
       "    <tr>\n",
       "      <th>0</th>\n",
       "      <td>https://www.povarenok.ru/recipes/show/164365/</td>\n",
       "      <td>Густой молочно-клубничный коктейль</td>\n",
       "      <td>{'Молоко': '250 мл', 'Клубника': '200 г', 'Сах...</td>\n",
       "      <td>этот коктейль готовлю из замороженной клубники...</td>\n",
       "      <td>коктейль готовлю замороженной клубники клубник...</td>\n",
       "    </tr>\n",
       "    <tr>\n",
       "      <th>1</th>\n",
       "      <td>https://www.povarenok.ru/recipes/show/1306/</td>\n",
       "      <td>Рулетики</td>\n",
       "      <td>{'Сыр твердый': None, 'Чеснок': None, 'Яйцо ку...</td>\n",
       "      <td>быстро и вкусно</td>\n",
       "      <td>быстро вкусно</td>\n",
       "    </tr>\n",
       "    <tr>\n",
       "      <th>2</th>\n",
       "      <td>https://www.povarenok.ru/recipes/show/10625/</td>\n",
       "      <td>Салат \"Баклажанчик\"</td>\n",
       "      <td>{'Баклажан': '3 шт', 'Лук репчатый': '2 шт', '...</td>\n",
       "      <td>сытный овощной салатик пальчики оближете</td>\n",
       "      <td>сытный овощной салатик пальчики оближете</td>\n",
       "    </tr>\n",
       "    <tr>\n",
       "      <th>3</th>\n",
       "      <td>https://www.povarenok.ru/recipes/show/167337/</td>\n",
       "      <td>Куриные котлеты с картофельным пюре в духовке</td>\n",
       "      <td>{'Фарш куриный': '800 г', 'Пюре картофельное':...</td>\n",
       "      <td>картофельное пюре и куриные котлеты вкусная кл...</td>\n",
       "      <td>картофельное пюре куриные котлеты вкусная клас...</td>\n",
       "    </tr>\n",
       "    <tr>\n",
       "      <th>4</th>\n",
       "      <td>https://www.povarenok.ru/recipes/show/91919/</td>\n",
       "      <td>Рецепт вишневой наливки</td>\n",
       "      <td>{'Вишня': '1 кг', 'Водка': '1 л', 'Сахар': '30...</td>\n",
       "      <td>вишневая наливка имеет яркий вишневый вкус кот...</td>\n",
       "      <td>вишневая наливка имеет яркий вишневый вкус кот...</td>\n",
       "    </tr>\n",
       "  </tbody>\n",
       "</table>\n",
       "</div>"
      ],
      "text/plain": [
       "                                             url  \\\n",
       "0  https://www.povarenok.ru/recipes/show/164365/   \n",
       "1    https://www.povarenok.ru/recipes/show/1306/   \n",
       "2   https://www.povarenok.ru/recipes/show/10625/   \n",
       "3  https://www.povarenok.ru/recipes/show/167337/   \n",
       "4   https://www.povarenok.ru/recipes/show/91919/   \n",
       "\n",
       "                                            name  \\\n",
       "0             Густой молочно-клубничный коктейль   \n",
       "1                                       Рулетики   \n",
       "2                            Салат \"Баклажанчик\"   \n",
       "3  Куриные котлеты с картофельным пюре в духовке   \n",
       "4                        Рецепт вишневой наливки   \n",
       "\n",
       "                                         ingredients  \\\n",
       "0  {'Молоко': '250 мл', 'Клубника': '200 г', 'Сах...   \n",
       "1  {'Сыр твердый': None, 'Чеснок': None, 'Яйцо ку...   \n",
       "2  {'Баклажан': '3 шт', 'Лук репчатый': '2 шт', '...   \n",
       "3  {'Фарш куриный': '800 г', 'Пюре картофельное':...   \n",
       "4  {'Вишня': '1 кг', 'Водка': '1 л', 'Сахар': '30...   \n",
       "\n",
       "                                         description  \\\n",
       "0  этот коктейль готовлю из замороженной клубники...   \n",
       "1                                    быстро и вкусно   \n",
       "2           сытный овощной салатик пальчики оближете   \n",
       "3  картофельное пюре и куриные котлеты вкусная кл...   \n",
       "4  вишневая наливка имеет яркий вишневый вкус кот...   \n",
       "\n",
       "                            description_no_stopwords  \n",
       "0  коктейль готовлю замороженной клубники клубник...  \n",
       "1                                      быстро вкусно  \n",
       "2           сытный овощной салатик пальчики оближете  \n",
       "3  картофельное пюре куриные котлеты вкусная клас...  \n",
       "4  вишневая наливка имеет яркий вишневый вкус кот...  "
      ]
     },
     "execution_count": 144,
     "metadata": {},
     "output_type": "execute_result"
    }
   ],
   "source": [
    "recipes.head()"
   ]
  },
  {
   "cell_type": "code",
   "execution_count": 146,
   "metadata": {},
   "outputs": [
    {
     "data": {
      "text/plain": [
       "16165"
      ]
     },
     "execution_count": 146,
     "metadata": {},
     "output_type": "execute_result"
    }
   ],
   "source": [
    "len(words)"
   ]
  },
  {
   "cell_type": "code",
   "execution_count": 166,
   "metadata": {},
   "outputs": [
    {
     "data": {
      "text/plain": [
       "16014"
      ]
     },
     "execution_count": 166,
     "metadata": {},
     "output_type": "execute_result"
    }
   ],
   "source": [
    "no_stopwords = [word for word in words if word not in ru_stopwords]\n",
    "len(no_stopwords)"
   ]
  },
  {
   "cell_type": "code",
   "execution_count": 185,
   "metadata": {},
   "outputs": [
    {
     "data": {
      "text/plain": [
       "'0.93%'"
      ]
     },
     "execution_count": 185,
     "metadata": {},
     "output_type": "execute_result"
    }
   ],
   "source": [
    "#доля стопслов в уникальном наборе слов \n",
    "frac = (1-len(no_stopwords)/len(words))*100\n",
    "f\"{frac:.2f}%\""
   ]
  },
  {
   "cell_type": "code",
   "execution_count": 173,
   "metadata": {},
   "outputs": [],
   "source": [
    "all_words = [word for desc in recipes.description.apply(lambda descr: word_tokenize(descr)) for word in desc]"
   ]
  },
  {
   "cell_type": "code",
   "execution_count": 174,
   "metadata": {},
   "outputs": [],
   "source": [
    "all_no_stopwords = [\n",
    "    word for desc in recipes.description_no_stopwords.apply(lambda descr: word_tokenize(descr)) for word in desc\n",
    "]"
   ]
  },
  {
   "cell_type": "code",
   "execution_count": 184,
   "metadata": {},
   "outputs": [
    {
     "data": {
      "text/plain": [
       "'32.54%'"
      ]
     },
     "execution_count": 184,
     "metadata": {},
     "output_type": "execute_result"
    }
   ],
   "source": [
    "#доля стопслов в полном наборе слов\n",
    "frac = (1-len(all_no_stopwords)/len(all_words))*100\n",
    "f\"{frac:.2f}%\""
   ]
  },
  {
   "cell_type": "code",
   "execution_count": 186,
   "metadata": {},
   "outputs": [],
   "source": [
    "from nltk.probability import FreqDist\n",
    "fdist_before = FreqDist(all_words)\n",
    "fdist_after = FreqDist(all_no_stopwords)"
   ]
  },
  {
   "cell_type": "code",
   "execution_count": 201,
   "metadata": {},
   "outputs": [
    {
     "data": {
      "text/plain": [
       "[('и', 5062),\n",
       " ('в', 2592),\n",
       " ('с', 1942),\n",
       " ('на', 1658),\n",
       " ('очень', 1626),\n",
       " ('не', 1518),\n",
       " ('из', 1023),\n",
       " ('я', 982),\n",
       " ('а', 876),\n",
       " ('рецепт', 874)]"
      ]
     },
     "execution_count": 201,
     "metadata": {},
     "output_type": "execute_result"
    }
   ],
   "source": [
    "sorted(fdist_before.items(), key= lambda items: items[1], reverse=True)[:10]"
   ]
  },
  {
   "cell_type": "code",
   "execution_count": 202,
   "metadata": {},
   "outputs": [
    {
     "data": {
      "text/plain": [
       "[('очень', 1626),\n",
       " ('рецепт', 874),\n",
       " ('это', 743),\n",
       " ('блюдо', 527),\n",
       " ('вкусный', 461),\n",
       " ('просто', 439),\n",
       " ('вкусно', 380),\n",
       " ('приготовить', 344),\n",
       " ('вкус', 325),\n",
       " ('салат', 318)]"
      ]
     },
     "execution_count": 202,
     "metadata": {},
     "output_type": "execute_result"
    }
   ],
   "source": [
    "sorted(fdist_after.items(), key= lambda items: items[1], reverse=True)[:10]"
   ]
  },
  {
   "cell_type": "markdown",
   "metadata": {},
   "source": [
    "### Векторное представление текста"
   ]
  },
  {
   "cell_type": "markdown",
   "metadata": {},
   "source": [
    "6\\. Выберите случайным образом 5 рецептов из набора данных, в названии которых есть слово \"оладьи\" (без учета регистра). Представьте описание каждого рецепта в виде числового вектора при помощи `TfidfVectorizer`. На основе полученных векторов создайте `pd.DataFrame`, в котором названия колонок соответствуют словам из словаря объекта-векторизатора. \n",
    "\n",
    "Примечание: обратите внимание на порядок слов при создании колонок."
   ]
  },
  {
   "cell_type": "code",
   "execution_count": 210,
   "metadata": {},
   "outputs": [],
   "source": [
    "from sklearn.feature_extraction.text import (CountVectorizer, TfidfVectorizer)"
   ]
  },
  {
   "cell_type": "code",
   "execution_count": 206,
   "metadata": {},
   "outputs": [],
   "source": [
    "pancakes = recipes[recipes.name.apply(lambda name: \"оладьи\" in name.lower())]"
   ]
  },
  {
   "cell_type": "code",
   "execution_count": 207,
   "metadata": {},
   "outputs": [],
   "source": [
    "pancakes5 = pancakes.sample(5)"
   ]
  },
  {
   "cell_type": "code",
   "execution_count": 211,
   "metadata": {},
   "outputs": [],
   "source": [
    "vectorizer = TfidfVectorizer()"
   ]
  },
  {
   "cell_type": "code",
   "execution_count": 213,
   "metadata": {},
   "outputs": [],
   "source": [
    "vc = vectorizer.fit_transform(pancakes5.description)"
   ]
  },
  {
   "cell_type": "code",
   "execution_count": 221,
   "metadata": {},
   "outputs": [
    {
     "data": {
      "text/html": [
       "<div>\n",
       "<style scoped>\n",
       "    .dataframe tbody tr th:only-of-type {\n",
       "        vertical-align: middle;\n",
       "    }\n",
       "\n",
       "    .dataframe tbody tr th {\n",
       "        vertical-align: top;\n",
       "    }\n",
       "\n",
       "    .dataframe thead th {\n",
       "        text-align: right;\n",
       "    }\n",
       "</style>\n",
       "<table border=\"1\" class=\"dataframe\">\n",
       "  <thead>\n",
       "    <tr style=\"text-align: right;\">\n",
       "      <th></th>\n",
       "      <th>базилика</th>\n",
       "      <th>белки</th>\n",
       "      <th>блины</th>\n",
       "      <th>блюда</th>\n",
       "      <th>более</th>\n",
       "      <th>бы</th>\n",
       "      <th>был</th>\n",
       "      <th>быстро</th>\n",
       "      <th>вам</th>\n",
       "      <th>варенье</th>\n",
       "      <th>...</th>\n",
       "      <th>черешки</th>\n",
       "      <th>чечевица</th>\n",
       "      <th>что</th>\n",
       "      <th>чуть</th>\n",
       "      <th>шарообразной</th>\n",
       "      <th>шоколадный</th>\n",
       "      <th>щепотка</th>\n",
       "      <th>это</th>\n",
       "      <th>этом</th>\n",
       "      <th>этот</th>\n",
       "    </tr>\n",
       "  </thead>\n",
       "  <tbody>\n",
       "    <tr>\n",
       "      <th>0</th>\n",
       "      <td>0.000000</td>\n",
       "      <td>0.170495</td>\n",
       "      <td>0.000000</td>\n",
       "      <td>0.170495</td>\n",
       "      <td>0.000000</td>\n",
       "      <td>0.000000</td>\n",
       "      <td>0.000000</td>\n",
       "      <td>0.000000</td>\n",
       "      <td>0.000000</td>\n",
       "      <td>0.000000</td>\n",
       "      <td>...</td>\n",
       "      <td>0.170495</td>\n",
       "      <td>0.170495</td>\n",
       "      <td>0.000000</td>\n",
       "      <td>0.000000</td>\n",
       "      <td>0.000000</td>\n",
       "      <td>0.000000</td>\n",
       "      <td>0.000000</td>\n",
       "      <td>0.000000</td>\n",
       "      <td>0.170495</td>\n",
       "      <td>0.000000</td>\n",
       "    </tr>\n",
       "    <tr>\n",
       "      <th>1</th>\n",
       "      <td>0.000000</td>\n",
       "      <td>0.000000</td>\n",
       "      <td>0.197642</td>\n",
       "      <td>0.000000</td>\n",
       "      <td>0.000000</td>\n",
       "      <td>0.000000</td>\n",
       "      <td>0.197642</td>\n",
       "      <td>0.000000</td>\n",
       "      <td>0.000000</td>\n",
       "      <td>0.000000</td>\n",
       "      <td>...</td>\n",
       "      <td>0.000000</td>\n",
       "      <td>0.000000</td>\n",
       "      <td>0.159456</td>\n",
       "      <td>0.000000</td>\n",
       "      <td>0.000000</td>\n",
       "      <td>0.000000</td>\n",
       "      <td>0.000000</td>\n",
       "      <td>0.318912</td>\n",
       "      <td>0.000000</td>\n",
       "      <td>0.197642</td>\n",
       "    </tr>\n",
       "    <tr>\n",
       "      <th>2</th>\n",
       "      <td>0.000000</td>\n",
       "      <td>0.000000</td>\n",
       "      <td>0.000000</td>\n",
       "      <td>0.000000</td>\n",
       "      <td>0.000000</td>\n",
       "      <td>0.000000</td>\n",
       "      <td>0.000000</td>\n",
       "      <td>0.000000</td>\n",
       "      <td>0.000000</td>\n",
       "      <td>0.000000</td>\n",
       "      <td>...</td>\n",
       "      <td>0.000000</td>\n",
       "      <td>0.000000</td>\n",
       "      <td>0.000000</td>\n",
       "      <td>0.000000</td>\n",
       "      <td>0.000000</td>\n",
       "      <td>0.000000</td>\n",
       "      <td>0.000000</td>\n",
       "      <td>0.210069</td>\n",
       "      <td>0.000000</td>\n",
       "      <td>0.000000</td>\n",
       "    </tr>\n",
       "    <tr>\n",
       "      <th>3</th>\n",
       "      <td>0.146652</td>\n",
       "      <td>0.000000</td>\n",
       "      <td>0.000000</td>\n",
       "      <td>0.000000</td>\n",
       "      <td>0.000000</td>\n",
       "      <td>0.146652</td>\n",
       "      <td>0.000000</td>\n",
       "      <td>0.000000</td>\n",
       "      <td>0.146652</td>\n",
       "      <td>0.000000</td>\n",
       "      <td>...</td>\n",
       "      <td>0.000000</td>\n",
       "      <td>0.000000</td>\n",
       "      <td>0.000000</td>\n",
       "      <td>0.000000</td>\n",
       "      <td>0.000000</td>\n",
       "      <td>0.000000</td>\n",
       "      <td>0.146652</td>\n",
       "      <td>0.000000</td>\n",
       "      <td>0.000000</td>\n",
       "      <td>0.000000</td>\n",
       "    </tr>\n",
       "    <tr>\n",
       "      <th>4</th>\n",
       "      <td>0.000000</td>\n",
       "      <td>0.000000</td>\n",
       "      <td>0.000000</td>\n",
       "      <td>0.000000</td>\n",
       "      <td>0.119493</td>\n",
       "      <td>0.000000</td>\n",
       "      <td>0.000000</td>\n",
       "      <td>0.119493</td>\n",
       "      <td>0.000000</td>\n",
       "      <td>0.119493</td>\n",
       "      <td>...</td>\n",
       "      <td>0.000000</td>\n",
       "      <td>0.000000</td>\n",
       "      <td>0.096407</td>\n",
       "      <td>0.119493</td>\n",
       "      <td>0.119493</td>\n",
       "      <td>0.119493</td>\n",
       "      <td>0.000000</td>\n",
       "      <td>0.000000</td>\n",
       "      <td>0.000000</td>\n",
       "      <td>0.000000</td>\n",
       "    </tr>\n",
       "  </tbody>\n",
       "</table>\n",
       "<p>5 rows × 172 columns</p>\n",
       "</div>"
      ],
      "text/plain": [
       "   базилика     белки     блины     блюда     более        бы       был  \\\n",
       "0  0.000000  0.170495  0.000000  0.170495  0.000000  0.000000  0.000000   \n",
       "1  0.000000  0.000000  0.197642  0.000000  0.000000  0.000000  0.197642   \n",
       "2  0.000000  0.000000  0.000000  0.000000  0.000000  0.000000  0.000000   \n",
       "3  0.146652  0.000000  0.000000  0.000000  0.000000  0.146652  0.000000   \n",
       "4  0.000000  0.000000  0.000000  0.000000  0.119493  0.000000  0.000000   \n",
       "\n",
       "     быстро       вам   варенье  ...   черешки  чечевица       что      чуть  \\\n",
       "0  0.000000  0.000000  0.000000  ...  0.170495  0.170495  0.000000  0.000000   \n",
       "1  0.000000  0.000000  0.000000  ...  0.000000  0.000000  0.159456  0.000000   \n",
       "2  0.000000  0.000000  0.000000  ...  0.000000  0.000000  0.000000  0.000000   \n",
       "3  0.000000  0.146652  0.000000  ...  0.000000  0.000000  0.000000  0.000000   \n",
       "4  0.119493  0.000000  0.119493  ...  0.000000  0.000000  0.096407  0.119493   \n",
       "\n",
       "   шарообразной  шоколадный   щепотка       это      этом      этот  \n",
       "0      0.000000    0.000000  0.000000  0.000000  0.170495  0.000000  \n",
       "1      0.000000    0.000000  0.000000  0.318912  0.000000  0.197642  \n",
       "2      0.000000    0.000000  0.000000  0.210069  0.000000  0.000000  \n",
       "3      0.000000    0.000000  0.146652  0.000000  0.000000  0.000000  \n",
       "4      0.119493    0.119493  0.000000  0.000000  0.000000  0.000000  \n",
       "\n",
       "[5 rows x 172 columns]"
      ]
     },
     "execution_count": 221,
     "metadata": {},
     "output_type": "execute_result"
    }
   ],
   "source": [
    "df6 = pd.DataFrame(vc.toarray(), columns=vectorizer.get_feature_names_out())\n",
    "df6"
   ]
  },
  {
   "cell_type": "code",
   "execution_count": 226,
   "metadata": {},
   "outputs": [
    {
     "data": {
      "text/html": [
       "<div>\n",
       "<style scoped>\n",
       "    .dataframe tbody tr th:only-of-type {\n",
       "        vertical-align: middle;\n",
       "    }\n",
       "\n",
       "    .dataframe tbody tr th {\n",
       "        vertical-align: top;\n",
       "    }\n",
       "\n",
       "    .dataframe thead th {\n",
       "        text-align: right;\n",
       "    }\n",
       "</style>\n",
       "<table border=\"1\" class=\"dataframe\">\n",
       "  <thead>\n",
       "    <tr style=\"text-align: right;\">\n",
       "      <th></th>\n",
       "      <th>базилика</th>\n",
       "      <th>белки</th>\n",
       "      <th>блины</th>\n",
       "      <th>блюда</th>\n",
       "      <th>более</th>\n",
       "      <th>бы</th>\n",
       "      <th>был</th>\n",
       "      <th>быстро</th>\n",
       "      <th>вам</th>\n",
       "      <th>варенье</th>\n",
       "      <th>...</th>\n",
       "      <th>черешки</th>\n",
       "      <th>чечевица</th>\n",
       "      <th>что</th>\n",
       "      <th>чуть</th>\n",
       "      <th>шарообразной</th>\n",
       "      <th>шоколадный</th>\n",
       "      <th>щепотка</th>\n",
       "      <th>это</th>\n",
       "      <th>этом</th>\n",
       "      <th>этот</th>\n",
       "    </tr>\n",
       "  </thead>\n",
       "  <tbody>\n",
       "    <tr>\n",
       "      <th>0</th>\n",
       "      <td>0.0</td>\n",
       "      <td>0.170495</td>\n",
       "      <td>0.0</td>\n",
       "      <td>0.170495</td>\n",
       "      <td>0.0</td>\n",
       "      <td>0.0</td>\n",
       "      <td>0.0</td>\n",
       "      <td>0.0</td>\n",
       "      <td>0.0</td>\n",
       "      <td>0.0</td>\n",
       "      <td>...</td>\n",
       "      <td>0.170495</td>\n",
       "      <td>0.170495</td>\n",
       "      <td>0.0</td>\n",
       "      <td>0.0</td>\n",
       "      <td>0.0</td>\n",
       "      <td>0.0</td>\n",
       "      <td>0.0</td>\n",
       "      <td>0.0</td>\n",
       "      <td>0.170495</td>\n",
       "      <td>0.0</td>\n",
       "    </tr>\n",
       "  </tbody>\n",
       "</table>\n",
       "<p>1 rows × 172 columns</p>\n",
       "</div>"
      ],
      "text/plain": [
       "   базилика     белки  блины     блюда  более   бы  был  быстро  вам  варенье  \\\n",
       "0       0.0  0.170495    0.0  0.170495    0.0  0.0  0.0     0.0  0.0      0.0   \n",
       "\n",
       "   ...   черешки  чечевица  что  чуть  шарообразной  шоколадный  щепотка  это  \\\n",
       "0  ...  0.170495  0.170495  0.0   0.0           0.0         0.0      0.0  0.0   \n",
       "\n",
       "       этом  этот  \n",
       "0  0.170495   0.0  \n",
       "\n",
       "[1 rows x 172 columns]"
      ]
     },
     "execution_count": 226,
     "metadata": {},
     "output_type": "execute_result"
    }
   ],
   "source": [
    "df6.iloc[:1]"
   ]
  },
  {
   "cell_type": "code",
   "execution_count": 236,
   "metadata": {},
   "outputs": [
    {
     "data": {
      "text/plain": [
       "'гречка да с цитрусом что это это вкусно масленицу провожать надо а на блины уже глаза не смотрят вот и найден был этот рецепт в журналах да как удачно'"
      ]
     },
     "execution_count": 236,
     "metadata": {},
     "output_type": "execute_result"
    }
   ],
   "source": [
    "pancakes5.description.iloc[1]"
   ]
  },
  {
   "cell_type": "code",
   "execution_count": 235,
   "metadata": {},
   "outputs": [
    {
     "data": {
      "text/plain": [
       "гречка       0.197642\n",
       "цитрусом     0.197642\n",
       "это          0.318912\n",
       "это          0.318912\n",
       "вкусно       0.197642\n",
       "масленицу    0.197642\n",
       "провожать    0.197642\n",
       "блины        0.197642\n",
       "глаза        0.197642\n",
       "смотрят      0.197642\n",
       "найден       0.197642\n",
       "рецепт       0.132363\n",
       "журналах     0.197642\n",
       "удачно       0.197642\n",
       "Name: 1, dtype: float64"
      ]
     },
     "execution_count": 235,
     "metadata": {},
     "output_type": "execute_result"
    }
   ],
   "source": [
    "df6.iloc[1][[word for word in word_tokenize(pancakes5.description.iloc[1]) if word not in ru_stopwords]]"
   ]
  },
  {
   "cell_type": "markdown",
   "metadata": {},
   "source": [
    "7\\. Вычислите близость между каждой парой рецептов, выбранных в задании 6, используя косинусное расстояние (можно воспользоваться функциями из любого пакета: `scipy`, `scikit-learn` или реализовать функцию самому). Результаты оформите в виде таблицы `pd.DataFrame`. В качестве названий строк и столбцов используйте названия рецептов.\n",
    "\n",
    "Примечание: обратите внимание, что $d_{cosine}(x, x) = 0$"
   ]
  },
  {
   "cell_type": "code",
   "execution_count": 247,
   "metadata": {},
   "outputs": [],
   "source": [
    "from numpy.linalg import norm"
   ]
  },
  {
   "cell_type": "code",
   "execution_count": 242,
   "metadata": {},
   "outputs": [],
   "source": [
    "morph = pymorphy2.MorphAnalyzer()\n",
    "w_regex = re.compile('^[а-яё]*$')\n",
    "\n",
    "def vectorizer_n(string):\n",
    "    return [\n",
    "        morph.parse(word)[0].normalized.word\n",
    "        for word in word_tokenize(string.lower())\n",
    "        if w_regex.search(word)\n",
    "    ]\n"
   ]
  },
  {
   "cell_type": "code",
   "execution_count": 243,
   "metadata": {},
   "outputs": [],
   "source": [
    "cv = CountVectorizer(tokenizer=vectorizer_n, stop_words=ru_stopwords)"
   ]
  },
  {
   "cell_type": "code",
   "execution_count": 244,
   "metadata": {},
   "outputs": [
    {
     "name": "stderr",
     "output_type": "stream",
     "text": [
      "C:\\Users\\Nikita\\anaconda3\\lib\\site-packages\\sklearn\\feature_extraction\\text.py:396: UserWarning: Your stop_words may be inconsistent with your preprocessing. Tokenizing the stop words generated tokens ['большой', 'весь', 'всё', 'ещё', 'мочь', 'нибыть', 'свой', 'хороший', 'это'] not in stop_words.\n",
      "  warnings.warn(\n"
     ]
    }
   ],
   "source": [
    "recipes_cv = cv.fit_transform(pancakes5.description)"
   ]
  },
  {
   "cell_type": "code",
   "execution_count": 245,
   "metadata": {},
   "outputs": [],
   "source": [
    "recipes_arr = recipes_cv.toarray()"
   ]
  },
  {
   "cell_type": "code",
   "execution_count": 253,
   "metadata": {},
   "outputs": [],
   "source": [
    "recipes_arrn = recipes_arr / norm(recipes_arr, axis=1)[:, np.newaxis]"
   ]
  },
  {
   "cell_type": "code",
   "execution_count": 268,
   "metadata": {},
   "outputs": [
    {
     "data": {
      "text/plain": [
       "array([[1.        , 0.09128709, 0.05063697, 0.03042903, 0.08921995],\n",
       "       [0.09128709, 1.        , 0.20801257, 0.08333333, 0.06108472],\n",
       "       [0.05063697, 0.20801257, 1.        , 0.09245003, 0.13553483],\n",
       "       [0.03042903, 0.08333333, 0.09245003, 1.        , 0.16289259],\n",
       "       [0.08921995, 0.06108472, 0.13553483, 0.16289259, 1.        ]])"
      ]
     },
     "execution_count": 268,
     "metadata": {},
     "output_type": "execute_result"
    }
   ],
   "source": [
    "temp = recipes_arrn @ recipes_arrn.T\n",
    "temp"
   ]
  },
  {
   "cell_type": "code",
   "execution_count": 257,
   "metadata": {},
   "outputs": [],
   "source": [
    "from sklearn.metrics.pairwise import cosine_distances as cos_d"
   ]
  },
  {
   "cell_type": "code",
   "execution_count": 259,
   "metadata": {
    "scrolled": true
   },
   "outputs": [
    {
     "data": {
      "text/plain": [
       "array([[1.        , 0.09128709, 0.05063697, 0.03042903, 0.08921995],\n",
       "       [0.09128709, 1.        , 0.20801257, 0.08333333, 0.06108472],\n",
       "       [0.05063697, 0.20801257, 1.        , 0.09245003, 0.13553483],\n",
       "       [0.03042903, 0.08333333, 0.09245003, 1.        , 0.16289259],\n",
       "       [0.08921995, 0.06108472, 0.13553483, 0.16289259, 1.        ]])"
      ]
     },
     "execution_count": 259,
     "metadata": {},
     "output_type": "execute_result"
    }
   ],
   "source": [
    "1 - cos_d(recipes_arr)"
   ]
  },
  {
   "cell_type": "markdown",
   "metadata": {},
   "source": [
    "Попробуем не через описание а через ингридиенты"
   ]
  },
  {
   "cell_type": "code",
   "execution_count": 260,
   "metadata": {},
   "outputs": [],
   "source": [
    "cv = CountVectorizer(tokenizer=vectorizer_n, stop_words=ru_stopwords)"
   ]
  },
  {
   "cell_type": "code",
   "execution_count": 261,
   "metadata": {
    "scrolled": true
   },
   "outputs": [
    {
     "name": "stderr",
     "output_type": "stream",
     "text": [
      "C:\\Users\\Nikita\\anaconda3\\lib\\site-packages\\sklearn\\feature_extraction\\text.py:396: UserWarning: Your stop_words may be inconsistent with your preprocessing. Tokenizing the stop words generated tokens ['большой', 'весь', 'всё', 'ещё', 'мочь', 'нибыть', 'свой', 'хороший', 'это'] not in stop_words.\n",
      "  warnings.warn(\n"
     ]
    }
   ],
   "source": [
    "recipes_cv = cv.fit_transform(pancakes5.ingredients)"
   ]
  },
  {
   "cell_type": "code",
   "execution_count": 262,
   "metadata": {},
   "outputs": [
    {
     "data": {
      "text/plain": [
       "array([[1.        , 0.447039  , 0.05832118, 0.43643578, 0.19886685],\n",
       "       [0.447039  , 1.        , 0.10265789, 0.81090024, 0.48340048],\n",
       "       [0.05832118, 0.10265789, 1.        , 0.04454354, 0.2087667 ],\n",
       "       [0.43643578, 0.81090024, 0.04454354, 1.        , 0.6292464 ],\n",
       "       [0.19886685, 0.48340048, 0.2087667 , 0.6292464 , 1.        ]])"
      ]
     },
     "execution_count": 262,
     "metadata": {},
     "output_type": "execute_result"
    }
   ],
   "source": [
    "1 - cos_d(recipes_cv.toarray())"
   ]
  },
  {
   "cell_type": "code",
   "execution_count": 267,
   "metadata": {
    "scrolled": true
   },
   "outputs": [
    {
     "name": "stdout",
     "output_type": "stream",
     "text": [
      "********************\n",
      "{'Сельдерей черешковый': '1 пуч.', 'Кабачок': '2 шт', 'Фета': '200 г', 'Яйцо куриное': '1 шт', 'Чечевица': '300 г', 'Мука пшеничная': '120 г', 'Масло оливковое': None, 'Зелень': '1 пуч.'}\n",
      "********************\n",
      "{'Мука пшеничная': '70 г', 'Мука гречневая': '70 г', 'Яйцо куриное': '1 шт', 'Детское питание': '50 г', 'Напиток кисломолочный': '250 мл', 'Сахар': '50 г', 'Корица': '0,5 ч. л.', 'Дрожжи': '0,5 ч. л.', 'Сок апельсиновый': '200 мл', 'Крахмал кукурузный': '1 ч. л.', 'Молоко кокосовое': '1 ч. л.'}\n",
      "********************\n",
      "{'Хлопья овсяные': '1 стак.', 'Молоко': '800 мл', 'Дрожжи': '1 пакет.', 'Сахар': '0.5 стак.', 'Соль': '1 щепот.', 'Мука пшеничная': '3 стак.'}\n",
      "********************\n",
      "{'Помидор': '500 г', 'Мята': '1 пуч.', 'Мука пшеничная': '250 г', 'Лук репчатый': '1 шт', 'Сахар': '0,5 ч. л.', 'Перец душистый': '0,5 ч. л.', 'Соль': None, 'Масло оливковое': '3 ст. л.', 'Базилик': '0,5 ч. л.'}\n",
      "********************\n",
      "{'Молоко': '4 ст. л.', 'Дрожжи': '6 г', 'Вода': '3 ст. л.', 'Сахар': '2 ст. л.', 'Яйцо куриное': '1 шт', 'Соль': '1 щепот.', 'Кефир': '80 мл', 'Мука пшеничная': '1 стак.', 'Сок лимонный': '2 ст. л.', 'Масло растительное': '3 ст. л.'}\n"
     ]
    }
   ],
   "source": [
    "for ingr in pancakes5.ingredients:\n",
    "    print('*'*20)\n",
    "    print(ingr)"
   ]
  },
  {
   "cell_type": "code",
   "execution_count": 274,
   "metadata": {},
   "outputs": [
    {
     "data": {
      "text/html": [
       "<div>\n",
       "<style scoped>\n",
       "    .dataframe tbody tr th:only-of-type {\n",
       "        vertical-align: middle;\n",
       "    }\n",
       "\n",
       "    .dataframe tbody tr th {\n",
       "        vertical-align: top;\n",
       "    }\n",
       "\n",
       "    .dataframe thead th {\n",
       "        text-align: right;\n",
       "    }\n",
       "</style>\n",
       "<table border=\"1\" class=\"dataframe\">\n",
       "  <thead>\n",
       "    <tr style=\"text-align: right;\">\n",
       "      <th></th>\n",
       "      <th>Оладьи из сельдерея, кабачков, феты и чечевицы</th>\n",
       "      <th>Гречневые оладьи с апельсиновым киселем</th>\n",
       "      <th>Оладьи овсяные дрожжевые</th>\n",
       "      <th>Оладьи из помидоров с мятой</th>\n",
       "      <th>Голландские лимонные оладьи</th>\n",
       "    </tr>\n",
       "  </thead>\n",
       "  <tbody>\n",
       "    <tr>\n",
       "      <th>Оладьи из сельдерея, кабачков, феты и чечевицы</th>\n",
       "      <td>1.000000</td>\n",
       "      <td>0.091287</td>\n",
       "      <td>0.050637</td>\n",
       "      <td>0.030429</td>\n",
       "      <td>0.089220</td>\n",
       "    </tr>\n",
       "    <tr>\n",
       "      <th>Гречневые оладьи с апельсиновым киселем</th>\n",
       "      <td>0.091287</td>\n",
       "      <td>1.000000</td>\n",
       "      <td>0.208013</td>\n",
       "      <td>0.083333</td>\n",
       "      <td>0.061085</td>\n",
       "    </tr>\n",
       "    <tr>\n",
       "      <th>Оладьи овсяные дрожжевые</th>\n",
       "      <td>0.050637</td>\n",
       "      <td>0.208013</td>\n",
       "      <td>1.000000</td>\n",
       "      <td>0.092450</td>\n",
       "      <td>0.135535</td>\n",
       "    </tr>\n",
       "    <tr>\n",
       "      <th>Оладьи из помидоров с мятой</th>\n",
       "      <td>0.030429</td>\n",
       "      <td>0.083333</td>\n",
       "      <td>0.092450</td>\n",
       "      <td>1.000000</td>\n",
       "      <td>0.162893</td>\n",
       "    </tr>\n",
       "    <tr>\n",
       "      <th>Голландские лимонные оладьи</th>\n",
       "      <td>0.089220</td>\n",
       "      <td>0.061085</td>\n",
       "      <td>0.135535</td>\n",
       "      <td>0.162893</td>\n",
       "      <td>1.000000</td>\n",
       "    </tr>\n",
       "  </tbody>\n",
       "</table>\n",
       "</div>"
      ],
      "text/plain": [
       "                                                Оладьи из сельдерея, кабачков, феты и чечевицы  \\\n",
       "Оладьи из сельдерея, кабачков, феты и чечевицы                                        1.000000   \n",
       "Гречневые оладьи с апельсиновым киселем                                               0.091287   \n",
       "Оладьи овсяные дрожжевые                                                              0.050637   \n",
       "Оладьи из помидоров с мятой                                                           0.030429   \n",
       "Голландские лимонные оладьи                                                           0.089220   \n",
       "\n",
       "                                                Гречневые оладьи с апельсиновым киселем  \\\n",
       "Оладьи из сельдерея, кабачков, феты и чечевицы                                 0.091287   \n",
       "Гречневые оладьи с апельсиновым киселем                                        1.000000   \n",
       "Оладьи овсяные дрожжевые                                                       0.208013   \n",
       "Оладьи из помидоров с мятой                                                    0.083333   \n",
       "Голландские лимонные оладьи                                                    0.061085   \n",
       "\n",
       "                                                Оладьи овсяные дрожжевые  \\\n",
       "Оладьи из сельдерея, кабачков, феты и чечевицы                  0.050637   \n",
       "Гречневые оладьи с апельсиновым киселем                         0.208013   \n",
       "Оладьи овсяные дрожжевые                                        1.000000   \n",
       "Оладьи из помидоров с мятой                                     0.092450   \n",
       "Голландские лимонные оладьи                                     0.135535   \n",
       "\n",
       "                                                Оладьи из помидоров с мятой  \\\n",
       "Оладьи из сельдерея, кабачков, феты и чечевицы                     0.030429   \n",
       "Гречневые оладьи с апельсиновым киселем                            0.083333   \n",
       "Оладьи овсяные дрожжевые                                           0.092450   \n",
       "Оладьи из помидоров с мятой                                        1.000000   \n",
       "Голландские лимонные оладьи                                        0.162893   \n",
       "\n",
       "                                                Голландские лимонные оладьи  \n",
       "Оладьи из сельдерея, кабачков, феты и чечевицы                     0.089220  \n",
       "Гречневые оладьи с апельсиновым киселем                            0.061085  \n",
       "Оладьи овсяные дрожжевые                                           0.135535  \n",
       "Оладьи из помидоров с мятой                                        0.162893  \n",
       "Голландские лимонные оладьи                                        1.000000  "
      ]
     },
     "execution_count": 274,
     "metadata": {},
     "output_type": "execute_result"
    }
   ],
   "source": [
    "df7 = pd.DataFrame(temp, columns=list(pancakes5.name), index=list(pancakes5.name))\n",
    "df7"
   ]
  },
  {
   "cell_type": "markdown",
   "metadata": {},
   "source": [
    "8\\. Напишите функцию, которая принимает на вход `pd.DataFrame`, полученный в задании 7, и возвращает в виде кортежа названия двух различных рецептов, которые являются наиболее похожими. Прокомментируйте результат (в виде текстового комментария). Для объяснения результата сравните слова в описаниях двух этих отзывов."
   ]
  },
  {
   "cell_type": "code",
   "execution_count": 314,
   "metadata": {},
   "outputs": [],
   "source": [
    "def find_closest(sim_df: pd.DataFrame) -> tuple:\n",
    "    sim_df = sim_df.replace(1,0)\n",
    "    recipe1 = sim_df.max().idxmax()\n",
    "    recipe2 = sim_df.idxmax()[recipe1]\n",
    "    return recipe1, recipe2"
   ]
  },
  {
   "cell_type": "code",
   "execution_count": 318,
   "metadata": {},
   "outputs": [],
   "source": [
    "res = find_closest(df7)"
   ]
  },
  {
   "cell_type": "code",
   "execution_count": 323,
   "metadata": {},
   "outputs": [
    {
     "data": {
      "text/plain": [
       "0.20801257358446093"
      ]
     },
     "execution_count": 323,
     "metadata": {},
     "output_type": "execute_result"
    }
   ],
   "source": [
    "df7.loc[res[0], res[1]]"
   ]
  },
  {
   "cell_type": "code",
   "execution_count": 327,
   "metadata": {},
   "outputs": [
    {
     "data": {
      "text/plain": [
       "'гречка да с цитрусом что это это вкусно масленицу провожать надо а на блины уже глаза не смотрят вот и найден был этот рецепт в журналах да как удачно'"
      ]
     },
     "execution_count": 327,
     "metadata": {},
     "output_type": "execute_result"
    }
   ],
   "source": [
    "pancakes5.loc[pancakes5.name==res[0], 'description'].iloc[0]"
   ]
  },
  {
   "cell_type": "code",
   "execution_count": 328,
   "metadata": {},
   "outputs": [
    {
     "data": {
      "text/plain": [
       "'нежнейшие оладушки которые тают во рту пришлось немного повозиться и подождать но это того стоит с наступающей масленицей'"
      ]
     },
     "execution_count": 328,
     "metadata": {},
     "output_type": "execute_result"
    }
   ],
   "source": [
    "pancakes5.loc[pancakes5.name==res[1], 'description'].iloc[0]"
   ]
  },
  {
   "cell_type": "code",
   "execution_count": null,
   "metadata": {},
   "outputs": [],
   "source": []
  }
 ],
 "metadata": {
  "kernelspec": {
   "display_name": "Python 3 (ipykernel)",
   "language": "python",
   "name": "python3"
  },
  "language_info": {
   "codemirror_mode": {
    "name": "ipython",
    "version": 3
   },
   "file_extension": ".py",
   "mimetype": "text/x-python",
   "name": "python",
   "nbconvert_exporter": "python",
   "pygments_lexer": "ipython3",
   "version": "3.9.12"
  }
 },
 "nbformat": 4,
 "nbformat_minor": 4
}
