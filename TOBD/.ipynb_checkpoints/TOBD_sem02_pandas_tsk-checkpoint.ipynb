{
 "cells": [
  {
   "cell_type": "code",
   "execution_count": 1,
   "metadata": {
    "id": "cbCIUaUWh7QL"
   },
   "outputs": [],
   "source": [
    "import pandas as pd\n",
    "import numpy as np"
   ]
  },
  {
   "cell_type": "markdown",
   "metadata": {
    "id": "VOON4n8ah7QP"
   },
   "source": [
    "1) Задание: загрузить данные из файлов (приложены к письму):\n",
    "* excel-comp-data.xlsx\n",
    "* sp500hst.txt "
   ]
  },
  {
   "cell_type": "markdown",
   "metadata": {
    "id": "AGOBvnNXh7QR"
   },
   "source": [
    "2) Загрузить данные из файла sp500hst.txt, обозначить столбцы (в соответствии с содержимым). "
   ]
  },
  {
   "cell_type": "markdown",
   "metadata": {
    "id": "fDM24acJh7QS"
   },
   "source": [
    "3.1) Создать столбец со значеними средними, между значением дневного минимума и максимума."
   ]
  },
  {
   "cell_type": "markdown",
   "metadata": {
    "id": "WAm_yXD2h7QS"
   },
   "source": [
    "3.2) Рассчитать среднее значение показателей для каждого из столбцов 3-6."
   ]
  },
  {
   "cell_type": "markdown",
   "metadata": {
    "id": "9TMJkAjdh7QT"
   },
   "source": [
    "4.1) Создать DataFrame состоящий из строк относящихся только к 13 августа 2010 года. "
   ]
  },
  {
   "cell_type": "markdown",
   "metadata": {
    "id": "AUQFpwE6h7QT"
   },
   "source": [
    "4.1.2) Из DataFrame, созданного в 4.1, cоздать серию из 30 первых имен "
   ]
  },
  {
   "cell_type": "markdown",
   "metadata": {
    "id": "vJV9_2RQh7QU"
   },
   "source": [
    "4.2) Из DataFrame, созданного в 4.1, создать новый DataFrame индексом в котором являются имена тикеров."
   ]
  },
  {
   "cell_type": "markdown",
   "metadata": {
    "id": "TYJKCnu5h7QU"
   },
   "source": [
    "4.3) Создать DataFrame состоящий из строк относящихся только тикеру ALTR."
   ]
  },
  {
   "cell_type": "markdown",
   "metadata": {
    "id": "rweRygrjh7QV"
   },
   "source": [
    "4.4) Из DataFrame, созданного в 4.3, создать DataFrame индексом в котором являются даты."
   ]
  },
  {
   "cell_type": "markdown",
   "metadata": {
    "id": "rrcX0WuXh7QV"
   },
   "source": [
    "4.5) В DataFrame, созданном в 4.3, добавить столбец, содержащий только число месяца, к которому относится дата."
   ]
  },
  {
   "cell_type": "markdown",
   "metadata": {
    "id": "mDUqLS5lh7QW"
   },
   "source": [
    "4.5.1) Создать DataFrame состоящий из строк относящихся только тикеру WAT и объединить его с DataFrame для ALTR. "
   ]
  },
  {
   "cell_type": "markdown",
   "metadata": {
    "id": "9dM2cPazh7QY"
   },
   "source": [
    "4.5.2) Создать DataFrame в котором присутствует столбец, отражающий разницу в объемах торгов по WAT и ALTR в одинаковые дни и содержит исходные данны об объеме трогов этими акциями."
   ]
  },
  {
   "cell_type": "markdown",
   "metadata": {
    "id": "3eTth_Mmh7QY"
   },
   "source": [
    "4.6) В DataFrame добавить столбец, содержащий только число месяца, к которому относится дата.\n",
    "\n",
    "4.7) Из DataFrame выбрать только строки, относящиеся к 13 числу месяца."
   ]
  },
  {
   "cell_type": "markdown",
   "metadata": {
    "id": "hD1O45SNh7QY"
   },
   "source": [
    "4) Выяввиь столбцы содержащие минимальные и максимальные значения (если такие столбцы есть). (Проверить, есть ли среди столбцов, столбец с минимальным значением курса акций.)"
   ]
  },
  {
   "cell_type": "markdown",
   "metadata": {
    "id": "a9CgyU_0h7QZ"
   },
   "source": [
    "5) По данным из 'sp500hst.txt' при помощи Pandas расчитать максимальные значения в 3-6 столбца для дат после 20100801\n",
    "\n",
    "6) По данным из 'sp500hst.txt' при помощи Pandas расчитать средний объем торгов (обеъм торгов - в последнем столбце) при значениях 3го столбца больше 50."
   ]
  },
  {
   "cell_type": "markdown",
   "metadata": {
    "id": "zRijj-tYh7QZ"
   },
   "source": [
    "7) Добавить столбец с расшифровкой названия тикера используя данные из файла sp_data2.csv . В случае нехватки данных об именах тикеров корректно обработать их.\n",
    "\n",
    "8) Вывести тикеры, для которых не были найдены рсшифровки. "
   ]
  },
  {
   "cell_type": "markdown",
   "metadata": {
    "id": "qmxQg5tJh7Qa"
   },
   "source": [
    "9) Рассчитать суммарный объем торгов (столбец 7) для для одинаковых значений (тикеров) из столбца 2 \n",
    "\n",
    "9.2) Для каждого тикера подсчитать, сколько раз он встречается.\n",
    "\n",
    "10) Расчитать среднее значение показателей для каждого из столбцов 3-6 для одинаковых значений (тикеров) из столбца 2 и сохранить в новом DataFrame\n",
    "\n",
    "11) Добавить в DataFrame новый столбец, содержащий объем торгов (столбец 7), нормированный по среднему значению объема торгов для данного тикера.\n",
    "\n"
   ]
  }
 ],
 "metadata": {
  "colab": {
   "provenance": []
  },
  "kernelspec": {
   "display_name": "Python 3 (ipykernel)",
   "language": "python",
   "name": "python3"
  },
  "language_info": {
   "codemirror_mode": {
    "name": "ipython",
    "version": 3
   },
   "file_extension": ".py",
   "mimetype": "text/x-python",
   "name": "python",
   "nbconvert_exporter": "python",
   "pygments_lexer": "ipython3",
   "version": "3.9.12"
  }
 },
 "nbformat": 4,
 "nbformat_minor": 1
}
