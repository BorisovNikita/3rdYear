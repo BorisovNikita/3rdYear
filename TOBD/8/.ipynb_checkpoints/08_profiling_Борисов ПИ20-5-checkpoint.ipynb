{
 "cells": [
  {
   "cell_type": "markdown",
   "metadata": {},
   "source": [
    "# Оптимизация выполнения кода, векторизация, Numba"
   ]
  },
  {
   "cell_type": "markdown",
   "metadata": {},
   "source": [
    "__Автор задач: Блохин Н.В. (NVBlokhin@fa.ru)__\n",
    "\n",
    "Материалы:\n",
    "* Макрушин С.В. \"Оптимизация выполнения кода, векторизация, Numba\"\n",
    "* IPython Cookbook, Second Edition (2018), глава 4\n",
    "* https://ipython-books.github.io/43-profiling-your-code-line-by-line-with-line_profiler/\n",
    "* https://numba.pydata.org/numba-doc/latest/user/5minguide.html\n",
    "* https://numba.readthedocs.io/en/stable/reference/deprecation.html#deprecation-of-reflection-for-list-and-set-types"
   ]
  },
  {
   "cell_type": "markdown",
   "metadata": {},
   "source": [
    "## Задачи для совместного разбора"
   ]
  },
  {
   "cell_type": "code",
   "execution_count": 1,
   "metadata": {},
   "outputs": [
    {
     "name": "stdout",
     "output_type": "stream",
     "text": [
      "Collecting line_profiler\n",
      "  Downloading line_profiler-4.0.1-cp39-cp39-win_amd64.whl (82 kB)\n",
      "Installing collected packages: line-profiler\n",
      "Successfully installed line-profiler-4.0.1\n"
     ]
    }
   ],
   "source": [
    "# !pip install git+https://github.com/pyutils/line_profiler.git\n",
    "!pip install line_profiler\n",
    "# !pip install --user numpy==1.20"
   ]
  },
  {
   "cell_type": "code",
   "execution_count": 2,
   "metadata": {},
   "outputs": [],
   "source": [
    "import numpy as np\n",
    "import numba\n",
    "from numba import njit"
   ]
  },
  {
   "cell_type": "markdown",
   "metadata": {},
   "source": [
    "1. Сгенерируйте массив `A` из `N=1млн` случайных целых чисел на отрезке от 0 до 1000. Пусть `B[i] = A[i] + 100`. Посчитайте среднее значение массива `B`."
   ]
  },
  {
   "cell_type": "code",
   "execution_count": 5,
   "metadata": {},
   "outputs": [
    {
     "data": {
      "text/plain": [
       "(599.285937, 499.285937)"
      ]
     },
     "execution_count": 5,
     "metadata": {},
     "output_type": "execute_result"
    }
   ],
   "source": [
    "N = 1_000_000\n",
    "A = np.random.randint(0, 1000, N)\n",
    "B = A + 100\n",
    "np.mean(B), np.mean(A)"
   ]
  },
  {
   "cell_type": "markdown",
   "metadata": {},
   "source": [
    "2. Напишите функцию, которая возвращает сумму всех чисел от 0 до x-1. Примените функцию к каждому элементу массива."
   ]
  },
  {
   "cell_type": "code",
   "execution_count": 10,
   "metadata": {},
   "outputs": [
    {
     "data": {
      "text/plain": [
       "array([235641,  59685, 431985, ..., 151525,  51360, 183921])"
      ]
     },
     "execution_count": 10,
     "metadata": {},
     "output_type": "execute_result"
    }
   ],
   "source": [
    "def sumx(x):\n",
    "    return np.sum(np.arange(x))\n",
    "sumx_v = np.vectorize(sumx)\n",
    "sumx_v(B)"
   ]
  },
  {
   "cell_type": "markdown",
   "metadata": {},
   "source": [
    "3. Создайте таблицу 2млн строк и с 4 столбцами, заполненными случайными числами. Добавьте столбец `key`, которые содержит элементы из множества английских букв. Выберите из таблицы подмножество строк, для которых в столбце `key` указаны первые 5 английских букв."
   ]
  },
  {
   "cell_type": "code",
   "execution_count": 11,
   "metadata": {},
   "outputs": [],
   "source": [
    "%load_ext line_profiler"
   ]
  },
  {
   "cell_type": "code",
   "execution_count": 12,
   "metadata": {},
   "outputs": [
    {
     "data": {
      "text/html": [
       "<div>\n",
       "<style scoped>\n",
       "    .dataframe tbody tr th:only-of-type {\n",
       "        vertical-align: middle;\n",
       "    }\n",
       "\n",
       "    .dataframe tbody tr th {\n",
       "        vertical-align: top;\n",
       "    }\n",
       "\n",
       "    .dataframe thead th {\n",
       "        text-align: right;\n",
       "    }\n",
       "</style>\n",
       "<table border=\"1\" class=\"dataframe\">\n",
       "  <thead>\n",
       "    <tr style=\"text-align: right;\">\n",
       "      <th></th>\n",
       "      <th>col0</th>\n",
       "      <th>col1</th>\n",
       "      <th>col2</th>\n",
       "      <th>col3</th>\n",
       "      <th>key</th>\n",
       "    </tr>\n",
       "  </thead>\n",
       "  <tbody>\n",
       "    <tr>\n",
       "      <th>0</th>\n",
       "      <td>-0.882918</td>\n",
       "      <td>0.103939</td>\n",
       "      <td>0.460958</td>\n",
       "      <td>-2.375668</td>\n",
       "      <td>s</td>\n",
       "    </tr>\n",
       "    <tr>\n",
       "      <th>1</th>\n",
       "      <td>2.213133</td>\n",
       "      <td>0.075920</td>\n",
       "      <td>-0.823871</td>\n",
       "      <td>0.712522</td>\n",
       "      <td>q</td>\n",
       "    </tr>\n",
       "  </tbody>\n",
       "</table>\n",
       "</div>"
      ],
      "text/plain": [
       "       col0      col1      col2      col3 key\n",
       "0 -0.882918  0.103939  0.460958 -2.375668   s\n",
       "1  2.213133  0.075920 -0.823871  0.712522   q"
      ]
     },
     "execution_count": 12,
     "metadata": {},
     "output_type": "execute_result"
    }
   ],
   "source": [
    "import pandas as pd\n",
    "import string\n",
    "\n",
    "N = 2_000_000\n",
    "df = pd.DataFrame(np.random.randn(N, 4), columns=[f\"col{i}\" for i in range(4)])\n",
    "df[\"key\"] = np.random.choice(list(string.ascii_letters.lower()), N, replace=True)\n",
    "df.head(2)"
   ]
  },
  {
   "cell_type": "code",
   "execution_count": 14,
   "metadata": {},
   "outputs": [
    {
     "data": {
      "text/html": [
       "<div>\n",
       "<style scoped>\n",
       "    .dataframe tbody tr th:only-of-type {\n",
       "        vertical-align: middle;\n",
       "    }\n",
       "\n",
       "    .dataframe tbody tr th {\n",
       "        vertical-align: top;\n",
       "    }\n",
       "\n",
       "    .dataframe thead th {\n",
       "        text-align: right;\n",
       "    }\n",
       "</style>\n",
       "<table border=\"1\" class=\"dataframe\">\n",
       "  <thead>\n",
       "    <tr style=\"text-align: right;\">\n",
       "      <th></th>\n",
       "      <th>col0</th>\n",
       "      <th>col1</th>\n",
       "      <th>col2</th>\n",
       "      <th>col3</th>\n",
       "      <th>key</th>\n",
       "    </tr>\n",
       "  </thead>\n",
       "  <tbody>\n",
       "    <tr>\n",
       "      <th>2</th>\n",
       "      <td>-1.674081</td>\n",
       "      <td>1.077885</td>\n",
       "      <td>1.205773</td>\n",
       "      <td>-0.305679</td>\n",
       "      <td>b</td>\n",
       "    </tr>\n",
       "    <tr>\n",
       "      <th>10</th>\n",
       "      <td>-0.919218</td>\n",
       "      <td>0.976939</td>\n",
       "      <td>-0.620981</td>\n",
       "      <td>0.544139</td>\n",
       "      <td>d</td>\n",
       "    </tr>\n",
       "    <tr>\n",
       "      <th>17</th>\n",
       "      <td>-1.079255</td>\n",
       "      <td>0.189474</td>\n",
       "      <td>0.247230</td>\n",
       "      <td>-0.217548</td>\n",
       "      <td>d</td>\n",
       "    </tr>\n",
       "    <tr>\n",
       "      <th>24</th>\n",
       "      <td>-0.911701</td>\n",
       "      <td>-0.110187</td>\n",
       "      <td>-0.395518</td>\n",
       "      <td>-0.595514</td>\n",
       "      <td>c</td>\n",
       "    </tr>\n",
       "    <tr>\n",
       "      <th>25</th>\n",
       "      <td>1.169336</td>\n",
       "      <td>0.481727</td>\n",
       "      <td>-0.751359</td>\n",
       "      <td>0.744799</td>\n",
       "      <td>d</td>\n",
       "    </tr>\n",
       "    <tr>\n",
       "      <th>...</th>\n",
       "      <td>...</td>\n",
       "      <td>...</td>\n",
       "      <td>...</td>\n",
       "      <td>...</td>\n",
       "      <td>...</td>\n",
       "    </tr>\n",
       "    <tr>\n",
       "      <th>1999967</th>\n",
       "      <td>-0.510435</td>\n",
       "      <td>-2.204288</td>\n",
       "      <td>-1.991320</td>\n",
       "      <td>-0.120440</td>\n",
       "      <td>d</td>\n",
       "    </tr>\n",
       "    <tr>\n",
       "      <th>1999968</th>\n",
       "      <td>-0.981010</td>\n",
       "      <td>2.142351</td>\n",
       "      <td>-0.689206</td>\n",
       "      <td>-1.067534</td>\n",
       "      <td>a</td>\n",
       "    </tr>\n",
       "    <tr>\n",
       "      <th>1999993</th>\n",
       "      <td>0.550008</td>\n",
       "      <td>-0.139919</td>\n",
       "      <td>-1.056733</td>\n",
       "      <td>-1.900924</td>\n",
       "      <td>a</td>\n",
       "    </tr>\n",
       "    <tr>\n",
       "      <th>1999995</th>\n",
       "      <td>0.518024</td>\n",
       "      <td>-0.271586</td>\n",
       "      <td>-0.080850</td>\n",
       "      <td>0.360681</td>\n",
       "      <td>a</td>\n",
       "    </tr>\n",
       "    <tr>\n",
       "      <th>1999999</th>\n",
       "      <td>-0.731895</td>\n",
       "      <td>-1.069268</td>\n",
       "      <td>-0.540366</td>\n",
       "      <td>-0.449787</td>\n",
       "      <td>a</td>\n",
       "    </tr>\n",
       "  </tbody>\n",
       "</table>\n",
       "<p>383822 rows × 5 columns</p>\n",
       "</div>"
      ],
      "text/plain": [
       "             col0      col1      col2      col3 key\n",
       "2       -1.674081  1.077885  1.205773 -0.305679   b\n",
       "10      -0.919218  0.976939 -0.620981  0.544139   d\n",
       "17      -1.079255  0.189474  0.247230 -0.217548   d\n",
       "24      -0.911701 -0.110187 -0.395518 -0.595514   c\n",
       "25       1.169336  0.481727 -0.751359  0.744799   d\n",
       "...           ...       ...       ...       ...  ..\n",
       "1999967 -0.510435 -2.204288 -1.991320 -0.120440   d\n",
       "1999968 -0.981010  2.142351 -0.689206 -1.067534   a\n",
       "1999993  0.550008 -0.139919 -1.056733 -1.900924   a\n",
       "1999995  0.518024 -0.271586 -0.080850  0.360681   a\n",
       "1999999 -0.731895 -1.069268 -0.540366 -0.449787   a\n",
       "\n",
       "[383822 rows x 5 columns]"
      ]
     },
     "execution_count": 14,
     "metadata": {},
     "output_type": "execute_result"
    }
   ],
   "source": [
    "def in_n(key):\n",
    "    return key in \"abcde\"\n",
    "in_n_vec = np.vectorize(in_n)\n",
    "df[in_n_vec(df.key)]"
   ]
  },
  {
   "cell_type": "markdown",
   "metadata": {},
   "source": [
    "## Лабораторная работа 3"
   ]
  },
  {
   "cell_type": "code",
   "execution_count": 15,
   "metadata": {},
   "outputs": [
    {
     "name": "stdout",
     "output_type": "stream",
     "text": [
      "The line_profiler extension is already loaded. To reload it, use:\n",
      "  %reload_ext line_profiler\n"
     ]
    }
   ],
   "source": [
    "import numpy as np\n",
    "import pandas as pd\n",
    "from numba import jit, njit\n",
    "import numba\n",
    "from typing import Union\n",
    "\n",
    "%load_ext line_profiler"
   ]
  },
  {
   "cell_type": "markdown",
   "metadata": {},
   "source": [
    "В файлах `recipes_sample.csv` и `reviews_sample.csv` (__ЛР 2__) находится информация об рецептах блюд и отзывах на эти рецепты соответственно. Загрузите данные из файлов в виде `pd.DataFrame` с названиями `recipes` и `reviews`. Обратите внимание на корректное считывание столбца(ов) с индексами. Приведите столбцы к нужным типам."
   ]
  },
  {
   "cell_type": "code",
   "execution_count": 16,
   "metadata": {},
   "outputs": [],
   "source": [
    "import pandas as pd"
   ]
  },
  {
   "cell_type": "markdown",
   "metadata": {},
   "source": [
    "## Измерение времени выполнения кода"
   ]
  },
  {
   "cell_type": "markdown",
   "metadata": {},
   "source": [
    "Назовем полным описанием рецепта строку, полученную путем конкатенации названия и описания рецепта через пробел. Удалите строки для рецептов, которые были добавлены не в 2010 году.\n",
    "\n",
    "Реализуйте несколько вариантов функции подсчета средней длины полного описания рецепта для рецептов, добавленных в 2010 году."
   ]
  },
  {
   "cell_type": "code",
   "execution_count": 28,
   "metadata": {},
   "outputs": [],
   "source": [
    "recipes = pd.read_csv(\"recipes_sample.csv\", parse_dates=[\"submitted\"])\n",
    "reviews = pd.read_csv(\"reviews_sample.csv\", index_col=0, parse_dates=[\"date\"])"
   ]
  },
  {
   "cell_type": "code",
   "execution_count": 31,
   "metadata": {},
   "outputs": [
    {
     "data": {
      "text/html": [
       "<div>\n",
       "<style scoped>\n",
       "    .dataframe tbody tr th:only-of-type {\n",
       "        vertical-align: middle;\n",
       "    }\n",
       "\n",
       "    .dataframe tbody tr th {\n",
       "        vertical-align: top;\n",
       "    }\n",
       "\n",
       "    .dataframe thead th {\n",
       "        text-align: right;\n",
       "    }\n",
       "</style>\n",
       "<table border=\"1\" class=\"dataframe\">\n",
       "  <thead>\n",
       "    <tr style=\"text-align: right;\">\n",
       "      <th></th>\n",
       "      <th>name</th>\n",
       "      <th>id</th>\n",
       "      <th>minutes</th>\n",
       "      <th>contributor_id</th>\n",
       "      <th>submitted</th>\n",
       "      <th>n_steps</th>\n",
       "      <th>description</th>\n",
       "      <th>n_ingredients</th>\n",
       "    </tr>\n",
       "  </thead>\n",
       "  <tbody>\n",
       "    <tr>\n",
       "      <th>52</th>\n",
       "      <td>just peachy  cobbler</td>\n",
       "      <td>437637</td>\n",
       "      <td>70</td>\n",
       "      <td>1085867</td>\n",
       "      <td>2010-09-17</td>\n",
       "      <td>10.0</td>\n",
       "      <td>all i can say is yummmmmm . . . a simple to ma...</td>\n",
       "      <td>10.0</td>\n",
       "    </tr>\n",
       "    <tr>\n",
       "      <th>68</th>\n",
       "      <td>the heat  spicy party mix</td>\n",
       "      <td>437219</td>\n",
       "      <td>95</td>\n",
       "      <td>1682162</td>\n",
       "      <td>2010-09-13</td>\n",
       "      <td>NaN</td>\n",
       "      <td>a spicy chex mix that will really warm your gu...</td>\n",
       "      <td>11.0</td>\n",
       "    </tr>\n",
       "    <tr>\n",
       "      <th>81</th>\n",
       "      <td>iowa state fair  sweet dough caramel cinnamon ...</td>\n",
       "      <td>435816</td>\n",
       "      <td>80</td>\n",
       "      <td>17803</td>\n",
       "      <td>2010-08-24</td>\n",
       "      <td>29.0</td>\n",
       "      <td>this was the winning entry at the 2010 iowa st...</td>\n",
       "      <td>NaN</td>\n",
       "    </tr>\n",
       "    <tr>\n",
       "      <th>104</th>\n",
       "      <td>1 minute blueberries   cream</td>\n",
       "      <td>428566</td>\n",
       "      <td>2</td>\n",
       "      <td>1375473</td>\n",
       "      <td>2010-06-04</td>\n",
       "      <td>4.0</td>\n",
       "      <td>i was craving blueberry tonight but wanted non...</td>\n",
       "      <td>NaN</td>\n",
       "    </tr>\n",
       "    <tr>\n",
       "      <th>146</th>\n",
       "      <td>2 2 2 diet mocha</td>\n",
       "      <td>416599</td>\n",
       "      <td>5</td>\n",
       "      <td>789314</td>\n",
       "      <td>2010-03-15</td>\n",
       "      <td>5.0</td>\n",
       "      <td>while trying to come up with a satisfying \"sna...</td>\n",
       "      <td>7.0</td>\n",
       "    </tr>\n",
       "  </tbody>\n",
       "</table>\n",
       "</div>"
      ],
      "text/plain": [
       "                                                  name      id  minutes  \\\n",
       "52                                just peachy  cobbler  437637       70   \n",
       "68                           the heat  spicy party mix  437219       95   \n",
       "81   iowa state fair  sweet dough caramel cinnamon ...  435816       80   \n",
       "104                       1 minute blueberries   cream  428566        2   \n",
       "146                                   2 2 2 diet mocha  416599        5   \n",
       "\n",
       "     contributor_id  submitted  n_steps  \\\n",
       "52          1085867 2010-09-17     10.0   \n",
       "68          1682162 2010-09-13      NaN   \n",
       "81            17803 2010-08-24     29.0   \n",
       "104         1375473 2010-06-04      4.0   \n",
       "146          789314 2010-03-15      5.0   \n",
       "\n",
       "                                           description  n_ingredients  \n",
       "52   all i can say is yummmmmm . . . a simple to ma...           10.0  \n",
       "68   a spicy chex mix that will really warm your gu...           11.0  \n",
       "81   this was the winning entry at the 2010 iowa st...            NaN  \n",
       "104  i was craving blueberry tonight but wanted non...            NaN  \n",
       "146  while trying to come up with a satisfying \"sna...            7.0  "
      ]
     },
     "execution_count": 31,
     "metadata": {},
     "output_type": "execute_result"
    }
   ],
   "source": [
    "recipes2010 = recipes[recipes.submitted.dt.year==2010]\n",
    "recipes2010.head()"
   ]
  },
  {
   "cell_type": "markdown",
   "metadata": {},
   "source": [
    "1\\.1 С использованием метода `DataFrame.iterrows` таблицы:\n",
    "\n",
    "    - функция принимает на вход таблицу, содержащую рецепты за 2010 год;\n",
    "    \n",
    "    - нахождение полного описания рецепта осуществляется внутри цикла по `iterrows` для каждой строки по отдельности."
   ]
  },
  {
   "cell_type": "code",
   "execution_count": 40,
   "metadata": {},
   "outputs": [],
   "source": [
    "def get_mean_len_A(df: pd.DataFrame) -> float:\n",
    "    temp = np.empty(0)\n",
    "    for id_, row in df.iterrows():\n",
    "        temp = np.append(temp, len(f\"{row['name']} {row.description}\"))\n",
    "    return np.sum(temp)/temp.shape[0]"
   ]
  },
  {
   "cell_type": "code",
   "execution_count": 41,
   "metadata": {},
   "outputs": [
    {
     "data": {
      "text/plain": [
       "265.501300390117"
      ]
     },
     "execution_count": 41,
     "metadata": {},
     "output_type": "execute_result"
    }
   ],
   "source": [
    "get_mean_len_A(recipes2010)"
   ]
  },
  {
   "cell_type": "markdown",
   "metadata": {},
   "source": [
    "1\\.2. С использованием метода `DataFrame.apply` таблицы:\n",
    "\n",
    "    - функция принимает на вход таблицу, содержащую рецепты за 2010 год;\n",
    "    \n",
    "    - вызываете метод apply у таблицы, в качестве аргумента передаете функцию, которая возвращает полное описание для каждой строки;\n",
    "    \n",
    "    - считаете среднюю длину описаний, вызвав соответствующий метод серии."
   ]
  },
  {
   "cell_type": "code",
   "execution_count": 48,
   "metadata": {},
   "outputs": [],
   "source": [
    "def get_mean_len_B(df: pd.DataFrame) -> float:\n",
    "    return df.apply(lambda row: f\"{row['name']} {row.description}\", axis=1).str.len().mean()"
   ]
  },
  {
   "cell_type": "code",
   "execution_count": 49,
   "metadata": {},
   "outputs": [
    {
     "data": {
      "text/plain": [
       "265.501300390117"
      ]
     },
     "execution_count": 49,
     "metadata": {},
     "output_type": "execute_result"
    }
   ],
   "source": [
    "get_mean_len_B(recipes2010)"
   ]
  },
  {
   "cell_type": "markdown",
   "metadata": {},
   "source": [
    "1\\.3. С использованием векторизованных методов серий `pd.Series`:\n",
    "\n",
    "    - функция принимает на вход таблицу, содержащую рецепты за 2010 год;\n",
    "    \n",
    "    - при помощи векторизированных операций получаете столбец с полным описанием;\n",
    "    \n",
    "    - при помощи векторизированных операций получаете длины полного описания;\n",
    "    \n",
    "    - при помощи метода серий получаете среднюю длину полных описаний. "
   ]
  },
  {
   "cell_type": "code",
   "execution_count": 68,
   "metadata": {},
   "outputs": [],
   "source": [
    "def get_mean_len_C(df: pd.DataFrame) -> float:\n",
    "    full_names = df['name'] + ' ' + df.description\n",
    "    vec_len = np.vectorize(lambda row: len(row))\n",
    "    lens = vec_len(full_names)\n",
    "    return lens.mean()"
   ]
  },
  {
   "cell_type": "code",
   "execution_count": 65,
   "metadata": {
    "scrolled": true
   },
   "outputs": [
    {
     "data": {
      "text/plain": [
       "265.501300390117"
      ]
     },
     "execution_count": 65,
     "metadata": {},
     "output_type": "execute_result"
    }
   ],
   "source": [
    "get_mean_len_C(recipes2010)"
   ]
  },
  {
   "cell_type": "markdown",
   "metadata": {},
   "source": [
    "1.4 Проверьте, что результаты работы всех написанных функций корректны и совпадают. Измерьте выполнения всех написанных функций при помощи магических команд `time` и `timeit`."
   ]
  },
  {
   "cell_type": "code",
   "execution_count": 77,
   "metadata": {},
   "outputs": [
    {
     "name": "stdout",
     "output_type": "stream",
     "text": [
      "CPU times: total: 46.9 ms\n",
      "Wall time: 54 ms\n",
      "CPU times: total: 15.6 ms\n",
      "Wall time: 8.53 ms\n",
      "CPU times: total: 0 ns\n",
      "Wall time: 0 ns\n"
     ]
    },
    {
     "data": {
      "text/plain": [
       "265.501300390117"
      ]
     },
     "execution_count": 77,
     "metadata": {},
     "output_type": "execute_result"
    }
   ],
   "source": [
    "%time get_mean_len_A(recipes2010)\n",
    "%time get_mean_len_B(recipes2010)\n",
    "%time get_mean_len_C(recipes2010)"
   ]
  },
  {
   "cell_type": "code",
   "execution_count": 78,
   "metadata": {},
   "outputs": [
    {
     "name": "stdout",
     "output_type": "stream",
     "text": [
      "51.6 ms ± 221 µs per loop (mean ± std. dev. of 7 runs, 10 loops each)\n",
      "14.9 ms ± 24.9 µs per loop (mean ± std. dev. of 7 runs, 100 loops each)\n",
      "499 µs ± 337 ns per loop (mean ± std. dev. of 7 runs, 1,000 loops each)\n"
     ]
    }
   ],
   "source": [
    "%timeit get_mean_len_A(recipes2010)\n",
    "%timeit get_mean_len_B(recipes2010)\n",
    "%timeit get_mean_len_C(recipes2010)"
   ]
  },
  {
   "cell_type": "markdown",
   "metadata": {},
   "source": [
    "## Анализ пошагового выполнения кода "
   ]
  },
  {
   "cell_type": "markdown",
   "metadata": {},
   "source": [
    "Вам предлагается воспользоваться функцией, которая собирает статистику о том, сколько отзывов содержат то или иное слово. "
   ]
  },
  {
   "cell_type": "code",
   "execution_count": 83,
   "metadata": {},
   "outputs": [
    {
     "name": "stdout",
     "output_type": "stream",
     "text": [
      "Writing mprun_for.py\n"
     ]
    }
   ],
   "source": [
    "%%writefile mprun_for.py\n",
    "\n",
    "import re\n",
    "\n",
    "\n",
    "def get_word_reviews_count(df):\n",
    "    word_reviews = {}\n",
    "    for _, row in df.dropna(subset=[\"review\"]).iterrows():\n",
    "        recipe_id, review = row[\"recipe_id\"], row[\"review\"]\n",
    "        words = re.sub(\"[^A-Za-z\\s]\", \"\", review).split(\" \")\n",
    "        for word in words:\n",
    "            if word not in word_reviews:\n",
    "                word_reviews[word] = []\n",
    "            word_reviews[word].append(recipe_id)\n",
    "\n",
    "    word_reviews_count = {}\n",
    "    for _, row in df.dropna(subset=[\"review\"]).iterrows():\n",
    "        review = row[\"review\"]\n",
    "        words = re.sub(\"[^A-Za-z\\s]\", \"\", review).split(\" \")\n",
    "        for word in words:\n",
    "            word_reviews_count[word] = len(word_reviews[word])\n",
    "    return word_reviews_count"
   ]
  },
  {
   "cell_type": "code",
   "execution_count": 84,
   "metadata": {},
   "outputs": [],
   "source": [
    "from mprun_for import get_word_reviews_count"
   ]
  },
  {
   "cell_type": "code",
   "execution_count": 80,
   "metadata": {},
   "outputs": [
    {
     "data": {
      "text/html": [
       "<div>\n",
       "<style scoped>\n",
       "    .dataframe tbody tr th:only-of-type {\n",
       "        vertical-align: middle;\n",
       "    }\n",
       "\n",
       "    .dataframe tbody tr th {\n",
       "        vertical-align: top;\n",
       "    }\n",
       "\n",
       "    .dataframe thead th {\n",
       "        text-align: right;\n",
       "    }\n",
       "</style>\n",
       "<table border=\"1\" class=\"dataframe\">\n",
       "  <thead>\n",
       "    <tr style=\"text-align: right;\">\n",
       "      <th></th>\n",
       "      <th>user_id</th>\n",
       "      <th>recipe_id</th>\n",
       "      <th>date</th>\n",
       "      <th>rating</th>\n",
       "      <th>review</th>\n",
       "    </tr>\n",
       "  </thead>\n",
       "  <tbody>\n",
       "    <tr>\n",
       "      <th>370476</th>\n",
       "      <td>21752</td>\n",
       "      <td>57993</td>\n",
       "      <td>2003-05-01</td>\n",
       "      <td>5</td>\n",
       "      <td>Last week whole sides of frozen salmon fillet ...</td>\n",
       "    </tr>\n",
       "    <tr>\n",
       "      <th>624300</th>\n",
       "      <td>431813</td>\n",
       "      <td>142201</td>\n",
       "      <td>2007-09-16</td>\n",
       "      <td>5</td>\n",
       "      <td>So simple and so tasty!  I used a yellow capsi...</td>\n",
       "    </tr>\n",
       "    <tr>\n",
       "      <th>187037</th>\n",
       "      <td>400708</td>\n",
       "      <td>252013</td>\n",
       "      <td>2008-01-10</td>\n",
       "      <td>4</td>\n",
       "      <td>Very nice breakfast HH, easy to make and yummy...</td>\n",
       "    </tr>\n",
       "    <tr>\n",
       "      <th>706134</th>\n",
       "      <td>2001852463</td>\n",
       "      <td>404716</td>\n",
       "      <td>2017-12-11</td>\n",
       "      <td>5</td>\n",
       "      <td>These are a favorite for the holidays and so e...</td>\n",
       "    </tr>\n",
       "    <tr>\n",
       "      <th>312179</th>\n",
       "      <td>95810</td>\n",
       "      <td>129396</td>\n",
       "      <td>2008-03-14</td>\n",
       "      <td>5</td>\n",
       "      <td>Excellent soup!  The tomato flavor is just gre...</td>\n",
       "    </tr>\n",
       "  </tbody>\n",
       "</table>\n",
       "</div>"
      ],
      "text/plain": [
       "           user_id  recipe_id       date  rating  \\\n",
       "370476       21752      57993 2003-05-01       5   \n",
       "624300      431813     142201 2007-09-16       5   \n",
       "187037      400708     252013 2008-01-10       4   \n",
       "706134  2001852463     404716 2017-12-11       5   \n",
       "312179       95810     129396 2008-03-14       5   \n",
       "\n",
       "                                                   review  \n",
       "370476  Last week whole sides of frozen salmon fillet ...  \n",
       "624300  So simple and so tasty!  I used a yellow capsi...  \n",
       "187037  Very nice breakfast HH, easy to make and yummy...  \n",
       "706134  These are a favorite for the holidays and so e...  \n",
       "312179  Excellent soup!  The tomato flavor is just gre...  "
      ]
     },
     "execution_count": 80,
     "metadata": {},
     "output_type": "execute_result"
    }
   ],
   "source": [
    "reviews.head()"
   ]
  },
  {
   "cell_type": "markdown",
   "metadata": {},
   "source": [
    "2.1 Найдите узкие места в коде, проанализировав код функции по шагам, используя профайлер. Сохраните результаты работы профайлера в отдельную текстовую ячейку. Выпишите (словами), что в имеющемся коде реализовано неоптимально. "
   ]
  },
  {
   "cell_type": "code",
   "execution_count": 85,
   "metadata": {},
   "outputs": [],
   "source": [
    "%lprun -f get_word_reviews_count get_word_reviews_count(reviews)"
   ]
  },
  {
   "cell_type": "code",
   "execution_count": null,
   "metadata": {},
   "outputs": [],
   "source": [
    "Timer unit: 1e-07 s\n",
    "\n",
    "Total time: 30.7155 s\n",
    "File: C:\\Users\\Nikita\\Desktop\\ShaRinGan\\TOBD\\8\\mprun_for.py\n",
    "Function: get_word_reviews_count at line 5\n",
    "\n",
    "Line #      Hits         Time  Per Hit   % Time  Line Contents\n",
    "==============================================================\n",
    "     5                                           def get_word_reviews_count(df):\n",
    "     6         1          5.0      5.0      0.0      word_reviews = {}\n",
    "     7    126679   78634014.0    620.7     25.6      for _, row in df.dropna(subset=[\"review\"]).iterrows():\n",
    "     8    126679   26389886.0    208.3      8.6          recipe_id, review = row[\"recipe_id\"], row[\"review\"]\n",
    "     9    126679   10004130.0     79.0      3.3          words = re.sub(\"[^A-Za-z\\s]\", \"\", review).split(\" \")\n",
    "    10   6792010   11979487.0      1.8      3.9          for word in words:\n",
    "    11   6698951   16224219.0      2.4      5.3              if word not in word_reviews:\n",
    "    12     93059     283698.0      3.0      0.1                  word_reviews[word] = []\n",
    "    13   6792010   22535409.0      3.3      7.3              word_reviews[word].append(recipe_id)\n",
    "    14                                           \n",
    "    15         1          2.0      2.0      0.0      word_reviews_count = {}\n",
    "    16    126679   75858812.0    598.8     24.7      for _, row in df.dropna(subset=[\"review\"]).iterrows():\n",
    "    17    126679   14684557.0    115.9      4.8          review = row[\"review\"]\n",
    "    18    126679   10055020.0     79.4      3.3          words = re.sub(\"[^A-Za-z\\s]\", \"\", review).split(\" \")\n",
    "    19   6792010   12083794.0      1.8      3.9          for word in words:\n",
    "    20   6792010   28422129.0      4.2      9.3              word_reviews_count[word] = len(word_reviews[word])\n",
    "    21         1          3.0      3.0      0.0      return word_reviews_count"
   ]
  },
  {
   "cell_type": "markdown",
   "metadata": {},
   "source": [
    "работа со списком занимает много времени, как и итерация циклов построчно"
   ]
  },
  {
   "cell_type": "markdown",
   "metadata": {},
   "source": [
    "2.2  Оптимизируйте функцию и добейтесь значительного (как минимум, в 5 раз) прироста в скорости выполнения. Для демонстрации результата измерьте скорость выполнения оригинальной функции и функции, написанной вами."
   ]
  },
  {
   "cell_type": "code",
   "execution_count": 90,
   "metadata": {},
   "outputs": [
    {
     "data": {
      "text/plain": [
       "\"Last week whole sides of frozen salmon fillet was on sale in my local supermarket, so I bought tons (okay, only 3, but total weight was over 10 pounds).  This recipe is perfect for salmon fillet, even though it calls for salmon steaks.  I cut up the salmon into individual portions and followed the instructions exactly.  I'm on one of those food combining diets, so I left out the white wine but added just a dash of white wine vinegar instead (just a little bit, not enough to change the taste of the dish).  Super yummy, and leftovers for lunch today (lucky me)!\""
      ]
     },
     "execution_count": 90,
     "metadata": {},
     "output_type": "execute_result"
    }
   ],
   "source": [
    "reviews.review[370476]"
   ]
  },
  {
   "cell_type": "code",
   "execution_count": 95,
   "metadata": {},
   "outputs": [],
   "source": [
    "import re\n",
    "\n",
    "def get_word_reviews_count_remastered(df):\n",
    "    df = df.dropna(subset=[\"review\"])\n",
    "    reviews_s = df.review.apply(lambda s: re.sub(\"[^A-Za-z\\s]\", \"\", s).split(\" \"))\n",
    "    word_reviews_count = {}\n",
    "    for review in reviews_s:\n",
    "        for word in review:\n",
    "            if word not in word_reviews_count:\n",
    "                word_reviews_count[word] = 0\n",
    "            word_reviews_count[word]+=1\n",
    "    return word_reviews_count"
   ]
  },
  {
   "cell_type": "code",
   "execution_count": 98,
   "metadata": {},
   "outputs": [
    {
     "name": "stdout",
     "output_type": "stream",
     "text": [
      "9.97 s ± 95.9 ms per loop (mean ± std. dev. of 7 runs, 1 loop each)\n",
      "1.81 s ± 12.7 ms per loop (mean ± std. dev. of 7 runs, 1 loop each)\n"
     ]
    }
   ],
   "source": [
    "%timeit get_word_reviews_count(reviews)\n",
    "%timeit get_word_reviews_count_remastered(reviews)"
   ]
  },
  {
   "cell_type": "markdown",
   "metadata": {},
   "source": [
    "## Numba"
   ]
  },
  {
   "cell_type": "markdown",
   "metadata": {},
   "source": [
    "В файле `rating_predictions.json` хранятся данные о рейтингах рецептов и прогнозных значениях рейтингов для этого рецепта, полученных при помощи модели машинного обучения. \n",
    "\n",
    "Напишите несколько версий функции (см. [MAPE](https://en.wikipedia.org/wiki/Mean_absolute_percentage_error)) для расчета среднего абсолютного процентного отклонения значения рейтинга отзыва на рецепт от прогнозного значения рейтинга для данного рецепта. \n",
    "\n",
    "\n",
    "Замечание 1: в формуле MAPE под $A_t$ понимается рейтинг из отзыва $t$, под $F_t$ - прогнозное значения рейтинга отзыва $t$.\n",
    "\n",
    "Замечание 2: в результате работы функций должно получиться одно число - MAPE для всего набора данных."
   ]
  },
  {
   "cell_type": "code",
   "execution_count": 122,
   "metadata": {},
   "outputs": [],
   "source": [
    "import json\n",
    "A_list = []\n",
    "F_list = []\n",
    "with open(\"rating_predictions.json\", \"r\") as file:\n",
    "     gg = json.load(file)\n",
    "for g in gg:\n",
    "    A_list.append(g[\"rating\"])\n",
    "    F_list.append(g['prediction'])"
   ]
  },
  {
   "cell_type": "markdown",
   "metadata": {},
   "source": [
    "3\\.1 Создайте два списка `A_list` и `F_list` на основе файла `rating_predictions.json`. Напишите функцию `mape_lists` без использования векторизованных операций и методов массивов `numpy` и без использования `numba` (проитерируйтесь по спискам и вычислите суммарное значение MAPE для всех элементов, а потом усредните результат).\n",
    "\n",
    "Измерьте время выполнения данной функции на входных данных `A_list` и `F_list`. Временем, затрачиваемым на создание списков, можно пренебречь.\n",
    "    "
   ]
  },
  {
   "cell_type": "code",
   "execution_count": 126,
   "metadata": {},
   "outputs": [],
   "source": [
    "def mape_lists(A, F):\n",
    "    res = 0\n",
    "    for a, f in zip(A,F):\n",
    "        res += abs((a-f)/a)\n",
    "    return res/len(A)"
   ]
  },
  {
   "cell_type": "code",
   "execution_count": 128,
   "metadata": {},
   "outputs": [
    {
     "data": {
      "text/plain": [
       "0.13325265503992637"
      ]
     },
     "execution_count": 128,
     "metadata": {},
     "output_type": "execute_result"
    }
   ],
   "source": [
    "mape_lists(A_list, F_list)"
   ]
  },
  {
   "cell_type": "code",
   "execution_count": 127,
   "metadata": {},
   "outputs": [
    {
     "name": "stdout",
     "output_type": "stream",
     "text": [
      "11.5 ms ± 188 µs per loop (mean ± std. dev. of 7 runs, 100 loops each)\n"
     ]
    }
   ],
   "source": [
    "%timeit mape_lists(A_list, F_list)"
   ]
  },
  {
   "cell_type": "markdown",
   "metadata": {},
   "source": [
    "3\\.2. Создайте массивы `numpy` `A_array` и `F_array` на основе списков `A_list` и `F_list`. Напишите функцию `mape_numpy` с использованием векторизованных операций и методов массивов `numpy`.\n",
    "\n",
    "Измерьте время выполнения данной функции на входных данных `A_array` и `F_array`. Временем, затрачиваемым на создание массивов, можно пренебречь."
   ]
  },
  {
   "cell_type": "code",
   "execution_count": 130,
   "metadata": {},
   "outputs": [],
   "source": [
    "A_array = np.array(A_list)\n",
    "F_array = np.array(F_list)\n",
    "\n",
    "def mape_numpy(A, F):\n",
    "    return np.abs((A-F)/A).mean()  "
   ]
  },
  {
   "cell_type": "code",
   "execution_count": 131,
   "metadata": {},
   "outputs": [
    {
     "data": {
      "text/plain": [
       "0.13325265503991449"
      ]
     },
     "execution_count": 131,
     "metadata": {},
     "output_type": "execute_result"
    }
   ],
   "source": [
    "mape_numpy(A_array, F_array)"
   ]
  },
  {
   "cell_type": "code",
   "execution_count": 132,
   "metadata": {},
   "outputs": [
    {
     "name": "stdout",
     "output_type": "stream",
     "text": [
      "128 µs ± 908 ns per loop (mean ± std. dev. of 7 runs, 10,000 loops each)\n"
     ]
    }
   ],
   "source": [
    "%timeit mape_numpy(A_array, F_array)"
   ]
  },
  {
   "cell_type": "markdown",
   "metadata": {},
   "source": [
    "3\\.3. Создайте объекты `numba.typed.List` `A_typed` и `F_typed` на основе списков `A_list` и `F_list`. Напишите функцию `mape_numba` без использования векторизованных операций и методов массивов `numpy`, но с использованием `numba`. \n",
    "\n",
    "Измерьте время выполнения данной функции на входных данных `A_typed` и `F_typed`. Временем, затрачиваемым на создание объектов `numba.typed.List`, можно пренебречь.\n",
    "\n",
    "Измерьте время выполнения данной функции на входных данных `A_array` и `F_array`."
   ]
  },
  {
   "cell_type": "code",
   "execution_count": 136,
   "metadata": {},
   "outputs": [],
   "source": [
    "A_typed = numba.typed.List(A_list)\n",
    "F_typed = numba.typed.List(F_list)\n",
    "\n",
    "@njit\n",
    "def mape_numba(A, F):\n",
    "    res = 0\n",
    "    for a, f in zip(A,F):\n",
    "        res += abs((a-f)/a)\n",
    "    return res/len(A)"
   ]
  },
  {
   "cell_type": "code",
   "execution_count": 139,
   "metadata": {},
   "outputs": [
    {
     "name": "stdout",
     "output_type": "stream",
     "text": [
      "870 µs ± 2.03 µs per loop (mean ± std. dev. of 7 runs, 1,000 loops each)\n"
     ]
    }
   ],
   "source": [
    "%timeit mape_numba(A_typed, F_typed)"
   ]
  },
  {
   "cell_type": "markdown",
   "metadata": {},
   "source": [
    "## Векторизация"
   ]
  },
  {
   "cell_type": "markdown",
   "metadata": {},
   "source": [
    "Сайт-агрегатор устроил акцию: он дарит купоны на посещение ресторана тем пользователям, оставившим отзывы, идентификатор которых является _красивым числом_. Натуральное число называется _красивым_, если первая цифра числа совпадает с последней цифрой числа. \n",
    "\n"
   ]
  },
  {
   "cell_type": "markdown",
   "metadata": {},
   "source": [
    "4\\.1 Напишите функцию `is_pretty`, которая для каждого идентификатора пользователя из файла определяет, получит ли он подарок. Запрещается преобразовывать идентификатор пользователя к строке. Подтвердите корректность реализации, продемонстрировав примеры."
   ]
  },
  {
   "cell_type": "code",
   "execution_count": 144,
   "metadata": {},
   "outputs": [],
   "source": [
    "ids = reviews[\"recipe_id\"].values"
   ]
  },
  {
   "cell_type": "code",
   "execution_count": 148,
   "metadata": {},
   "outputs": [],
   "source": [
    "def is_pretty(n: int) -> bool:\n",
    "    last = n % 10\n",
    "    while n>=10:\n",
    "        n//=10\n",
    "    return n == last"
   ]
  },
  {
   "cell_type": "code",
   "execution_count": 152,
   "metadata": {},
   "outputs": [
    {
     "data": {
      "text/plain": [
       "(True, False)"
      ]
     },
     "execution_count": 152,
     "metadata": {},
     "output_type": "execute_result"
    }
   ],
   "source": [
    "is_pretty(54333215), is_pretty(14333215)"
   ]
  },
  {
   "cell_type": "markdown",
   "metadata": {},
   "source": [
    "4\\.2 Посчитайте с помощью функции `is_pretty` количество пользователей, которые получат подарок. Выведите это количество на экран. Измерьте время расчетов для входных данных `ids`."
   ]
  },
  {
   "cell_type": "code",
   "execution_count": 157,
   "metadata": {},
   "outputs": [
    {
     "data": {
      "text/plain": [
       "11955"
      ]
     },
     "execution_count": 157,
     "metadata": {},
     "output_type": "execute_result"
    }
   ],
   "source": [
    "count = 0\n",
    "for id_ in ids:\n",
    "    if is_pretty(id_):\n",
    "        count+=1\n",
    "count"
   ]
  },
  {
   "cell_type": "code",
   "execution_count": 155,
   "metadata": {},
   "outputs": [
    {
     "name": "stdout",
     "output_type": "stream",
     "text": [
      "168 ms ± 1.32 ms per loop (mean ± std. dev. of 7 runs, 10 loops each)\n"
     ]
    }
   ],
   "source": [
    "%%timeit\n",
    "count = 0\n",
    "for id_ in ids:\n",
    "    if is_pretty(id_):\n",
    "        count+=1"
   ]
  },
  {
   "cell_type": "markdown",
   "metadata": {},
   "source": [
    "4\\.3. При помощи `numpy` создайте векторизованную версию функции `is_pretty`. Посчитайте с помощью этой векторизованной функции количество пользователей, которые получат подарок. Выведите это количество на экран. Измерьте время расчетов для входных данных `ids`.\n"
   ]
  },
  {
   "cell_type": "code",
   "execution_count": 158,
   "metadata": {},
   "outputs": [],
   "source": [
    "vec_is_pretty = np.vectorize(is_pretty)"
   ]
  },
  {
   "cell_type": "code",
   "execution_count": 164,
   "metadata": {},
   "outputs": [
    {
     "data": {
      "text/plain": [
       "11955"
      ]
     },
     "execution_count": 164,
     "metadata": {},
     "output_type": "execute_result"
    }
   ],
   "source": [
    "np.sum(vec_is_pretty(ids))"
   ]
  },
  {
   "cell_type": "code",
   "execution_count": 163,
   "metadata": {},
   "outputs": [
    {
     "name": "stdout",
     "output_type": "stream",
     "text": [
      "37.1 ms ± 184 µs per loop (mean ± std. dev. of 7 runs, 10 loops each)\n"
     ]
    }
   ],
   "source": [
    "%%timeit\n",
    "np.sum(vec_is_pretty(ids))"
   ]
  },
  {
   "cell_type": "markdown",
   "metadata": {},
   "source": [
    "4\\.4. При помощи `numba` создайте векторизованную версию функции `is_pretty`. Посчитайте с помощью этой векторизованной функции количество пользователей, которые получат подарок. Выведите это количество на экран. Измерьте время расчетов для входных данных `ids`.\n"
   ]
  },
  {
   "cell_type": "code",
   "execution_count": 170,
   "metadata": {},
   "outputs": [],
   "source": [
    "@njit\n",
    "def is_pretty_numba(arr):\n",
    "    count = 0\n",
    "    for n in arr:\n",
    "        last = n % 10\n",
    "        while n>=10:\n",
    "            n//=10\n",
    "        if n == last:\n",
    "            count+=1\n",
    "    return count"
   ]
  },
  {
   "cell_type": "code",
   "execution_count": 171,
   "metadata": {},
   "outputs": [
    {
     "data": {
      "text/plain": [
       "11955"
      ]
     },
     "execution_count": 171,
     "metadata": {},
     "output_type": "execute_result"
    }
   ],
   "source": [
    "is_pretty_numba(ids)"
   ]
  },
  {
   "cell_type": "code",
   "execution_count": 172,
   "metadata": {},
   "outputs": [
    {
     "name": "stdout",
     "output_type": "stream",
     "text": [
      "792 µs ± 243 ns per loop (mean ± std. dev. of 7 runs, 1,000 loops each)\n"
     ]
    }
   ],
   "source": [
    "%%timeit\n",
    "is_pretty_numba(ids)"
   ]
  }
 ],
 "metadata": {
  "kernelspec": {
   "display_name": "Python 3 (ipykernel)",
   "language": "python",
   "name": "python3"
  },
  "language_info": {
   "codemirror_mode": {
    "name": "ipython",
    "version": 3
   },
   "file_extension": ".py",
   "mimetype": "text/x-python",
   "name": "python",
   "nbconvert_exporter": "python",
   "pygments_lexer": "ipython3",
   "version": "3.9.12"
  }
 },
 "nbformat": 4,
 "nbformat_minor": 4
}
