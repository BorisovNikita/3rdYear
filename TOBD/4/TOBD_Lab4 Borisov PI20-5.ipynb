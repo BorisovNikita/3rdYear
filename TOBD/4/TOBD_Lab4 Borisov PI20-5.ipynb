{
 "cells": [
  {
   "cell_type": "markdown",
   "metadata": {
    "id": "OGeMsiOGmo47"
   },
   "source": [
    "# Работа с Excel\n",
    "\n",
    "v 0.1"
   ]
  },
  {
   "cell_type": "markdown",
   "metadata": {
    "id": "D2FZILvnmo49"
   },
   "source": [
    "Датасет: себестоимостьА_в1.xlsx"
   ]
  },
  {
   "cell_type": "code",
   "execution_count": 59,
   "metadata": {
    "id": "0UKW-K-fmo4-"
   },
   "outputs": [],
   "source": [
    "import xlwings as xw\n",
    "import numpy as np\n",
    "import pandas as pd\n",
    "from xlwings import constants "
   ]
  },
  {
   "cell_type": "markdown",
   "metadata": {},
   "source": [
    "## Сохраним исходник на всякий"
   ]
  },
  {
   "cell_type": "code",
   "execution_count": 60,
   "metadata": {},
   "outputs": [
    {
     "data": {
      "text/plain": [
       "'себестоимостьА_в1.xlsx'"
      ]
     },
     "execution_count": 60,
     "metadata": {},
     "output_type": "execute_result"
    }
   ],
   "source": [
    "import shutil\n",
    "shutil.copy('себестоимостьА_в1_buckup.xlsx', 'себестоимостьА_в1.xlsx')"
   ]
  },
  {
   "cell_type": "markdown",
   "metadata": {
    "id": "3BEqZHTjmo4-"
   },
   "source": [
    "## 1. Используя xlwings:"
   ]
  },
  {
   "cell_type": "code",
   "execution_count": 61,
   "metadata": {
    "id": "oJNyveQSmo4_"
   },
   "outputs": [],
   "source": [
    "wb = xw.Book('себестоимостьА_в1.xlsx')\n",
    "recipies = wb.sheets['Рецептура']"
   ]
  },
  {
   "cell_type": "code",
   "execution_count": 62,
   "metadata": {
    "id": "AQwgBv0Pmo4_",
    "outputId": "3154cf8c-f3d6-43fa-e542-64b907a3de88"
   },
   "outputs": [
    {
     "data": {
      "text/plain": [
       "['Хлеб Венгерский', 'Хлеб \"Барбари\"', 'Багет парижский', 'Чиабатта']"
      ]
     },
     "execution_count": 62,
     "metadata": {},
     "output_type": "execute_result"
    }
   ],
   "source": [
    "recipies.range('C7:C10').value"
   ]
  },
  {
   "cell_type": "markdown",
   "metadata": {
    "id": "XkRCCo5Pmo5A"
   },
   "source": [
    "1.1 На листе \"Рецептура\" для области \"Пшеничный хлеб\" рассчитать себестоимость всех видов продукции."
   ]
  },
  {
   "cell_type": "code",
   "execution_count": 63,
   "metadata": {},
   "outputs": [
    {
     "data": {
      "text/plain": [
       "array([[0.2  , 0.4  , 0.02 , 0.02 , 0.01 , 0.005, 0.1  , 0.   , 0.   ],\n",
       "       [0.07 , 0.25 , 0.01 , 0.06 , 0.015, 0.   , 0.06 , 0.05 , 0.   ],\n",
       "       [0.12 , 0.22 , 0.005, 0.   , 0.009, 0.005, 0.   , 0.05 , 0.03 ],\n",
       "       [0.12 , 0.23 , 0.01 , 0.   , 0.015, 0.   , 0.   , 0.   , 0.05 ]])"
      ]
     },
     "execution_count": 63,
     "metadata": {},
     "output_type": "execute_result"
    }
   ],
   "source": [
    "consumption = recipies.range('G7:O10').options(np.array).value\n",
    "consumption = np.nan_to_num(consumption)\n",
    "consumption"
   ]
  },
  {
   "cell_type": "code",
   "execution_count": 64,
   "metadata": {},
   "outputs": [
    {
     "data": {
      "text/plain": [
       "array([  7.,  10., 184.,  19.,   7., 290., 105.,  83., 260.])"
      ]
     },
     "execution_count": 64,
     "metadata": {},
     "output_type": "execute_result"
    }
   ],
   "source": [
    "unit_prices = recipies.range('G14:O14').options(np.array).value\n",
    "unit_prices"
   ]
  },
  {
   "cell_type": "code",
   "execution_count": 65,
   "metadata": {},
   "outputs": [
    {
     "data": {
      "text/plain": [
       "array([21.48 , 16.525, 17.423, 18.085])"
      ]
     },
     "execution_count": 65,
     "metadata": {},
     "output_type": "execute_result"
    }
   ],
   "source": [
    "cost = consumption @ unit_prices\n",
    "cost"
   ]
  },
  {
   "cell_type": "markdown",
   "metadata": {
    "id": "Gh1T4h2vmo5A"
   },
   "source": [
    "1.2 Результаты рассчетов 1.1 сохранить в отдельном столбце области \"Пшеничный хлеб\""
   ]
  },
  {
   "cell_type": "code",
   "execution_count": 66,
   "metadata": {
    "id": "v-YHh_N4mo5A"
   },
   "outputs": [],
   "source": [
    "# recipies.range('T7:T10').value = cost.reshape(-1, 1)\n",
    "recipies.range('T6').value = 'Себестоимость'\n",
    "recipies.range('T7').options(transpose=True).value = cost"
   ]
  },
  {
   "cell_type": "markdown",
   "metadata": {
    "id": "GaaOgenlmo5B"
   },
   "source": [
    "1.3 Максимально приблизить форматирование столбца, добавленного в 1.2 к оформлению всей области."
   ]
  },
  {
   "cell_type": "code",
   "execution_count": 67,
   "metadata": {},
   "outputs": [],
   "source": [
    "recipies.range('S3:S16').copy()\n",
    "recipies.range('T3:T16').paste('formats')\n",
    "recipies.range('T4').value = 'Себестоимость'\n",
    "xw.Range('T4:T6').autofit()\n",
    "xw.Range('T7:T10').number_format = '0,00'"
   ]
  },
  {
   "cell_type": "markdown",
   "metadata": {
    "id": "-1mOoZVImo5B"
   },
   "source": [
    "1.4 Заменить значения добавленные в 1.2 на формулы. "
   ]
  },
  {
   "cell_type": "code",
   "execution_count": 68,
   "metadata": {
    "id": "j8TTC1URmo5B"
   },
   "outputs": [],
   "source": [
    "xw.Range('T7').formula = '=SUMPRODUCT(G7:O7,$G$14:$O$14)' \n",
    "xw.Range('T7:T10').formula = xw.Range('T7').formula"
   ]
  },
  {
   "cell_type": "markdown",
   "metadata": {
    "id": "-xE5JsqRmo5C"
   },
   "source": [
    "1.5 Выполнить 1.4 с помощью \"протягиваемых\" формул."
   ]
  },
  {
   "cell_type": "code",
   "execution_count": 69,
   "metadata": {
    "id": "gbJE8ifcmo5C",
    "outputId": "3e504740-5f88-4429-fffd-f54107bba0a6"
   },
   "outputs": [
    {
     "data": {
      "text/plain": [
       "True"
      ]
     },
     "execution_count": 69,
     "metadata": {},
     "output_type": "execute_result"
    }
   ],
   "source": [
    "xw.Range('T7').formula = '=SUMPRODUCT(G7:O7,$G$14:$O$14)' \n",
    "from xlwings.constants import AutoFillType \n",
    "xw.Range('T7').api.AutoFill(xw.Range(\"T7:T10\").api, \n",
    "                                AutoFillType.xlFillDefault)"
   ]
  },
  {
   "cell_type": "markdown",
   "metadata": {
    "id": "Di1I3Q_zmo5C"
   },
   "source": [
    "1.6 Сдлеать так, чтобы решение 1.5 и 1.3 автоматически применилось ко всем аналогичным областям на листе \"Рецептура\""
   ]
  },
  {
   "cell_type": "code",
   "execution_count": 70,
   "metadata": {},
   "outputs": [
    {
     "data": {
      "text/plain": [
       "[((3, 2), (16, 20)),\n",
       " ((19, 2), (33, 19)),\n",
       " ((36, 2), (54, 29)),\n",
       " ((57, 2), (75, 30))]"
      ]
     },
     "execution_count": 70,
     "metadata": {},
     "output_type": "execute_result"
    }
   ],
   "source": [
    "#автопоиск областей с рецептами\n",
    "data = recipies.range(\"A1:AD75\").options(np.array).value\n",
    "top_right_address = zip(*np.where(data == 'Доля'))\n",
    "bot_left_address = zip(*np.where(data == 'Размерность физических единиц'))\n",
    "top_right_bot_left_address = zip(top_right_address,bot_left_address)\n",
    "recipe_ranges = [((top, left+1), (bottom+1, right+2)) for ((top, right),(bottom, left)) in top_right_bot_left_address]\n",
    "recipe_ranges"
   ]
  },
  {
   "cell_type": "code",
   "execution_count": 86,
   "metadata": {},
   "outputs": [],
   "source": [
    "def auto_1_3_1_5(recipies, address):\n",
    "    ((fr,fc),(lr,lc)) = address\n",
    "    recipies.range((fr+1,lc-1),(lr,lc-1)).copy()\n",
    "    recipies.range((fr+1,lc),(lr,lc)).paste('formats')\n",
    "    recipies.range((fr,lc-1)).copy()\n",
    "    recipies.range((fr,lc)).paste('formats')\n",
    "    recipies.range((fr,fc),(fr,lc)).api.Borders.LineStyle = 1\n",
    "    recipies.range((fr,fc),(fr,lc)).api.Borders.Weight = 2\n",
    "    recipies.range((fr+1,lc)).value = 'Себестоимость'\n",
    "    recipies.range((fr+1,lc),(lr,lc)).autofit()\n",
    "    recipies.range((fr,fc),(fr,lc)).merge()\n",
    "    \n",
    "    products_count = recipies.range((fr+4,fc+5),(fr+4,lc-2)).get_address(\n",
    "        column_absolute=False,\n",
    "        row_absolute=False\n",
    "    )\n",
    "    products_cost = recipies.range((lr-2,fc+5),(lr-2,lc-2)).address\n",
    "    recipies.range(\n",
    "        (fr+4,lc)\n",
    "    ).formula = f'=SUMPRODUCT({products_count},{products_cost})'\n",
    "    recipies.range(\n",
    "        (fr+4,lc),\n",
    "        (lr-3,lc)\n",
    "    ).formula = xw.Range((fr+4,lc)).formula\n",
    "    xw.Range(\n",
    "        (fr+4,lc),\n",
    "        (lr-3,lc)\n",
    "    ).number_format = '0,00'"
   ]
  },
  {
   "cell_type": "code",
   "execution_count": 101,
   "metadata": {},
   "outputs": [],
   "source": [
    "for address in recipe_ranges:\n",
    "    auto_1_3_1_5(recipies, address)"
   ]
  },
  {
   "cell_type": "markdown",
   "metadata": {
    "id": "3E1MiWUmmo5C"
   },
   "source": [
    "## 2. Используя xlwings:"
   ]
  },
  {
   "cell_type": "code",
   "execution_count": 102,
   "metadata": {},
   "outputs": [
    {
     "data": {
      "text/plain": [
       "[<Range [себестоимостьА_в1.xlsx]Рецептура!$B$3:$T$16>,\n",
       " <Range [себестоимостьА_в1.xlsx]Рецептура!$B$19:$S$33>,\n",
       " <Range [себестоимостьА_в1.xlsx]Рецептура!$B$36:$AC$54>,\n",
       " <Range [себестоимостьА_в1.xlsx]Рецептура!$B$57:$AD$75>]"
      ]
     },
     "execution_count": 102,
     "metadata": {},
     "output_type": "execute_result"
    }
   ],
   "source": [
    "ranges = [recipies.range(*address) for address in recipe_ranges]\n",
    "ranges"
   ]
  },
  {
   "cell_type": "code",
   "execution_count": 103,
   "metadata": {},
   "outputs": [],
   "source": [
    "names = [\"_\".join(rec_range[0,0].value.lower().split()) for rec_range in ranges]"
   ]
  },
  {
   "cell_type": "code",
   "execution_count": 104,
   "metadata": {},
   "outputs": [],
   "source": [
    "for rec_range, name in zip(ranges, names):\n",
    "    rec_range.name = name"
   ]
  },
  {
   "cell_type": "markdown",
   "metadata": {
    "id": "fc68hcg1mo5C"
   },
   "source": [
    "2.1 Собрать цены всех ресурсов, используемые на листе \"Рецептура\". Проверить, что нет расхождений между ценами совпадающих ресурсов"
   ]
  },
  {
   "cell_type": "code",
   "execution_count": 105,
   "metadata": {},
   "outputs": [
    {
     "data": {
      "text/plain": [
       "{'Вода': 7.0,\n",
       " 'Пшеничная мука': 10.0,\n",
       " 'Дрожжи': 184.0,\n",
       " 'Сахар': 19.0,\n",
       " 'Соль': 7.0,\n",
       " 'Куркума молотая': 290.0,\n",
       " 'Топленное масло': 105.0,\n",
       " 'Кунжутные семена': 83.0,\n",
       " 'Масло оливковое': 260.0,\n",
       " 'Ржаная мука': 10.0,\n",
       " 'Солод ржаной': 108.0,\n",
       " 'Цельнозерновая мука': 12.0,\n",
       " 'Гречневая мука': 12.0,\n",
       " 'Ячменная мука': 12.0,\n",
       " 'Кукурузная мука': 12.0,\n",
       " 'Молоко': 40.0,\n",
       " 'Чеснок ': 1.0,\n",
       " 'Овсянные хлопья': 18.0,\n",
       " 'Пахта': 40.0,\n",
       " 'Изюм': 83.0,\n",
       " 'Семена подсолнуха': 160.0,\n",
       " 'Масло сливочное': 150.0,\n",
       " 'Яйцо': 4.0,\n",
       " 'Джем': 63.0,\n",
       " 'Сыр': 110.0,\n",
       " 'Ветчина': 270.0,\n",
       " 'Лосось': 250.0,\n",
       " 'Зелень': 280.0,\n",
       " 'Шоколад': 200.0,\n",
       " 'Творог': 80.0,\n",
       " 'Яблоки': 25.0,\n",
       " 'Вишня': 93.0}"
      ]
     },
     "execution_count": 105,
     "metadata": {},
     "output_type": "execute_result"
    }
   ],
   "source": [
    "ingridients = dict()\n",
    "for rec_range in ranges:\n",
    "    for ingridient, cost in zip(rec_range[2,5:-5].value, rec_range[-3,5:-5].value):\n",
    "        temp_cost = ingridients.get(ingridient)\n",
    "        if temp_cost:\n",
    "            if temp_cost != cost:\n",
    "                print('WARNING! Different cost of the same ingridient!!!')\n",
    "        else:\n",
    "            ingridients[ingridient] = cost\n",
    "ingridients         "
   ]
  },
  {
   "cell_type": "markdown",
   "metadata": {
    "id": "LWXc2PAqmo5D"
   },
   "source": [
    "2.2 Вынести цены ресурсов в новую таблицу на новом листе \"Цена ресурсов\"."
   ]
  },
  {
   "cell_type": "code",
   "execution_count": 106,
   "metadata": {},
   "outputs": [],
   "source": [
    "prices = wb.sheets.add(name=\"Цена ресурсов\", after=wb.sheets[0].name)"
   ]
  },
  {
   "cell_type": "code",
   "execution_count": 107,
   "metadata": {},
   "outputs": [],
   "source": [
    "prices.range((1,1)).value = ingridients"
   ]
  },
  {
   "cell_type": "markdown",
   "metadata": {
    "id": "tVGyDGVJmo5D"
   },
   "source": [
    "2.3 Заменить фиксированные цены ресурсов на листе \"Рецептура\" на ссылки на лист \"Цена ресурсов\""
   ]
  },
  {
   "cell_type": "code",
   "execution_count": 108,
   "metadata": {},
   "outputs": [],
   "source": [
    "prices_range = prices.range((1,1)).expand()"
   ]
  },
  {
   "cell_type": "code",
   "execution_count": 109,
   "metadata": {},
   "outputs": [],
   "source": [
    "np_prices = prices_range.options(np.array).value"
   ]
  },
  {
   "cell_type": "code",
   "execution_count": 110,
   "metadata": {},
   "outputs": [],
   "source": [
    "for rec_range in ranges:\n",
    "    for ingridient, cost in zip(rec_range[2,5:-5], rec_range[-3,5:-5]):\n",
    "        cell_i_j = np.where(np_prices == ingridient.value)\n",
    "        cost.formula = \"=\" + prices.range(\n",
    "            cell_i_j[0][0]+1,\n",
    "            cell_i_j[1][0]+2\n",
    "        ).get_address(\n",
    "            include_sheetname=True\n",
    "        ) "
   ]
  },
  {
   "cell_type": "markdown",
   "metadata": {
    "id": "0RgiTh89mo5D"
   },
   "source": [
    "2.4 Сделать так, чтобы цены ресурсов на листе \"Рецептура\" подтягивались с листа \"Цена ресурсов\" по наименованию (подсказка: использовать ВПР, рекомендуется использовать именованные области)"
   ]
  },
  {
   "cell_type": "code",
   "execution_count": 111,
   "metadata": {
    "scrolled": true
   },
   "outputs": [],
   "source": [
    "prices_address = prices_range.get_address(include_sheetname=True)"
   ]
  },
  {
   "cell_type": "code",
   "execution_count": 112,
   "metadata": {},
   "outputs": [],
   "source": [
    "for rec_range in ranges:\n",
    "    ingridient_address = rec_range[2,5].get_address(\n",
    "        row_absolute=False,\n",
    "        column_absolute=False\n",
    "    )\n",
    "    rec_range[-3,5].formula = f\"=VLOOKUP({ingridient_address},{prices_address},2,0)\"\n",
    "    rec_range[-3,5:-5].formula = rec_range[-3,5].formula"
   ]
  },
  {
   "cell_type": "code",
   "execution_count": 113,
   "metadata": {},
   "outputs": [],
   "source": [
    "wb.save()"
   ]
  },
  {
   "cell_type": "code",
   "execution_count": 114,
   "metadata": {},
   "outputs": [],
   "source": [
    "wb.close()"
   ]
  },
  {
   "cell_type": "markdown",
   "metadata": {
    "id": "OCby6_0jmo5E"
   },
   "source": [
    "## 3."
   ]
  },
  {
   "cell_type": "code",
   "execution_count": 117,
   "metadata": {},
   "outputs": [],
   "source": [
    "wb = xw.Book('себестоимостьА_в1.xlsx')\n",
    "recipies = wb.sheets['Рецептура']\n",
    "prices = wb.sheets['Цена ресурсов']"
   ]
  },
  {
   "cell_type": "code",
   "execution_count": 118,
   "metadata": {},
   "outputs": [],
   "source": [
    "import sqlite3\n",
    "conn = sqlite3.connect(\"netCost.db\")\n",
    "cursor = conn.cursor()"
   ]
  },
  {
   "cell_type": "markdown",
   "metadata": {},
   "source": [
    "3.1 Создать нормализованную (не ниже 3й нормальной формы) базу данных sqlite для хранения информации из себестоимостьА_в1.xlsx ."
   ]
  },
  {
   "cell_type": "code",
   "execution_count": 216,
   "metadata": {},
   "outputs": [
    {
     "data": {
      "text/plain": [
       "<sqlite3.Cursor at 0x18106ae7b20>"
      ]
     },
     "execution_count": 216,
     "metadata": {},
     "output_type": "execute_result"
    }
   ],
   "source": [
    "cursor.execute(\"\"\"DROP TABLE ingridients\"\"\")"
   ]
  },
  {
   "cell_type": "code",
   "execution_count": 217,
   "metadata": {},
   "outputs": [
    {
     "data": {
      "text/plain": [
       "<sqlite3.Cursor at 0x18106ae7b20>"
      ]
     },
     "execution_count": 217,
     "metadata": {},
     "output_type": "execute_result"
    }
   ],
   "source": [
    "cursor.execute(\"\"\"CREATE TABLE ingridients\n",
    "                  (id INTEGER PRIMARY KEY, ingridient text, price real,\n",
    "                  'measure unit' text)\n",
    "               \"\"\")"
   ]
  },
  {
   "cell_type": "code",
   "execution_count": 218,
   "metadata": {},
   "outputs": [
    {
     "data": {
      "text/plain": [
       "<sqlite3.Cursor at 0x18106ae7b20>"
      ]
     },
     "execution_count": 218,
     "metadata": {},
     "output_type": "execute_result"
    }
   ],
   "source": [
    "cursor.execute(\"\"\"DROP TABLE groups\"\"\")"
   ]
  },
  {
   "cell_type": "code",
   "execution_count": 219,
   "metadata": {},
   "outputs": [
    {
     "data": {
      "text/plain": [
       "<sqlite3.Cursor at 0x18106ae7b20>"
      ]
     },
     "execution_count": 219,
     "metadata": {},
     "output_type": "execute_result"
    }
   ],
   "source": [
    "cursor.execute(\"\"\"CREATE TABLE groups\n",
    "                  (id INTEGER PRIMARY KEY, name text)\n",
    "               \"\"\")"
   ]
  },
  {
   "cell_type": "code",
   "execution_count": 220,
   "metadata": {},
   "outputs": [
    {
     "data": {
      "text/plain": [
       "<sqlite3.Cursor at 0x18106ae7b20>"
      ]
     },
     "execution_count": 220,
     "metadata": {},
     "output_type": "execute_result"
    }
   ],
   "source": [
    "cursor.execute(\"\"\"DROP TABLE products\"\"\")"
   ]
  },
  {
   "cell_type": "code",
   "execution_count": 221,
   "metadata": {},
   "outputs": [
    {
     "data": {
      "text/plain": [
       "<sqlite3.Cursor at 0x18106ae7b20>"
      ]
     },
     "execution_count": 221,
     "metadata": {},
     "output_type": "execute_result"
    }
   ],
   "source": [
    "cursor.execute(\"\"\"CREATE TABLE products\n",
    "                  (id INTEGER PRIMARY KEY, name text, weight real,\n",
    "                  'wholesale price' real, 'retail price' real,\n",
    "                  fraction real, 'cost price' real, 'group id' integer)\n",
    "               \"\"\")"
   ]
  },
  {
   "cell_type": "code",
   "execution_count": 222,
   "metadata": {},
   "outputs": [
    {
     "data": {
      "text/plain": [
       "<sqlite3.Cursor at 0x18106ae7b20>"
      ]
     },
     "execution_count": 222,
     "metadata": {},
     "output_type": "execute_result"
    }
   ],
   "source": [
    "cursor.execute(\"\"\"DROP TABLE recipes\"\"\")"
   ]
  },
  {
   "cell_type": "code",
   "execution_count": 223,
   "metadata": {},
   "outputs": [
    {
     "data": {
      "text/plain": [
       "<sqlite3.Cursor at 0x18106ae7b20>"
      ]
     },
     "execution_count": 223,
     "metadata": {},
     "output_type": "execute_result"
    }
   ],
   "source": [
    "cursor.execute(\"\"\"CREATE TABLE recipes\n",
    "                  ('product id' integer, 'ingridient id' integer,\n",
    "                  consumption real)\n",
    "               \"\"\")"
   ]
  },
  {
   "cell_type": "code",
   "execution_count": 141,
   "metadata": {},
   "outputs": [],
   "source": [
    "ranges = [recipies.range(*address) for address in recipe_ranges]\n",
    "\n",
    "full_ingridients = dict()\n",
    "for rec_range in ranges:\n",
    "    for ingridient, cost, measure in zip(\n",
    "        rec_range[2,5:-5].value,\n",
    "        rec_range[-3,5:-5].value,\n",
    "        rec_range[-1,5:-5].value\n",
    "    ):\n",
    "        temp = full_ingridients.get(ingridient)\n",
    "        if temp:\n",
    "            if temp[0] != cost:\n",
    "                print('WARNING! Different cost of the same ingridient!!!')\n",
    "        else:\n",
    "            full_ingridients[ingridient] = [cost, measure]\n",
    "prices.range((1,1)).value = [\n",
    "    [key, *value] for key, value in full_ingridients.items()\n",
    "]     "
   ]
  },
  {
   "cell_type": "markdown",
   "metadata": {},
   "source": [
    "Используя xlwings:\n",
    "\n",
    "3.2 Информацию из себестоимостьА_в1.xlsx внести в БД на sqlite."
   ]
  },
  {
   "cell_type": "code",
   "execution_count": 224,
   "metadata": {},
   "outputs": [],
   "source": [
    "for id_,(name, price, measure_unit) in enumerate(\n",
    "    prices.range((1,1)).expand().value\n",
    "):\n",
    "    cursor.execute(f\"\"\"INSERT INTO ingridients\n",
    "    (ingridient, price, 'measure unit') \n",
    "    VALUES('{name}', {price}, '{measure_unit}');\"\"\")\n",
    "    conn.commit()"
   ]
  },
  {
   "cell_type": "code",
   "execution_count": 229,
   "metadata": {},
   "outputs": [
    {
     "name": "stdout",
     "output_type": "stream",
     "text": [
      "[(1, 1, 0.2), (1, 2, 0.4), (1, 3, 0.02), (1, 4, 0.02), (1, 5, 0.01), (1, 6, 0.005), (1, 7, 0.1), (2, 1, 0.07), (2, 2, 0.25), (2, 3, 0.01), (2, 4, 0.06), (2, 5, 0.015), (2, 7, 0.06), (2, 8, 0.05), (3, 1, 0.12), (3, 2, 0.22), (3, 3, 0.005), (3, 5, 0.009), (3, 6, 0.005), (3, 8, 0.05), (3, 9, 0.03), (4, 1, 0.12), (4, 2, 0.23), (4, 3, 0.01), (4, 5, 0.015), (4, 9, 0.05), (5, 1, 0.25), (5, 10, 0.1), (5, 2, 0.25), (5, 3, 0.025), (5, 5, 0.025), (5, 11, 0.04), (6, 1, 0.32), (6, 10, 0.37), (6, 2, 0.2), (6, 3, 0.03), (6, 4, 0.02), (6, 5, 0.03), (6, 9, 0.05), (6, 11, 0.025), (7, 1, 0.17), (7, 10, 0.1), (7, 2, 0.12), (7, 3, 0.007), (7, 4, 0.01), (7, 5, 0.01), (7, 9, 0.02), (8, 15, 0.2), (8, 2, 0.2), (8, 3, 0.01), (8, 4, 0.025), (8, 5, 0.01), (8, 16, 0.2), (8, 8, 0.03), (8, 9, 0.05), (8, 20, 0.1), (9, 1, 0.2), (9, 14, 0.1), (9, 2, 0.2), (9, 5, 0.01), (9, 6, 0.005), (9, 9, 0.02), (9, 17, 0.1), (9, 19, 0.2), (10, 14, 0.05), (10, 2, 0.25), (10, 4, 0.05), (10, 5, 0.015), (10, 9, 0.05), (10, 18, 0.2), (10, 19, 0.2), (10, 20, 0.1), (11, 1, 0.4), (11, 12, 0.5), (11, 3, 0.01), (11, 4, 0.02), (11, 5, 0.01), (11, 6, 0.005), (11, 9, 0.04), (11, 18, 0.1), (11, 21, 0.03), (12, 1, 0.05), (12, 2, 0.18), (12, 3, 0.025), (12, 4, 0.01), (12, 5, 0.02), (12, 16, 0.3), (12, 9, 0.02), (12, 18, 0.225), (13, 1, 0.15), (13, 12, 0.2), (13, 3, 0.01), (13, 4, 0.01), (13, 5, 0.015), (13, 8, 0.01), (13, 9, 0.05), (13, 21, 0.02), (14, 13, 0.1), (14, 2, 0.2), (14, 3, 0.01), (14, 16, 0.15), (14, 9, 0.08), (14, 17, 0.3), (15, 2, 0.0625), (15, 3, 0.000625), (15, 4, 0.0025), (15, 5, 0.0025), (15, 16, 0.025), (15, 22, 0.01), (15, 23, 0.125), (15, 9, 0.0125), (16, 2, 0.0625), (16, 3, 0.000625), (16, 4, 0.0025), (16, 5, 0.0025), (16, 16, 0.025), (16, 22, 0.01), (16, 23, 0.125), (16, 9, 0.0125), (16, 31, 0.02), (16, 32, 0.02), (17, 2, 0.0625), (17, 3, 0.000625), (17, 4, 0.0025), (17, 5, 0.0025), (17, 16, 0.025), (17, 22, 0.01), (17, 23, 0.125), (17, 9, 0.0125), (17, 29, 0.01), (18, 2, 0.0625), (18, 3, 0.000625), (18, 4, 0.0025), (18, 5, 0.0025), (18, 16, 0.025), (18, 22, 0.01), (18, 23, 0.125), (18, 9, 0.0125), (18, 24, 0.005), (19, 1, 0.00858), (19, 2, 0.0111111), (19, 5, 0.003), (19, 22, 0.012), (19, 23, 0.1), (19, 25, 0.01), (19, 26, 0.015), (19, 8, 0.01), (19, 28, 0.01), (20, 1, 0.01904761904761905), (20, 2, 0.024666666666666667), (20, 5, 0.003), (20, 16, 0.025), (20, 22, 0.023809523809523808), (20, 23, 0.1111111111111111), (20, 8, 0.01), (20, 27, 0.03333333333333333), (20, 28, 0.01), (21, 1, 0.14285714285714285), (21, 2, 0.026428571428571433), (21, 5, 0.003), (21, 16, 0.002857142857142857), (21, 22, 0.01984126984126984), (21, 23, 0.14285714285714285), (21, 25, 0.04285714285714286), (21, 8, 0.01), (22, 1, 0.14285714285714285), (22, 2, 0.026428571428571433), (22, 4, 0.003), (22, 5, 0.003), (22, 16, 0.002857142857142857), (22, 22, 0.01984126984126984), (22, 23, 0.14285714285714285), (22, 8, 0.01), (22, 30, 0.043), (23, 1, 0.10714285714285714), (23, 2, 0.10714285714285714), (23, 4, 0.015), (23, 5, 0.001), (23, 22, 0.1), (23, 31, 0.1), (23, 32, 0.075)]\n"
     ]
    }
   ],
   "source": [
    "cursor.execute(f\"\"\"SELECT *\n",
    "    FROM recipes;\"\"\")\n",
    "print(cursor.fetchall())"
   ]
  },
  {
   "cell_type": "code",
   "execution_count": 225,
   "metadata": {},
   "outputs": [],
   "source": [
    "for rec_range in ranges:\n",
    "    ingridients = rec_range[2,5:-5].value\n",
    "    ingrs_id = []\n",
    "    for ingr in ingridients:\n",
    "        cursor.execute(f\"\"\"SELECT id\n",
    "        FROM ingridients\n",
    "        WHERE ingridient='{ingr}';\"\"\")\n",
    "        ingrs_id.append(cursor.fetchall()[0][0])\n",
    "    \n",
    "    group_name = rec_range[0][0].value\n",
    "    \n",
    "    cursor.execute(f\"\"\"INSERT INTO groups\n",
    "    (name) \n",
    "    VALUES('{group_name}');\"\"\")\n",
    "    conn.commit()\n",
    "    \n",
    "    cursor.execute(f\"\"\"SELECT id\n",
    "    FROM groups\n",
    "    WHERE name='{group_name}';\"\"\")\n",
    "    group_id = cursor.fetchall()[0][0]\n",
    "    for product in rec_range[4:-4,1:].value:\n",
    "        if product[0]:\n",
    "            cursor.execute(f\"\"\"INSERT INTO products\n",
    "            (name, weight,'wholesale price', 'retail price',\n",
    "            fraction, 'cost price', 'group id')\n",
    "            VALUES('{product[0]}', {product[1]}, {product[2]},\n",
    "            {product[3]}, {product[-2]}, {product[-1]}, {group_id});\"\"\")\n",
    "            conn.commit()\n",
    "            \n",
    "            cursor.execute(f\"\"\"SELECT id\n",
    "            FROM products\n",
    "            WHERE name='{product[0]}';\"\"\")\n",
    "            product_id = cursor.fetchall()[0][0]\n",
    "\n",
    "            for consumption, ingr_id in zip(product[4:-5],ingrs_id):\n",
    "                if consumption:\n",
    "                    cursor.execute(f\"\"\"INSERT INTO recipes\n",
    "                    ('product id', 'ingridient id', consumption)\n",
    "                    VALUES('{product_id}', '{ingr_id}', {consumption});\"\"\")\n",
    "                    conn.commit()\n",
    " \n",
    "        \n",
    "   "
   ]
  },
  {
   "cell_type": "markdown",
   "metadata": {},
   "source": [
    "3.3 По базе данных sqlite сгенерирвать книгу эксель, по структуре аналогичную себестоимостьА_в1.xlsx"
   ]
  },
  {
   "cell_type": "code",
   "execution_count": null,
   "metadata": {},
   "outputs": [],
   "source": []
  },
  {
   "cell_type": "markdown",
   "metadata": {
    "id": "1WWchjvNmo5E"
   },
   "source": [
    "3.4 При помощи макроса на xlwings сделать в Excel кнопку, по которой все изменения на листе вносятся в БД, а цвет ячеек, в которых были найдены изменения, меняслся на зеленый.\n",
    "\n",
    "3.5 Реализовать UDF, которая позволяет по имени ресурса вернуть количество видов в продукции в которых используется данный ресурс\n",
    "\n",
    "3.6 Реализовать UDF, которая позволяет по имени ресурса вернуть массив наименований продуктов, в которых используется данный ресурс\n",
    "\n",
    "3.7 Реазливать UDF 3.5 и 3.6 которые для получения ответа использую не книгу Excel а БД на sqlite."
   ]
  },
  {
   "cell_type": "code",
   "execution_count": null,
   "metadata": {
    "id": "T0IANDTYmo5E"
   },
   "outputs": [],
   "source": []
  }
 ],
 "metadata": {
  "colab": {
   "provenance": []
  },
  "kernelspec": {
   "display_name": "Python 3 (ipykernel)",
   "language": "python",
   "name": "python3"
  },
  "language_info": {
   "codemirror_mode": {
    "name": "ipython",
    "version": 3
   },
   "file_extension": ".py",
   "mimetype": "text/x-python",
   "name": "python",
   "nbconvert_exporter": "python",
   "pygments_lexer": "ipython3",
   "version": "3.9.12"
  }
 },
 "nbformat": 4,
 "nbformat_minor": 1
}
