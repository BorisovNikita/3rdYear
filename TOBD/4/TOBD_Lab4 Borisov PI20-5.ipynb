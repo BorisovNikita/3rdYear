{
 "cells": [
  {
   "cell_type": "markdown",
   "metadata": {
    "id": "OGeMsiOGmo47"
   },
   "source": [
    "# Работа с Excel\n",
    "\n",
    "v 0.1"
   ]
  },
  {
   "cell_type": "markdown",
   "metadata": {
    "id": "D2FZILvnmo49"
   },
   "source": [
    "Датасет: себестоимостьА_в1.xlsx"
   ]
  },
  {
   "cell_type": "code",
   "execution_count": 2,
   "metadata": {
    "id": "0UKW-K-fmo4-"
   },
   "outputs": [],
   "source": [
    "import xlwings as xw\n",
    "import numpy as np\n",
    "import pandas as pd\n",
    "from xlwings import constants "
   ]
  },
  {
   "cell_type": "markdown",
   "metadata": {},
   "source": [
    "## Сохраним исходник на всякий"
   ]
  },
  {
   "cell_type": "code",
   "execution_count": 5,
   "metadata": {},
   "outputs": [
    {
     "data": {
      "text/plain": [
       "'себестоимостьА_в1_buckup.xlsx'"
      ]
     },
     "execution_count": 5,
     "metadata": {},
     "output_type": "execute_result"
    }
   ],
   "source": [
    "import shutil\n",
    "shutil.copy('себестоимостьА_в1.xlsx', 'себестоимостьА_в1_buckup.xlsx')"
   ]
  },
  {
   "cell_type": "markdown",
   "metadata": {
    "id": "3BEqZHTjmo4-"
   },
   "source": [
    "## 1. Используя xlwings:"
   ]
  },
  {
   "cell_type": "code",
   "execution_count": 261,
   "metadata": {
    "id": "oJNyveQSmo4_"
   },
   "outputs": [],
   "source": [
    "wb = xw.Book('себестоимостьА_в1.xlsx')\n",
    "recipies = wb.sheets['Рецептура']"
   ]
  },
  {
   "cell_type": "code",
   "execution_count": 30,
   "metadata": {
    "id": "AQwgBv0Pmo4_",
    "outputId": "3154cf8c-f3d6-43fa-e542-64b907a3de88"
   },
   "outputs": [
    {
     "data": {
      "text/plain": [
       "['Хлеб Венгерский', 'Хлеб \"Барбари\"', 'Багет парижский', 'Чиабатта']"
      ]
     },
     "execution_count": 30,
     "metadata": {},
     "output_type": "execute_result"
    }
   ],
   "source": [
    "recipies.range('C7:C10').value"
   ]
  },
  {
   "cell_type": "markdown",
   "metadata": {
    "id": "XkRCCo5Pmo5A"
   },
   "source": [
    "1.1 На листе \"Рецептура\" для области \"Пшеничный хлеб\" рассчитать себестоимость всех видов продукции."
   ]
  },
  {
   "cell_type": "code",
   "execution_count": 31,
   "metadata": {},
   "outputs": [
    {
     "data": {
      "text/plain": [
       "array([[0.2  , 0.4  , 0.02 , 0.02 , 0.01 , 0.005, 0.1  , 0.   , 0.   ],\n",
       "       [0.07 , 0.25 , 0.01 , 0.06 , 0.015, 0.   , 0.06 , 0.05 , 0.   ],\n",
       "       [0.12 , 0.22 , 0.005, 0.   , 0.009, 0.005, 0.   , 0.05 , 0.03 ],\n",
       "       [0.12 , 0.23 , 0.01 , 0.   , 0.015, 0.   , 0.   , 0.   , 0.05 ]])"
      ]
     },
     "execution_count": 31,
     "metadata": {},
     "output_type": "execute_result"
    }
   ],
   "source": [
    "consumption = recipies.range('G7:O10').options(np.array).value\n",
    "consumption = np.nan_to_num(consumption)\n",
    "consumption"
   ]
  },
  {
   "cell_type": "code",
   "execution_count": 32,
   "metadata": {},
   "outputs": [
    {
     "data": {
      "text/plain": [
       "array([  7.,  10., 184.,  19.,   7., 290., 105.,  83., 260.])"
      ]
     },
     "execution_count": 32,
     "metadata": {},
     "output_type": "execute_result"
    }
   ],
   "source": [
    "unit_prices = recipies.range('G14:O14').options(np.array).value\n",
    "unit_prices"
   ]
  },
  {
   "cell_type": "code",
   "execution_count": 33,
   "metadata": {},
   "outputs": [
    {
     "data": {
      "text/plain": [
       "array([21.48 , 16.525, 17.423, 18.085])"
      ]
     },
     "execution_count": 33,
     "metadata": {},
     "output_type": "execute_result"
    }
   ],
   "source": [
    "cost = consumption @ unit_prices\n",
    "cost"
   ]
  },
  {
   "cell_type": "markdown",
   "metadata": {
    "id": "Gh1T4h2vmo5A"
   },
   "source": [
    "1.2 Результаты рассчетов 1.1 сохранить в отдельном столбце области \"Пшеничный хлеб\""
   ]
  },
  {
   "cell_type": "code",
   "execution_count": 34,
   "metadata": {
    "id": "v-YHh_N4mo5A"
   },
   "outputs": [],
   "source": [
    "# recipies.range('T7:T10').value = cost.reshape(-1, 1)\n",
    "recipies.range('T6').value = 'Себестоимость'\n",
    "recipies.range('T7').options(transpose=True).value = cost"
   ]
  },
  {
   "cell_type": "markdown",
   "metadata": {
    "id": "GaaOgenlmo5B"
   },
   "source": [
    "1.3 Максимально приблизить форматирование столбца, добавленного в 1.2 к оформлению всей области."
   ]
  },
  {
   "cell_type": "code",
   "execution_count": 35,
   "metadata": {},
   "outputs": [],
   "source": [
    "recipies.range('S3:S16').copy()\n",
    "recipies.range('T3:T16').paste('formats')\n",
    "recipies.range('T4').value = 'Себестоимость'\n",
    "xw.Range('T4:T6').autofit()\n",
    "xw.Range('T7:T10').number_format = '0,00'"
   ]
  },
  {
   "cell_type": "code",
   "execution_count": 141,
   "metadata": {},
   "outputs": [],
   "source": []
  },
  {
   "cell_type": "code",
   "execution_count": 142,
   "metadata": {},
   "outputs": [],
   "source": []
  },
  {
   "cell_type": "markdown",
   "metadata": {
    "id": "-1mOoZVImo5B"
   },
   "source": [
    "1.4 Заменить значения добавленные в 1.2 на формулы. "
   ]
  },
  {
   "cell_type": "code",
   "execution_count": 37,
   "metadata": {
    "id": "j8TTC1URmo5B"
   },
   "outputs": [],
   "source": [
    "xw.Range('T7').formula = '=SUMPRODUCT(G7:O7,$G$14:$O$14)' \n",
    "xw.Range('T7:T10').formula = xw.Range('T7').formula"
   ]
  },
  {
   "cell_type": "markdown",
   "metadata": {
    "id": "-xE5JsqRmo5C"
   },
   "source": [
    "1.5 Выполнить 1.4 с помощью \"протягиваемых\" формул."
   ]
  },
  {
   "cell_type": "code",
   "execution_count": 38,
   "metadata": {
    "id": "gbJE8ifcmo5C",
    "outputId": "3e504740-5f88-4429-fffd-f54107bba0a6"
   },
   "outputs": [
    {
     "data": {
      "text/plain": [
       "True"
      ]
     },
     "execution_count": 38,
     "metadata": {},
     "output_type": "execute_result"
    }
   ],
   "source": [
    "xw.Range('T7').formula = '=SUMPRODUCT(G7:O7,$G$14:$O$14)' \n",
    "from xlwings.constants import AutoFillType \n",
    "xw.Range('T7').api.AutoFill(xw.Range(\"T7:T10\").api, \n",
    "                                AutoFillType.xlFillDefault)"
   ]
  },
  {
   "cell_type": "markdown",
   "metadata": {
    "id": "Di1I3Q_zmo5C"
   },
   "source": [
    "1.6 Сдлеать так, чтобы решение 1.5 и 1.3 автоматически применилось ко всем аналогичным областям на листе \"Рецептура\""
   ]
  },
  {
   "cell_type": "code",
   "execution_count": 262,
   "metadata": {},
   "outputs": [
    {
     "data": {
      "text/plain": [
       "[((3, 2), (16, 20)),\n",
       " ((19, 2), (33, 19)),\n",
       " ((36, 2), (54, 29)),\n",
       " ((57, 2), (75, 30))]"
      ]
     },
     "execution_count": 262,
     "metadata": {},
     "output_type": "execute_result"
    }
   ],
   "source": [
    "#автопоиск областей с рецептами\n",
    "data = recipies.range(\"A1:AD75\").options(np.array).value\n",
    "top_right_address = zip(*np.where(data == 'Доля'))\n",
    "bot_left_address = zip(*np.where(data == 'Размерность физических единиц'))\n",
    "top_right_bot_left_address = zip(top_right_address,bot_left_address)\n",
    "top_right_bot_left_address\n",
    "recipe_ranges = [((top, left+1), (bottom+1, right+2)) for ((top, right),(bottom, left)) in top_right_bot_left_address]\n",
    "recipe_ranges"
   ]
  },
  {
   "cell_type": "code",
   "execution_count": 263,
   "metadata": {},
   "outputs": [],
   "source": [
    "def auto_1_3_1_5(recipies, address):\n",
    "    ((fr,fc),(lr,lc)) = address\n",
    "    recipies.range((fr+1,lc-1),(lr,lc-1)).copy()\n",
    "    recipies.range((fr+1,lc),(lr,lc)).paste('formats')\n",
    "    recipies.range((fr,lc-1)).copy()\n",
    "    recipies.range((fr,lc)).paste('formats')\n",
    "    recipies.range((fr,fc),(fr,lc)).merge()\n",
    "    recipies.range((fr,fc),(fr,lc)).api.Borders.LineStyle = 1\n",
    "    recipies.range((fr,fc),(fr,lc)).api.Borders.Weight = 2\n",
    "    recipies.range((fr+1,lc)).value = 'Себестоимость'\n",
    "    xw.Range((fr+1,lc),(lr,lc)).autofit()\n",
    "    recipies.range((fr,fc),(fr,lc)).merge()\n",
    "    products_count = recipies.range((fr+4,fc+5),(fr+4,lc-2)).get_address(\n",
    "        column_absolute=False,\n",
    "        row_absolute=False\n",
    "    )\n",
    "    products_cost = recipies.range((lr-2,fc+5),(lr-2,lc-2)).address\n",
    "    recipies.range(\n",
    "        (fr+4,lc)\n",
    "    ).formula = f'=SUMPRODUCT({products_count},{products_cost})'\n",
    "    recipies.range(\n",
    "        (fr+4,lc),\n",
    "        (lr-3,lc)\n",
    "    ).formula = xw.Range((fr+4,lc)).formula\n",
    "    xw.Range(\n",
    "        (fr+4,lc),\n",
    "        (lr-3,lc)\n",
    "    ).number_format = '0,00'"
   ]
  },
  {
   "cell_type": "code",
   "execution_count": 264,
   "metadata": {},
   "outputs": [],
   "source": [
    "for address in recipe_ranges:\n",
    "    auto_1_3_1_5(recipies, address)"
   ]
  },
  {
   "cell_type": "markdown",
   "metadata": {
    "id": "3E1MiWUmmo5C"
   },
   "source": [
    "## 2. Используя xlwings:"
   ]
  },
  {
   "cell_type": "code",
   "execution_count": 265,
   "metadata": {},
   "outputs": [
    {
     "data": {
      "text/plain": [
       "[<Range [себестоимостьА_в1.xlsx]Рецептура!$B$3:$T$16>,\n",
       " <Range [себестоимостьА_в1.xlsx]Рецептура!$B$19:$S$33>,\n",
       " <Range [себестоимостьА_в1.xlsx]Рецептура!$B$36:$AC$54>,\n",
       " <Range [себестоимостьА_в1.xlsx]Рецептура!$B$57:$AD$75>]"
      ]
     },
     "execution_count": 265,
     "metadata": {},
     "output_type": "execute_result"
    }
   ],
   "source": [
    "ranges = [recipies.range(*address) for address in recipe_ranges]\n",
    "ranges"
   ]
  },
  {
   "cell_type": "code",
   "execution_count": 266,
   "metadata": {},
   "outputs": [],
   "source": [
    "names = [\"_\".join(rec_range[0,0].value.lower().split()) for rec_range in ranges]"
   ]
  },
  {
   "cell_type": "code",
   "execution_count": 267,
   "metadata": {},
   "outputs": [],
   "source": [
    "for rec_range, name in zip(ranges, names):\n",
    "    rec_range.name = name"
   ]
  },
  {
   "cell_type": "markdown",
   "metadata": {
    "id": "fc68hcg1mo5C"
   },
   "source": [
    "2.1 Собрать цены всех ресурсов, используемые на листе \"Рецептура\". Проверить, что нет расхождений между ценами совпадающих ресурсов"
   ]
  },
  {
   "cell_type": "code",
   "execution_count": 268,
   "metadata": {},
   "outputs": [
    {
     "data": {
      "text/plain": [
       "{'Вода': 7.0,\n",
       " 'Пшеничная мука': 10.0,\n",
       " 'Дрожжи': 184.0,\n",
       " 'Сахар': 19.0,\n",
       " 'Соль': 7.0,\n",
       " 'Куркума молотая': 290.0,\n",
       " 'Топленное масло': 105.0,\n",
       " 'Кунжутные семена': 83.0,\n",
       " 'Масло оливковое': 260.0,\n",
       " 'Ржаная мука': 10.0,\n",
       " 'Солод ржаной': 108.0,\n",
       " 'Цельнозерновая мука': 12.0,\n",
       " 'Гречневая мука': 12.0,\n",
       " 'Ячменная мука': 12.0,\n",
       " 'Кукурузная мука': 12.0,\n",
       " 'Молоко': 40.0,\n",
       " 'Чеснок ': 1.0,\n",
       " 'Овсянные хлопья': 18.0,\n",
       " 'Пахта': 40.0,\n",
       " 'Изюм': 83.0,\n",
       " 'Семена подсолнуха': 160.0,\n",
       " 'Масло сливочное': 150.0,\n",
       " 'Яйцо': 4.0,\n",
       " 'Джем': 63.0,\n",
       " 'Сыр': 110.0,\n",
       " 'Ветчина': 270.0,\n",
       " 'Лосось': 250.0,\n",
       " 'Зелень': 280.0,\n",
       " 'Шоколад': 200.0,\n",
       " 'Творог': 80.0,\n",
       " 'Яблоки': 25.0,\n",
       " 'Вишня': 93.0}"
      ]
     },
     "execution_count": 268,
     "metadata": {},
     "output_type": "execute_result"
    }
   ],
   "source": [
    "ingridients = dict()\n",
    "for rec_range in ranges:\n",
    "    for ingridient, cost in zip(rec_range[2,5:-5].value, rec_range[-3,5:-5].value):\n",
    "        temp_cost = ingridients.get(ingridient)\n",
    "        if temp_cost:\n",
    "            if temp_cost != cost:\n",
    "                print('WARNING! Different cost of the same ingridient!!!')\n",
    "        else:\n",
    "            ingridients[ingridient] = cost\n",
    "ingridients         "
   ]
  },
  {
   "cell_type": "markdown",
   "metadata": {
    "id": "LWXc2PAqmo5D"
   },
   "source": [
    "2.2 Вынести цены ресурсов в новую таблицу на новом листе \"Цена ресурсов\"."
   ]
  },
  {
   "cell_type": "code",
   "execution_count": 270,
   "metadata": {},
   "outputs": [],
   "source": [
    "prices = wb.sheets.add(name=\"Цена ресурсов\", after=wb.sheets[0].name)"
   ]
  },
  {
   "cell_type": "code",
   "execution_count": 271,
   "metadata": {},
   "outputs": [],
   "source": [
    "prices.range((1,1)).value = ingridients"
   ]
  },
  {
   "cell_type": "markdown",
   "metadata": {
    "id": "tVGyDGVJmo5D"
   },
   "source": [
    "2.3 Заменить фиксированные цены ресурсов на листе \"Рецептура\" на ссылки на лист \"Цена ресурсов\""
   ]
  },
  {
   "cell_type": "code",
   "execution_count": 272,
   "metadata": {},
   "outputs": [],
   "source": [
    "prices_range = prices.range((1,1)).expand()"
   ]
  },
  {
   "cell_type": "code",
   "execution_count": 273,
   "metadata": {},
   "outputs": [],
   "source": [
    "np_prices = prices_range.options(np.array).value"
   ]
  },
  {
   "cell_type": "code",
   "execution_count": 274,
   "metadata": {},
   "outputs": [],
   "source": [
    "for rec_range in ranges:\n",
    "    for ingridient, cost in zip(rec_range[2,5:-5], rec_range[-3,5:-5]):\n",
    "        cell_i_j = np.where(np_prices == ingridient.value)\n",
    "        cost.formula = \"=\" + prices.range(\n",
    "            cell_i_j[0][0]+1,\n",
    "            cell_i_j[1][0]+2\n",
    "        ).get_address(\n",
    "            include_sheetname=True\n",
    "        ) "
   ]
  },
  {
   "cell_type": "markdown",
   "metadata": {
    "id": "0RgiTh89mo5D"
   },
   "source": [
    "2.4 Сделать так, чтобы цены ресурсов на листе \"Рецептура\" подтягивались с листа \"Цена ресурсов\" по наименованию (подсказка: использовать ВПР, рекомендуется использовать именованные области)"
   ]
  },
  {
   "cell_type": "code",
   "execution_count": 285,
   "metadata": {
    "scrolled": true
   },
   "outputs": [],
   "source": [
    "prices_address = prices_range.get_address(include_sheetname=True)"
   ]
  },
  {
   "cell_type": "code",
   "execution_count": 287,
   "metadata": {},
   "outputs": [],
   "source": [
    "for rec_range in ranges:\n",
    "    ingridient_address = rec_range[2,5].get_address(\n",
    "        row_absolute=False,\n",
    "        column_absolute=False\n",
    "    )\n",
    "    rec_range[-3,5].formula = f\"=VLOOKUP({ingridient_address},{prices_address},2,0)\"\n",
    "    rec_range[-3,5:-5].formula = rec_range[-3,5].formula"
   ]
  },
  {
   "cell_type": "markdown",
   "metadata": {
    "id": "OCby6_0jmo5E"
   },
   "source": [
    "## 3."
   ]
  },
  {
   "cell_type": "markdown",
   "metadata": {
    "id": "1WWchjvNmo5E"
   },
   "source": [
    "3.1 Создать нормализованную (не ниже 3й нормальной формы) базу данных sqlite для хранения информации из себестоимостьА_в1.xlsx .\n",
    "\n",
    "Используя xlwings:\n",
    "\n",
    "3.2 Информацию из себестоимостьА_в1.xlsx внести в БД на sqlite.\n",
    "\n",
    "3.3 По базе данных sqlite сгенерирвать книгу эксель, по структуре аналогичную себестоимостьА_в1.xlsx\n",
    "\n",
    "3.4 При помощи макроса на xlwings сделать в Excel кнопку, по которой все изменения на листе вносятся в БД, а цвет ячеек, в которых были найдены изменения, меняслся на зеленый.\n",
    "\n",
    "3.5 Реализовать UDF, которая позволяет по имени ресурса вернуть количество видов в продукции в которых используется данный ресурс\n",
    "\n",
    "3.6 Реализовать UDF, которая позволяет по имени ресурса вернуть массив наименований продуктов, в которых используется данный ресурс\n",
    "\n",
    "3.7 Реазливать UDF 3.5 и 3.6 которые для получения ответа использую не книгу Excel а БД на sqlite."
   ]
  },
  {
   "cell_type": "code",
   "execution_count": null,
   "metadata": {
    "id": "T0IANDTYmo5E"
   },
   "outputs": [],
   "source": []
  }
 ],
 "metadata": {
  "colab": {
   "provenance": []
  },
  "kernelspec": {
   "display_name": "Python 3 (ipykernel)",
   "language": "python",
   "name": "python3"
  },
  "language_info": {
   "codemirror_mode": {
    "name": "ipython",
    "version": 3
   },
   "file_extension": ".py",
   "mimetype": "text/x-python",
   "name": "python",
   "nbconvert_exporter": "python",
   "pygments_lexer": "ipython3",
   "version": "3.9.12"
  }
 },
 "nbformat": 4,
 "nbformat_minor": 1
}
