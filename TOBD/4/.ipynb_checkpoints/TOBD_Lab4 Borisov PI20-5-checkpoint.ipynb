{
 "cells": [
  {
   "cell_type": "markdown",
   "metadata": {
    "id": "OGeMsiOGmo47"
   },
   "source": [
    "# Работа с Excel\n",
    "\n",
    "v 0.1"
   ]
  },
  {
   "cell_type": "markdown",
   "metadata": {
    "id": "D2FZILvnmo49"
   },
   "source": [
    "Датасет: себестоимостьА_в1.xlsx"
   ]
  },
  {
   "cell_type": "code",
   "execution_count": 122,
   "metadata": {
    "id": "0UKW-K-fmo4-"
   },
   "outputs": [],
   "source": [
    "import xlwings as xw\n",
    "import numpy as np\n",
    "import pandas as pd\n",
    "from xlwings import constants "
   ]
  },
  {
   "cell_type": "markdown",
   "metadata": {},
   "source": [
    "## Сохраним исходник на всякий"
   ]
  },
  {
   "cell_type": "code",
   "execution_count": 123,
   "metadata": {},
   "outputs": [
    {
     "data": {
      "text/plain": [
       "'себестоимостьА_в1.xlsx'"
      ]
     },
     "execution_count": 123,
     "metadata": {},
     "output_type": "execute_result"
    }
   ],
   "source": [
    "import shutil\n",
    "shutil.copy('себестоимостьА_в1_buckup.xlsx', 'себестоимостьА_в1.xlsx')"
   ]
  },
  {
   "cell_type": "markdown",
   "metadata": {
    "id": "3BEqZHTjmo4-"
   },
   "source": [
    "## 1. Используя xlwings:"
   ]
  },
  {
   "cell_type": "code",
   "execution_count": 124,
   "metadata": {
    "id": "oJNyveQSmo4_"
   },
   "outputs": [],
   "source": [
    "wb = xw.Book('себестоимостьА_в1.xlsx')\n",
    "recipies = wb.sheets['Рецептура']"
   ]
  },
  {
   "cell_type": "code",
   "execution_count": 125,
   "metadata": {
    "id": "AQwgBv0Pmo4_",
    "outputId": "3154cf8c-f3d6-43fa-e542-64b907a3de88"
   },
   "outputs": [
    {
     "data": {
      "text/plain": [
       "['Хлеб Венгерский', 'Хлеб \"Барбари\"', 'Багет парижский', 'Чиабатта']"
      ]
     },
     "execution_count": 125,
     "metadata": {},
     "output_type": "execute_result"
    }
   ],
   "source": [
    "recipies.range('C7:C10').value"
   ]
  },
  {
   "cell_type": "markdown",
   "metadata": {
    "id": "XkRCCo5Pmo5A"
   },
   "source": [
    "1.1 На листе \"Рецептура\" для области \"Пшеничный хлеб\" рассчитать себестоимость всех видов продукции."
   ]
  },
  {
   "cell_type": "code",
   "execution_count": 126,
   "metadata": {},
   "outputs": [
    {
     "data": {
      "text/plain": [
       "array([[0.2  , 0.4  , 0.02 , 0.02 , 0.01 , 0.005, 0.1  , 0.   , 0.   ],\n",
       "       [0.07 , 0.25 , 0.01 , 0.06 , 0.015, 0.   , 0.06 , 0.05 , 0.   ],\n",
       "       [0.12 , 0.22 , 0.005, 0.   , 0.009, 0.005, 0.   , 0.05 , 0.03 ],\n",
       "       [0.12 , 0.23 , 0.01 , 0.   , 0.015, 0.   , 0.   , 0.   , 0.05 ]])"
      ]
     },
     "execution_count": 126,
     "metadata": {},
     "output_type": "execute_result"
    }
   ],
   "source": [
    "consumption = recipies.range('G7:O10').options(np.array).value\n",
    "consumption = np.nan_to_num(consumption)\n",
    "consumption"
   ]
  },
  {
   "cell_type": "code",
   "execution_count": 127,
   "metadata": {},
   "outputs": [
    {
     "data": {
      "text/plain": [
       "array([  7.,  10., 184.,  19.,   7., 290., 105.,  83., 260.])"
      ]
     },
     "execution_count": 127,
     "metadata": {},
     "output_type": "execute_result"
    }
   ],
   "source": [
    "unit_prices = recipies.range('G14:O14').options(np.array).value\n",
    "unit_prices"
   ]
  },
  {
   "cell_type": "code",
   "execution_count": 128,
   "metadata": {},
   "outputs": [
    {
     "data": {
      "text/plain": [
       "array([21.48 , 16.525, 17.423, 18.085])"
      ]
     },
     "execution_count": 128,
     "metadata": {},
     "output_type": "execute_result"
    }
   ],
   "source": [
    "cost = consumption @ unit_prices\n",
    "cost"
   ]
  },
  {
   "cell_type": "markdown",
   "metadata": {
    "id": "Gh1T4h2vmo5A"
   },
   "source": [
    "1.2 Результаты рассчетов 1.1 сохранить в отдельном столбце области \"Пшеничный хлеб\""
   ]
  },
  {
   "cell_type": "code",
   "execution_count": 129,
   "metadata": {
    "id": "v-YHh_N4mo5A"
   },
   "outputs": [],
   "source": [
    "# recipies.range('T7:T10').value = cost.reshape(-1, 1)\n",
    "recipies.range('T6').value = 'Себестоимость'\n",
    "recipies.range('T7').options(transpose=True).value = cost"
   ]
  },
  {
   "cell_type": "markdown",
   "metadata": {
    "id": "GaaOgenlmo5B"
   },
   "source": [
    "1.3 Максимально приблизить форматирование столбца, добавленного в 1.2 к оформлению всей области."
   ]
  },
  {
   "cell_type": "code",
   "execution_count": 130,
   "metadata": {},
   "outputs": [],
   "source": [
    "recipies.range('S3:S16').copy()\n",
    "recipies.range('T3:T16').paste('formats')\n",
    "recipies.range('T4').value = 'Себестоимость'\n",
    "xw.Range('T4:T6').autofit()\n",
    "xw.Range('T7:T10').number_format = '0,00'"
   ]
  },
  {
   "cell_type": "markdown",
   "metadata": {
    "id": "-1mOoZVImo5B"
   },
   "source": [
    "1.4 Заменить значения добавленные в 1.2 на формулы. "
   ]
  },
  {
   "cell_type": "code",
   "execution_count": 131,
   "metadata": {
    "id": "j8TTC1URmo5B"
   },
   "outputs": [],
   "source": [
    "xw.Range('T7').formula = '=SUMPRODUCT(G7:O7,$G$14:$O$14)' \n",
    "xw.Range('T7:T10').formula = xw.Range('T7').formula"
   ]
  },
  {
   "cell_type": "markdown",
   "metadata": {
    "id": "-xE5JsqRmo5C"
   },
   "source": [
    "1.5 Выполнить 1.4 с помощью \"протягиваемых\" формул."
   ]
  },
  {
   "cell_type": "code",
   "execution_count": 132,
   "metadata": {
    "id": "gbJE8ifcmo5C",
    "outputId": "3e504740-5f88-4429-fffd-f54107bba0a6"
   },
   "outputs": [
    {
     "data": {
      "text/plain": [
       "True"
      ]
     },
     "execution_count": 132,
     "metadata": {},
     "output_type": "execute_result"
    }
   ],
   "source": [
    "xw.Range('T7').formula = '=SUMPRODUCT(G7:O7,$G$14:$O$14)' \n",
    "from xlwings.constants import AutoFillType \n",
    "xw.Range('T7').api.AutoFill(xw.Range(\"T7:T10\").api, \n",
    "                                AutoFillType.xlFillDefault)"
   ]
  },
  {
   "cell_type": "markdown",
   "metadata": {
    "id": "Di1I3Q_zmo5C"
   },
   "source": [
    "1.6 Сдлеать так, чтобы решение 1.5 и 1.3 автоматически применилось ко всем аналогичным областям на листе \"Рецептура\""
   ]
  },
  {
   "cell_type": "code",
   "execution_count": 133,
   "metadata": {},
   "outputs": [
    {
     "data": {
      "text/plain": [
       "[((3, 2), (16, 20)),\n",
       " ((19, 2), (33, 19)),\n",
       " ((36, 2), (54, 29)),\n",
       " ((57, 2), (75, 30))]"
      ]
     },
     "execution_count": 133,
     "metadata": {},
     "output_type": "execute_result"
    }
   ],
   "source": [
    "#автопоиск областей с рецептами\n",
    "data = recipies.range(\"A1:AD75\").options(np.array).value\n",
    "top_right_address = zip(*np.where(data == 'Доля'))\n",
    "bot_left_address = zip(*np.where(data == 'Размерность физических единиц'))\n",
    "top_right_bot_left_address = zip(top_right_address,bot_left_address)\n",
    "recipe_ranges = [((top, left+1), (bottom+1, right+2)) for ((top, right),(bottom, left)) in top_right_bot_left_address]\n",
    "recipe_ranges"
   ]
  },
  {
   "cell_type": "code",
   "execution_count": 134,
   "metadata": {},
   "outputs": [],
   "source": [
    "def auto_1_3_1_5(recipies, address):\n",
    "    ((fr,fc),(lr,lc)) = address\n",
    "    recipies.range((fr+1,lc-1),(lr,lc-1)).copy()\n",
    "    recipies.range((fr+1,lc),(lr,lc)).paste('formats')\n",
    "    recipies.range((fr,lc-1)).copy()\n",
    "    recipies.range((fr,lc)).paste('formats')\n",
    "    recipies.range((fr,fc),(fr,lc)).api.Borders.LineStyle = 1\n",
    "    recipies.range((fr,fc),(fr,lc)).api.Borders.Weight = 2\n",
    "    recipies.range((fr+1,lc)).value = 'Себестоимость'\n",
    "    recipies.range((fr+1,lc),(lr,lc)).autofit()\n",
    "    recipies.range((fr,fc),(fr,lc)).merge()\n",
    "    \n",
    "    products_count = recipies.range((fr+4,fc+5),(fr+4,lc-2)).get_address(\n",
    "        column_absolute=False,\n",
    "        row_absolute=False\n",
    "    )\n",
    "    products_cost = recipies.range((lr-2,fc+5),(lr-2,lc-2)).address\n",
    "    recipies.range(\n",
    "        (fr+4,lc)\n",
    "    ).formula = f'=SUMPRODUCT({products_count},{products_cost})'\n",
    "    recipies.range(\n",
    "        (fr+4,lc),\n",
    "        (lr-3,lc)\n",
    "    ).formula = xw.Range((fr+4,lc)).formula\n",
    "    xw.Range(\n",
    "        (fr+4,lc),\n",
    "        (lr-3,lc)\n",
    "    ).number_format = '0,00'"
   ]
  },
  {
   "cell_type": "code",
   "execution_count": 135,
   "metadata": {},
   "outputs": [],
   "source": [
    "for address in recipe_ranges:\n",
    "    auto_1_3_1_5(recipies, address)"
   ]
  },
  {
   "cell_type": "markdown",
   "metadata": {
    "id": "3E1MiWUmmo5C"
   },
   "source": [
    "## 2. Используя xlwings:"
   ]
  },
  {
   "cell_type": "code",
   "execution_count": 136,
   "metadata": {},
   "outputs": [
    {
     "data": {
      "text/plain": [
       "[<Range [себестоимостьА_в1.xlsx]Рецептура!$B$3:$T$16>,\n",
       " <Range [себестоимостьА_в1.xlsx]Рецептура!$B$19:$S$33>,\n",
       " <Range [себестоимостьА_в1.xlsx]Рецептура!$B$36:$AC$54>,\n",
       " <Range [себестоимостьА_в1.xlsx]Рецептура!$B$57:$AD$75>]"
      ]
     },
     "execution_count": 136,
     "metadata": {},
     "output_type": "execute_result"
    }
   ],
   "source": [
    "ranges = [recipies.range(*address) for address in recipe_ranges]\n",
    "ranges"
   ]
  },
  {
   "cell_type": "code",
   "execution_count": 137,
   "metadata": {},
   "outputs": [],
   "source": [
    "names = [\"_\".join(rec_range[0,0].value.lower().split()) for rec_range in ranges]"
   ]
  },
  {
   "cell_type": "code",
   "execution_count": 138,
   "metadata": {},
   "outputs": [],
   "source": [
    "for rec_range, name in zip(ranges, names):\n",
    "    rec_range.name = name"
   ]
  },
  {
   "cell_type": "markdown",
   "metadata": {
    "id": "fc68hcg1mo5C"
   },
   "source": [
    "2.1 Собрать цены всех ресурсов, используемые на листе \"Рецептура\". Проверить, что нет расхождений между ценами совпадающих ресурсов"
   ]
  },
  {
   "cell_type": "code",
   "execution_count": 139,
   "metadata": {},
   "outputs": [
    {
     "data": {
      "text/plain": [
       "{'Вода': 7.0,\n",
       " 'Пшеничная мука': 10.0,\n",
       " 'Дрожжи': 184.0,\n",
       " 'Сахар': 19.0,\n",
       " 'Соль': 7.0,\n",
       " 'Куркума молотая': 290.0,\n",
       " 'Топленное масло': 105.0,\n",
       " 'Кунжутные семена': 83.0,\n",
       " 'Масло оливковое': 260.0,\n",
       " 'Ржаная мука': 10.0,\n",
       " 'Солод ржаной': 108.0,\n",
       " 'Цельнозерновая мука': 12.0,\n",
       " 'Гречневая мука': 12.0,\n",
       " 'Ячменная мука': 12.0,\n",
       " 'Кукурузная мука': 12.0,\n",
       " 'Молоко': 40.0,\n",
       " 'Чеснок ': 1.0,\n",
       " 'Овсянные хлопья': 18.0,\n",
       " 'Пахта': 40.0,\n",
       " 'Изюм': 83.0,\n",
       " 'Семена подсолнуха': 160.0,\n",
       " 'Масло сливочное': 150.0,\n",
       " 'Яйцо': 4.0,\n",
       " 'Джем': 63.0,\n",
       " 'Сыр': 110.0,\n",
       " 'Ветчина': 270.0,\n",
       " 'Лосось': 250.0,\n",
       " 'Зелень': 280.0,\n",
       " 'Шоколад': 200.0,\n",
       " 'Творог': 80.0,\n",
       " 'Яблоки': 25.0,\n",
       " 'Вишня': 93.0}"
      ]
     },
     "execution_count": 139,
     "metadata": {},
     "output_type": "execute_result"
    }
   ],
   "source": [
    "ingridients = dict()\n",
    "for rec_range in ranges:\n",
    "    for ingridient, cost in zip(rec_range[2,5:-5].value, rec_range[-3,5:-5].value):\n",
    "        temp_cost = ingridients.get(ingridient)\n",
    "        if temp_cost:\n",
    "            if temp_cost != cost:\n",
    "                print('WARNING! Different cost of the same ingridient!!!')\n",
    "        else:\n",
    "            ingridients[ingridient] = cost\n",
    "ingridients         "
   ]
  },
  {
   "cell_type": "markdown",
   "metadata": {
    "id": "LWXc2PAqmo5D"
   },
   "source": [
    "2.2 Вынести цены ресурсов в новую таблицу на новом листе \"Цена ресурсов\"."
   ]
  },
  {
   "cell_type": "code",
   "execution_count": 140,
   "metadata": {},
   "outputs": [],
   "source": [
    "prices = wb.sheets.add(name=\"Цена ресурсов\", after=wb.sheets[0].name)"
   ]
  },
  {
   "cell_type": "code",
   "execution_count": 141,
   "metadata": {},
   "outputs": [],
   "source": [
    "prices.range((1,1)).value = ingridients"
   ]
  },
  {
   "cell_type": "markdown",
   "metadata": {
    "id": "tVGyDGVJmo5D"
   },
   "source": [
    "2.3 Заменить фиксированные цены ресурсов на листе \"Рецептура\" на ссылки на лист \"Цена ресурсов\""
   ]
  },
  {
   "cell_type": "code",
   "execution_count": 142,
   "metadata": {},
   "outputs": [],
   "source": [
    "prices_range = prices.range((1,1)).expand()"
   ]
  },
  {
   "cell_type": "code",
   "execution_count": 143,
   "metadata": {},
   "outputs": [],
   "source": [
    "np_prices = prices_range.options(np.array).value"
   ]
  },
  {
   "cell_type": "code",
   "execution_count": 144,
   "metadata": {},
   "outputs": [],
   "source": [
    "for rec_range in ranges:\n",
    "    for ingridient, cost in zip(rec_range[2,5:-5], rec_range[-3,5:-5]):\n",
    "        cell_i_j = np.where(np_prices == ingridient.value)\n",
    "        cost.formula = \"=\" + prices.range(\n",
    "            cell_i_j[0][0]+1,\n",
    "            cell_i_j[1][0]+2\n",
    "        ).get_address(\n",
    "            include_sheetname=True\n",
    "        ) "
   ]
  },
  {
   "cell_type": "markdown",
   "metadata": {
    "id": "0RgiTh89mo5D"
   },
   "source": [
    "2.4 Сделать так, чтобы цены ресурсов на листе \"Рецептура\" подтягивались с листа \"Цена ресурсов\" по наименованию (подсказка: использовать ВПР, рекомендуется использовать именованные области)"
   ]
  },
  {
   "cell_type": "code",
   "execution_count": 145,
   "metadata": {
    "scrolled": true
   },
   "outputs": [],
   "source": [
    "prices_address = prices_range.get_address(include_sheetname=True)"
   ]
  },
  {
   "cell_type": "code",
   "execution_count": 146,
   "metadata": {},
   "outputs": [],
   "source": [
    "for rec_range in ranges:\n",
    "    ingridient_address = rec_range[2,5].get_address(\n",
    "        row_absolute=False,\n",
    "        column_absolute=False\n",
    "    )\n",
    "    rec_range[-3,5].formula = f\"=VLOOKUP({ingridient_address},{prices_address},2,0)\"\n",
    "    rec_range[-3,5:-5].formula = rec_range[-3,5].formula"
   ]
  },
  {
   "cell_type": "code",
   "execution_count": 147,
   "metadata": {},
   "outputs": [],
   "source": [
    "wb.save()"
   ]
  },
  {
   "cell_type": "code",
   "execution_count": 148,
   "metadata": {},
   "outputs": [],
   "source": [
    "wb.close()"
   ]
  },
  {
   "cell_type": "markdown",
   "metadata": {
    "id": "OCby6_0jmo5E"
   },
   "source": [
    "## 3."
   ]
  },
  {
   "cell_type": "code",
   "execution_count": 372,
   "metadata": {},
   "outputs": [],
   "source": [
    "wb = xw.Book('себестоимостьА_в1.xlsx')\n",
    "recipies = wb.sheets['Рецептура']\n",
    "prices = wb.sheets['Цена ресурсов']"
   ]
  },
  {
   "cell_type": "code",
   "execution_count": 373,
   "metadata": {},
   "outputs": [],
   "source": [
    "data = recipies.range(\"A1:AD75\").options(np.array).value\n",
    "top_right_address = zip(*np.where(data == 'Доля'))\n",
    "bot_left_address = zip(*np.where(data == 'Размерность физических единиц'))\n",
    "top_right_bot_left_address = zip(top_right_address,bot_left_address)\n",
    "recipe_ranges = [((top, left+1), (bottom+1, right+2)) for ((top, right),(bottom, left)) in top_right_bot_left_address]\n",
    "ranges = [recipies.range(*address) for address in recipe_ranges]\n"
   ]
  },
  {
   "cell_type": "code",
   "execution_count": 374,
   "metadata": {},
   "outputs": [],
   "source": [
    "import sqlite3\n",
    "conn = sqlite3.connect(\"netCost.db\")\n",
    "cursor = conn.cursor()"
   ]
  },
  {
   "cell_type": "markdown",
   "metadata": {},
   "source": [
    "3.1 Создать нормализованную (не ниже 3й нормальной формы) базу данных sqlite для хранения информации из себестоимостьА_в1.xlsx ."
   ]
  },
  {
   "cell_type": "code",
   "execution_count": 375,
   "metadata": {},
   "outputs": [],
   "source": [
    "def table_creator(cursor):\n",
    "    cursor.execute(\"\"\"CREATE TABLE ingridients\n",
    "                      (id INTEGER PRIMARY KEY, ingridient text, price real,\n",
    "                      'measure unit' text)\n",
    "                   \"\"\")\n",
    "    cursor.execute(\"\"\"\n",
    "    CREATE UNIQUE INDEX unq_ind_1 ON ingridients(ingridient);\n",
    "    \"\"\")\n",
    "    cursor.execute(\"\"\"CREATE TABLE groups\n",
    "                      (id INTEGER PRIMARY KEY, name text)\n",
    "                   \"\"\")\n",
    "    cursor.execute(\"\"\"\n",
    "    CREATE UNIQUE INDEX unq_ind_2 ON groups(name);\n",
    "    \"\"\")\n",
    "    cursor.execute(\"\"\"CREATE TABLE products\n",
    "                      (id INTEGER PRIMARY KEY, name text, weight real,\n",
    "                      'wholesale price' real, 'retail price' real,\n",
    "                      fraction real, 'cost price' real, 'group id' integer)\n",
    "                   \"\"\")\n",
    "    cursor.execute(\"\"\"\n",
    "    CREATE UNIQUE INDEX unq_ind_3 ON products(name, 'group id');\n",
    "    \"\"\")\n",
    "    cursor.execute(\"\"\"CREATE TABLE recipes\n",
    "                      ('product id' integer, 'ingridient id' integer,\n",
    "                      consumption real)\n",
    "                   \"\"\")\n",
    "    cursor.execute(\"\"\"\n",
    "    CREATE UNIQUE INDEX unq_ind_4 ON recipes('product id', 'ingridient id');\n",
    "    \"\"\")\n",
    "    cursor.execute(\"\"\"CREATE TABLE averages\n",
    "                      ('group id' integer, 'ingridient id' integer,\n",
    "                      avrg real, \n",
    "                      CONSTRAINT unq_ind_5 UNIQUE('group id', 'ingridient id'))\n",
    "                   \"\"\")"
   ]
  },
  {
   "cell_type": "code",
   "execution_count": 376,
   "metadata": {},
   "outputs": [
    {
     "data": {
      "text/plain": [
       "<sqlite3.Cursor at 0x235db7770a0>"
      ]
     },
     "execution_count": 376,
     "metadata": {},
     "output_type": "execute_result"
    }
   ],
   "source": [
    "cursor.execute(\"\"\"DROP TABLE ingridients\"\"\")\n",
    "cursor.execute(\"\"\"DROP TABLE groups\"\"\")\n",
    "cursor.execute(\"\"\"DROP TABLE products\"\"\")\n",
    "cursor.execute(\"\"\"DROP TABLE recipes\"\"\")\n",
    "cursor.execute(\"\"\"DROP TABLE averages\"\"\")"
   ]
  },
  {
   "cell_type": "code",
   "execution_count": 377,
   "metadata": {},
   "outputs": [],
   "source": [
    "table_creator(cursor)"
   ]
  },
  {
   "cell_type": "code",
   "execution_count": 378,
   "metadata": {},
   "outputs": [],
   "source": [
    "full_ingridients = dict()\n",
    "for rec_range in ranges:\n",
    "    for ingridient, cost, measure in zip(\n",
    "        rec_range[2,5:-5].value,\n",
    "        rec_range[-3,5:-5].value,\n",
    "        rec_range[-1,5:-5].value\n",
    "    ):\n",
    "        temp = full_ingridients.get(ingridient)\n",
    "        if temp:\n",
    "            if temp[0] != cost:\n",
    "                print('WARNING! Different cost of the same ingridient!!!')\n",
    "        else:\n",
    "            full_ingridients[ingridient] = [cost, measure]\n",
    "prices.range((1,1)).value = [\n",
    "    [key, *value] for key, value in full_ingridients.items()\n",
    "]     "
   ]
  },
  {
   "cell_type": "code",
   "execution_count": 382,
   "metadata": {},
   "outputs": [],
   "source": [
    "for id_, row in enumerate(\n",
    "    prices.range((1,1)).expand().rows\n",
    "):\n",
    "    name, price, measure_unit = row.value\n",
    "    row.color = None\n",
    "    cursor.execute(f\"\"\"SELECT *\n",
    "    FROM ingridients\n",
    "    where (ingridient='{name}');\"\"\")\n",
    "    finded = cursor.fetchall()\n",
    "    \n",
    "    if finded:\n",
    "        finded=finded[0]\n",
    "        if price!=finded[2]:\n",
    "            row[1].color = \"#008000\" \n",
    "        if measure_unit!=finded[3]:\n",
    "            row[2].color = \"#008000\" \n",
    "    else:\n",
    "        row.color = \"#008000\" \n",
    "    cursor.execute(f\"\"\"INSERT INTO ingridients\n",
    "    (ingridient, price, 'measure unit') \n",
    "    VALUES('{name}', {price}, '{measure_unit}')\n",
    "    ON CONFLICT(ingridient) DO UPDATE SET price=excluded.price,\n",
    "    'measure unit'=excluded.'measure unit';\"\"\")\n",
    "    conn.commit()"
   ]
  },
  {
   "cell_type": "markdown",
   "metadata": {},
   "source": [
    "Используя xlwings:\n",
    "\n",
    "3.2 Информацию из себестоимостьА_в1.xlsx внести в БД на sqlite."
   ]
  },
  {
   "cell_type": "code",
   "execution_count": 383,
   "metadata": {},
   "outputs": [
    {
     "name": "stdout",
     "output_type": "stream",
     "text": [
      "[]\n"
     ]
    }
   ],
   "source": [
    "cursor.execute(f\"\"\"SELECT *\n",
    "    FROM products;\"\"\")\n",
    "print(cursor.fetchall())"
   ]
  },
  {
   "cell_type": "code",
   "execution_count": 388,
   "metadata": {},
   "outputs": [],
   "source": [
    "for rec_range in ranges:\n",
    "#     print(rec_range.value)\n",
    "#     print(rec_range)\n",
    "#     break\n",
    "    ingridients = rec_range[2,5:-2]\n",
    "    ingr_avrgs = rec_range[-2,5:-2]\n",
    "    ingrs_id = []\n",
    "#     print(ingridients)\n",
    "\n",
    "    group_name = rec_range[0][0].value\n",
    "    cursor.execute(f\"\"\"INSERT INTO groups\n",
    "    (name) \n",
    "    VALUES('{group_name}')\n",
    "    ON CONFLICT (name) DO NOTHING;\"\"\")\n",
    "\n",
    "    conn.commit()\n",
    "    cursor.execute(f\"\"\"SELECT id\n",
    "    FROM groups\n",
    "    WHERE name='{group_name}';\"\"\")\n",
    "    group_id = cursor.fetchall()[0][0]\n",
    "    \n",
    "    for ingr, ingr_avrg in zip(ingridients,ingr_avrgs):\n",
    "        if not ingr.value:\n",
    "            continue\n",
    "\n",
    "        cursor.execute(f\"\"\"SELECT id\n",
    "        FROM ingridients\n",
    "        WHERE ingridient='{ingr.value}';\"\"\")\n",
    "        curr_ingr_id = cursor.fetchall()[0][0]\n",
    "        ingrs_id.append(curr_ingr_id)\n",
    "        \n",
    "        #######\n",
    "        ingr.color = None\n",
    "        ingr_avrg.color = None\n",
    "        cursor.execute(f\"\"\"SELECT *\n",
    "        FROM averages\n",
    "        where \"group id\"={group_id} AND \"ingridient id\"={curr_ingr_id};\"\"\")\n",
    "        finded = cursor.fetchall()\n",
    "        if finded:\n",
    "            finded=finded[0]\n",
    "            if abs(ingr_avrg.value-finded[2])>0.000001:\n",
    "                ingr_avrg.color = \"#008000\" \n",
    "        else:\n",
    "            ingr.color = \"#008000\" \n",
    "            ingr_avrg.color = \"#008000\" \n",
    "        #########\n",
    "        \n",
    "        cursor.execute(f\"\"\"INSERT INTO averages\n",
    "        ('group id', 'ingridient id', avrg) \n",
    "        VALUES({group_id}, {curr_ingr_id}, {ingr_avrg.value})\n",
    "        ON CONFLICT (\"group id\", \"ingridient id\")\n",
    "        DO UPDATE SET avrg=excluded.avrg\n",
    "        returning \"group id\", \"ingridient id\", avrg;\"\"\")\n",
    "        \n",
    "\n",
    "    \n",
    "    \n",
    "    for product in rec_range[4:-4,1:].rows:\n",
    "        if product[0].value:\n",
    "            \n",
    "            pr_rng = product\n",
    "            pr_rng.color = None\n",
    "            product = product.value\n",
    "            cursor.execute(f\"\"\"SELECT *\n",
    "            FROM products\n",
    "            where name='{product[0]}' AND \"group id\"={group_id};\"\"\")\n",
    "            finded = cursor.fetchall()\n",
    "            if finded:\n",
    "                finded = finded[0]\n",
    "                for mm in range(1,4):\n",
    "                    if abs(product[mm]-finded[mm+1])>0.000001:\n",
    "                        pr_rng[mm].color = \"#008000\" \n",
    "            else:\n",
    "                pr_rng.color = \"#008000\" \n",
    "            \n",
    "            \n",
    "            cursor.execute(f\"\"\"INSERT INTO products\n",
    "            (name, weight,'wholesale price', 'retail price',\n",
    "            fraction, 'cost price', 'group id')\n",
    "            VALUES('{product[0]}', {product[1]}, {product[2]},\n",
    "            {product[3]}, {product[-2]}, {product[-1]}, {group_id})\n",
    "            ON CONFLICT (\"name\", \"group id\")\n",
    "            DO UPDATE SET weight=excluded.weight,\n",
    "            'wholesale price'=excluded.'wholesale price',\n",
    "            'retail price'=excluded.'retail price',\n",
    "            fraction=excluded.fraction,\n",
    "            'cost price'=excluded.'cost price';\"\"\")\n",
    "            conn.commit()\n",
    "            \n",
    "            cursor.execute(f\"\"\"SELECT id\n",
    "            FROM products\n",
    "            WHERE name='{product[0]}';\"\"\")\n",
    "            product_id = cursor.fetchall()[0][0]\n",
    "\n",
    "            for consumption, ingr_id in zip(pr_rng[4:-5],ingrs_id):\n",
    "                if consumption.value:\n",
    "                    \n",
    "                    consumption.color = None\n",
    "                    cursor.execute(f\"\"\"SELECT *\n",
    "                    FROM recipes\n",
    "                    where \"product id\"='{product_id}' AND \"ingridient id\"={ingr_id};\"\"\")\n",
    "                    finded = cursor.fetchall()\n",
    "                    if finded:\n",
    "                        finded = finded[0]\n",
    "   \n",
    "                        if abs(consumption.value-finded[2])>0.000001:\n",
    "                            consumption.color = \"#008000\" \n",
    "                    else:\n",
    "                        consumption.color = \"#008000\" \n",
    "                    \n",
    "                    \n",
    "                    cursor.execute(f\"\"\"INSERT INTO recipes\n",
    "                    (\"product id\", \"ingridient id\", consumption)\n",
    "                    VALUES({product_id}, {ingr_id}, {consumption.value})\n",
    "                    ON CONFLICT\n",
    "                    DO UPDATE SET consumption=excluded.consumption;\"\"\")\n",
    "                    conn.commit()\n",
    " \n",
    "        \n",
    "   "
   ]
  },
  {
   "cell_type": "code",
   "execution_count": 210,
   "metadata": {},
   "outputs": [],
   "source": [
    "wb.save()\n",
    "wb.close()"
   ]
  },
  {
   "cell_type": "markdown",
   "metadata": {},
   "source": [
    "3.3 По базе данных sqlite сгенерирвать книгу эксель, по структуре аналогичную себестоимостьА_в1.xlsx"
   ]
  },
  {
   "cell_type": "markdown",
   "metadata": {},
   "source": [
    "таблицы и их структура\n",
    "\n",
    "ingridients (id INTEGER PRIMARY KEY, ingridient text, price real,\n",
    "                  'measure unit' text)\n",
    "                  \n",
    "groups (id INTEGER PRIMARY KEY, name text)\n",
    "\n",
    "products\n",
    "      (id INTEGER PRIMARY KEY, name text, weight real,\n",
    "       'wholesale price' real, 'retail price' real,\n",
    "       fraction real, 'cost price' real, 'group id' integer)\n",
    "\n",
    "recipes\n",
    "       ('product id' integer, 'ingridient id' integer,\n",
    "        consumption real)\n",
    "        \n",
    "averages\n",
    "      ('group id' integer, 'ingridient id' integer,\n",
    "      avrg real)"
   ]
  },
  {
   "cell_type": "code",
   "execution_count": 211,
   "metadata": {},
   "outputs": [],
   "source": [
    "wb = xw.Book()\n",
    "wb.save(\"рецепты2.xlsx\")"
   ]
  },
  {
   "cell_type": "code",
   "execution_count": 212,
   "metadata": {},
   "outputs": [],
   "source": [
    "wb.sheets[0].name = \"рецепты\"\n",
    "recipies = wb.sheets[0]"
   ]
  },
  {
   "cell_type": "code",
   "execution_count": 213,
   "metadata": {},
   "outputs": [],
   "source": [
    "prices = wb.sheets.add(\"цены\", after=recipies)"
   ]
  },
  {
   "cell_type": "code",
   "execution_count": 214,
   "metadata": {},
   "outputs": [],
   "source": [
    "# recipies = wb.sheets[0]\n",
    "# prices = wb.sheets[1]\n",
    "\n",
    "cursor.execute(f\"\"\"\n",
    "SELECT *\n",
    "FROM ingridients\n",
    "\"\"\")\n",
    "ingridients = pd.DataFrame(\n",
    "    cursor.fetchall(),\n",
    "    columns=[\"id\", \"ingridient\",\"price\", \"measure\"]\n",
    ")\n",
    "\n",
    "cursor.execute(f\"\"\"\n",
    "SELECT *\n",
    "FROM groups\n",
    "\"\"\")\n",
    "groups = pd.DataFrame(\n",
    "    cursor.fetchall(),\n",
    "    columns=[\"id\", \"name\"]\n",
    ")\n",
    "\n",
    "cursor.execute(f\"\"\"\n",
    "SELECT *\n",
    "FROM products\n",
    "\"\"\")\n",
    "products = pd.DataFrame(\n",
    "    cursor.fetchall(),\n",
    "    columns=[\"id\", \"name\",\"weight\", \"wholesale\", \"retail\", \"fraction\",\n",
    "            \"cost\", \"group_id\"]\n",
    ")\n",
    "\n",
    "cursor.execute(f\"\"\"\n",
    "SELECT *\n",
    "FROM recipes\n",
    "\"\"\")\n",
    "recipes = pd.DataFrame(\n",
    "    cursor.fetchall(),\n",
    "    columns=[\"prod_id\", \"ingr_id\",\"consumpt\"]\n",
    ")\n",
    "\n",
    "cursor.execute(f\"\"\"\n",
    "SELECT *\n",
    "FROM averages\n",
    "\"\"\")\n",
    "averages = pd.DataFrame(\n",
    "    cursor.fetchall(),\n",
    "    columns=[\"gr_id\", \"ingr_id\",\"avrg\"]\n",
    ")"
   ]
  },
  {
   "cell_type": "code",
   "execution_count": 215,
   "metadata": {},
   "outputs": [],
   "source": [
    "prices.range((1,1)).value = np.array(ingridients)[:,1:]\n",
    "recipies.activate()"
   ]
  },
  {
   "cell_type": "code",
   "execution_count": 216,
   "metadata": {},
   "outputs": [],
   "source": [
    "hlp_gr_mrg = products[[\"id\", \"group_id\"]].merge(\n",
    "    recipes[[\"prod_id\",\"ingr_id\"]],\n",
    "    how='left',\n",
    "    left_on=\"id\",\n",
    "    right_on=\"prod_id\"\n",
    ").drop(columns=[\"id\", \"prod_id\"]).merge(\n",
    "    ingridients,\n",
    "    how='left',\n",
    "    left_on=\"ingr_id\",\n",
    "    right_on=\"id\"\n",
    ").drop(columns=[\"id\"]).drop_duplicates()"
   ]
  },
  {
   "cell_type": "code",
   "execution_count": 217,
   "metadata": {},
   "outputs": [],
   "source": [
    "r=3\n",
    "c=3\n",
    "headline = [\n",
    "    \"№\",\n",
    "    \"Наименование продукции\",\n",
    "    \"Вес, кг.\",\n",
    "    \"Цена оптовая, руб.\",\n",
    "    \"Цена розничная, руб.\",\n",
    "    \"Физический расход ресурсов на единицу продукции\",\n",
    "    \"Доля\",\n",
    "    \"Себестоимость\"\n",
    "]\n",
    "\n",
    "footer = [\n",
    "    \"Цена ресурсов, руб.\",\n",
    "    \"Размерность физических единиц\",\n",
    "    \"Средний физический расход ресурсов\"\n",
    "]\n",
    "\n",
    "prices_range = prices.range((1,1)).expand()\n",
    "prices_address = prices_range.get_address(include_sheetname=True)\n",
    "\n",
    "for id1, grp in groups.iterrows():\n",
    "    recipies.range((r+1,c)).value = headline[:-2] \n",
    "    ingr_helper = hlp_gr_mrg[hlp_gr_mrg[\"group_id\"]==grp[\"id\"]]\n",
    "    for i, (id2, ingr) in enumerate(ingr_helper.iterrows()):\n",
    "        recipies.range((r+2,c+5+i)).value = ingr[\"ingridient\"]\n",
    "        rng = recipies.range((r+2,c+5+i),(r+3,c+5+i))\n",
    "        rng.merge()\n",
    "        rng.wrap_text = True\n",
    "    for x in range(3):\n",
    "        rng = recipies.range((r+2,c+6+i+x),(r+3,c+6+i+x))\n",
    "        rng.merge()\n",
    "        rng.wrap_text = True\n",
    "        \n",
    "    ingr_range = recipies.range((r+2,c+5),(r+2,c+5+i)).value\n",
    "    \n",
    "    recipies.range((r+1,c+5),(r+1,c+8+i)).merge()    \n",
    "    recipies.range((r+1,c+8+i)).merge()\n",
    "    recipies.range((r+1,c+9+i)).value = headline[-2:]\n",
    "    for j in (tuple(range(5))+(9+i,10+i)):\n",
    "        rng = recipies.range((r+1,c+j),(r+3,c+j))\n",
    "        rng.merge()\n",
    "        rng.wrap_text = True\n",
    "#     print(ingr_helper)\n",
    "    for j, (id3, prod) in enumerate(products[products[\"group_id\"]==grp[\"id\"]].iterrows()):\n",
    "        recipies.range((r+j+4,c)).value = j+1,*np.array(prod[\"name\":\"retail\"])\n",
    "        recipies.range((r+j+4,c+i+9)).value = np.array(prod[\"fraction\"])\n",
    "        for k, (id4, recp) in enumerate(recipes[recipes[\"prod_id\"]==prod[\"id\"]].iterrows()):\n",
    "            ingr_name = ingridients[ingridients[\"id\"]==recp[\"ingr_id\"]].iloc[0,1];\n",
    "            col_ind = ingr_range.index(ingr_name)\n",
    "            recipies.range((r+j+4,c+5+col_ind)).value = recp[\"consumpt\"]\n",
    "            \n",
    "    for k in range(5):\n",
    "        recipies.range((r+j+5+k,c)).value = j+k+2\n",
    "        \n",
    "    recipies.range((r+j+6+k,c)).options(transpose=True).value = footer\n",
    "    \n",
    "    for l in range(3):\n",
    "        recipies.range((r+j+6+k+l,c),(r+j+6+k+l,c+4)).merge()\n",
    "#     for m, (id4, ingr) in enumerate(ingr_helper.iterrows()):\n",
    "#         recipies.range((r+j+6+k,c+5+m)).options(\n",
    "#             transpose=True\n",
    "#         ).value = np.array(ingr[[\"price\",\"measure\"]])\n",
    "    lc = c+10+i\n",
    "    lr = 12+r+j\n",
    "    products_count = recipies.range((r+4,c+5),(r+4,lc-2)).get_address(\n",
    "        column_absolute=False,\n",
    "        row_absolute=False\n",
    "    )\n",
    "    products_cost = recipies.range((lr-2,c+5),(lr-2,lc-2)).address\n",
    "    recipies.range(\n",
    "        (r+4,lc)\n",
    "    ).formula = f'=SUMPRODUCT({products_count},{products_cost})'\n",
    "    recipies.range(\n",
    "        (r+4,lc),\n",
    "        (lr-3,lc)\n",
    "    ).formula = xw.Range((r+4,lc)).formula    \n",
    "    \n",
    "    ingridient_address = recipies.range((r+2,c+5)).get_address(\n",
    "        row_absolute=False,\n",
    "        column_absolute=False\n",
    "    )\n",
    "    recipies.range((r,c)).value = grp[\"name\"]\n",
    "    recipies.range((r,c),(r,lc)).merge()\n",
    "    recipies.range((lr-2,c+5)).formula = f\"=VLOOKUP({ingridient_address},{prices_address},2,0)\"\n",
    "    recipies.range((lr-1,c+5)).formula = f\"=VLOOKUP({ingridient_address},{prices_address},3,0)\"\n",
    "    recipies.range((lr-2,c+5),(lr-1,lc-5)).formula = recipies.range((lr-2,c+5),(lr-1,c+5)).formula    \n",
    "    r=lr+4    \n",
    "\n",
    "        \n",
    "    for (id5, avrg) in averages[averages[\"gr_id\"]==grp[\"id\"]].iterrows():\n",
    "        ingr_name = ingridients[ingridients[\"id\"]==avrg[\"ingr_id\"]].iloc[0,1];\n",
    "        col_ind = ingr_range.index(ingr_name)\n",
    "        recipies.range((lr, c+5+col_ind)).value = avrg[\"avrg\"]\n",
    "    \n",
    "#     break"
   ]
  },
  {
   "cell_type": "code",
   "execution_count": 218,
   "metadata": {},
   "outputs": [],
   "source": [
    "wb.save()"
   ]
  },
  {
   "cell_type": "markdown",
   "metadata": {},
   "source": [
    "3.4 При помощи макроса на xlwings сделать в Excel кнопку, по которой все изменения на листе вносятся в БД, а цвет ячеек, в которых были найдены изменения, меняслся на зеленый."
   ]
  },
  {
   "cell_type": "code",
   "execution_count": 234,
   "metadata": {},
   "outputs": [],
   "source": [
    "import sqlite3\n",
    "conn = sqlite3.connect(\"netCost.db\")\n",
    "cursor = conn.cursor()\n",
    "# wb = xw.Book(\"рецепты.xlsx\")"
   ]
  },
  {
   "cell_type": "code",
   "execution_count": 237,
   "metadata": {},
   "outputs": [
    {
     "name": "stdout",
     "output_type": "stream",
     "text": [
      "[(1, 'Пшеничный хлеб'), (2, 'Ржаной хлеб'), (3, 'Хлеба специальной рецептуры'), (4, 'Слоеная выпечка')]\n"
     ]
    }
   ],
   "source": [
    "cursor.execute(f\"\"\"SELECT *\n",
    "    FROM groups;\"\"\")\n",
    "print(cursor.fetchall())"
   ]
  },
  {
   "cell_type": "code",
   "execution_count": 389,
   "metadata": {},
   "outputs": [
    {
     "name": "stdout",
     "output_type": "stream",
     "text": [
      "Overwriting script34.py\n"
     ]
    }
   ],
   "source": [
    "%%writefile script34.py\n",
    "import numpy as np\n",
    "import xlwings as xw\n",
    "import sqlite3\n",
    "import os\n",
    "\n",
    "def table_creator(cursor):\n",
    "    cursor.execute(\"\"\"CREATE TABLE IF NOT EXISTS ingridients\n",
    "                      (id INTEGER PRIMARY KEY, ingridient text, price real,\n",
    "                      'measure unit' text,\n",
    "                      CONSTRAINT unq_ind_1 UNIQUE(ingridient))\n",
    "                   \"\"\")\n",
    "    cursor.execute(\"\"\"CREATE TABLE IF NOT EXISTS groups\n",
    "                      (id INTEGER PRIMARY KEY, name text,\n",
    "                      CONSTRAINT unq_ind_2 UNIQUE(name))\n",
    "                   \"\"\")\n",
    "    cursor.execute(\"\"\"CREATE TABLE IF NOT EXISTS products\n",
    "                      (id INTEGER PRIMARY KEY, name text, weight real,\n",
    "                      'wholesale price' real, 'retail price' real,\n",
    "                      fraction real, 'cost price' real, 'group id' integer,\n",
    "                      CONSTRAINT unq_ind_3 UNIQUE(name, 'group id'))\n",
    "                   \"\"\")\n",
    "    cursor.execute(\"\"\"CREATE TABLE IF NOT EXISTS recipes\n",
    "                      ('product id' integer, 'ingridient id' integer,\n",
    "                      consumption real,\n",
    "                      CONSTRAINT unq_ind_4 UNIQUE('product id', 'ingridient id'))\n",
    "                   \"\"\")\n",
    "    cursor.execute(\"\"\"CREATE TABLE IF NOT EXISTS averages\n",
    "                      ('group id' integer, 'ingridient id' integer,\n",
    "                      avrg real, \n",
    "                      CONSTRAINT unq_ind_5 UNIQUE('group id', 'ingridient id'))\n",
    "                   \"\"\")\n",
    "\n",
    "def updater():\n",
    "    conn = sqlite3.connect(\"./netCost.db\")\n",
    "    cursor = conn.cursor()\n",
    "    table_creator(cursor)\n",
    "#     wb = xw.Book(\"рецепты.xlsx\")\n",
    "    wb = xw.Book.caller()\n",
    "    recipies = wb.sheets[0]\n",
    "    prices = wb.sheets[1]\n",
    "    \n",
    "    recipies.range((1,1)).value = os.getcwd()\n",
    "    \n",
    "    data = recipies.used_range.options(np.array).value\n",
    "    top_right_address = zip(*np.where(data == 'Доля'))\n",
    "    bot_left_address = zip(*np.where(data == 'Средний физический расход ресурсов'))\n",
    "    top_right_bot_left_address = zip(top_right_address,bot_left_address)\n",
    "    recipe_ranges = [((top, left+1), (bottom+1, right+2)) for ((top, right),(bottom, left)) in top_right_bot_left_address]\n",
    "    ranges = [recipies.range(*address) for address in recipe_ranges]\n",
    "    \n",
    "        \n",
    "    for id_, row in enumerate(\n",
    "        prices.range((1,1)).expand().rows\n",
    "    ):\n",
    "        name, price, measure_unit = row.value\n",
    "        row.color = None\n",
    "        cursor.execute(f\"\"\"SELECT *\n",
    "        FROM ingridients\n",
    "        where (ingridient='{name}');\"\"\")\n",
    "        finded = cursor.fetchall()\n",
    "        if finded:\n",
    "            finded=finded[0]\n",
    "            if price!=finded[2]:\n",
    "                row[1].color = \"#008000\" \n",
    "            if measure_unit!=finded[3]:\n",
    "                row[2].color = \"#008000\"  \n",
    "        else:\n",
    "            row.color = \"#008000\"\n",
    "            \n",
    "        cursor.execute(f\"\"\"INSERT INTO ingridients\n",
    "        (ingridient, price, 'measure unit') \n",
    "        VALUES('{name}', {price}, '{measure_unit}')\n",
    "        ON CONFLICT(ingridient) DO UPDATE SET price=excluded.price,\n",
    "        'measure unit'=excluded.'measure unit';\"\"\")\n",
    "        conn.commit()\n",
    "        \n",
    "    for rec_range in ranges:\n",
    "        ingridients = rec_range[2,5:-2]\n",
    "        ingr_avrgs = rec_range[-1,5:-2]\n",
    "        ingrs_id = []\n",
    "#     print(ingridients)\n",
    "\n",
    "        group_name = rec_range[0][0].value\n",
    "        cursor.execute(f\"\"\"INSERT OR IGNORE INTO groups\n",
    "        (name) \n",
    "        VALUES('{group_name}');\"\"\")\n",
    "        conn.commit()\n",
    "        cursor.execute(f\"\"\"SELECT id\n",
    "        FROM groups\n",
    "        WHERE name='{group_name}';\"\"\")\n",
    "        group_id = cursor.fetchall()[0][0]\n",
    "\n",
    "\n",
    "        for ingr, ingr_avrg in zip(ingridients,ingr_avrgs):\n",
    "            if not ingr.value:\n",
    "                continue\n",
    "\n",
    "            cursor.execute(f\"\"\"SELECT id\n",
    "            FROM ingridients\n",
    "            WHERE ingridient='{ingr.value}';\"\"\")\n",
    "            curr_ingr_id = cursor.fetchall()[0][0]\n",
    "            ingrs_id.append(curr_ingr_id)\n",
    "\n",
    "            ingr.color = None\n",
    "            ingr_avrg.color = None\n",
    "            cursor.execute(f\"\"\"SELECT *\n",
    "            FROM averages\n",
    "            where \"group id\"={group_id} AND \"ingridient id\"={curr_ingr_id};\"\"\")\n",
    "            finded = cursor.fetchall()\n",
    "            if finded:\n",
    "                finded=finded[0]\n",
    "#                 recipies.range((1,1)).value = abs(ingr_avrg.value - finded[2]) \n",
    "                if abs(ingr_avrg.value - finded[2]) > 0.000001:\n",
    "                    ingr_avrg.color = \"#008000\" \n",
    "            else:\n",
    "                ingr.color = \"#008000\" \n",
    "                ingr_avrg.color = \"#008000\" \n",
    "\n",
    "\n",
    "            cursor.execute(f\"\"\"INSERT INTO averages\n",
    "            ('group id', 'ingridient id', avrg) \n",
    "            VALUES({group_id}, {curr_ingr_id}, {ingr_avrg.value})\n",
    "            ON CONFLICT (\"group id\", \"ingridient id\")\n",
    "            DO UPDATE SET avrg=excluded.avrg;\"\"\")\n",
    "            conn.commit()\n",
    "            \n",
    "        for product in rec_range[4:-4,1:].rows:\n",
    "            if product[0].value:\n",
    "                pr_rng = product\n",
    "                pr_rng.color = None\n",
    "                product = product.value\n",
    "                cursor.execute(f\"\"\"SELECT *\n",
    "                FROM products\n",
    "                where name='{product[0]}' AND \"group id\"={group_id};\"\"\")\n",
    "                finded = cursor.fetchall()\n",
    "                if finded:\n",
    "                    finded = finded[0]\n",
    "                    for mm in range(1,4):\n",
    "                        if abs(product[mm]-finded[mm+1])>0.000001:\n",
    "                            pr_rng[mm].color = \"#008000\" \n",
    "                else:\n",
    "                    pr_rng.color = \"#008000\" \n",
    "                \n",
    "                \n",
    "                cursor.execute(f\"\"\"INSERT INTO products\n",
    "                (name, weight,'wholesale price', 'retail price',\n",
    "                fraction, 'cost price', 'group id')\n",
    "                VALUES('{product[0]}', {product[1]}, {product[2]},\n",
    "                {product[3]}, {product[-2]}, {product[-1]}, {group_id})\n",
    "                ON CONFLICT (\"name\", \"group id\")\n",
    "                DO UPDATE SET weight=excluded.weight,\n",
    "                'wholesale price'=excluded.'wholesale price',\n",
    "                'retail price'=excluded.'retail price',\n",
    "                fraction=excluded.fraction,\n",
    "                'cost price'=excluded.'cost price';\"\"\")\n",
    "                conn.commit()\n",
    "\n",
    "                cursor.execute(f\"\"\"SELECT id\n",
    "                FROM products\n",
    "                WHERE name='{product[0]}';\"\"\")\n",
    "                product_id = cursor.fetchall()[0][0]\n",
    "\n",
    "                for consumption, ingr_id in zip(pr_rng[4:-5],ingrs_id):\n",
    "                    if consumption.value:\n",
    "\n",
    "                        consumption.color = None\n",
    "                        cursor.execute(f\"\"\"SELECT *\n",
    "                        FROM recipes\n",
    "                        where \"product id\"='{product_id}' AND \"ingridient id\"={ingr_id};\"\"\")\n",
    "                        finded = cursor.fetchall()\n",
    "                        if finded:\n",
    "                            finded = finded[0]\n",
    "\n",
    "                            if abs(consumption.value-finded[2])>0.000001:\n",
    "                                consumption.color = \"#008000\" \n",
    "                        else:\n",
    "                            consumption.color = \"#008000\" \n",
    "\n",
    "\n",
    "                        cursor.execute(f\"\"\"INSERT INTO recipes\n",
    "                        (\"product id\", \"ingridient id\", consumption)\n",
    "                        VALUES({product_id}, {ingr_id}, {consumption.value})\n",
    "                        ON CONFLICT\n",
    "                        DO UPDATE SET consumption=excluded.consumption;\"\"\")\n",
    "                        conn.commit()\n",
    " \n",
    "        \n",
    "   "
   ]
  },
  {
   "cell_type": "markdown",
   "metadata": {},
   "source": [
    "3.5 Реализовать UDF, которая позволяет по имени ресурса вернуть количество видов в продукции в которых используется данный ресурс"
   ]
  },
  {
   "cell_type": "code",
   "execution_count": null,
   "metadata": {},
   "outputs": [],
   "source": []
  },
  {
   "cell_type": "markdown",
   "metadata": {},
   "source": [
    "3.6 Реализовать UDF, которая позволяет по имени ресурса вернуть массив наименований продуктов, в которых используется данный ресурс"
   ]
  },
  {
   "cell_type": "code",
   "execution_count": null,
   "metadata": {},
   "outputs": [],
   "source": []
  },
  {
   "cell_type": "markdown",
   "metadata": {
    "id": "1WWchjvNmo5E"
   },
   "source": [
    "3.7 Реазливать UDF 3.5 и 3.6 которые для получения ответа использую не книгу Excel а БД на sqlite."
   ]
  },
  {
   "cell_type": "code",
   "execution_count": null,
   "metadata": {},
   "outputs": [],
   "source": []
  }
 ],
 "metadata": {
  "colab": {
   "provenance": []
  },
  "kernelspec": {
   "display_name": "Python 3 (ipykernel)",
   "language": "python",
   "name": "python3"
  },
  "language_info": {
   "codemirror_mode": {
    "name": "ipython",
    "version": 3
   },
   "file_extension": ".py",
   "mimetype": "text/x-python",
   "name": "python",
   "nbconvert_exporter": "python",
   "pygments_lexer": "ipython3",
   "version": "3.9.12"
  }
 },
 "nbformat": 4,
 "nbformat_minor": 1
}
