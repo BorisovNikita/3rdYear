{
 "cells": [
  {
   "cell_type": "code",
   "execution_count": 43,
   "id": "e98dde9b",
   "metadata": {},
   "outputs": [],
   "source": [
    "import numpy as np"
   ]
  },
  {
   "cell_type": "code",
   "execution_count": 44,
   "id": "056a6008",
   "metadata": {},
   "outputs": [],
   "source": [
    "ar1 = np.random.randint(0,15,(25,4))"
   ]
  },
  {
   "cell_type": "code",
   "execution_count": 64,
   "id": "5767b435",
   "metadata": {},
   "outputs": [
    {
     "data": {
      "text/plain": [
       "(25, 4)"
      ]
     },
     "execution_count": 64,
     "metadata": {},
     "output_type": "execute_result"
    }
   ],
   "source": [
    "ar1.shape"
   ]
  },
  {
   "cell_type": "code",
   "execution_count": 46,
   "id": "385dbd36",
   "metadata": {},
   "outputs": [],
   "source": [
    "mx = ar1.max(axis=1)"
   ]
  },
  {
   "cell_type": "code",
   "execution_count": null,
   "id": "9eb1bd5f",
   "metadata": {},
   "outputs": [],
   "source": []
  },
  {
   "cell_type": "markdown",
   "id": "daaaa210",
   "metadata": {},
   "source": []
  },
  {
   "cell_type": "code",
   "execution_count": 49,
   "id": "221230ed",
   "metadata": {},
   "outputs": [],
   "source": [
    "argmax = mask.sum(axis=0).argmax()"
   ]
  },
  {
   "cell_type": "code",
   "execution_count": 67,
   "id": "680f23a2",
   "metadata": {},
   "outputs": [
    {
     "data": {
      "text/plain": [
       "0"
      ]
     },
     "execution_count": 67,
     "metadata": {},
     "output_type": "execute_result"
    }
   ],
   "source": [
    "argmax"
   ]
  },
  {
   "cell_type": "code",
   "execution_count": 57,
   "id": "eaea2682",
   "metadata": {},
   "outputs": [
    {
     "data": {
      "text/plain": [
       "(array([[False, False,  True, False],\n",
       "        [ True, False, False, False],\n",
       "        [False, False, False,  True],\n",
       "        [ True, False, False, False],\n",
       "        [False, False, False,  True],\n",
       "        [ True, False, False, False],\n",
       "        [ True, False, False, False],\n",
       "        [False, False,  True, False],\n",
       "        [False, False, False,  True],\n",
       "        [ True, False,  True, False],\n",
       "        [False, False, False,  True],\n",
       "        [False, False,  True, False],\n",
       "        [False,  True, False,  True],\n",
       "        [ True, False, False, False],\n",
       "        [ True, False, False, False],\n",
       "        [False,  True, False, False],\n",
       "        [ True, False, False, False],\n",
       "        [False, False,  True, False],\n",
       "        [False, False,  True, False],\n",
       "        [ True, False, False, False],\n",
       "        [False, False, False,  True],\n",
       "        [ True, False, False, False],\n",
       "        [ True, False, False, False],\n",
       "        [ True, False, False, False],\n",
       "        [ True,  True, False, False]]),\n",
       " 0)"
      ]
     },
     "execution_count": 57,
     "metadata": {},
     "output_type": "execute_result"
    }
   ],
   "source": [
    "mask, argmax"
   ]
  },
  {
   "cell_type": "code",
   "execution_count": 58,
   "id": "a0fbfab4",
   "metadata": {},
   "outputs": [],
   "source": [
    "ar1[mask[:, argmax], argmax] = -1"
   ]
  },
  {
   "cell_type": "code",
   "execution_count": 59,
   "id": "bdd4418a",
   "metadata": {},
   "outputs": [
    {
     "data": {
      "text/plain": [
       "array([[ 0,  8, 10,  5],\n",
       "       [-1,  2,  1,  0],\n",
       "       [ 1,  5,  5, 12],\n",
       "       [-1, 12, 11,  8],\n",
       "       [ 2,  1,  4,  6],\n",
       "       [-1,  6,  6,  9],\n",
       "       [-1,  9, 11, 11],\n",
       "       [12, 10, 14,  4],\n",
       "       [ 0,  1,  0,  5],\n",
       "       [-1,  5,  8,  7],\n",
       "       [ 3, 10,  6, 12],\n",
       "       [ 4,  9, 10,  1],\n",
       "       [ 6,  8,  1,  8],\n",
       "       [-1,  1,  3,  3],\n",
       "       [-1,  1,  5,  3],\n",
       "       [ 5, 10,  0,  8],\n",
       "       [-1,  6,  7,  1],\n",
       "       [ 7,  1, 12,  9],\n",
       "       [12,  2, 13,  5],\n",
       "       [-1,  6,  2,  0],\n",
       "       [12, 12, 13, 14],\n",
       "       [-1,  0,  3,  2],\n",
       "       [-1,  1,  4,  5],\n",
       "       [-1,  6,  3,  2],\n",
       "       [-1, 13,  1, 11]])"
      ]
     },
     "execution_count": 59,
     "metadata": {},
     "output_type": "execute_result"
    }
   ],
   "source": [
    "ar1"
   ]
  },
  {
   "cell_type": "code",
   "execution_count": null,
   "id": "c86d10a0",
   "metadata": {},
   "outputs": [],
   "source": []
  }
 ],
 "metadata": {
  "kernelspec": {
   "display_name": "Python 3 (ipykernel)",
   "language": "python",
   "name": "python3"
  },
  "language_info": {
   "codemirror_mode": {
    "name": "ipython",
    "version": 3
   },
   "file_extension": ".py",
   "mimetype": "text/x-python",
   "name": "python",
   "nbconvert_exporter": "python",
   "pygments_lexer": "ipython3",
   "version": "3.9.12"
  }
 },
 "nbformat": 4,
 "nbformat_minor": 5
}
