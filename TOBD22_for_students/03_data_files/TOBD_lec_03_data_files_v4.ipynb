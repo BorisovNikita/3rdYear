{
 "cells": [
  {
   "cell_type": "markdown",
   "metadata": {},
   "source": [
    "# Лекция 3: Работа с файлами данных\n",
    "\n",
    "__Автор: Сергей Вячеславович Макрушин, 2022 г.__\n",
    "\n",
    "e-mail: s-makrushin@yandex.ru \n",
    "\n",
    "V 0.5 22.09.2022"
   ]
  },
  {
   "cell_type": "markdown",
   "metadata": {},
   "source": [
    "## Разделы: <a class=\"anchor\" id=\"разделы\"></a>\n",
    "* [Работа с файлами](#файлы)\n",
    "    * [Работа с файловой системой](#файловая_система)\n",
    "    * [Передача файлов по сети](#посети)\n",
    "* [Типы файлов ](#типы_файлов)\n",
    "    * [Работа с текстовыми файлами](#текстовые_файлы)\n",
    "        * [Unicode](#юникод)        \n",
    "    * [Работа с бинарными файлами](#бинарные)    \n",
    "* [Сериализация и обмен данными](#сериализация)\n",
    "    * [Формат Pickle](#pickle)\n",
    "    * [Формат JSON ](#json)\n",
    "    * [Формат XML ](#xml)\n",
    "    * [Работа с XML](#работа-xml)\n",
    "\n",
    "-"
   ]
  },
  {
   "cell_type": "code",
   "execution_count": 161,
   "metadata": {},
   "outputs": [
    {
     "data": {
      "text/html": [
       "﻿<style>\r\n",
       "\r\n",
       "\r\n",
       "b.n {\r\n",
       "    font-weight: normal;        \r\n",
       "}\r\n",
       "\r\n",
       "b.grbg {\r\n",
       "    background-color: #a0a0a0;      \r\n",
       "}\r\n",
       "\r\n",
       "b.r {\r\n",
       "    color: #ff0000;    \r\n",
       "}\r\n",
       "\r\n",
       "\r\n",
       "b.b {    \r\n",
       "    color: #0000ff;    \r\n",
       "}\r\n",
       "\r\n",
       "b.g {\r\n",
       "    color: #00ff00;    \r\n",
       "}\r\n",
       "\r\n",
       "\r\n",
       "// add your CSS styling here\r\n",
       "\r\n",
       "list-style: none;\r\n",
       "\r\n",
       "ul.s {\r\n",
       "//    list-style-type: none;\r\n",
       "    list-style: none;\r\n",
       "//    background-color: #ff0000;  \r\n",
       "//    color: #ffff00;\r\n",
       "//  padding-left: 1.2em;\r\n",
       "//  text-indent: -1.2em;\r\n",
       "}\r\n",
       "\r\n",
       "li.t {\r\n",
       "    list-style: none;\r\n",
       "//  padding-left: 1.2em;\r\n",
       "//  text-indent: -1.2em;    \r\n",
       "}\r\n",
       "\r\n",
       "\r\n",
       "*.r {\r\n",
       "    color: #ff0000;    \r\n",
       "}\r\n",
       "\r\n",
       "li.t:before {\r\n",
       "    content: \"\\21D2\";    \r\n",
       "//    content: \"►\";\r\n",
       "//    padding-left: -1.2em;    \r\n",
       "    text-indent: -1.2em;    \r\n",
       "    display: block;\r\n",
       "    float: left;\r\n",
       "    \r\n",
       "    \r\n",
       "//    width: 1.2em;\r\n",
       "//    color: #ff0000;\r\n",
       "}\r\n",
       "\r\n",
       "i.m:before {\r\n",
       "    font-style: normal;    \r\n",
       "    content: \"\\21D2\";  \r\n",
       "}\r\n",
       "i.m {\r\n",
       "    font-style: normal; \r\n",
       "}    \r\n",
       "\r\n",
       "/*--------------------*/\r\n",
       "/* em {\r\n",
       "    font-style: normal; \r\n",
       "} */\r\n",
       "\r\n",
       "\r\n",
       "em.bl {\r\n",
       "    font-style: normal;     \r\n",
       "    font-weight: bold;        \r\n",
       "}\r\n",
       "\r\n",
       "/* em.grbg {\r\n",
       "    font-style: normal;         \r\n",
       "    background-color: #a0a0a0;      \r\n",
       "} */\r\n",
       "\r\n",
       "em.cr {\r\n",
       "    font-style: normal;         \r\n",
       "    color: #ff0000;    \r\n",
       "}\r\n",
       "\r\n",
       "em.cb {    \r\n",
       "    font-style: normal;         \r\n",
       "    color: #0000ff;    \r\n",
       "}\r\n",
       "\r\n",
       "em.cg {\r\n",
       "    font-style: normal;         \r\n",
       "    color: #00ff00;    \r\n",
       "}\r\n",
       "\r\n",
       "/*--------------------*/\r\n",
       "\r\n",
       "em.qs {\r\n",
       "    font-style: normal; \r\n",
       "}\r\n",
       "\r\n",
       "em.qs::before {\r\n",
       "    font-weight: bold;    \r\n",
       "    color: #ff0000;    \r\n",
       "    content: \"Q:\";  \r\n",
       "}\r\n",
       "\r\n",
       "em.an {\r\n",
       "    font-style: normal; \r\n",
       "}\r\n",
       "\r\n",
       "em.an:before {\r\n",
       "    font-weight: bold;    \r\n",
       "    color: #0000ff;    \r\n",
       "    content: \"A:\";  \r\n",
       "}\r\n",
       "    \r\n",
       "em.nt {\r\n",
       "    font-style: normal; \r\n",
       "}\r\n",
       "\r\n",
       "em.nt:before {\r\n",
       "    font-weight: bold;    \r\n",
       "    color: #0000ff;    \r\n",
       "    content: \"Note:\";  \r\n",
       "}    \r\n",
       "    \r\n",
       "em.ex {\r\n",
       "    font-style: normal; \r\n",
       "}\r\n",
       "\r\n",
       "em.ex:before {\r\n",
       "    font-weight: bold;    \r\n",
       "    color: #00ff00;    \r\n",
       "    content: \"Ex:\";  \r\n",
       "} \r\n",
       "    \r\n",
       "em.df {\r\n",
       "    font-style: normal; \r\n",
       "}\r\n",
       "\r\n",
       "em.df:before {\r\n",
       "    font-weight: bold;    \r\n",
       "    color: #0000ff;    \r\n",
       "    content: \"Def:\";  \r\n",
       "}    \r\n",
       "\r\n",
       "em.pl {\r\n",
       "    font-style: normal; \r\n",
       "}\r\n",
       "\r\n",
       "em.pl:before {\r\n",
       "    font-weight: bold;    \r\n",
       "    color: #0000ff;    \r\n",
       "    content: \"+\";  \r\n",
       "}    \r\n",
       "\r\n",
       "em.mn {\r\n",
       "    font-style: normal; \r\n",
       "}\r\n",
       "\r\n",
       "em.mn:before {\r\n",
       "    font-weight: bold;    \r\n",
       "    color: #0000ff;    \r\n",
       "    content: \"-\";  \r\n",
       "}        \r\n",
       "\r\n",
       "em.plmn {\r\n",
       "    font-style: normal; \r\n",
       "}\r\n",
       "\r\n",
       "em.plmn:before {\r\n",
       "    font-weight: bold;    \r\n",
       "    color: #0000ff;    \r\n",
       "    content: \"\\00B1\";\\\\\"&plusmn;\";  \r\n",
       "}\r\n",
       "    \r\n",
       "em.hn {\r\n",
       "    font-style: normal; \r\n",
       "}\r\n",
       "\r\n",
       "em.hn:before {\r\n",
       "    font-weight: bold;    \r\n",
       "    color: #0000ff;    \r\n",
       "    content: \"\\21D2\";\\\\\"&rArr;\";  \r\n",
       "}     \r\n",
       "    \r\n",
       "\r\n",
       "#cssTableCenter td, th \r\n",
       "{\r\n",
       "    text-align: center; \r\n",
       "    vertical-align: middle;\r\n",
       "}\r\n",
       "\r\n",
       "</style>"
      ],
      "text/plain": [
       "<IPython.core.display.HTML object>"
      ]
     },
     "execution_count": 161,
     "metadata": {},
     "output_type": "execute_result"
    }
   ],
   "source": [
    "# загружаем стиль для оформления презентации\n",
    "from IPython.display import HTML\n",
    "from urllib.request import urlopen\n",
    "html = urlopen(\"file:./lec_v2.css\")\n",
    "HTML(html.read().decode('utf-8'))"
   ]
  },
  {
   "cell_type": "markdown",
   "metadata": {},
   "source": [
    "# Файлы <a class=\"anchor\" id=\"файлы\"></a>\n",
    "* [к оглавлению](#разделы)"
   ]
  },
  {
   "cell_type": "markdown",
   "metadata": {},
   "source": [
    "## Работа с файловой системой <a class=\"anchor\" id=\"файловая_система\"></a>\n",
    "* [к оглавлению](#разделы)"
   ]
  },
  {
   "cell_type": "markdown",
   "metadata": {},
   "source": [
    "__Файл__\n",
    "\n",
    "<em class=\"df\"></em> __Файл__ - именованная область данных на носителе информации. Работа с файлами реализуется средствами операционных систем.\n",
    "\n",
    "<center>         \n",
    "    <img src=\"./img/L4_os_layers.png\" alt=\"Роль операционной системы\" style=\"width: 200px;\"/>\n",
    "    <b>Роль операционной системы</b>\n",
    "</center>\n",
    "\n",
    "* Операционная система предоставляет приложениям набор функций и структур (API) для работы с файлами.\n",
    "* Использования API абстрагирует пользователя (программу) от специфики хранения файла:\n",
    "    * Существует ли файл как __объект файловой системы__ или является, например, __устройством ввода-вывода__ \n",
    "    * В какой __файловой системе__ хранится файл: зачастую операционная система позволяет работать с несколькими видами файловых систем, которые предоставляют единый базовый API для прикладной работы с файлами.\n",
    "    * На каком __физическом носителе__ хранится файл, например: файл может храниться на жестком диске или в оперативной памяти компьютера или на удаленном компьютере.\n",
    "\n"
   ]
  },
  {
   "cell_type": "markdown",
   "metadata": {},
   "source": [
    "Про базовые операции работы с файлами см. Лекцию 5 курса Алгоритмы и структуры данных в языке программирования Python, часть 2: \"Работа с файлами\"."
   ]
  },
  {
   "cell_type": "markdown",
   "metadata": {},
   "source": [
    "__Файловая система__\n",
    "\n",
    "* <em class=\"df\"></em> __Файловая система__ - порядок, определяющий способ организации, хранения и именования данных на носителях информации в компьютерах. Файловая система связывает носитель информации с одной стороны и API для доступа к файлам — с другой. \n",
    "* Файловая система не обязательно напрямую связана с физическим носителем информации. \n",
    "    * Существуют __виртуальные файловые системы__\n",
    "    * Существуют __сетевые файловые системы__, которые являются лишь способом доступа к файлам, находящимся на удалённом компьютере.\n",
    "\n",
    "<center>         \n",
    "    <img src=\"./img/L4_The_File_System_Layer.jpg\" alt=\"Уровни взаимодействия с файлами\" style=\"width: 500px;\"/>\n",
    "    <b>Уровни взаимодействия с файлами</b>\n",
    "</center>"
   ]
  },
  {
   "cell_type": "markdown",
   "metadata": {},
   "source": [
    "Базовые работы с файловой системой в Python:"
   ]
  },
  {
   "cell_type": "code",
   "execution_count": 162,
   "metadata": {},
   "outputs": [
    {
     "name": "stdout",
     "output_type": "stream",
     "text": [
      " ’®¬ ў гбва®©бвўҐ E Ё¬ҐҐв ¬ҐвЄг Data\n",
      " ‘ҐаЁ©­л© ­®¬Ґа в®¬ : EE2C-D1DD\n",
      "\n",
      " ‘®¤Ґа¦Ё¬®Ґ Ї ЇЄЁ E:\\YandexDisk\\Python\\Ipynb\\TOBD_2022\\03_data_files\\lec\n",
      "\n",
      "21.09.2022  06:52    <DIR>          .\n",
      "21.09.2022  05:40    <DIR>          ..\n",
      "21.09.2022  06:44    <DIR>          .ipynb_checkpoints\n",
      "28.09.2021  15:46               463 addres-book.json\n",
      "28.09.2021  15:46               517 addres-book.xml\n",
      "28.09.2021  15:46             2я471 addres-book-q.xml\n",
      "19.09.2022  15:53               762 changes.txt\n",
      "28.09.2021  15:46                34 dat1.pickle\n",
      "28.09.2021  15:46                51 dat2.pickle\n",
      "21.09.2022  06:23    <DIR>          img\n",
      "15.03.2021  09:29             2я835 lec_v2.css\n",
      "21.09.2022  06:34                47 lec03_example.txt\n",
      "28.09.2021  15:46               529 shl_1.dat\n",
      "16.12.2021  15:15           117я836 TOBD_lec_03_data_files_v2.ipynb\n",
      "22.03.2022  10:04           119я011 TOBD_lec_03_data_files_v2-Copy1 (2).ipynb\n",
      "21.09.2022  06:52           197я418 TOBD_lec_03_data_files_v4.ipynb\n",
      "21.09.2022  06:42             1я800 Untitled.ipynb\n",
      "19.09.2022  12:11            50я908 ђ Ў®в  ў ®Ў« ЄҐ.ipynb\n",
      "21.09.2022  06:48            24я915 ‘ЇҐжбЁ¬ў®«л_.xlsx\n",
      "              15 д ©«®ў        519я597 Ў ©в\n",
      "               4 Ї Ї®Є  84я095я660я032 Ў ©в бў®Ў®¤­®\n"
     ]
    }
   ],
   "source": [
    "ls"
   ]
  },
  {
   "cell_type": "code",
   "execution_count": 163,
   "metadata": {},
   "outputs": [],
   "source": [
    "# базовый модуль для работы с функциями опреационной системы, в т.ч. работы с файловой системой:\n",
    "import os\n",
    "# модуль реализующий функцияии работы с путями в файловой системе:\n",
    "import os.path"
   ]
  },
  {
   "cell_type": "code",
   "execution_count": 164,
   "metadata": {},
   "outputs": [
    {
     "data": {
      "text/plain": [
       "'E:\\\\YandexDisk\\\\Python\\\\Ipynb\\\\TOBD_2022\\\\03_data_files\\\\lec'"
      ]
     },
     "execution_count": 164,
     "metadata": {},
     "output_type": "execute_result"
    }
   ],
   "source": [
    "# получние текущией рабочей директории:\n",
    "cwd = os.getcwd()\n",
    "cwd"
   ]
  },
  {
   "cell_type": "code",
   "execution_count": 167,
   "metadata": {},
   "outputs": [
    {
     "data": {
      "text/plain": [
       "'E:\\\\YandexDisk\\\\Python\\\\Ipynb\\\\TOBD_2022'"
      ]
     },
     "execution_count": 167,
     "metadata": {},
     "output_type": "execute_result"
    }
   ],
   "source": [
    "# изменение текущей директории:\n",
    "os.chdir('..') # поднимаемся на одну директорию вверх\n",
    "cwd2 = os.getcwd()\n",
    "cwd2"
   ]
  },
  {
   "cell_type": "code",
   "execution_count": 168,
   "metadata": {},
   "outputs": [
    {
     "data": {
      "text/plain": [
       "['addres-book.json',\n",
       " 'L1_python_st.png',\n",
       " 'pwd.txt',\n",
       " 'tmp2.txt',\n",
       " 'tobd_im.jpg',\n",
       " 'TOBD_yt_.png',\n",
       " '~$Темы ТОБД_в2.xlsx',\n",
       " 'Визуал_v2.pptx',\n",
       " 'Нагрузка галактика 30.08.xlsx',\n",
       " 'Нагрузка галактика 30.08_в2.xlsx',\n",
       " 'ППС и Штатное расписание 2021-2022_ВЕРСИЯ август.xlsx',\n",
       " 'РПД_ТОБД_ПИ_2021_в6.docx',\n",
       " 'РПД_ТОБД_ПМ_2021_в6.docx',\n",
       " 'Темы ТОБД.xlsx',\n",
       " 'Темы ТОБД_в2.xlsx']"
      ]
     },
     "execution_count": 168,
     "metadata": {},
     "output_type": "execute_result"
    }
   ],
   "source": [
    "# типичная задача, получение списка директорий по опредленному пути:\n",
    "from os import listdir\n",
    "from os.path import isfile, join\n",
    "\n",
    "# listdir - (ls) получение содержимого директории\n",
    "# isfile -  проверка, является ли объект файлом или директорией\n",
    "# join - корректный (инвариантный относительно ОС) способ конкатенации пути к файлу и имени файла:\n",
    "onlyfiles = [f for f in listdir(cwd2) if isfile(join(cwd2, f))]\n",
    "onlyfiles"
   ]
  },
  {
   "cell_type": "code",
   "execution_count": 169,
   "metadata": {},
   "outputs": [
    {
     "name": "stdout",
     "output_type": "stream",
     "text": [
      "E:\\YandexDisk\\Python\\Ipynb\\TOBD_2022, dirs: ['01_numpy', '02_pandas', '03_data_files', 'TOBD22_for_students', 'TOBD22_for_teachers', 'TOBD22_MSV_sem', 'РПД'], files: ['addres-book.json', 'L1_python_st.png', 'pwd.txt', 'tmp2.txt', 'tobd_im.jpg', 'TOBD_yt_.png', '~$Темы ТОБД_в2.xlsx', 'Визуал_v2.pptx', 'Нагрузка галактика 30.08.xlsx', 'Нагрузка галактика 30.08_в2.xlsx', 'ППС и Штатное расписание 2021-2022_ВЕРСИЯ август.xlsx', 'РПД_ТОБД_ПИ_2021_в6.docx', 'РПД_ТОБД_ПМ_2021_в6.docx', 'Темы ТОБД.xlsx', 'Темы ТОБД_в2.xlsx']\n",
      "E:\\YandexDisk\\Python\\Ipynb\\TOBD_2022\\01_numpy, dirs: ['lec', 'sem', 'tests', 'video'], files: []\n",
      "E:\\YandexDisk\\Python\\Ipynb\\TOBD_2022\\01_numpy\\lec, dirs: ['.ipynb_checkpoints', 'img'], files: ['ab_ndarr.npz', 'ab_ndarr.zip', 'a_ndarr.npy', 'b_s1.txt', 'b_s2.txt', 'lec_v1.css', 'lec_v2.css', 'TOBD20_lec_01_numpy_v8.pdf', 'TOBD20_lec_01_numpy_v9 - Jupyter Notebook_.pdf', 'TOBD20_lec_01_numpy_v9.ipynb', 'TOBD20_lec_01_numpy_v9.pdf', 'xx_ndarr.npz', 'Технический_v1.ipynb']\n",
      "E:\\YandexDisk\\Python\\Ipynb\\TOBD_2022\\01_numpy\\lec\\.ipynb_checkpoints, dirs: [], files: ['TOBD20_lec_01_numpy_v9-checkpoint.ipynb', 'Технический_v1-checkpoint.ipynb']\n",
      "E:\\YandexDisk\\Python\\Ipynb\\TOBD_2022\\01_numpy\\lec\\img, dirs: [], files: ['L1_array_structure.png', 'L1_axis0.png', 'L1_axis1.png', 'L1_axis2.png', 'L1_broadcasting.png', 'L1_broadcasting1_.png', 'L1_broadcasting2.png', 'L1_broadcasting2_.png', 'L1_broadcasting3.png', 'L1_numpy_arr.png', 'L1_python_st.png', 'L1_shape1.png', 'L1_shape2.png', 'L1_shape3.png', 'L1_slicing1.png', 'L1_slicing2.png', 'L1_slicing2_.png', 'L1_slicing3.png', 'L1_slicing4.png', 'L1_ufunc.png', 'L1_ufunc2.png']\n",
      "E:\\YandexDisk\\Python\\Ipynb\\TOBD_2022\\01_numpy\\sem, dirs: ['.ipynb_checkpoints', 'answers', 'data', 'old'], files: ['01_numpy_ПМ19-X_Макрушин_Имя_в2.ipynb', '01_numpy_ПМ19-X_Фамилия_Имя (2).ipynb', '01_numpy_ПМ19-X_Фамилия_Имя.ipynb']\n",
      "E:\\YandexDisk\\Python\\Ipynb\\TOBD_2022\\01_numpy\\sem\\.ipynb_checkpoints, dirs: [], files: ['01_numpy_ПМ19-X_Макрушин_Имя_в2-checkpoint.ipynb', '01_numpy_ПМ19-X_Фамилия_Имя-checkpoint.ipynb', '01_numpy_Фамилия_Имя-checkpoint (2).ipynb', 'TOBD20tsk_01_numpy_v4-checkpoint.ipynb']\n",
      "E:\\YandexDisk\\Python\\Ipynb\\TOBD_2022\\01_numpy\\sem\\answers, dirs: ['.ipynb_checkpoints'], files: ['__01_numpy_ds1.ipynb']\n",
      "E:\\YandexDisk\\Python\\Ipynb\\TOBD_2022\\01_numpy\\sem\\answers\\.ipynb_checkpoints, dirs: [], files: ['__01_numpy_ds1-checkpoint.ipynb']\n",
      "E:\\YandexDisk\\Python\\Ipynb\\TOBD_2022\\01_numpy\\sem\\data, dirs: [], files: ['minutes_n_ingredients.csv']\n",
      "E:\\YandexDisk\\Python\\Ipynb\\TOBD_2022\\01_numpy\\sem\\old, dirs: ['.ipynb_checkpoints'], files: ['TOBD20sol_01_numpy_v2.ipynb', 'TOBD20sol_01_numpy_v4.ipynb', 'TOBD20tsk_01_numpy_v2.ipynb', 'TOBD20tsk_01_numpy_v4.ipynb', 'Untitled.ipynb']\n",
      "E:\\YandexDisk\\Python\\Ipynb\\TOBD_2022\\01_numpy\\sem\\old\\.ipynb_checkpoints, dirs: [], files: ['TOBD20tsk_01_numpy_v4-checkpoint.ipynb']\n",
      "E:\\YandexDisk\\Python\\Ipynb\\TOBD_2022\\01_numpy\\tests, dirs: ['.ipynb_checkpoints'], files: ['TOBD_test_01_numpy_v1.ipynb']\n",
      "E:\\YandexDisk\\Python\\Ipynb\\TOBD_2022\\01_numpy\\tests\\.ipynb_checkpoints, dirs: [], files: ['TOBD_test_01_numpy_v1-checkpoint.ipynb']\n",
      "E:\\YandexDisk\\Python\\Ipynb\\TOBD_2022\\01_numpy\\video, dirs: ['results'], files: ['2022-08-28 11-06-18.mp4', '2022-08-28 12-29-27.mp4', '2022-08-28 13-08-17.mp4']\n",
      "E:\\YandexDisk\\Python\\Ipynb\\TOBD_2022\\01_numpy\\video\\results, dirs: [], files: ['L1P1.png', 'L1P2.png', 'L1P3.png', 'part 1.MP4', 'part 2.MP4', 'part 3.MP4']\n",
      "E:\\YandexDisk\\Python\\Ipynb\\TOBD_2022\\02_pandas, dirs: ['.ipynb_checkpoints', 'lec', 'sem', 'tests', 'video'], files: []\n",
      "E:\\YandexDisk\\Python\\Ipynb\\TOBD_2022\\02_pandas\\.ipynb_checkpoints, dirs: [], files: []\n",
      "E:\\YandexDisk\\Python\\Ipynb\\TOBD_2022\\02_pandas\\lec, dirs: ['.ipynb_checkpoints', 'img'], files: ['lec_v1.css', 'lec_v2.css', 'TOBD19_lec_02_pandas_v5.ipynb', 'TOBD19_lec_02_pandas_v5.pdf', 'Визуал_Pandas_v1.pptx']\n",
      "E:\\YandexDisk\\Python\\Ipynb\\TOBD_2022\\02_pandas\\lec\\.ipynb_checkpoints, dirs: [], files: ['TOBD19_lec_02_pandas_v5-checkpoint.ipynb']\n",
      "E:\\YandexDisk\\Python\\Ipynb\\TOBD_2022\\02_pandas\\lec\\img, dirs: [], files: ['L2_df1.png']\n",
      "E:\\YandexDisk\\Python\\Ipynb\\TOBD_2022\\02_pandas\\sem, dirs: ['.ipynb_checkpoints', 'answers', 'data', 'old'], files: ['02_1_pandas_Макрушин_Сергей (2).ipynb', '02_1_pandas_Макрушин_Сергей.ipynb', '02_1_pandas_Фамилия_Имя.ipynb', '02_2_pandas_Макрушин_Сергей (2).ipynb', '02_2_pandas_Макрушин_Сергей.ipynb', '02_2_pandas_Фамилия_Имя.ipynb', '02_pandas_Фамилия_Имя_в2.ipynb', 'sp500hst.txt', 'sp_data2.csv']\n",
      "E:\\YandexDisk\\Python\\Ipynb\\TOBD_2022\\02_pandas\\sem\\.ipynb_checkpoints, dirs: [], files: ['02_1_pandas_Макрушин_Сергей-checkpoint.ipynb', '02_1_pandas_Фамилия_Имя-checkpoint.ipynb', '02_2_pandas_Макрушин_Сергей-checkpoint.ipynb', '02_2_pandas_Фамилия_Имя-checkpoint.ipynb', '02_pandas_Фамилия_Имя_в2-checkpoint.ipynb', 'TOBD20tsk_02_pandas_answers-checkpoint.ipynb', 'TOBD20tsk_02_pandas_v9_blank-checkpoint.ipynb']\n",
      "E:\\YandexDisk\\Python\\Ipynb\\TOBD_2022\\02_pandas\\sem\\answers, dirs: ['.ipynb_checkpoints'], files: ['__02_pandas_ds1.ipynb']\n",
      "E:\\YandexDisk\\Python\\Ipynb\\TOBD_2022\\02_pandas\\sem\\answers\\.ipynb_checkpoints, dirs: [], files: ['__02_pandas_ds1-checkpoint.ipynb']\n",
      "E:\\YandexDisk\\Python\\Ipynb\\TOBD_2022\\02_pandas\\sem\\data, dirs: [], files: ['recipes_sample.csv', 'reviews_sample.csv', 'sp500hst.txt', 'sp_data2.csv']\n",
      "E:\\YandexDisk\\Python\\Ipynb\\TOBD_2022\\02_pandas\\sem\\old, dirs: ['.ipynb_checkpoints'], files: ['datasets.zip', 'test.xlsx', 'TOBD20tsk_02_pandas_answers.ipynb', 'TOBD20tsk_02_pandas_v7_blokhin - Jupyter Notebook.pdf', 'TOBD20tsk_02_pandas_v9_blank.ipynb']\n",
      "E:\\YandexDisk\\Python\\Ipynb\\TOBD_2022\\02_pandas\\sem\\old\\.ipynb_checkpoints, dirs: [], files: ['TOBD20tsk_02_pandas_answers-checkpoint.ipynb']\n",
      "E:\\YandexDisk\\Python\\Ipynb\\TOBD_2022\\02_pandas\\tests, dirs: ['.ipynb_checkpoints'], files: ['test_02_pandas_v3.ipynb']\n",
      "E:\\YandexDisk\\Python\\Ipynb\\TOBD_2022\\02_pandas\\tests\\.ipynb_checkpoints, dirs: [], files: ['test_02_pandas_v3-checkpoint.ipynb']\n",
      "E:\\YandexDisk\\Python\\Ipynb\\TOBD_2022\\02_pandas\\video, dirs: ['results', '_1_low'], files: ['2022-09-06 12-43-19.mp4', '2022-09-06 14-07-32.mp4', '2022-09-06 15-07-53.mp4']\n",
      "E:\\YandexDisk\\Python\\Ipynb\\TOBD_2022\\02_pandas\\video\\results, dirs: [], files: ['L2P1.png', 'L2P2.png', 'L2P3.png', 'part 1.MP4', 'part 2.MP4', 'part 3.MP4']\n",
      "E:\\YandexDisk\\Python\\Ipynb\\TOBD_2022\\02_pandas\\video\\_1_low, dirs: [], files: ['2022-09-06 10-57-27.mp4']\n",
      "E:\\YandexDisk\\Python\\Ipynb\\TOBD_2022\\03_data_files, dirs: ['lec', 'sem'], files: ['pwd.txt']\n",
      "E:\\YandexDisk\\Python\\Ipynb\\TOBD_2022\\03_data_files\\lec, dirs: ['.ipynb_checkpoints', 'img'], files: ['addres-book-q.xml', 'addres-book.json', 'addres-book.xml', 'changes.txt', 'dat1.pickle', 'dat2.pickle', 'lec03_example.txt', 'lec_v2.css', 'shl_1.dat', 'TOBD_lec_03_data_files_v2-Copy1 (2).ipynb', 'TOBD_lec_03_data_files_v2.ipynb', 'TOBD_lec_03_data_files_v4.ipynb', 'Untitled.ipynb', 'Работа в облаке.ipynb', 'Спецсимволы_.xlsx']\n",
      "E:\\YandexDisk\\Python\\Ipynb\\TOBD_2022\\03_data_files\\lec\\.ipynb_checkpoints, dirs: [], files: ['TOBD_lec_03_data_files_v2-checkpoint.ipynb', 'TOBD_lec_03_data_files_v4-checkpoint.ipynb', 'Untitled-checkpoint.ipynb', 'Работа в облаке-checkpoint.ipynb']\n",
      "E:\\YandexDisk\\Python\\Ipynb\\TOBD_2022\\03_data_files\\lec\\img, dirs: [], files: ['DOM_str_.png', 'L3_ASCII_table.png', 'L3_cloud_fs.png', 'L3_cloud_fs_mount.png', 'L3_file_struct.png', 'L3_ftp.png', 'L3_spch.png', 'L3_spch2.png', 'L3_text_file.png', 'L3_text_file_bin.png', 'L3_text_file_whitespace.png', 'L3_tty.png', 'L3_Unicode_mpl.png', 'L3_utf8.png', 'L3_utf8_exmpl.png', 'L3_w1251.png', 'L4_os_layers.png', 'L4_serialization-deserialization (2).jpeg', 'L4_serialization-deserialization.jpeg', 'L4_The_File_System_Layer.jpg', 'request_methods_3.png', 'rest_api_service_1.png', 'SAX_vs_DOM.png', 'xml_examples_p1.png', 'xml_examples_p2.png', 'xml_examples_p3.png', 'XML_hist.png', 'XML_vs_JSON (2).png', 'XML_vs_JSON.png']\n",
      "E:\\YandexDisk\\Python\\Ipynb\\TOBD_2022\\03_data_files\\sem, dirs: ['.ipynb_checkpoints', 'answers', 'data', 'old'], files: ['04_data_files_Макрушин_Сергей.ipynb', '04_data_files_Фамилия_Имя.ipynb', '2.1.bak', '2.1.dat', '2.1.dir', 'addres-book-q.xml', 'addres-book.json', 'email_to_addres.bak', 'email_to_addres.dat', 'email_to_addres.dir']\n",
      "E:\\YandexDisk\\Python\\Ipynb\\TOBD_2022\\03_data_files\\sem\\.ipynb_checkpoints, dirs: [], files: ['04_data_files_Макрушин_Сергей-checkpoint.ipynb', '04_data_files_Фамилия_Имя-checkpoint.ipynb', 'TOBD20tsk_04_data_files_v2-checkpoint.ipynb', 'TOBD20tsk_04_data_files_v2_PM17-4-checkpoint.ipynb']\n",
      "E:\\YandexDisk\\Python\\Ipynb\\TOBD_2022\\03_data_files\\sem\\answers, dirs: ['.ipynb_checkpoints'], files: ['__04_data_files_ds1.ipynb']\n",
      "E:\\YandexDisk\\Python\\Ipynb\\TOBD_2022\\03_data_files\\sem\\answers\\.ipynb_checkpoints, dirs: [], files: []\n",
      "E:\\YandexDisk\\Python\\Ipynb\\TOBD_2022\\03_data_files\\sem\\data, dirs: [], files: ['addres-book-q.xml', 'addres-book.json', 'contributors_sample.json', 'steps_sample.xml']\n",
      "E:\\YandexDisk\\Python\\Ipynb\\TOBD_2022\\03_data_files\\sem\\old, dirs: ['.ipynb_checkpoints'], files: ['addres-book-q.xml', 'addres-book.json', 'addres-book.xml', 'ebay.xml', 'reed.xml', 'TOBD20tsk_04_data_files_v2.ipynb']\n",
      "E:\\YandexDisk\\Python\\Ipynb\\TOBD_2022\\03_data_files\\sem\\old\\.ipynb_checkpoints, dirs: [], files: []\n",
      "E:\\YandexDisk\\Python\\Ipynb\\TOBD_2022\\TOBD22_for_students, dirs: ['01_numpy', '02_pandas', 'lr_PI21-3_7'], files: []\n",
      "E:\\YandexDisk\\Python\\Ipynb\\TOBD_2022\\TOBD22_for_students\\01_numpy, dirs: ['img'], files: ['lec_v2.css', 'TOBD20_lec_01_numpy_v9.ipynb', 'TOBD20_lec_01_numpy_v9.pdf']\n",
      "E:\\YandexDisk\\Python\\Ipynb\\TOBD_2022\\TOBD22_for_students\\01_numpy\\img, dirs: [], files: ['L1_array_structure.png', 'L1_axis0.png', 'L1_axis1.png', 'L1_axis2.png', 'L1_broadcasting.png', 'L1_broadcasting1_.png', 'L1_broadcasting2.png', 'L1_broadcasting2_.png', 'L1_broadcasting3.png', 'L1_numpy_arr.png', 'L1_python_st.png', 'L1_shape1.png', 'L1_shape2.png', 'L1_shape3.png', 'L1_slicing1.png', 'L1_slicing2.png', 'L1_slicing2_.png', 'L1_slicing3.png', 'L1_slicing4.png', 'L1_ufunc.png', 'L1_ufunc2.png']\n",
      "E:\\YandexDisk\\Python\\Ipynb\\TOBD_2022\\TOBD22_for_students\\02_pandas, dirs: ['img'], files: ['lec_v2.css', 'TOBD19_lec_02_pandas_v5.ipynb', 'TOBD19_lec_02_pandas_v5.pdf']\n",
      "E:\\YandexDisk\\Python\\Ipynb\\TOBD_2022\\TOBD22_for_students\\02_pandas\\img, dirs: [], files: ['L2_df1.png']\n",
      "E:\\YandexDisk\\Python\\Ipynb\\TOBD_2022\\TOBD22_for_students\\lr_PI21-3_7, dirs: ['lr1_numpy'], files: []\n",
      "E:\\YandexDisk\\Python\\Ipynb\\TOBD_2022\\TOBD22_for_students\\lr_PI21-3_7\\lr1_numpy, dirs: ['.ipynb_checkpoints', 'data'], files: ['01_numpy_lr1_2_ПИ21-X_Фамилия_Имя.ipynb', '01_numpy_lr1_ПИ21-3_Семинары.ipynb', '01_numpy_lr1_ПИ21-7_Семинары.ipynb', '01_numpy_lr1_ПИ21-X_Фамилия_Имя.ipynb']\n",
      "E:\\YandexDisk\\Python\\Ipynb\\TOBD_2022\\TOBD22_for_students\\lr_PI21-3_7\\lr1_numpy\\.ipynb_checkpoints, dirs: [], files: ['01_numpy_lr1_ПИ21-3_Семинары-checkpoint.ipynb', '01_numpy_lr1_ПИ21-7_Семинары-checkpoint.ipynb']\n",
      "E:\\YandexDisk\\Python\\Ipynb\\TOBD_2022\\TOBD22_for_students\\lr_PI21-3_7\\lr1_numpy\\data, dirs: [], files: ['minutes_n_ingredients.csv']\n",
      "E:\\YandexDisk\\Python\\Ipynb\\TOBD_2022\\TOBD22_for_teachers, dirs: ['01_numpy', '02_pandas'], files: []\n",
      "E:\\YandexDisk\\Python\\Ipynb\\TOBD_2022\\TOBD22_for_teachers\\01_numpy, dirs: ['v1'], files: []\n",
      "E:\\YandexDisk\\Python\\Ipynb\\TOBD_2022\\TOBD22_for_teachers\\01_numpy\\v1, dirs: ['.ipynb_checkpoints', 'answers', 'data', 'old'], files: ['01_numpy_ПМ19-X_Фамилия_Имя.ipynb']\n",
      "E:\\YandexDisk\\Python\\Ipynb\\TOBD_2022\\TOBD22_for_teachers\\01_numpy\\v1\\.ipynb_checkpoints, dirs: [], files: []\n",
      "E:\\YandexDisk\\Python\\Ipynb\\TOBD_2022\\TOBD22_for_teachers\\01_numpy\\v1\\answers, dirs: ['.ipynb_checkpoints'], files: ['__01_numpy_ds1.ipynb']\n",
      "E:\\YandexDisk\\Python\\Ipynb\\TOBD_2022\\TOBD22_for_teachers\\01_numpy\\v1\\answers\\.ipynb_checkpoints, dirs: [], files: ['__01_numpy_ds1-checkpoint.ipynb']\n",
      "E:\\YandexDisk\\Python\\Ipynb\\TOBD_2022\\TOBD22_for_teachers\\01_numpy\\v1\\data, dirs: [], files: ['minutes_n_ingredients.csv']\n",
      "E:\\YandexDisk\\Python\\Ipynb\\TOBD_2022\\TOBD22_for_teachers\\01_numpy\\v1\\old, dirs: ['.ipynb_checkpoints'], files: ['TOBD20sol_01_numpy_v2.ipynb', 'TOBD20sol_01_numpy_v4.ipynb', 'TOBD20tsk_01_numpy_v2.ipynb', 'TOBD20tsk_01_numpy_v4.ipynb', 'Untitled.ipynb']\n",
      "E:\\YandexDisk\\Python\\Ipynb\\TOBD_2022\\TOBD22_for_teachers\\01_numpy\\v1\\old\\.ipynb_checkpoints, dirs: [], files: ['TOBD20tsk_01_numpy_v4-checkpoint.ipynb']\n",
      "E:\\YandexDisk\\Python\\Ipynb\\TOBD_2022\\TOBD22_for_teachers\\02_pandas, dirs: ['v1'], files: []\n",
      "E:\\YandexDisk\\Python\\Ipynb\\TOBD_2022\\TOBD22_for_teachers\\02_pandas\\v1, dirs: ['answers', 'data'], files: ['02_pandas_Фамилия_Имя_в2.ipynb']\n",
      "E:\\YandexDisk\\Python\\Ipynb\\TOBD_2022\\TOBD22_for_teachers\\02_pandas\\v1\\answers, dirs: ['.ipynb_checkpoints'], files: ['__02_pandas_ds1.ipynb']\n",
      "E:\\YandexDisk\\Python\\Ipynb\\TOBD_2022\\TOBD22_for_teachers\\02_pandas\\v1\\answers\\.ipynb_checkpoints, dirs: [], files: ['__02_pandas_ds1-checkpoint.ipynb']\n",
      "E:\\YandexDisk\\Python\\Ipynb\\TOBD_2022\\TOBD22_for_teachers\\02_pandas\\v1\\data, dirs: [], files: ['recipes_sample.csv', 'reviews_sample.csv', 'sp500hst.txt', 'sp_data2.csv']\n",
      "E:\\YandexDisk\\Python\\Ipynb\\TOBD_2022\\TOBD22_MSV_sem, dirs: ['01_numpy'], files: ['учебный план_ПИ21.pdf']\n",
      "E:\\YandexDisk\\Python\\Ipynb\\TOBD_2022\\TOBD22_MSV_sem\\01_numpy, dirs: ['v1', 'v2'], files: []\n",
      "E:\\YandexDisk\\Python\\Ipynb\\TOBD_2022\\TOBD22_MSV_sem\\01_numpy\\v1, dirs: ['.ipynb_checkpoints', 'answers', 'data', 'old'], files: ['01_numpy_ПМ19-X_Фамилия_Имя.ipynb']\n",
      "E:\\YandexDisk\\Python\\Ipynb\\TOBD_2022\\TOBD22_MSV_sem\\01_numpy\\v1\\.ipynb_checkpoints, dirs: [], files: []\n",
      "E:\\YandexDisk\\Python\\Ipynb\\TOBD_2022\\TOBD22_MSV_sem\\01_numpy\\v1\\answers, dirs: ['.ipynb_checkpoints'], files: ['__01_numpy_ds1.ipynb']\n",
      "E:\\YandexDisk\\Python\\Ipynb\\TOBD_2022\\TOBD22_MSV_sem\\01_numpy\\v1\\answers\\.ipynb_checkpoints, dirs: [], files: ['__01_numpy_ds1-checkpoint.ipynb']\n",
      "E:\\YandexDisk\\Python\\Ipynb\\TOBD_2022\\TOBD22_MSV_sem\\01_numpy\\v1\\data, dirs: [], files: ['minutes_n_ingredients.csv']\n",
      "E:\\YandexDisk\\Python\\Ipynb\\TOBD_2022\\TOBD22_MSV_sem\\01_numpy\\v1\\old, dirs: ['.ipynb_checkpoints'], files: ['TOBD20sol_01_numpy_v2.ipynb', 'TOBD20sol_01_numpy_v4.ipynb', 'TOBD20tsk_01_numpy_v2.ipynb', 'TOBD20tsk_01_numpy_v4.ipynb', 'Untitled.ipynb']\n",
      "E:\\YandexDisk\\Python\\Ipynb\\TOBD_2022\\TOBD22_MSV_sem\\01_numpy\\v1\\old\\.ipynb_checkpoints, dirs: [], files: ['TOBD20tsk_01_numpy_v4-checkpoint.ipynb']\n",
      "E:\\YandexDisk\\Python\\Ipynb\\TOBD_2022\\TOBD22_MSV_sem\\01_numpy\\v2, dirs: ['.ipynb_checkpoints', 'data'], files: ['01_numpy_lr1_ПИ21-X_Фамилия_Имя.ipynb']\n",
      "E:\\YandexDisk\\Python\\Ipynb\\TOBD_2022\\TOBD22_MSV_sem\\01_numpy\\v2\\.ipynb_checkpoints, dirs: [], files: ['01_numpy_lr1_ПИ21-X_Фамилия_Имя-checkpoint.ipynb']\n",
      "E:\\YandexDisk\\Python\\Ipynb\\TOBD_2022\\TOBD22_MSV_sem\\01_numpy\\v2\\data, dirs: [], files: ['minutes_n_ingredients.csv']\n",
      "E:\\YandexDisk\\Python\\Ipynb\\TOBD_2022\\РПД, dirs: ['2020', '2021'], files: ['rpd_tobd_22_pi.pdf', 'rpd_tobd_22_pm.pdf', 'Технологии обработки БД, ПИ.DOCX']\n",
      "E:\\YandexDisk\\Python\\Ipynb\\TOBD_2022\\РПД\\2020, dirs: [], files: ['Учебный план 2020 ПИ (ОЗО).pdf', 'Учебный план 2020 ПИ.pdf', 'Учебный план 2020 ПМ.pdf']\n",
      "E:\\YandexDisk\\Python\\Ipynb\\TOBD_2022\\РПД\\2021, dirs: [], files: ['бак ПИ ЗФО 2021.pdf', 'ОЗО_уч пл_ПИ ОП ПИ_ИТСиТОДвЭиФ_21.pdf', 'уч пл_БИ_ОП ЦТУБ_ТехнЦифрБМ_21.pdf', 'уч пл_ИБ ОП ИБ_БАСвФБС_21.pdf', 'уч пл_ПИ ОП ПИ_ИТСиТОДвЭиФ_21.pdf', 'уч пл_ПМиИ ОП ПМиИ_АДиПРвЭиФ_21.pdf']\n"
     ]
    }
   ],
   "source": [
    "# рекурсивный обход дочерних директорий и файлов в них:\n",
    "for root, dirs, files in os.walk(cwd2):\n",
    "    print(f\"{root}, dirs: {dirs}, files: {files}\")"
   ]
  },
  {
   "cell_type": "markdown",
   "metadata": {},
   "source": [
    "Полезные функции для работы с файловой системой:\n",
    "* `os.getcwd()` - получение текущего пути\n",
    "* `os.chdir()` - изменение текущего пути\n",
    "* `os.mkdir()` - создание новой директории\n",
    "* `os.rename()` - переименование директории\n",
    "* `os.rmdir()` - удаление директории\n",
    "* `os.walk()` - получение содержимого директории"
   ]
  },
  {
   "cell_type": "markdown",
   "metadata": {},
   "source": [
    "---\n",
    "\n",
    "## Передача файлов по сети <a class=\"anchor\" id=\"посети\"></a>\n",
    "* [к оглавлению](#разделы)"
   ]
  },
  {
   "cell_type": "markdown",
   "metadata": {},
   "source": [
    "__Передача файлов по сети__\n",
    "\n",
    "* Имеются протоколы передачи данных, которые позволяют передавать файлы по сети, в частности: FTP, HTTP, WebDav.\n",
    "\n"
   ]
  },
  {
   "cell_type": "markdown",
   "metadata": {},
   "source": [
    "__FTP__\n",
    "\n",
    "__FTP (File Transfer Protocol)__ - протокол передачи файлов со специального файлового сервера на компьютер пользователя. FTP дает возможность абоненту обмениваться двоичными и текстовыми файлами с любым компьютером сети. Установив связь с удаленным компьютером, пользователь может скопировать файл с удаленного компьютера на свой или скопировать файл со своего компьютера на удаленный.\n",
    "\n",
    "<center>         \n",
    "    <img src=\"./img/L3_ftp.png\" alt=\"Стек технологий Python для обработки данных и научных расчетов\" style=\"width: 400px;\"/>\n",
    "    <b>Принцип использования протокола ftp</b>\n",
    "</center>"
   ]
  },
  {
   "cell_type": "markdown",
   "metadata": {},
   "source": [
    "__WebDav__\n",
    "\n",
    "__HTTP (Hyper Text Transfer Protocol)__ - это протокол передачи гипертекста (HTML - файлов). Протокол HTTP используется при пересылке Web-страниц между компьютерами, подключенными к одной сети. \n",
    "    \n",
    "__WebDav (Web Distribute Authoring and Resirping)__ - набор расширений и дополнений к протоколу HTTP, поддерживающих совместную работу пользователей над редактированием файлов и управление файлами на удаленных веб-серверах.\n",
    "* Изначально целью создания DAV являлась: \"разработка дополнений к протоколу HTTP, обеспечивающих свободное взаимодействие инструментов распределённой разработки веб-страниц, в соответствии с потребностями работы пользователей\".\n",
    "* Однако на практики кроме коллективной работы над веб-документами WebDAV стал применяеться в качестве __сетевой файловой системы, эффективной для работы в Интернете__.\n",
    "    * способной обрабатывать файлы целиком\n",
    "    * поддерживающей хорошую производительность в условиях окружения с высокой временной задержкой передачи информации\n",
    "\n",
    "WebDAV широко применяется в качестве :\n",
    "* протокола для доступа через Интернет и манипулирования содержимым систем документооборота. Ещё одной важной целью WebDAV \n",
    "* инструмента поддержки работы распределённых команд по разработке программного обеспечения и обработки данных.\n",
    "\n",
    "WebDAV расширяет средствами записи информации возможности НTTP в качестве стандартного уровня доступа к широкому кругу хранилищ информации."
   ]
  },
  {
   "cell_type": "markdown",
   "metadata": {},
   "source": [
    "__Работа с облачным хранилищем через браузер__\n",
    "\n",
    "Классический пример работы с облачным файловым хранлищем через браузер (на примере Облака mail.ru):\n",
    "\n",
    "<center>         \n",
    "    <img src=\"./img/L3_cloud_fs.png\" alt=\"Стек технологий Python для обработки данных и научных расчетов\" style=\"width: 550px;\"/>\n",
    "    <b>Интерфейс работы с облачным хранилищем в браузере</b>\n",
    "</center>"
   ]
  },
  {
   "cell_type": "markdown",
   "metadata": {},
   "source": [
    "__Подключение к облачному хранилищу через WebDav клиент__\n",
    "\n",
    "Подключение к фалам, хранящимся в облачном хранилище, через протокол webdav на примере работы с сервисом Облако mail.ru ( https://cloud.mail.ru ).\n",
    "Инструкция по подключению к облаку по протоколу WebDav: https://help.mail.ru/cloud_web/app/webdav (адрес для подключения сервиса: https://webdav.cloud.mail.ru).\n",
    "\n",
    "<br/>\n",
    "<center>         \n",
    "    <img src=\"./img/L3_cloud_fs_mount.png\" alt=\"Стек технологий Python для обработки данных и научных расчетов\" style=\"width: 550px;\"/>\n",
    "    <b>Работа с облачным хранилищем через клиент WebDav (встроенный в MS Windows)</b>\n",
    "</center>"
   ]
  },
  {
   "cell_type": "code",
   "execution_count": 29,
   "metadata": {},
   "outputs": [
    {
     "name": "stdout",
     "output_type": "stream",
     "text": [
      "Collecting webdavclient3\n",
      "  Downloading webdavclient3-3.14.6.tar.gz (23 kB)\n",
      "Requirement already satisfied: requests in c:\\users\\alpha\\.conda\\envs\\pytorch_1_5v2\\lib\\site-packages (from webdavclient3) (2.22.0)\n",
      "Requirement already satisfied: lxml in c:\\users\\alpha\\.conda\\envs\\pytorch_1_5v2\\lib\\site-packages (from webdavclient3) (4.5.0)\n",
      "Requirement already satisfied: python-dateutil in c:\\users\\alpha\\.conda\\envs\\pytorch_1_5v2\\lib\\site-packages (from webdavclient3) (2.8.1)\n",
      "Requirement already satisfied: urllib3!=1.25.0,!=1.25.1,<1.26,>=1.21.1 in c:\\users\\alpha\\.conda\\envs\\pytorch_1_5v2\\lib\\site-packages (from requests->webdavclient3) (1.25.8)\n",
      "Requirement already satisfied: chardet<3.1.0,>=3.0.2 in c:\\users\\alpha\\.conda\\envs\\pytorch_1_5v2\\lib\\site-packages (from requests->webdavclient3) (3.0.4)\n",
      "Requirement already satisfied: certifi>=2017.4.17 in c:\\users\\alpha\\.conda\\envs\\pytorch_1_5v2\\lib\\site-packages (from requests->webdavclient3) (2019.11.28)\n",
      "Requirement already satisfied: idna<2.9,>=2.5 in c:\\users\\alpha\\.conda\\envs\\pytorch_1_5v2\\lib\\site-packages (from requests->webdavclient3) (2.8)\n",
      "Requirement already satisfied: six>=1.5 in c:\\users\\alpha\\.conda\\envs\\pytorch_1_5v2\\lib\\site-packages (from python-dateutil->webdavclient3) (1.14.0)\n",
      "Building wheels for collected packages: webdavclient3\n",
      "  Building wheel for webdavclient3 (setup.py): started\n",
      "  Building wheel for webdavclient3 (setup.py): finished with status 'done'\n",
      "  Created wheel for webdavclient3: filename=webdavclient3-3.14.6-py3-none-any.whl size=20888 sha256=9bf35b5a377912415a85cc8c9e8c86d329c93880b3e8d77978f8716a7380defb\n",
      "  Stored in directory: c:\\users\\alpha\\appdata\\local\\pip\\cache\\wheels\\ca\\ab\\bd\\90226b06142d06812d0dfea66a04ad2f684490d03f3fb139a5\n",
      "Successfully built webdavclient3\n",
      "Installing collected packages: webdavclient3\n",
      "Successfully installed webdavclient3-3.14.6\n"
     ]
    }
   ],
   "source": [
    "# Установка библиотеки доступа по WebDav в Python:\n",
    "!pip install webdavclient3"
   ]
  },
  {
   "cell_type": "code",
   "execution_count": 170,
   "metadata": {},
   "outputs": [],
   "source": [
    "# импорт:\n",
    "from webdav3.client import Client"
   ]
  },
  {
   "cell_type": "code",
   "execution_count": 171,
   "metadata": {},
   "outputs": [],
   "source": [
    "# настраиваем параметры подключения:\n",
    "options = {\n",
    " 'webdav_hostname': \"https://webdav.cloud.mail.ru\",\n",
    " 'webdav_login':    \"svm_webdav@mail.ru\",\n",
    " 'webdav_password': \"тут пароль\"\n",
    "}"
   ]
  },
  {
   "cell_type": "code",
   "execution_count": 172,
   "metadata": {},
   "outputs": [
    {
     "name": "stdout",
     "output_type": "stream",
     "text": [
      "E:\\YandexDisk\\Python\\Ipynb\\TOBD_2022\\03_data_files\n"
     ]
    }
   ],
   "source": [
    "cd E:\\YandexDisk\\Python\\Ipynb\\TOBD_2022\\03_data_files\\"
   ]
  },
  {
   "cell_type": "code",
   "execution_count": 176,
   "metadata": {},
   "outputs": [],
   "source": [
    "# Из соображений конфиденциальности читаем пароль из файла:\n",
    "with open(\"pwd.txt\", \"r\") as f: \n",
    "    for line in f:\n",
    "        pwd = line\n",
    "\n",
    "options['webdav_password'] = pwd        "
   ]
  },
  {
   "cell_type": "code",
   "execution_count": 177,
   "metadata": {},
   "outputs": [],
   "source": [
    "client = Client(options)"
   ]
  },
  {
   "cell_type": "code",
   "execution_count": 178,
   "metadata": {},
   "outputs": [
    {
     "data": {
      "text/plain": [
       "['addres-book-q.xml', 'addres-book.json', 'contributors_sample.json']"
      ]
     },
     "execution_count": 178,
     "metadata": {},
     "output_type": "execute_result"
    }
   ],
   "source": [
    "# Получить содержимое папки\n",
    "client.list('/my_cloud_data/')"
   ]
  },
  {
   "cell_type": "code",
   "execution_count": 179,
   "metadata": {},
   "outputs": [],
   "source": [
    "# Скопировать папку удаленно в облаке (без скачивания на локальный компьютер):\n",
    "client.copy(remote_path_from=\"/my_cloud_data\", remote_path_to='/my_cloud_data2')"
   ]
  },
  {
   "cell_type": "code",
   "execution_count": 180,
   "metadata": {
    "scrolled": true
   },
   "outputs": [
    {
     "data": {
      "text/plain": [
       "['addres-book-q.xml', 'addres-book.json', 'contributors_sample.json']"
      ]
     },
     "execution_count": 180,
     "metadata": {},
     "output_type": "execute_result"
    }
   ],
   "source": [
    "client.list('/my_cloud_data2/')"
   ]
  },
  {
   "cell_type": "code",
   "execution_count": 181,
   "metadata": {},
   "outputs": [],
   "source": [
    "# Скачать файл на локальный компьютер:\n",
    "client.download(remote_path='/my_cloud_data/addres-book.json', local_path='addres-book.json')"
   ]
  },
  {
   "cell_type": "code",
   "execution_count": 182,
   "metadata": {},
   "outputs": [
    {
     "name": "stdout",
     "output_type": "stream",
     "text": [
      " ’®¬ ў гбва®©бвўҐ E Ё¬ҐҐв ¬ҐвЄг Data\n",
      " ‘ҐаЁ©­л© ­®¬Ґа в®¬ : EE2C-D1DD\n",
      "\n",
      " ‘®¤Ґа¦Ё¬®Ґ Ї ЇЄЁ E:\\YandexDisk\\Python\\Ipynb\\TOBD_2022\\03_data_files\n",
      "\n",
      "21.09.2022  07:35    <DIR>          .\n",
      "19.09.2022  13:19    <DIR>          ..\n",
      "21.09.2022  07:36               463 addres-book.json\n",
      "21.09.2022  07:34    <DIR>          lec\n",
      "19.09.2022  13:13                20 pwd.txt\n",
      "16.09.2022  11:20    <DIR>          sem\n",
      "               2 д ©«®ў            483 Ў ©в\n",
      "               4 Ї Ї®Є  83я978я788я864 Ў ©в бў®Ў®¤­®\n"
     ]
    }
   ],
   "source": [
    "ls"
   ]
  },
  {
   "cell_type": "code",
   "execution_count": 183,
   "metadata": {},
   "outputs": [],
   "source": [
    "# Загрузить файл с локального компьютера в облако\n",
    "client.upload(remote_path='/addres-book2.json', local_path='addres-book.json')"
   ]
  },
  {
   "cell_type": "code",
   "execution_count": 184,
   "metadata": {},
   "outputs": [
    {
     "data": {
      "text/plain": [
       "['addres-book2.json', 'my_cloud_data/', 'my_cloud_data2/']"
      ]
     },
     "execution_count": 184,
     "metadata": {},
     "output_type": "execute_result"
    }
   ],
   "source": [
    "client.list('/')"
   ]
  },
  {
   "cell_type": "markdown",
   "metadata": {},
   "source": [
    "# Типы файлов <a class=\"anchor\" id=\"типы_файлов\"></a>\n",
    "* [к оглавлению](#разделы)"
   ]
  },
  {
   "cell_type": "markdown",
   "metadata": {},
   "source": [
    "__Форматы файлов__\n",
    "\n",
    "<em class=\"df\"></em> __Формат файла__ - это стандартный способ организации информации для хранения в компьютерном файле. На уровне операционной системы файл, это всего лишь контейнер для данных, способ организации данных внутри файла определяется уже форматом файла, использованным для хранения информации. \n",
    "* Формат опредяет как данные кодируются в байты и как байты организуются в одномерный массив, в виде которого они хранятся в файле.\n",
    "* Функционал по работе с файлами разных форматов (например их созданию из специализированных данных и чтению и использованию данных из них) реализуют специализированные программы, работающие поверх фйлового API операционной системы.\n",
    "* Информация о формате файла является одним из видов метаданных.\n",
    "\n",
    "<em class=\"df\"></em> __Спецификация формата файла__ - подробное описание структуры файлов данного формата, то, как программы должны кодировать данные для записи в этот формат и как декодировать их при чтении.\n",
    "\n",
    "Существуют:\n",
    "* __\"открытые\" форматы файлов__ - имеют публично доступные спецификации, разработанные некоммерческими организациями и частными компаниями, разработчиками формата.\n",
    "* __\"закрытые\" форматы файлов__ - организации разрабочики считают формат файла своей коммерческой тайной (например, старый формат файлов MS Office) или не считает нужным тратить время на написание подробной спецификации.\n",
    "    * Обычно форматы файлов не защищены авторскими правами и \"закрытые\" форматы могут быть специфированные мтодами обратной разработкой (reverse engineering)"
   ]
  },
  {
   "cell_type": "markdown",
   "metadata": {},
   "source": [
    "__Метаданные файлов__\n",
    "\n",
    "<em class=\"df\"></em> __Метаданные__ (metadata) - \"данные о данных\", или \"информация о другой информации\", или данные, относящиеся к дополнительной информации о содержимом или объекте. Можно выделить:\n",
    "* описательные метаданные (descriptive metadata) - данные используемые для обнаружения или идентификации. Например: название, аннотация. К описательным метаданным можно отнести имя файла.\n",
    "* структурные метаданные (structural metadata) - данные об организации данных. В частности: __формат файла__, версия формата данных.\n",
    "* административные метаданные (administrative metadata) - информация которая помогает управлять ресурсом. Например: информация о правах доступа, времени с создания файла и времени последнего изменения.\n",
    "* статистические метаданные (statistical metadata) - статистическая информация о данных.\n",
    "\n",
    "На данный момент __нет единого подхода к хранению информации об формате файла__ и шире: о структурных метаданных и метаданных компьютерных файлов вообще. Возможны следующие варианты и их комбинации:\n",
    "* __расширение файла__ - формат файла указанный в виде текстового обозначения в конце имени файла (после последней точки в имени файла). Существует большой список общеупотребимых расширений файлов: https://en.wikipedia.org/wiki/List_of_file_formats , при этом не все имена уникальны, а многи форматы имеют несколько альтернативных имен, например: `htm` и `html`.\n",
    "* __внутренние метаданные__ - хранение информации о формате файла внтури самого файла (обычно - в самом начале файла), эта область файла именуется:\n",
    "    * __заголовком файла__ (file header) если область больше чем несколько байт. Например HTML файлы начинаются с `<html>` или `<!DOCTYPE HTML>`.\n",
    "    * __магическим числом__ (magic number) если область занимает всего несколько байт. В Unix-системах распространено использование двухбайтовых (и более длинных) магических чисел в начале файла для хранения информации о типе файла, см.: https://en.wikipedia.org/wiki/List_of_file_signatures .\n",
    "* __внешние метаданные__ - явное хранение метаданных о файле в файловой системе.\n",
    "    * <b class=\"b\">+</b> прогрессивный и потенциально наиболее удобный вариант\n",
    "    * <b class=\"b\">-</b> на практике данный подход испытывает большие проблемы с переносимостью между операционными системами и файловыми системами из-за отстутсвия поддержки такого функционала многими ФС и ОС и API для передчи данных.\n",
    "*  __MIME types__ (Multipurpose Internet Mail Extensions) - стандарт, описывающий передачу различных типов данных по электронной почте, а также, в общем случае, спецификация для кодирования информации и форматирования сообщений таким образом, чтобы их можно было пересылать по Интернету. \n",
    "    * MIME определяет механизмы для передачи разного рода информации внутри текстовых данных (в частности, с помощью электронной почты), а именно: текст на языках, для которых используются кодировки, отличные от ASCII, и нетекстовые данные, такие, как картинки, музыка, фильмы и программы.\n",
    "    * система MIME types имеет стандартную систему идентификторов (управляемых организацией IANA), сотоящих из типа и подтипа, разделенного слешем, например: `text/html` или `image/gif`.\n",
    "    * Официальный список MIME типов на сайте IANA: https://www.iana.org/assignments/media-types/media-types.xhtml .\n",
    "    * На данный момент MIME __является  фундаментальным компонентом коммуникационных протоколов в интернете__,  в частоснти, в HTTP (HyperText Transfer Protocol)  серверы вставляют заголовок MIME при передачи любых данных WWW, далее этот заголовок используется клиентом (например браузером) для корректного отображения полученных данных.\n",
    "    * Роль MIME types постоянно возрастает, однако они редко используются для данных, хранимых в локальных файловых системах. "
   ]
  },
  {
   "cell_type": "markdown",
   "metadata": {},
   "source": [
    "__Текстовые и бинарные файлы__\n",
    "\n",
    "Форматы файлов можно разделить по __способу организаци хранения данных__ на:\n",
    "* <em class=\"df\"></em> __Tекстовые файлы__ - файл, содержащий текстовые данные, представленные как оследовательность символов (в основном печатных знаков, принадлежащих к определенному набору символов - кодовой таблице (кодировке)). Эти символы обычно сгруппированы в строки (lines, rows). В современных системах строки разделяются разделителями строк, иногда конец текстового файла также отмечается одним или более специальными знаками.\n",
    "    * <b class=\"b\">+</b> Универсальность - текстовый файл может быть прочитан на любой системе или ОС. При этом распространенной проблемой является определение __корректной кодировки файла__. \n",
    "    * <b class=\"b\">+</b> Удобнство интерпретации файла - данные записанные в текстовом формате часто оформлены как \"самозадокументрованные\", т.е. могут интерпретироваться человеком без дополнительных спецификаций. \n",
    "    * <b class=\"b\">+</b> Удобнство работы с файлом - формат текстового файла крайне прост и его можно просматривать и изменять текстовым редактором - программой, доступной для любой современной ОС. \n",
    "    * <b class=\"b\">+</b> Наличие универсальных инструментов - в частности, многие системы управления версиями рассчитаны на текстовые файлы и могут выполнять с ними множество полезных операций, например находить разницу между двумя файлами, в то время, как с двоичными файлами могут работать только как с единым целым.\n",
    "    * <b class=\"b\">+</b> Устойчивость — каждое слово и символ в таком файле самодостаточны и, если случится повреждение байтов в таком файле, то обычно можно восстановить данные или продолжить обработку остального содержимого. У сжатых или двоичных файлов повреждение нескольких байтов может сделать файл совершенно невосстановимым.     \n",
    "    * <b class=\"b\">-</b> Низкая эффективность хранения - у больших несжатых текстовых файлов низкая информационная энтропия - эти файлы занимают больше места, нежели минимально необходимо. При этом данная избыточность определяет повышенную устойчивость данных к повреждениям.\n",
    "    \n",
    "    \n",
    "* <em class=\"df\"></em> __Двоичные (бинарные) файлы__ (binary file) - в узком смысле \"не текстовые файлы\". Файлы, байты в которых интерпретируются не как текст (при этом они могут включать фрагменты текста). \n",
    "    * <b class=\"b\">+</b> Двоичные файлы сохраняют информацию аналогично представлении информации в памяти компьютера во время работы программы, что позволяет выполнять запись и чтение файла не выполняя никаких преобразований, что существенно ускоряет процесс ввода/вывода. \n",
    "    * <b class=\"b\">+</b> Обычно хранение информации (в частности числовых массивов) в двоичном формате намного компактнее, что уменьшает требования к объему хранилища и увеличивает скорость ввода/вывода.\n",
    "    * <b class=\"b\">&plusmn;</b> Интерпретировать неизвестный двоичный формат намного сложнее что существенно усложняет работу с ним людей не имеющих доступа к инструментам, при помощи которых файлы создавались.\n",
    "    * <b class=\"b\">-</b> Обычно двоичные файлы намного менее переносимые. Хранение в двоичном формате часто несет специфику платформы (ОС, аппаратного обеспечения) и из-за сложности обратной разработки данные форматы требуют качественной открытой спецификации. Одна из распространенных проблем: __разница в порядке байтов или длине машинного слова__ на разных платформах. Подробнее см.: https://ru.wikipedia.org/wiki/Порядок_байтов .\n"
   ]
  },
  {
   "cell_type": "markdown",
   "metadata": {},
   "source": [
    "## Работа с текстовыми файлами <a class=\"anchor\" id=\"текстовые_файлы\"></a>\n",
    "* [к оглавлению](#разделы)"
   ]
  },
  {
   "cell_type": "markdown",
   "metadata": {},
   "source": [
    "__Текстовые файлы__\n",
    "\n",
    "* <em class=\"df\"></em> __Tекстовые файлы__ - файл, содержащий текстовые данные, представленные как оследовательность символов (в основном печатных знаков, принадлежащих к определенному набору символов - кодовой таблице (кодировке)). Эти символы обычно сгруппированы в строки (lines, rows). В современных системах строки разделяются разделителями строк, иногда конец текстового файла также отмечается одним или более специальными знаками.\n",
    "\n",
    "<center>         \n",
    "    <img src=\"./img/L3_file_struct.png\" alt=\"Телетайп\" style=\"width: 550px;\"/>\n",
    "    <b>Логическая структура текстового файла</b>\n",
    "</center>\n",
    "\n",
    "Физически текстовый файл, как и двоичный, состоит из последовательности байт. Каждый символ кодируется одним или несколькими байтами. Символы конца строки или конца файла зависят от используемой операционной системы. Способ кодировки символов является метаинформацией файла."
   ]
  },
  {
   "cell_type": "markdown",
   "metadata": {},
   "source": [
    "__Кодировки (наборы символов)__\n",
    "\n",
    "* __Набор символов (character set)__ — таблица, задающая кодировку множества символов алфавита (обычно элементов текста: букв, цифр, знаков препинания, спецсимволов). Такая таблица сопоставляет каждому символу последовательность длиной в один или несколько символов другого алфавита, в компьюетре, обычно в один или нескольким байтов.\n",
    "    * Набор символов, который может использоваться несколькими языками. Пример: набор латинских символов используется в английском и большинстве европейских языков, хотя набор греческих символов используется только в греческом языке.\n",
    "    * Хотя термин \"набор символов\" (character set, charset) сейчас является наиболее авторитетным, предшествовавший ему термин __\"кодировка\" (encoding)__ по-прежнему __используется в качестве синонима__.\n",
    "    * Нередко вместо термина \"набор символов\" неправильно употребляют термин __\"кодовая страница\" (code page)__, означающий на самом деле частный случай набора символов с однобайтным кодированием\n",
    "\n",
    "\n",
    "* __Символ__ (character) — это минимальная единица текста, имеющая семантическую ценность.\n",
    "* __Кодированный набор символов (coded character set)__ — это набор символов, в котором каждому __символу соответствует уникальный номер__.\n",
    "* __Код символа в наборе символов (кодовой таблице) (code point of a coded character set)__ — это любое допустимое значение в наборе символов или кодовом пространстве.\n",
    "* __Кодовое пространство (code space)__ — диапазон целых чисел, значениями которых являются кодовые точки.\n",
    "* __code unit__ — это «размер слова» схемы кодирования символов, например 7-битный, 8-битный, 16-битный. В некоторых схемах некоторые символы кодируются с использованием нескольких единиц кода, что приводит к кодированию переменной длины. "
   ]
  },
  {
   "cell_type": "markdown",
   "metadata": {},
   "source": [
    "__Распространенные кодировки__\n",
    "\n",
    "В настоящее время чаще всего используются кодировки трёх типов: \n",
    "* __ASCII и совместимые с ней__\n",
    "* __основанные на Юникоде (Unicode)__\n",
    "* (реже) совместимые с EBCDIC\n",
    "* в мире существует огромное количество различных кодировок (только для русского языка есть 4 кодировки, кроме вариантов, основанных на Unicode).\n",
    "\n",
    "В программах с использованием русского языка используются такие варианты:\n",
    "* __Кодировки, основанные на Юникоде (Unicode)__.\n",
    "* __Кодировка CP1251 (Windows-1251)__ — используется, если необходимо иметь русские символы непрерывным массивом для лёгкости их обработки, и в случае использования ОС Windows, перекодировать такой текст можно без использования стороннего ПО.\n",
    "* Для русского языка еще существуют кодировки: CP-866, KOI-8R, ISO-8859-5."
   ]
  },
  {
   "cell_type": "markdown",
   "metadata": {},
   "source": [
    "__Кодировка ASCII__\n",
    "\n",
    "<center>         \n",
    "    <img src=\"./img/L3_tty.png\" alt=\"Телетайп\" style=\"width: 550px;\"/>\n",
    "    <b>Телетайп - электромеханическая печатная машина, используемая для передачи между двумя абонентами текстовых сообщений по электрическому каналу</b>\n",
    "</center>\n",
    "\n",
    "ASCII (American standard code for information interchange) — название кодировки (набора, таблицы) символов, в которой некоторым распространённым печатным и непечатным символам сопоставлены числовые коды.\n",
    "* Длинна кодовой таблицы ASCII - 128 символов (от 0 до 127) или 7 бит.\n",
    "* Таблица была разработана и стандартизирована в США, в 1963 году и первоначально использовалась для телетайпов (которые использовались для передачи текстовых сообщений и были первыми терминалами для цифровых вычислительных машин)."
   ]
  },
  {
   "cell_type": "markdown",
   "metadata": {},
   "source": [
    "__Кодовая таблица ASCII__\n",
    "\n",
    "<center>         \n",
    "    <img src=\"./img/L3_ASCII_table.png\" alt=\"Телетайп\" style=\"width: 550px;\"/>\n",
    "    <b>Кодовая таблица ASCII</b>\n",
    "</center>\n",
    "\n",
    "Таблица ASCII определяет коды для символов:\n",
    "* управляющих символов\n",
    "* десятичных цифр\n",
    "* латинского алфавита (заглавных и строчных букв)\n",
    "* знаков препинания\n",
    "* (в специальных версиях) национального алфавита"
   ]
  },
  {
   "cell_type": "code",
   "execution_count": 185,
   "metadata": {},
   "outputs": [
    {
     "name": "stdout",
     "output_type": "stream",
     "text": [
      "0: decimal  48 hex 0x30 binary 00110000\n",
      "1: decimal  49 hex 0x31 binary 00110001\n",
      "2: decimal  50 hex 0x32 binary 00110010\n",
      "...\n",
      "9: decimal  57 hex 0x39 binary 00111001\n",
      "------\n",
      "\n",
      "A: decimal  65 hex 0x41 binary 01000001\n",
      "B: decimal  66 hex 0x42 binary 01000010\n",
      "C: decimal  67 hex 0x43 binary 01000011\n",
      "...\n",
      "Y: decimal  89 hex 0x59 binary 01011001\n",
      "Z: decimal  90 hex 0x5a binary 01011010\n",
      "------\n",
      "\n",
      "a: decimal  97 hex 0x61 binary 01100001\n",
      "b: decimal  98 hex 0x62 binary 01100010\n",
      "c: decimal  99 hex 0x63 binary 01100011\n",
      "...\n",
      "y: decimal 121 hex 0x79 binary 01111001\n",
      "z: decimal 122 hex 0x7a binary 01111010\n"
     ]
    }
   ],
   "source": [
    "# коды цифр, символов латинского алфавита ASCII удобно подобраны для чтения в двоичном формате:\n",
    "for s in ['0', '1', '2', '...', '9', '------\\n', \n",
    "          'A', 'B', 'C', '...', 'Y', 'Z', '------\\n', \n",
    "          'a', 'b', 'c', '...', 'y', 'z']:\n",
    "    if len(s) == 1:\n",
    "        print(f'{s}: decimal {ord(s):3} hex 0x{ord(s):02x} binary {ord(s):08b}')\n",
    "    else:\n",
    "        print(s)"
   ]
  },
  {
   "cell_type": "markdown",
   "metadata": {},
   "source": [
    "__Управляющие коды ASCII__\n",
    "\n",
    "<center>         \n",
    "    <img src=\"./img/L3_spch2.png\" alt=\"Телетайп\" style=\"width: 550px;\"/>\n",
    "    <b>Некоторые управляющие коды ASCII</b>\n",
    "</center>\n",
    "\n",
    "* В таблице ASCII было определено 29 управляющих символов, большинство из которых находилось в диапазоне 0x00h-0x1F.\n",
    "* Управляющие символы ASCII предназначались для управления работой телетайпов и видеотерминалов и вводились на них сочетаниями с клавишей Ctrl, которая обнуляла в коде введённой клавиши бит 6. В современных компьютерных системах нигде, кроме эмуляторов терминала, не предусмотрен ввод этих символов напрямую (кроме символов табуляции и перевода строки) и большинство из перечисленных управляющих символов не используется."
   ]
  },
  {
   "cell_type": "markdown",
   "metadata": {},
   "source": [
    "__Переход на новую строку__\n",
    "\n",
    "Разные платформы (ОС) используют разные коды в качестве символа новой строки, в частности:\n",
    "* Windows: `\\r\\n`\n",
    "* Unix: `\\n`\n",
    "* Старые компьютеры Макинтош: `\\r`\n",
    "* Существуют системы использующие: `\\n\\r`\n",
    "\n",
    "При открытии файла в текстовом режиме в Python 3 все варианты окончания строки будут автоматически конвертироваться к `\\n` (как при записи, так и при чтении). Например, в этом режиме в Windows nри чтении символ `\\r` будет удален, а nри заnиси, наоборот, добавлен."
   ]
  },
  {
   "cell_type": "code",
   "execution_count": 186,
   "metadata": {},
   "outputs": [
    {
     "name": "stdout",
     "output_type": "stream",
     "text": [
      "E:\\YandexDisk\\Python\\Ipynb\\TOBD_2022\\03_data_files\\lec\n"
     ]
    }
   ],
   "source": [
    "cd E:\\YandexDisk\\Python\\Ipynb\\TOBD_2022\\03_data_files\\lec\\ "
   ]
  },
  {
   "cell_type": "code",
   "execution_count": 188,
   "metadata": {},
   "outputs": [],
   "source": [
    "with open(\"lec03_example.txt\", \"wt\", encoding=\"cp1251\") as f: \n",
    "    print('Строка1\\nСтрока2', file=f)\n",
    "    print('Строка3', end='', file=f) # значение по умолчанию end='\\n'\n",
    "    print(' продолжение строки3', file=f)"
   ]
  },
  {
   "cell_type": "code",
   "execution_count": 189,
   "metadata": {},
   "outputs": [
    {
     "name": "stdout",
     "output_type": "stream",
     "text": [
      "Строка1\n",
      "Строка2\n",
      "Строка3 продолжение строки3\n"
     ]
    }
   ],
   "source": [
    "with open(\"lec03_example.txt\", \"rt\", encoding=\"cp1251\") as file: \n",
    "    for line in file:\n",
    "        print(line, end='')"
   ]
  },
  {
   "cell_type": "code",
   "execution_count": 190,
   "metadata": {},
   "outputs": [
    {
     "name": "stdout",
     "output_type": "stream",
     "text": [
      "b'\\xd1\\xf2\\xf0\\xee\\xea\\xe01\\r\\n'\n",
      "Строка1\r\n",
      "\n",
      "b'\\xd1\\xf2\\xf0\\xee\\xea\\xe02\\r\\n'\n",
      "Строка2\r\n",
      "\n",
      "b'\\xd1\\xf2\\xf0\\xee\\xea\\xe03 \\xef\\xf0\\xee\\xe4\\xee\\xeb\\xe6\\xe5\\xed\\xe8\\xe5 \\xf1\\xf2\\xf0\\xee\\xea\\xe83\\r\\n'\n",
      "Строка3 продолжение строки3\r\n",
      "\n"
     ]
    }
   ],
   "source": [
    "with open(\"lec03_example.txt\", \"rb\") as file: \n",
    "    for bs in file:\n",
    "        print(bs)\n",
    "        print(bs.decode(\"cp1251\"))"
   ]
  },
  {
   "cell_type": "markdown",
   "metadata": {},
   "source": [
    "__Пробельные символы__\n",
    "\n",
    "__Пробельные символы__ (Whitespace character) - символ или серия символов, которые представляют горизонтальное или вертикальное пространство в типографике. При отображении пробельные символы не соответствует видимогу символу, но обычно занимают область на отображаемой странице.\n",
    "\n",
    "Например, символ проблеа U+0020 (также ASCII 32) (в Питоне: `' '`) представляет собой пустой символ в тексте, используемый в качестве разделителя слов в западных языках.\n",
    "\n",
    "\n",
    "<center>         \n",
    "    <img src=\"./img/L3_text_file.png\" alt=\"Телетайп\" style=\"width: 550px;\"/>\n",
    "    <b>Пример текстового файла при просмотре в обычном редакторе</b>\n",
    "</center>\n",
    "<br/>\n",
    "<center>         \n",
    "    <img src=\"./img/L3_text_file_whitespace.png\" alt=\"Телетайп\" style=\"width: 550px;\"/>\n",
    "    <b>Пример текстового файла с демонстрацией пробельных символов</b>\n",
    "</center>\n",
    "<br/>\n",
    "<center>         \n",
    "    <img src=\"./img/L3_text_file_bin.png\" alt=\"Телетайп\" style=\"width: 550px;\"/>\n",
    "    <b>Пример фрагмента текстового файла в режиме побайтного просмотра</b>\n",
    "</center>"
   ]
  },
  {
   "cell_type": "markdown",
   "metadata": {},
   "source": [
    "__Кодировка Windows 1251__\n",
    "\n",
    "__Windows-1251__ — набор символов и кодировка, являющаяся стандартной 8-битной кодировкой для русских версий Microsoft Windows до 10-й версии.\n",
    "* Синонимы: CP1251; ANSI (только в русскоязычной ОС Windows).\n",
    "* Выгодно отличается от других 8‑битных кириллических кодировок (таких как CP866, KOI8-R и ISO 8859-5) наличием практически всех символов, использующихся в русской типографике для обычного текста (отсутствует только значок ударения).\n",
    "* Содержит все символы для других славянских языков: украинского, белорусского, сербского, македонского и болгарского.\n",
    "* Первая половина таблицы кодировки (коды от 0x00 до 0x7F) полностью соответствует кодировке ASCII\n",
    "\n",
    "<center>         \n",
    "    <img src=\"./img/L3_w1251.png\" alt=\"Телетайп\" style=\"width: 550px;\"/>\n",
    "    <b>Кодовая таблица Windows 1251 (вторая половина)</b>\n",
    "</center>\n",
    "\n",
    "Особенности (недостатки) Windows-1251:\n",
    "* Строчная буква «я» имеет код 0xFF (255 в десятичной системе), что в некоторых случаях может приводить к техническим проблемам.\n",
    "* Отсутствуют символы псевдографики, имеющиеся в CP866 и KOI8.\n",
    "* Символы 'Ё' и 'ё' находятся вне алфавитной полседовательности."
   ]
  },
  {
   "cell_type": "code",
   "execution_count": 191,
   "metadata": {},
   "outputs": [
    {
     "name": "stdout",
     "output_type": "stream",
     "text": [
      "а: 11100000, int: 224\n",
      "б: 11100001, int: 225\n",
      "в: 11100010, int: 226\n",
      "г: 11100011, int: 227\n",
      "д: 11100100, int: 228\n",
      "е: 11100101, int: 229\n",
      "ё: 10111000, int: 184\n",
      "ж: 11100110, int: 230\n",
      "з: 11100111, int: 231\n",
      "и: 11101000, int: 232\n",
      "й: 11101001, int: 233\n",
      "к: 11101010, int: 234\n",
      "л: 11101011, int: 235\n",
      "м: 11101100, int: 236\n",
      "н: 11101101, int: 237\n",
      "о: 11101110, int: 238\n",
      "п: 11101111, int: 239\n",
      "р: 11110000, int: 240\n",
      "с: 11110001, int: 241\n",
      "т: 11110010, int: 242\n",
      "у: 11110011, int: 243\n",
      "ф: 11110100, int: 244\n",
      "х: 11110101, int: 245\n",
      "ц: 11110110, int: 246\n",
      "ч: 11110111, int: 247\n",
      "ш: 11111000, int: 248\n",
      "щ: 11111001, int: 249\n",
      "ъ: 11111010, int: 250\n",
      "ы: 11111011, int: 251\n",
      "ь: 11111100, int: 252\n",
      "э: 11111101, int: 253\n",
      "ю: 11111110, int: 254\n",
      "я: 11111111, int: 255\n"
     ]
    }
   ],
   "source": [
    "alph = 'абвгдеёжзийклмнопрстуфхцчшщъыьэюя'\n",
    "for s, b in zip(alph, bytes(alph, encoding='cp1251')):\n",
    "    print(f'{s}: {b:08b}, int: {int(b)}')"
   ]
  },
  {
   "cell_type": "markdown",
   "metadata": {},
   "source": [
    "### Unicode <a class=\"anchor\" id=\"юникод\"></a>\n",
    "* [к оглавлению](#разделы)    "
   ]
  },
  {
   "cell_type": "markdown",
   "metadata": {},
   "source": [
    "__Юникод__ \n",
    "\n",
    "__Юникод (Unicode)__ — стандарт кодирования символов, включающий в себя знаки почти всех письменных языков мира. В настоящее время стандарт является преобладающим в Интернете.\n",
    "\n",
    "Стандарт состоит из двух основных частей: \n",
    "* __Универсального набора символов (Universal character set, UCS)__ который перечисляет допустимые по стандарту Юникод символы и присваивает каждому символу код в виде неотрицательного целого числа, записываемого обычно в шестнадцатеричной форме с префиксом U+, например, U+040F.\n",
    "* Семейства __кодировок (Unicode transformation format, UTF)__ которое определяет способы преобразования кодов символов для передачи в потоке или в файле.\n",
    "\n",
    "Причины создания юникода:\n",
    "* Проблема неправильной раскодировки - вызвана отсутствием стандартизированной формы указания кодировки для файла и могла быть решена внедрением общей для всех языков кодировки.\n",
    "* Проблема ограниченности набора символов - проблему можно было решить либо переключением шрифтов внутри документа, либо внедрением «широкой», универсальной кодировки.\n",
    "* Проблема преобразования одной кодировки в другую - требовала точного понимания исходной и конечной кодировки и таблиц преобразования между ними.\n",
    "* Проблема дублирования шрифтов - для каждой кодировки создавался свой шрифт, даже если наборы символов в кодировках совпадали, можно было бы решить созданием \"больших\" шрифтов, покрывающих самые различные символы, но это требовало создания единого реестра символов.\n",
    "\n",
    "Была признана необходимость создания единой «широкой» (универсальной) кодировки. Кодировки с переменной длиной символа, широко использующиеся в Восточной Азии, были признаны слишком сложными и в первых версях юникода (с 1991 г.) было решено использовать 16-битные символы фиксированной ширины, так как 8-битных символов очевидно нехватало, а использование 32-битных символов казалось слишком расточительным."
   ]
  },
  {
   "cell_type": "markdown",
   "metadata": {},
   "source": [
    "__Универсальный набор символов и плоскости Юникод__\n",
    "\n",
    "* Первая версия Юникода представляла собой кодировку с фиксированным размером символа в 16 бит, то есть общее число кодов было 2^16 (65 536 значений).\n",
    "    * При этом в Юникоде планировалось кодировать не все существующие символы, а только те, которые необходимы в повседневном обиходе. Редко используемые символы должны были размещаться в «области пользовательских символов» (private use area), которая первоначально занимала коды U+D800…U+F8FF.\n",
    "    * Чтобы использовать Юникод также и в качестве промежуточного звена при преобразовании разных кодировок друг в друга, в него включили все символы, представленные во всех наиболее известных кодировках.\n",
    "\n",
    "* В дальнейшем, однако, было принято решение кодировать все символы и проводить политику активного расширения набора символов, например, включив в него не только символы языков но и эмодзи. В связи с этим потребовалось значительно расширить кодовую область.\n",
    "    * В связи с этим коды символов стали рассматриваться не как 16-битные значения, а как абстрактные числа универсального набора символов, которые в компьютере могут представляться множеством разных способов.\n",
    "    * В текущей версии Unicode 15.0 описано 149 186 cимовлов (в версии 1.1 их было всего 34 233).     \n",
    "    * Для текущего универсального набора символов недостаточно первоначальных 16 бит, сейчас в Unicode зарезервировано 1 112 064 кодов символов (для кодирования с избытком достаточно 21 бита, используется подмножество 21 битных значений, совместимое с форматом UTF-16).\n",
    "    \n",
    "Символы универсального набора символов Unicode обозначаются следующим образом:\n",
    "* Для обозначения символов Unicode используется запись вида «U+xxxx» (для кодов 0…FFFF) где xxx — шестнадцатеричные цифры.\n",
    "    * Например, символ «я» (U+044F) имеет код 044F16 = 110310.\n",
    "* Для кодов 10000…FFFFF:  «U+xxxxx» и для кодов 100000…10FFFF «U+xxxxxx». \n",
    "\n",
    "Кодовое пространство разбито на __17 плоскостей (planes)__ по 2^16 (65 536) символов.\n",
    "* Нулевая плоскость (plane 0) называется базовой (basic) и содержит символы наиболее употребительных письменностей.\n",
    "* Остальные плоскости — дополнительные (supplementary).\n",
    "\n",
    "<center>         \n",
    "    <img src=\"./img/L3_Unicode_mpl.png\" alt=\"Телетайп\" style=\"width: 550px;\"/>\n",
    "    <b>Базовая плоскость универсального набора символов</b>\n",
    "</center>\n",
    "\n",
    "В Юникоде 14.0 в базовой плоскости представлены следующие блоки:\n",
    "* __Основная латиница (0000—007F)__ - точное повторение таблицы ASCII, что, в частности, позволяет фортмату UTF-8 быть обратно совестимым с кодировкой ASCII.\n",
    "* Дополнение к латинице — 1 (0080—00FF)\n",
    "* Расширенная латиница — A (0100—017F)\n",
    "* Расширенная латиница — B (0180—024F)\n",
    "* Расширения МФА (0250—02AF)\n",
    "* Модификаторы букв (02B0—02FF)\n",
    "* Комбинируемые диакритические знаки (0300—036F)\n",
    "* Греческое и коптское письмо (0370—03FF)\n",
    "* __Кириллица (0400—04FF)__, см. также Кириллица в Юникоде\n",
    "    * Существует неоднозначность по отношению к кодированию некоторых букв: например, «Й» может быть закодирована как единый символ U+0419 либо как комбинация «И» U+0418 и диакритического знака U+0306. \n",
    "* ...\n",
    "\n",
    "Блок содержит все буквы и управляющие коды из кодировки ASCII."
   ]
  },
  {
   "cell_type": "code",
   "execution_count": 119,
   "metadata": {},
   "outputs": [
    {
     "name": "stdout",
     "output_type": "stream",
     "text": [
      "а: U-0430 00000100 00110000, int: 12292\n",
      "б: U-0431 00000100 00110001, int: 12548\n",
      "в: U-0432 00000100 00110010, int: 12804\n",
      "г: U-0433 00000100 00110011, int: 13060\n",
      "д: U-0434 00000100 00110100, int: 13316\n",
      "е: U-0435 00000100 00110101, int: 13572\n",
      "ё: U-0451 00000100 01010001, int: 20740\n",
      "ж: U-0436 00000100 00110110, int: 13828\n",
      "з: U-0437 00000100 00110111, int: 14084\n",
      "и: U-0438 00000100 00111000, int: 14340\n",
      "й: U-0439 00000100 00111001, int: 14596\n",
      "к: U-043a 00000100 00111010, int: 14852\n",
      "л: U-043b 00000100 00111011, int: 15108\n",
      "м: U-043c 00000100 00111100, int: 15364\n",
      "н: U-043d 00000100 00111101, int: 15620\n",
      "о: U-043e 00000100 00111110, int: 15876\n",
      "п: U-043f 00000100 00111111, int: 16132\n",
      "р: U-0440 00000100 01000000, int: 16388\n",
      "с: U-0441 00000100 01000001, int: 16644\n",
      "т: U-0442 00000100 01000010, int: 16900\n",
      "у: U-0443 00000100 01000011, int: 17156\n",
      "ф: U-0444 00000100 01000100, int: 17412\n",
      "х: U-0445 00000100 01000101, int: 17668\n",
      "ц: U-0446 00000100 01000110, int: 17924\n",
      "ч: U-0447 00000100 01000111, int: 18180\n",
      "ш: U-0448 00000100 01001000, int: 18436\n",
      "щ: U-0449 00000100 01001001, int: 18692\n",
      "ъ: U-044a 00000100 01001010, int: 18948\n",
      "ы: U-044b 00000100 01001011, int: 19204\n",
      "ь: U-044c 00000100 01001100, int: 19460\n",
      "э: U-044d 00000100 01001101, int: 19716\n",
      "ю: U-044e 00000100 01001110, int: 19972\n",
      "я: U-044f 00000100 01001111, int: 20228\n"
     ]
    }
   ],
   "source": [
    "# Буквы русского алфавита в UCS:\n",
    "alph = 'абвгдеёжзийклмнопрстуфхцчшщъыьэюя'\n",
    "for s in alph:\n",
    "    bs = bytes(s, encoding='UTF-16-BE') # обратите внимание на кодировку!\n",
    "    s_i = int.from_bytes(bs, byteorder='little', signed=False)\n",
    "    print(f'{s}: U-{bs[0]:02x}{bs[1]:02x} {bs[0]:08b} {bs[1]:08b}, int: {s_i}')"
   ]
  },
  {
   "cell_type": "code",
   "execution_count": 192,
   "metadata": {},
   "outputs": [
    {
     "name": "stdout",
     "output_type": "stream",
     "text": [
      "U-0439:й\n",
      "U-0438 U-0306:й\n",
      "cyrillic small letter short i:й\n"
     ]
    }
   ],
   "source": [
    "# запись символа й:\n",
    "print(\"U-0439:\\u0439\")\n",
    "# запись символа й как и с диакритическим знаком:\n",
    "print('U-0438 U-0306:\\u0438\\u0306')\n",
    "# запись символа по названию в Unicode: https://ru.wikipedia.org/wiki/Кириллица_в_Юникоде\n",
    "print('cyrillic small letter short i:\\N{cyrillic small letter short i}')"
   ]
  },
  {
   "cell_type": "code",
   "execution_count": 193,
   "metadata": {},
   "outputs": [
    {
     "name": "stdout",
     "output_type": "stream",
     "text": [
      "😀\n",
      "😀\n"
     ]
    }
   ],
   "source": [
    "# Пример использования unicode для работы с эмоджи в Python:\n",
    "print(\"\\U0001f600\")\n",
    "print(\"\\N{grinning face}\")"
   ]
  },
  {
   "cell_type": "markdown",
   "metadata": {},
   "source": [
    "__UTF-8__\n",
    "\n",
    "__UTF-8 (Unicode Transformation Format)__ — распространённый стандарт кодирования символов, позволяющий компактно хранить и передавать символы Юникода, используя переменное количество байт (от 1 до 4).\n",
    "* UTF-8 беспечивает __полную обратную совместимость с 7-битной кодировкой ASCII__.\n",
    "* UTF-8 сейчас __является доминирующей в веб-пространстве__ и широко распространена в UNIX-подобных операционных системах.\n",
    "* UTF-8, по сравнению с UTF-16, __даёт наибольший выигрыш в компактности для текстов на латинице__, поскольку латинские буквы без диакритических знаков, цифры и наиболее распространённые знаки препинания кодируются в UTF-8 лишь одним байтом и коды этих символов соответствуют их кодам в ASCII.\n",
    "* Идентификатор кодировки в Windows — 65001.\n",
    "\n",
    "<center>         \n",
    "    <img src=\"./img/L3_utf8.png\" alt=\"Телетайп\" style=\"width: 700px;\"/>\n",
    "    <b>Кодирование символов Unicode в переменном количестве байт</b>\n",
    "</center>\n",
    "\n",
    "</br>\n",
    "<center>         \n",
    "    <img src=\"./img/L3_utf8_exmpl.png\" alt=\"Телетайп\" style=\"width: 850px;\"/>\n",
    "    <b>Пример кодирование символов Unicode в переменном количестве байт UTF-8 </b>\n",
    "</center>\n",
    "\n",
    "Для указания, что файл содержит символы Юникода, в начале файла или может быть вставлен маркер последовательности байтов UTF-8: 0xEF 0xBB 0xBF\n",
    "\n",
    "Не всякая последовательность байтов является допустимой. Декодер UTF-8 должен понимать и адекватно обрабатывать такие ошибки:\n",
    "* Недопустимый байт.\n",
    "* Байт продолжения (10xxxxxx) без начального байта.\n",
    "* Отсутствие нужного количества байтов продолжения 10xxxxxx — например, двух после 1110xxxx).\n",
    "* Строка обрывается посреди символа.\n",
    "* Неэкономное кодирование — например, кодирование символа тремя байтами, когда можно двумя. (Существует нестандартный вариант UTF-8, который кодирует символ с кодом 0 как 1100.0000 1000.0000, отличая его от символа конца строки 0000.0000.)\n",
    "* Последовательность байтов, декодирующаяся в недопустимую кодовую позицию (например символы суррогатных пар UTF-16)."
   ]
  },
  {
   "cell_type": "markdown",
   "metadata": {},
   "source": [
    "__UTF-16__\n",
    "\n",
    "UTF-16 (Unicode Transformation Format) — способов кодирования символов из Юникода в виде последовательности 16-битных слов (по 2 байта).\n",
    "* Данная кодировка позволяет записывать символы Юникода в диапазонах U+0000..U+D7FF и U+E000..U+10FFFF (общим количеством 1 112 064).\n",
    "* При этом каждый символ записывается одним или двумя словами (суррогатная пара).\n",
    "* Исключенный отсюда диапазон D80016..DFFF16 используется для кодирования так называемых суррогатных пар.\n",
    "* В первой версии Юникод (1991 г.) представляет собой 16-битную кодировку с фиксированной шириной символа (UCS-2) во второй версии был добавлен UTF-16 для расширения кодируемого диапазона до 1 112 064 символов.\n",
    "\n",
    "Один символ кодировки UTF-16 представлен __последовательностью из двух байтов__ или двух пар байтов. Какой из двух байтов идёт впереди, старший или младший, зависит от порядка байтов:\n",
    "* __little endian__ - порядок байтов от старшего к младшему $B_0, B_1, \\ldots, B_{N-1}$ (принят в процессорах x86)\n",
    "Систему, совместимую с процессорами x86, называют little endian,\n",
    "* __big endian__ - порядок байтов от младшегок к старшему $B_{N-1}, \\ldots, B_1, B_0$ (принят в процессорах SPARC)\n",
    "* Для определения порядка байтов используется __метка порядка байто (byte order mark)__. В начале текста записывается код U+FEFF. \n",
    "* При считывании, если вместо U+FEFF считалось U+FFFE, значит порядок байтов обратный (little endian).\n",
    "* Поскольку код U+FFFE в Юникоде не кодирует символ и зарезервирован как раз для целей определения порядка байтов. \n",
    "* Так как в кодировке UTF-8 не используются значения 0xFE и 0xFF, можно использовать метку порядка байтов как признак, позволяющий различать UTF-16 и UTF-8."
   ]
  },
  {
   "cell_type": "code",
   "execution_count": 194,
   "metadata": {},
   "outputs": [
    {
     "name": "stdout",
     "output_type": "stream",
     "text": [
      "а\n",
      "UTF-8: ['0x11010000', '0x10110000']\n",
      "UTF-8: ['0xd0', '0xb0'] \n",
      "\n",
      "UTF-16: ['0x11111111', '0x11111110', '0x00110000', '0x00000100']\n",
      "UTF-16: ['0xff', '0xfe', '0x30', '0x04'] \n",
      "\n",
      "UTF-16-BE: ['0x00000100', '0x00110000']\n",
      "UTF-16-BE: ['0x04', '0x30'] \n",
      "\n",
      "UTF-16-LE: ['0x00110000', '0x00000100']\n",
      "UTF-16-LE: ['0x30', '0x04'] \n",
      "\n"
     ]
    }
   ],
   "source": [
    "# Примеры работы различных кодировок UTF:\n",
    "print('\\u0430')\n",
    "alph = 'а'\n",
    "enc_l = ['UTF-8', 'UTF-16', 'UTF-16-BE', 'UTF-16-LE']\n",
    "for enc in enc_l:\n",
    "    bs = bytes('а', encoding=enc)\n",
    "    print(f'{enc}:',[f'0x{b:08b}' for b in bs])\n",
    "    print(f'{enc}:',[f'0x{b:02x}' for b in bs],'\\n')"
   ]
  },
  {
   "cell_type": "markdown",
   "metadata": {},
   "source": [
    "__UTF-32__\n",
    "\n",
    "__UTF-32 (Unicode Transformation Format)__ — способ кодирования символов Юникода, использующий для кодирования любого символа ровно 32 бита. \n",
    "* Символ UTF-32 является прямым представлением его кодовой позиции (Code point  (англ.)рус.).\n",
    "* Остальные кодировки, UTF-8 и UTF-16, используют для представления символов переменное число байтов.\n",
    "* __(+)__ Главное преимущество UTF-32 перед кодировками переменной длины заключается в том, что символы Юникод непосредственно индексируемы. Получение n-ой кодовой позиции является операцией, занимающей одинаковое время. \n",
    "* __(-)__ Главный недостаток UTF-32 — это неэффективное использование пространства, так как для хранения символа используется четыре байта.\n",
    "\n",
    "UTF-32 применяется, главным образом, не в строках символов, а во внутренних API, где данные являются единственной кодовой позицией или глифом. Например, при прорисовке текста на последнем шаге происходит построение списка структур, каждая из которых включает в себя позиции x и у, атрибуты и единственный символ UTF-32, идентифицирующий глиф для прорисовки. Часто в «неиспользуемых» 11 битах каждого 32-битного символа хранится посторонняя информация.\n",
    "\n",
    "* В программах на Python с версии 3.3 строки хранятся в UTF-32, но лидирующие нули оптимизируются в случае их неиспользования.\n",
    "* UTF-32 используются для хранения строк в Unix в том случае, когда тип wchar_t определён как 32-битный. \n",
    "* В ОС Windows, в которой тип wchar_t имеет размер 16 бит, строки UTF-32 почти не используются."
   ]
  },
  {
   "cell_type": "markdown",
   "metadata": {},
   "source": [
    "## Работа с бинарными файлами <a class=\"anchor\" id=\"бинарные\"></a>\n",
    "* [к оглавлению](#разделы)"
   ]
  },
  {
   "cell_type": "markdown",
   "metadata": {},
   "source": [
    "__Байтовые строки в Python__\n",
    "\n",
    "Базовая работа с бинарными файлами основана на манипулировании последовательностями байтов. Для этого в Python емеется тип `bytes`- неизменяемый тип, похожий на строки, но состоящий из целых чисел от 0 до 255 и его изменяемый аналог `bytesarray`.\n"
   ]
  },
  {
   "cell_type": "code",
   "execution_count": 440,
   "metadata": {},
   "outputs": [
    {
     "name": "stdout",
     "output_type": "stream",
     "text": [
      "b'\\x00\\x00\\x00\\x00\\x00\\x00\\x00\\x00'\n",
      "bs1:b'bytes \\xd1'\n",
      "b'bytes'\n",
      "bs3:b'\\xe1\\xe0\\xe9\\xf2\\xfb'\n",
      "bs4:b'\\xd0\\xb1\\xd0\\xb0\\xd0\\xb9\\xd1\\x82\\xd1\\x8b'\n",
      "bs5:b'bytes \\xd1'\n",
      "bs6:b'bytes \\xd1'\n",
      "bs7:b'abcdefghij'\n"
     ]
    }
   ],
   "source": [
    "# Примеры создания объектов bytes:\n",
    "\n",
    "# заданное количество нулевых байтов:\n",
    "bs0 = bytes(8)\n",
    "print(bs0)\n",
    "\n",
    "# На основе последовательности байтов в виде двух шестнадцетеричных цифр:\n",
    "bs1 = b'\\x62\\x79\\x74\\x65\\x73\\x20\\xd1'\n",
    "print(f'bs1:{bs1}')\n",
    "\n",
    "# На основе строки из символов ASCII:\n",
    "bs2 = b'bytes' # тут допустимы только симоволы ASCII (коды от 0 до 127)\n",
    "print(bs2)\n",
    "\n",
    "# На основе строки Python с указанием кодировки:\n",
    "bs3 = bytes('байты', encoding = 'cp1251')\n",
    "print(f'bs3:{bs3}')\n",
    "\n",
    "bs4 = bytes('байты', encoding = 'utf-8')\n",
    "print(f'bs4:{bs4}')\n",
    "\n",
    "# из строки с последовательностью шестнадцеричных цифр (каждая пара - 1 байт):\n",
    "bs5 = bytes.fromhex('627974657320d1')\n",
    "print(f'bs5:{bs5}')\n",
    "\n",
    "# На основе последовательности числовых значений (от 0 до 255):\n",
    "bs6 = bytes([98, 121, 116, 101, 115, 32, 209])\n",
    "print(f'bs6:{bs6}')\n",
    "\n",
    "# На основе генератора числовых значений (от 0 до 255):\n",
    "bs7 = bytes(range(97, 107))\n",
    "print(f'bs7:{bs7}')"
   ]
  },
  {
   "cell_type": "code",
   "execution_count": 441,
   "metadata": {},
   "outputs": [
    {
     "name": "stdout",
     "output_type": "stream",
     "text": [
      "<class 'int'> 98\n"
     ]
    }
   ],
   "source": [
    "# оперирование элементами bytes происходит как с int:\n",
    "print(type(bs1[0]), bs1[0])"
   ]
  },
  {
   "cell_type": "code",
   "execution_count": 442,
   "metadata": {},
   "outputs": [
    {
     "name": "stdout",
     "output_type": "stream",
     "text": [
      "[98, 121, 116, 101, 115, 32, 209]\n"
     ]
    }
   ],
   "source": [
    "# итерация по bytes возвращает значения типа int:\n",
    "print(list(bs1)) "
   ]
  },
  {
   "cell_type": "code",
   "execution_count": 443,
   "metadata": {},
   "outputs": [
    {
     "name": "stdout",
     "output_type": "stream",
     "text": [
      "98 <class 'int'>\n",
      "121 <class 'int'>\n",
      "116 <class 'int'>\n",
      "101 <class 'int'>\n",
      "115 <class 'int'>\n",
      "32 <class 'int'>\n",
      "209 <class 'int'>\n"
     ]
    }
   ],
   "source": [
    "# итерация по bytes возвращает значения типа int:\n",
    "for i in bs1:\n",
    "    print(i, type(i))"
   ]
  },
  {
   "cell_type": "code",
   "execution_count": 444,
   "metadata": {},
   "outputs": [
    {
     "name": "stdout",
     "output_type": "stream",
     "text": [
      "627974657320d1\n"
     ]
    }
   ],
   "source": [
    "# получение строки с последовательностью шестнадцетеричных цифр:\n",
    "print(bs1.hex())"
   ]
  },
  {
   "cell_type": "code",
   "execution_count": 445,
   "metadata": {},
   "outputs": [
    {
     "data": {
      "text/plain": [
       "b'\\x00\\x06jD'"
      ]
     },
     "execution_count": 445,
     "metadata": {},
     "output_type": "execute_result"
    }
   ],
   "source": [
    "# сериализация числа в bytes:\n",
    "my_int = 420420\n",
    "my_int_bts_big = my_int.to_bytes(4, byteorder='big') # 4 - количество байт\n",
    "my_int_bts_big"
   ]
  },
  {
   "cell_type": "code",
   "execution_count": 446,
   "metadata": {},
   "outputs": [
    {
     "data": {
      "text/plain": [
       "b'Dj\\x06\\x00'"
      ]
     },
     "execution_count": 446,
     "metadata": {},
     "output_type": "execute_result"
    }
   ],
   "source": [
    "# вариант сериализации с обратным порядком байтов:\n",
    "my_int.to_bytes(4, byteorder='little')"
   ]
  },
  {
   "cell_type": "code",
   "execution_count": 447,
   "metadata": {},
   "outputs": [
    {
     "data": {
      "text/plain": [
       "420420"
      ]
     },
     "execution_count": 447,
     "metadata": {},
     "output_type": "execute_result"
    }
   ],
   "source": [
    "# восстановление (десериализация данных из bytes):\n",
    "int.from_bytes(my_int_bts_big, byteorder='big')"
   ]
  },
  {
   "cell_type": "markdown",
   "metadata": {},
   "source": [
    "Тип bytes - неизменяемый, при необходимости изменять массив байтов необходимо использовать bytesarray."
   ]
  },
  {
   "cell_type": "code",
   "execution_count": 448,
   "metadata": {},
   "outputs": [
    {
     "ename": "TypeError",
     "evalue": "'bytes' object does not support item assignment",
     "output_type": "error",
     "traceback": [
      "\u001b[1;31m---------------------------------------------------------------------------\u001b[0m",
      "\u001b[1;31mTypeError\u001b[0m                                 Traceback (most recent call last)",
      "\u001b[1;32m<ipython-input-448-b8c724d944ec>\u001b[0m in \u001b[0;36m<module>\u001b[1;34m\u001b[0m\n\u001b[0;32m      1\u001b[0m \u001b[1;31m# ошибка - bytes неизменяемый объект!\u001b[0m\u001b[1;33m\u001b[0m\u001b[1;33m\u001b[0m\u001b[1;33m\u001b[0m\u001b[0m\n\u001b[1;32m----> 2\u001b[1;33m \u001b[0mbs1\u001b[0m\u001b[1;33m[\u001b[0m\u001b[1;36m1\u001b[0m\u001b[1;33m]\u001b[0m \u001b[1;33m=\u001b[0m \u001b[1;36m97\u001b[0m\u001b[1;33m\u001b[0m\u001b[1;33m\u001b[0m\u001b[0m\n\u001b[0m",
      "\u001b[1;31mTypeError\u001b[0m: 'bytes' object does not support item assignment"
     ]
    }
   ],
   "source": [
    "# ошибка - bytes неизменяемый объект!\n",
    "bs1[1] = 97"
   ]
  },
  {
   "cell_type": "code",
   "execution_count": 449,
   "metadata": {},
   "outputs": [
    {
     "data": {
      "text/plain": [
       "bytearray(b'bytes \\xd1')"
      ]
     },
     "execution_count": 449,
     "metadata": {},
     "output_type": "execute_result"
    }
   ],
   "source": [
    "\n",
    "bsa1 = bytearray(bs1)\n",
    "bsa1"
   ]
  },
  {
   "cell_type": "code",
   "execution_count": 450,
   "metadata": {},
   "outputs": [
    {
     "data": {
      "text/plain": [
       "121"
      ]
     },
     "execution_count": 450,
     "metadata": {},
     "output_type": "execute_result"
    }
   ],
   "source": [
    "bsa1[1]"
   ]
  },
  {
   "cell_type": "code",
   "execution_count": 451,
   "metadata": {},
   "outputs": [
    {
     "data": {
      "text/plain": [
       "bytearray(b'bates \\xd1')"
      ]
     },
     "execution_count": 451,
     "metadata": {},
     "output_type": "execute_result"
    }
   ],
   "source": [
    "# bytesarray изменяемый объект:\n",
    "bsa1[1] = 97\n",
    "bsa1"
   ]
  },
  {
   "cell_type": "code",
   "execution_count": 453,
   "metadata": {},
   "outputs": [
    {
     "data": {
      "text/plain": [
       "bytearray(b'bates \\xd1aa')"
      ]
     },
     "execution_count": 453,
     "metadata": {},
     "output_type": "execute_result"
    }
   ],
   "source": [
    "# bytesarray изменяемый объект:\n",
    "bsa1.append(97)\n",
    "bsa1"
   ]
  },
  {
   "cell_type": "markdown",
   "metadata": {},
   "source": [
    "Работа с бинарными файлами в Python:"
   ]
  },
  {
   "cell_type": "code",
   "execution_count": 454,
   "metadata": {},
   "outputs": [
    {
     "data": {
      "text/plain": [
       "b'\\x02\\x04\\x06\\x08\\n\\x0c\\x0e'"
      ]
     },
     "execution_count": 454,
     "metadata": {},
     "output_type": "execute_result"
    }
   ],
   "source": [
    "numbers = [2, 4, 6, 8, 10, 12, 14]\n",
    "numbers_bs = bytes(numbers)\n",
    "numbers_bs"
   ]
  },
  {
   "cell_type": "code",
   "execution_count": 455,
   "metadata": {},
   "outputs": [],
   "source": [
    "# запись в bytes в бинарный файл:\n",
    "# старый способ работы с файлом (нужно избегать!):\n",
    "f_wb = open(\"numbers_v1.bin\",\"wb\")\n",
    "try:\n",
    "    f_wb.write(numbers_bs)\n",
    "# без использования блока with необходимо вручную закрывать файл:\n",
    "finally:\n",
    "    f_wb.close() "
   ]
  },
  {
   "cell_type": "code",
   "execution_count": 456,
   "metadata": {},
   "outputs": [
    {
     "name": "stdout",
     "output_type": "stream",
     "text": [
      "b'\\x02\\x04\\x06\\x08\\n\\x0c\\x0e'\n",
      "[2, 4, 6, 8, 10, 12, 14]\n"
     ]
    }
   ],
   "source": [
    "# Чтение всего файла в виде одной строки байтов:\n",
    "with open('numbers_v1.bin', 'rb') as f_rb1:\n",
    "    content = f_rb1.read()\n",
    "    \n",
    "print(content)\n",
    "print(list(content))"
   ]
  },
  {
   "cell_type": "code",
   "execution_count": 463,
   "metadata": {},
   "outputs": [
    {
     "name": "stdout",
     "output_type": "stream",
     "text": [
      "[8381970, 623024, 7779606, 7657959]\n",
      "[1694505, 4915883, 784382]\n",
      "[470501, 8402757, 7723208]\n"
     ]
    }
   ],
   "source": [
    "with open('numbers_v2.bin', 'wb') as f_wb3:\n",
    "    for _ in range(3):\n",
    "        int_chunk = [randint(1, 10_000_000) for _ in range(randint(2, 4))]\n",
    "        print(int_chunk)\n",
    "        f_wb3.write(b''.join(int_val.to_bytes(4, byteorder='big') for int_val in int_chunk))"
   ]
  },
  {
   "cell_type": "code",
   "execution_count": 464,
   "metadata": {},
   "outputs": [
    {
     "name": "stdout",
     "output_type": "stream",
     "text": [
      "len=20: b'\\x00\\x7f\\xe6\\x12\\x00\\t\\x81\\xb0\\x00v\\xb5\\x16\\x00t\\xd9\\xe7\\x00\\x19\\xdb)'\n",
      "[8381970, 623024, 7779606, 7657959, 1694505]\n",
      "len=20: b'\\x00K\\x02\\xab\\x00\\x0b\\xf7\\xfe\\x00\\x07-\\xe5\\x00\\x807E\\x00u\\xd8\\xc8'\n",
      "[4915883, 784382, 470501, 8402757, 7723208]\n"
     ]
    }
   ],
   "source": [
    "import itertools\n",
    "\n",
    "# Чтение файла блоками, с размером не больше заданного:\n",
    "with open(\"numbers_v2.bin\", \"rb\") as f_rb2:\n",
    "    # читаем первый блок данных:\n",
    "    bts = f_rb2.read(20) # 20 = 4 (байта на число) * 5 (чисел)\n",
    "    while bts:\n",
    "        print(f'len={len(bts)}: {bts}')        \n",
    "        print([int.from_bytes(bytes(chunk), byteorder='big') \n",
    "               for chunk in itertools.zip_longest(*([iter(bts)] * 4))])\n",
    "        # читаем очередной блок данных:\n",
    "        bts = f_rb2.read(20)"
   ]
  },
  {
   "cell_type": "markdown",
   "metadata": {},
   "source": [
    "# Сериализация и обмен данными <a class=\"anchor\" id=\"сериализация\"></a>\n",
    "* [к оглавлению](#разделы)"
   ]
  },
  {
   "cell_type": "markdown",
   "metadata": {},
   "source": [
    "__Назначение различных форматов файлов__\n",
    "\n",
    "Форматы файлов для хранения данных можно разделить __по назначению форматов файлов__:\n",
    "* __хранение данных конкретного типа__ - например: PNG-файлы используются для хранения изображений.\n",
    "* __контейнеры данных__ - формат разработан для хранения нескольких различных типов данных. Например, формат OGG может использоваться для харанения разных типов мультимедиа информации: видое, аудио, текста (например субтитров) и метаданных.\n",
    "* __сериализация данных__ - обратимый перевод структуры данных в последовательность битов."
   ]
  },
  {
   "cell_type": "markdown",
   "metadata": {},
   "source": [
    "__Сериализация данных__\n",
    "\n",
    "<em class=\"df\"></em> __Сериализация__ (serialization) - процесс перевода какой-либо структуры данных в последовательность битов. Обратной к  сериализации является операция __десериализации__ (deserialization) — восстановление начального состояния структуры данных из битовой последовательности.\n",
    "\n",
    "* Сериализация используется:\n",
    "    * для передачи объектов по сети и для сохранения их в файлы.\n",
    "    * для сохранения состояния приложения или некоторых его структур данных, хранения в файле и последующего восстановления данных.\n",
    "    * Список известных форматов данных для сериализации: https://en.wikipedia.org/wiki/Comparison_of_data-serialization_formats \n",
    "\n",
    "<center>         \n",
    "    <img src=\"./img/L4_serialization-deserialization.jpeg\" alt=\"сериализация-десериализация данных\" style=\"width: 500px;\"/>\n",
    "    <b>Сериализация-десериализация данных</b>\n",
    "</center>\n",
    "\n",
    "Популярные форматы сериализации данных:\n",
    "* Специализированные форматы рассмотриваемые в рамках курса:\n",
    "    * __npy, npz__ - стандартный бинарный формат двоичного файла в NumPy для сохранения массива / массивов NumPy. Формат npy разработан так, чтобы быть максимально простым при достижении ограниченных целей (рассмотрены на лекции 1).\n",
    "    * __pickle__ - бинарный формат для сериализации объектов Python в поток байтов. Реализуется как последовательность операций для выполнения на Pickle Virtual Machine. Формат определяется прежде всего реализацией Pickle Virtual Machine.\n",
    "    * __Apache Parquet__ - открытый формат хранения данных для экосистемы Apache Hadoop. Он обеспечивает эффективные схемы сжатия и кодирования данных с повышенной производительностью для обработки больших объемов сложных данных.\n",
    "\n",
    "\n",
    "* __XML__ (eXtensible Markup Language) - расширяемый язык разметки (рекомендован W3C). XML разрабатывался как язык с простым формальным синтаксисом, __удобный для создания и обработки документов программами и одновременно удобный для чтения и создания документов человеком__, с подчёркиванием нацеленности на использование в Интернете. Язык называется __расширяемым__, поскольку он не фиксирует разметку, используемую в документах: разработчик волен создать разметку в соответствии с потребностями к конкретной области, будучи ограниченным лишь синтаксическими правилами языка.\n",
    "* __JSON__ (JavaScript Object Notation) - текстовый формат обмена данными, основанный на JavaScript.  JSON легко читается людьми. Несмотря на происхождение от JavaScript, формат считается независимым от языка и может использоваться практически с любым языком программирования.\n",
    "* __YAML__ - «дружественный» формат сериализации данных, концептуально близкий к языкам разметки, но ориентированный на удобство ввода-вывода типичных структур данных многих языков программирования.   "
   ]
  },
  {
   "cell_type": "markdown",
   "metadata": {},
   "source": [
    "__Структурирование данных__\n",
    "\n",
    "Принято делить данные на три категории:\n",
    "* __Структурированные__ – <b class=\"g\">Ex:</b> реляционная база данных\n",
    "* __Слабо (полу-) структурированные__ – <b class=\"g\">Ex:</b> веб-страница\n",
    "* __Не структурированные__ – <b class=\"g\">Ex:</b> текст на естественном языке.\n",
    "\n",
    "Слабо структурированное данные:\n",
    "* Обычно слабо структурированные данные содержат __маркеры для отделения семантических элементов__ и для обеспечения частичной структуры данных в наборе данных, но не соответствуют строгой структуре отношений реляционной модели данных. Такой вид данных можно назвать __бессхемным__, а структуру — __самоописываемой__. В слабоструктурированных данных __сущности__, принадлежащие одному и тому же классу, __могут иметь разные атрибуты__, порядок атрибутов также не важен.\n",
    "\n",
    "* Слабоструктурированные представления данных важны, т.к. для __обмена данными__ между разными системами (например в web) необходимо иметь __максимально гибкий формат__. \n",
    "\n",
    "\n",
    "* Часто слабо структурированные данные именуются документами. __Документ__  — объект, содержащий информацию в зафиксированном виде и специально предназначенный для её передачи во времени и пространстве. Обычно документы имеют внутреннюю структуру, при этом часто не существует стандарта такой струкутуры, т.е. в этом смысле документы являются безсхемной самоописываемой информацией."
   ]
  },
  {
   "cell_type": "markdown",
   "metadata": {},
   "source": [
    "__Сравнение популярных форматов сериалиазции данных__\n",
    "\n",
    "Особенности, плюсы / минусы\n",
    "\n",
    "* __pickle__ - бинарный формат для сериализации объектов Python в поток байтов. Реализуется как последовательность операций для выполнения на Pickle Virtual Machine. Формат определяется прежде всего реализацией Pickle Virtual Machine.\n",
    "\n",
    "* __JSON__ (JavaScript Object Notation) - текстовый формат обмена данными, основанный на JavaScript.  JSON легко читается людьми. Несмотря на происхождение от JavaScript, формат считается независимым от языка и может использоваться практически с любым языком программирования.\n",
    "\n",
    "* __XML__ (eXtensible Markup Language) - расширяемый язык разметки (рекомендован W3C). XML разрабатывался как язык с простым формальным синтаксисом, __удобный для создания и обработки документов программами и одновременно удобный для чтения и создания документов человеком__, с подчёркиванием нацеленности на использование в Интернете. Язык называется __расширяемым__, поскольку он не фиксирует разметку, используемую в документах: разработчик волен создать разметку в соответствии с потребностями к конкретной области, будучи ограниченным лишь синтаксическими правилами языка.\n",
    "\n",
    "* __YAML__  (Yet Another Markup Language) - «дружественный» формат сериализации данных, концептуально близкий к языкам разметки, но ориентированный на удобство ввода-вывода типичных структур данных многих языков программирования, в том числе __удобство чтения и редактирование человеком__. Язык широко используется __для файлов конфигурации и в приложениях__, где данные хранятся или передаются. YAML нацелен на приложения, типичные для XML. YAML имеет __минимальный синтаксис__, который __намеренно отличается от SGML__ и совместим с JSON т.к.  использует `[...]` для списков и `{...}` для словарей. Для обозначения вложенности используются отступы, как в Python."
   ]
  },
  {
   "cell_type": "markdown",
   "metadata": {},
   "source": [
    "## Формат Pickle <a class=\"anchor\" id=\"pickle\"></a>\n",
    "* [к оглавлению](#разделы)\n",
    "\n",
    "__pickle__ - бинарный формат для сериализации объектов Python в поток байтов. \n",
    "* Реализуется как последовательность операций для выполнения на Pickle Virtual Machine. Формат определяется прежде всего реализацией Pickle Virtual Machine.\n",
    "* Pickle небезопасный формат сериализации так как не защищен от ошибочных или вредоносных данных. \n",
    "\n",
    "Сохранение данных в Pickle\n",
    "\n",
    "* Стандартное расширение для файлов: `.pickle`\n",
    "* Могут встречаться расширения: `.pkl`, `.pck`, `.db`"
   ]
  },
  {
   "cell_type": "code",
   "execution_count": 261,
   "metadata": {},
   "outputs": [],
   "source": [
    "# объект (данные) для сохранения:\n",
    "dat1 = [\"Строка\", (12, 3)] "
   ]
  },
  {
   "cell_type": "code",
   "execution_count": 262,
   "metadata": {},
   "outputs": [],
   "source": [
    "import pickle # подключаем модуль pickle"
   ]
  },
  {
   "cell_type": "code",
   "execution_count": 263,
   "metadata": {},
   "outputs": [],
   "source": [
    "# Стандартное расширение дл\n",
    "\n",
    "with open('dat1.pickle', 'wb') as f:\n",
    "    pickle.dump(dat1, f)"
   ]
  },
  {
   "cell_type": "markdown",
   "metadata": {},
   "source": [
    "Pickle хранит данные в бинарном формате:"
   ]
  },
  {
   "cell_type": "code",
   "execution_count": 264,
   "metadata": {},
   "outputs": [
    {
     "name": "stdout",
     "output_type": "stream",
     "text": [
      "Ђ\u0003]q\u0000(X\f",
      "\u0000\u0000\u0000РЎС‚СЂРѕРєР°q\u0001K\f",
      "K\u0003†q\u0002e.\n"
     ]
    }
   ],
   "source": [
    "with open('dat1.pickle') as f:\n",
    "    for l in f:\n",
    "        print(l)"
   ]
  },
  {
   "cell_type": "code",
   "execution_count": 265,
   "metadata": {},
   "outputs": [
    {
     "name": "stdout",
     "output_type": "stream",
     "text": [
      "b'\\x80\\x03]q\\x00(X\\x0c\\x00\\x00\\x00\\xd0\\xa1\\xd1\\x82\\xd1\\x80\\xd0\\xbe\\xd0\\xba\\xd0\\xb0q\\x01K\\x0cK\\x03\\x86q\\x02e.'\n"
     ]
    }
   ],
   "source": [
    "with open('dat1.pickle', 'rb') as f:\n",
    "    for l in f:\n",
    "        print(l)"
   ]
  },
  {
   "cell_type": "markdown",
   "metadata": {},
   "source": [
    "Восстановление объектов (данных) из файла pickle:"
   ]
  },
  {
   "cell_type": "code",
   "execution_count": 266,
   "metadata": {},
   "outputs": [
    {
     "data": {
      "text/plain": [
       "['Строка', (12, 3)]"
      ]
     },
     "execution_count": 266,
     "metadata": {},
     "output_type": "execute_result"
    }
   ],
   "source": [
    "with open('dat1.pickle', 'rb') as f:\n",
    "    dat1_l = pickle.load(f)\n",
    "    \n",
    "dat1_l"
   ]
  },
  {
   "cell_type": "markdown",
   "metadata": {},
   "source": [
    "В один файл можно сохранить сразу несколько объектов, последовательно вызывая функцию `dump()`. "
   ]
  },
  {
   "cell_type": "code",
   "execution_count": 267,
   "metadata": {},
   "outputs": [],
   "source": [
    "dat2 = (6, 7, 8, 9, 10) "
   ]
  },
  {
   "cell_type": "code",
   "execution_count": 268,
   "metadata": {},
   "outputs": [],
   "source": [
    "with open('dat2.pickle', 'wb') as f:\n",
    "    pickle.dump(dat1, f)\n",
    "    pickle.dump(dat2, f)"
   ]
  },
  {
   "cell_type": "code",
   "execution_count": 269,
   "metadata": {},
   "outputs": [
    {
     "data": {
      "text/plain": [
       "(['Строка', (12, 3)], (6, 7, 8, 9, 10))"
      ]
     },
     "execution_count": 269,
     "metadata": {},
     "output_type": "execute_result"
    }
   ],
   "source": [
    "# восстановление данных из файла:\n",
    "\n",
    "with open('dat2.pickle', 'rb') as f:\n",
    "    dat1_l2 = pickle.load(f)\n",
    "    dat2_l2 = pickle.load(f)\n",
    "dat1_l2, dat2_l2"
   ]
  },
  {
   "cell_type": "markdown",
   "metadata": {},
   "source": [
    "Модуль `pickle` позволяет также преобразовать объект в строку байтов и восстановить объект из строки. Для этого предназначены две функции: \n",
    "* `dumps(<Объект> [, <Протокол>] [, fix_imports=True])` - производит сериализацию объекта и возвращает последовательность байтов специального формата. \n",
    "* `lоаds(<Последовательность байтов>[, fix_imports=True] [, errors=\"strict\"])` - преобразует последовательность байтов обратно в объект. "
   ]
  },
  {
   "cell_type": "code",
   "execution_count": 270,
   "metadata": {},
   "outputs": [
    {
     "data": {
      "text/plain": [
       "b'\\x80\\x03]q\\x00(X\\x0c\\x00\\x00\\x00\\xd0\\xa1\\xd1\\x82\\xd1\\x80\\xd0\\xbe\\xd0\\xba\\xd0\\xb0q\\x01K\\x0cK\\x03\\x86q\\x02e.'"
      ]
     },
     "execution_count": 270,
     "metadata": {},
     "output_type": "execute_result"
    }
   ],
   "source": [
    "bs = pickle.dumps(dat1)\n",
    "bs"
   ]
  },
  {
   "cell_type": "code",
   "execution_count": 271,
   "metadata": {},
   "outputs": [
    {
     "data": {
      "text/plain": [
       "bytes"
      ]
     },
     "execution_count": 271,
     "metadata": {},
     "output_type": "execute_result"
    }
   ],
   "source": [
    "type(bs)"
   ]
  },
  {
   "cell_type": "code",
   "execution_count": 272,
   "metadata": {},
   "outputs": [
    {
     "data": {
      "text/plain": [
       "['Строка', (12, 3)]"
      ]
     },
     "execution_count": 272,
     "metadata": {},
     "output_type": "execute_result"
    }
   ],
   "source": [
    "pickle.loads(bs)"
   ]
  },
  {
   "cell_type": "markdown",
   "metadata": {},
   "source": [
    "Модуль shelve позволяет сохранять объекты под определенным ключом (задается в виде строки) и предоставляет интерфейс доступа, сходный со словарями. Для сериализации объекта используются возможности модуля `pickle`, а чтобы записать получивщуюся строку пo ключу в файл, применяется модуль `pickle`. Все эти действия модуль shelve производит незаметно для нас. \n",
    "\n",
    "Чтобы открыть файл с базой объектов, используется функция `open()`. Функция имеет следующий формат: \n",
    "\n",
    "`open (<Путь к файлу> [, flag=\"c\"] [, protoco1=None] [, writeback=Fa1se])` \n",
    "\n",
    "В необязательном параметре flag можно указать один из режимов открытия файла: \n",
    "* r - только чтение; \n",
    "* w - чтение и запись; \n",
    "* с - чтение и запись (значение по умолчанию). Если файл не существует, он будет создан; \n",
    "* n - чтение и запись. Если файл не существует, он будет создан. Если файл существует, он будет перезаписан. \n",
    "\n",
    "Функция `open()` возвращает объект, с помощью которого производится дальнейшая работа с базой данных. Этот объект имеет следующие методы: \n",
    "* `close()` - закрывает файл с базой данных.\n",
    "* `keys()` - возвращает объект с ключами; \n",
    "* `values()` - возвращает объект to значениями; \n",
    "* `items()` - возвращает объект, поддерживающий итерации. На каждой итерации возвращается кортеж, содержащий ключ и значение. \n",
    "\n",
    "* `get(<Ключ> [, <Значение по умолчанию>] )` - если ключ присутствует; то метод возвращает значение, соответствующее этому ключу. Если ключ отсутствует, то возвращается начение None или значение, указанное во втором nараметре; \n",
    "* `setdefault(<Ключ> [, <Значение по умолчанию>] )` ---: если ключ nрисутствует, то метод возвращает значение, соответствующее этому ключу. Если ключ отсутствует, то вставляет новый элемент со значением, указанным во втором параметре, и возвращает это значение. Если второй nараметр не указан, значением нового элемента будет None;  \n",
    "* `рор (<Ключ> [, <Значение по умолчанию>] )` - удаляет элемент с указанным ключом и возвращает его значение. Если ключ отсутствует, то возвращается значение из второго nараметра. Если ключ отсутствует, и второй nараметр не указан, то возбуждается исключение KeyError; \n",
    "* `popitem()` - удаляет произвольный элемент и возвращает кортеж из ключа и значения. Если файл nустой, возбуждается исключение KeyError; \n",
    "* `clear ()` - удаляет все элементы. Метод ничего не возвращает в качестве значения; \n",
    "* `update ()` - добавляет элементы. Метод изменяет текущий объект и ничего не возвращает. Если элемент с указанным ключом уже присутствует, то его значение будет перезаписано.\n",
    "\n",
    "Помимо этих методов можно воспользоваться функцией `len()` для nолучения количества \n",
    "элементов и оnератором `del` для удаления оnределенного элемента, а также оnератором `in` для nроверки существования ключа. "
   ]
  },
  {
   "cell_type": "code",
   "execution_count": 273,
   "metadata": {},
   "outputs": [],
   "source": [
    "import shelve"
   ]
  },
  {
   "cell_type": "code",
   "execution_count": 274,
   "metadata": {},
   "outputs": [],
   "source": [
    "db = shelve.open(\"shl_1\")"
   ]
  },
  {
   "cell_type": "code",
   "execution_count": 275,
   "metadata": {},
   "outputs": [],
   "source": [
    "db[\"obj1\"] = [1, 2, 3, 4, 5] \n",
    "db[\"obj2\"] = (6, 7, 8, 9, 10) "
   ]
  },
  {
   "cell_type": "code",
   "execution_count": 276,
   "metadata": {},
   "outputs": [
    {
     "data": {
      "text/plain": [
       "[1, 2, 3, 4, 5]"
      ]
     },
     "execution_count": 276,
     "metadata": {},
     "output_type": "execute_result"
    }
   ],
   "source": [
    "db[\"obj1\"]"
   ]
  },
  {
   "cell_type": "code",
   "execution_count": 277,
   "metadata": {},
   "outputs": [
    {
     "data": {
      "text/plain": [
       "(6, 7, 8, 9, 10)"
      ]
     },
     "execution_count": 277,
     "metadata": {},
     "output_type": "execute_result"
    }
   ],
   "source": [
    "db[\"obj2\"]"
   ]
  },
  {
   "cell_type": "code",
   "execution_count": 278,
   "metadata": {},
   "outputs": [],
   "source": [
    "db.close()"
   ]
  },
  {
   "cell_type": "code",
   "execution_count": 279,
   "metadata": {},
   "outputs": [],
   "source": [
    "db = shelve.open('shl_1')"
   ]
  },
  {
   "cell_type": "code",
   "execution_count": 280,
   "metadata": {},
   "outputs": [
    {
     "data": {
      "text/plain": [
       "KeysView(<shelve.DbfilenameShelf object at 0x000002C15AB4A548>)"
      ]
     },
     "execution_count": 280,
     "metadata": {},
     "output_type": "execute_result"
    }
   ],
   "source": [
    "db.keys()"
   ]
  },
  {
   "cell_type": "code",
   "execution_count": 281,
   "metadata": {},
   "outputs": [
    {
     "data": {
      "text/plain": [
       "['obj1', 'obj2']"
      ]
     },
     "execution_count": 281,
     "metadata": {},
     "output_type": "execute_result"
    }
   ],
   "source": [
    "list(db.keys())"
   ]
  },
  {
   "cell_type": "code",
   "execution_count": 282,
   "metadata": {},
   "outputs": [
    {
     "data": {
      "text/plain": [
       "[[1, 2, 3, 4, 5], (6, 7, 8, 9, 10)]"
      ]
     },
     "execution_count": 282,
     "metadata": {},
     "output_type": "execute_result"
    }
   ],
   "source": [
    "list(db.values())"
   ]
  },
  {
   "cell_type": "code",
   "execution_count": 283,
   "metadata": {},
   "outputs": [
    {
     "name": "stdout",
     "output_type": "stream",
     "text": [
      "key: obj1, value: [1, 2, 3, 4, 5]\n",
      "key: obj2, value: (6, 7, 8, 9, 10)\n"
     ]
    }
   ],
   "source": [
    "for k, v in db.items():\n",
    "    print('key: {}, value: {}'.format(k, v))"
   ]
  },
  {
   "cell_type": "markdown",
   "metadata": {},
   "source": [
    "Восстанавливаем объекты из файла:"
   ]
  },
  {
   "cell_type": "code",
   "execution_count": 284,
   "metadata": {},
   "outputs": [],
   "source": [
    "db = shelve.open('shl_1')"
   ]
  },
  {
   "cell_type": "code",
   "execution_count": 285,
   "metadata": {},
   "outputs": [
    {
     "data": {
      "text/plain": [
       "KeysView(<shelve.DbfilenameShelf object at 0x000002C15AB2BB08>)"
      ]
     },
     "execution_count": 285,
     "metadata": {},
     "output_type": "execute_result"
    }
   ],
   "source": [
    "db.keys()"
   ]
  },
  {
   "cell_type": "code",
   "execution_count": 286,
   "metadata": {},
   "outputs": [
    {
     "data": {
      "text/plain": [
       "['obj1', 'obj2']"
      ]
     },
     "execution_count": 286,
     "metadata": {},
     "output_type": "execute_result"
    }
   ],
   "source": [
    "list(db.keys())"
   ]
  },
  {
   "cell_type": "code",
   "execution_count": 287,
   "metadata": {},
   "outputs": [
    {
     "data": {
      "text/plain": [
       "[[1, 2, 3, 4, 5], (6, 7, 8, 9, 10)]"
      ]
     },
     "execution_count": 287,
     "metadata": {},
     "output_type": "execute_result"
    }
   ],
   "source": [
    "list(db.values())"
   ]
  },
  {
   "cell_type": "code",
   "execution_count": 288,
   "metadata": {
    "scrolled": true
   },
   "outputs": [
    {
     "name": "stdout",
     "output_type": "stream",
     "text": [
      "key: obj1, value: [1, 2, 3, 4, 5]\n",
      "key: obj2, value: (6, 7, 8, 9, 10)\n"
     ]
    }
   ],
   "source": [
    "for k, v in db.items():\n",
    "    print('key: {}, value: {}'.format(k, v))"
   ]
  },
  {
   "cell_type": "markdown",
   "metadata": {},
   "source": [
    "## Формат JSON <a class=\"anchor\" id=\"json\"></a>\n",
    "* [к оглавлению](#разделы)\n"
   ]
  },
  {
   "cell_type": "markdown",
   "metadata": {},
   "source": [
    "* __JSON__ (JavaScript Object Notation) - текстовый формат обмена данными, основанный на JavaScript. \n",
    "\n",
    "Причины популярности JSON:\n",
    "* JSON __легко понимать__ (легко читается людьми, простой и понятный синтаксис).\n",
    "* JSON'ом __легко манипулировать__ (програмно и вручную).\n",
    "* JSON __легко генерировать__.\n",
    "* Несмотря на происхождение от JavaScript, формат __считается независимым от языка программирования__ и может использоваться практически с любым языком программирования.\n",
    "* Поскольку формат JSON является подмножеством синтаксиса языка JavaScript, то позволяет быстро сериализовать/десериалзовать данные между сервером и браузером из-за чего __получил очень ширкое распространение в веб-разработке__.\n",
    "* За счёт своей лаконичности по сравнению с XML формат JSON __может быть более подходящим для сериализации сложных структур данных__. \n",
    "\n",
    "\n",
    "Чем JSON не является:\n",
    "* форматом «документов»\n",
    "* языком размеки\n",
    "* языком программирования\n",
    "\n",
    "\n",
    "Минусы JSON:\n",
    "* <em class=\"mn\"></em> нет конструкций для комментирования данных\n",
    "* <em class=\"mn\"></em> нет пространства имен\n",
    "* <em class=\"mn\"></em> нет валидации\n",
    "* <em class=\"mn\"></em> не расширяемый"
   ]
  },
  {
   "cell_type": "markdown",
   "metadata": {},
   "source": [
    "__Синтаксис JSON__\n",
    "\n",
    "* Массив: `[значение1, значение2, значениеN]`\n",
    "* Объект (можно интерпретировать как словарь в Python): `{\"имя1\":значение1, \"имя2\":значение2, \"имяN\":значениеN}`, имена (ключи) здесь должны быть строками.\n",
    "    * Пример: `{\"имя1\":\"строка\", \"имя2\":13, \"имя3\":true, \"имя4\":false, \"имя5\":null}`\n",
    "* Сложный объект: \n",
    "`{\"имя1\":значение1, \n",
    "\"имя2\": {\"имя2_1\":значение2_1, \"имя2_2\":значение2_2} }`\n",
    "\n",
    "Объекты и массивы в JSON являются конструкциями, а литералы непосредственно данными, которые группируются этими конструкциями. \n",
    "\n",
    "Список литералов JSON: \n",
    "* cтрока (заключается только в двойные кавычки: `\"example\"`)\n",
    "* число (целые и числа с плавающей точкой)\n",
    "* логическое значение (`true`, `false`)\n",
    "* значение `null`"
   ]
  },
  {
   "cell_type": "markdown",
   "metadata": {},
   "source": [
    "__Создание JSON объектов:__"
   ]
  },
  {
   "cell_type": "markdown",
   "metadata": {},
   "source": [
    "Импорт библиотек:"
   ]
  },
  {
   "cell_type": "code",
   "execution_count": 289,
   "metadata": {},
   "outputs": [],
   "source": [
    "import json # библиотека для работы с JSON\n",
    "# import pandas as pd\n",
    "import requests # библиотека для выполнения HTTP запросов"
   ]
  },
  {
   "cell_type": "code",
   "execution_count": 249,
   "metadata": {},
   "outputs": [],
   "source": [
    "my_ab = [] # создаем адресную книгу"
   ]
  },
  {
   "cell_type": "code",
   "execution_count": 290,
   "metadata": {},
   "outputs": [],
   "source": [
    "addr1 = {}\n",
    "addr1['name'] = 'Faina Lee'\n",
    "addr1['email'] = 'faina@mail.ru'\n",
    "addr1['birthday'] = '22.08.1994'\n",
    "addr1['phones'] = [{'phone': '232-19-55'},\n",
    "                  {'phone': '+7 (916) 232-19-55'}]\n",
    "\n",
    "my_ab.append(addr1)"
   ]
  },
  {
   "cell_type": "code",
   "execution_count": 291,
   "metadata": {},
   "outputs": [],
   "source": [
    "addr2 = {}\n",
    "addr2['name'] = 'Robert Lee'\n",
    "addr2['email'] = 'robert@mail.ru'\n",
    "addr2['birthday'] = '22.08.1994'\n",
    "addr2['phones'] = [{'phone': '111-19-55'},\n",
    "                  {'phone': '+7 (916) 445-19-55'}]\n",
    "my_ab.append(addr2)"
   ]
  },
  {
   "cell_type": "code",
   "execution_count": 292,
   "metadata": {},
   "outputs": [
    {
     "data": {
      "text/plain": [
       "[{'name': 'Faina Lee',\n",
       "  'email': 'faina@mail.ru',\n",
       "  'birthday': '22.08.1994',\n",
       "  'phones': [{'phone': '232-19-55'}, {'phone': '+7 (916) 232-19-55'}]},\n",
       " {'name': 'Robert Lee',\n",
       "  'email': 'robert@mail.ru',\n",
       "  'birthday': '22.08.1994',\n",
       "  'phones': [{'phone': '111-19-55'}, {'phone': '+7 (916) 445-19-55'}]},\n",
       " {'name': 'Faina Lee',\n",
       "  'email': 'faina@mail.ru',\n",
       "  'birthday': '22.08.1994',\n",
       "  'phones': [{'phone': '232-19-55'}, {'phone': '+7 (916) 232-19-55'}]},\n",
       " {'name': 'Robert Lee',\n",
       "  'email': 'robert@mail.ru',\n",
       "  'birthday': '22.08.1994',\n",
       "  'phones': [{'phone': '111-19-55'}, {'phone': '+7 (916) 445-19-55'}]}]"
      ]
     },
     "execution_count": 292,
     "metadata": {},
     "output_type": "execute_result"
    }
   ],
   "source": [
    "my_ab"
   ]
  },
  {
   "cell_type": "code",
   "execution_count": 293,
   "metadata": {},
   "outputs": [],
   "source": [
    "my_ab2 = [{\n",
    "        'birthday': '22.08.1994',\n",
    "        'email': 'faina@mail.ru',\n",
    "        'id': 3,\n",
    "        'name': 'Faina Lee',\n",
    "        'phones': [{'phone': '232-19-55', 'phone_type': 'work'},\n",
    "                   {'phone': '+7 (916) 199-93-79', 'phone_type': 'cell'},\n",
    "                   {'phone': '+7 (912) 172-33-27', 'phone_type': 'home'}]\n",
    "    },{\n",
    "        'birthday': '02.11.1991',\n",
    "        'email': 'robert@yandex.ru',\n",
    "        'id': 4,\n",
    "        'name': 'Robert Lee',\n",
    "        'phones': [{'phone': '+7 (912) 672-13-71', 'phone_type': 'home'}]\n",
    "    }]"
   ]
  },
  {
   "cell_type": "code",
   "execution_count": 294,
   "metadata": {},
   "outputs": [
    {
     "data": {
      "text/plain": [
       "[{'birthday': '22.08.1994',\n",
       "  'email': 'faina@mail.ru',\n",
       "  'id': 3,\n",
       "  'name': 'Faina Lee',\n",
       "  'phones': [{'phone': '232-19-55', 'phone_type': 'work'},\n",
       "   {'phone': '+7 (916) 199-93-79', 'phone_type': 'cell'},\n",
       "   {'phone': '+7 (912) 172-33-27', 'phone_type': 'home'}]},\n",
       " {'birthday': '02.11.1991',\n",
       "  'email': 'robert@yandex.ru',\n",
       "  'id': 4,\n",
       "  'name': 'Robert Lee',\n",
       "  'phones': [{'phone': '+7 (912) 672-13-71', 'phone_type': 'home'}]}]"
      ]
     },
     "execution_count": 294,
     "metadata": {},
     "output_type": "execute_result"
    }
   ],
   "source": [
    "my_ab2"
   ]
  },
  {
   "cell_type": "code",
   "execution_count": 295,
   "metadata": {},
   "outputs": [],
   "source": [
    "with open('addres-book.json', mode='w', encoding='utf-8') as f: # открываем файл на запись\n",
    "    json.dump(my_ab, f, indent=2)"
   ]
  },
  {
   "cell_type": "markdown",
   "metadata": {},
   "source": [
    "Как выглядит файл:"
   ]
  },
  {
   "cell_type": "code",
   "execution_count": 296,
   "metadata": {},
   "outputs": [
    {
     "name": "stdout",
     "output_type": "stream",
     "text": [
      "[\n",
      "  {\n",
      "    \"name\": \"Faina Lee\",\n",
      "    \"email\": \"faina@mail.ru\",\n",
      "    \"birthday\": \"22.08.1994\",\n",
      "    \"phones\": [\n",
      "      {\n",
      "        \"phone\": \"232-19-55\"\n",
      "      },\n",
      "      {\n",
      "        \"phone\": \"+7 (916) 232-19-55\"\n",
      "      }\n",
      "    ]\n",
      "  },\n",
      "  {\n",
      "    \"name\": \"Robert Lee\",\n",
      "    \"email\": \"robert@mail.ru\",\n",
      "    \"birthday\": \"22.08.1994\",\n",
      "    \"phones\": [\n",
      "      {\n",
      "        \"phone\": \"111-19-55\"\n",
      "      },\n",
      "      {\n",
      "        \"phone\": \"+7 (916) 445-19-55\"\n",
      "      }\n",
      "    ]\n",
      "  },\n",
      "  {\n",
      "    \"name\": \"Faina Lee\",\n",
      "    \"email\": \"faina@mail.ru\",\n",
      "    \"birthday\": \"22.08.1994\",\n",
      "    \"phones\": [\n",
      "      {\n",
      "        \"phone\": \"232-19-55\"\n",
      "      },\n",
      "      {\n",
      "        \"phone\": \"+7 (916) 232-19-55\"\n",
      "      }\n",
      "    ]\n",
      "  },\n",
      "  {\n",
      "    \"name\": \"Robert Lee\",\n",
      "    \"email\": \"robert@mail.ru\",\n",
      "    \"birthday\": \"22.08.1994\",\n",
      "    \"phones\": [\n",
      "      {\n",
      "        \"phone\": \"111-19-55\"\n",
      "      },\n",
      "      {\n",
      "        \"phone\": \"+7 (916) 445-19-55\"\n",
      "      }\n",
      "    ]\n",
      "  }\n",
      "]"
     ]
    }
   ],
   "source": [
    "with open('addres-book.json', 'r', encoding='utf-8') as f:\n",
    "    for l in f:\n",
    "        print(l, end=\"\")"
   ]
  },
  {
   "cell_type": "code",
   "execution_count": 297,
   "metadata": {},
   "outputs": [],
   "source": [
    "with open('addres-book.json', 'r', encoding='utf-8') as f: # открываем файл на чтение\n",
    "    ab_fjs = json.load(f)"
   ]
  },
  {
   "cell_type": "code",
   "execution_count": 298,
   "metadata": {},
   "outputs": [
    {
     "data": {
      "text/plain": [
       "[{'name': 'Faina Lee',\n",
       "  'email': 'faina@mail.ru',\n",
       "  'birthday': '22.08.1994',\n",
       "  'phones': [{'phone': '232-19-55'}, {'phone': '+7 (916) 232-19-55'}]},\n",
       " {'name': 'Robert Lee',\n",
       "  'email': 'robert@mail.ru',\n",
       "  'birthday': '22.08.1994',\n",
       "  'phones': [{'phone': '111-19-55'}, {'phone': '+7 (916) 445-19-55'}]},\n",
       " {'name': 'Faina Lee',\n",
       "  'email': 'faina@mail.ru',\n",
       "  'birthday': '22.08.1994',\n",
       "  'phones': [{'phone': '232-19-55'}, {'phone': '+7 (916) 232-19-55'}]},\n",
       " {'name': 'Robert Lee',\n",
       "  'email': 'robert@mail.ru',\n",
       "  'birthday': '22.08.1994',\n",
       "  'phones': [{'phone': '111-19-55'}, {'phone': '+7 (916) 445-19-55'}]}]"
      ]
     },
     "execution_count": 298,
     "metadata": {},
     "output_type": "execute_result"
    }
   ],
   "source": [
    "ab_fjs"
   ]
  },
  {
   "cell_type": "code",
   "execution_count": 299,
   "metadata": {},
   "outputs": [
    {
     "data": {
      "text/plain": [
       "'Faina Lee'"
      ]
     },
     "execution_count": 299,
     "metadata": {},
     "output_type": "execute_result"
    }
   ],
   "source": [
    "ab_fjs[0]['name']"
   ]
  },
  {
   "cell_type": "code",
   "execution_count": 300,
   "metadata": {},
   "outputs": [
    {
     "data": {
      "text/plain": [
       "'Robert Lee'"
      ]
     },
     "execution_count": 300,
     "metadata": {},
     "output_type": "execute_result"
    }
   ],
   "source": [
    "ab_fjs[1]['name']"
   ]
  },
  {
   "cell_type": "markdown",
   "metadata": {},
   "source": [
    "###  Получение данных в формате JSON из публичных REST API\n",
    "\n",
    "<center>         \n",
    "    <img src=\"./img/rest_api_service_1.png\" alt=\"Работа REST API\" style=\"width: 700px;\"/>\n",
    "    <b>Работа REST API</b>\n",
    "</center>\n",
    "\n",
    "__REST__ (от англ. Representational State Transfer — «передача состояния представления») — архитектурный стиль взаимодействия компонентов распределённого приложения в сети. \n",
    "\n",
    "__REST__ – это архитектурный стиль, а __RESTful API__ – это его практическое воплощение.\n",
    "\n",
    "RESTful API сводится к четырем базовым операциям:\n",
    "* получение данных в удобном для клиента формате\n",
    "* создание новых данных\n",
    "* обновление данных\n",
    "* удаление данных\n",
    "\n",
    "REST функционирует поверх протокола HTTP, поэтому стоит упомянуть о его основных особенностях. Для каждой операции указанной выше используется свой собственный HTTP метод:\n",
    "* __GET__ – получение\n",
    "* __POST__ – создание\n",
    "* __PUT__ – обновление, модификация\n",
    "* __DELETE__ – удаление\n",
    "\n",
    "<center>         \n",
    "    <img src=\"./img/request_methods_3.png\" alt=\"Споставление методов HTTP запросам SQL и CRUD нотации/\" style=\"width: 700px;\"/>\n",
    "    <b>Споставление методов HTTP запросам SQL и CRUD нотации</b>\n",
    "</center>"
   ]
  },
  {
   "cell_type": "markdown",
   "metadata": {},
   "source": [
    "Публичное API для работы с почтовыми индексами: http://api.zippopotam.us"
   ]
  },
  {
   "cell_type": "code",
   "execution_count": 301,
   "metadata": {},
   "outputs": [],
   "source": [
    "ZIPPOPOTAM = 'http://api.zippopotam.us'\n",
    "COUNTRY = 'RU'\n",
    "zip_1 = '125009'\n",
    "zip_2 = '129337'"
   ]
  },
  {
   "cell_type": "code",
   "execution_count": 302,
   "metadata": {},
   "outputs": [
    {
     "data": {
      "text/plain": [
       "'http://api.zippopotam.us/RU/125009'"
      ]
     },
     "execution_count": 302,
     "metadata": {},
     "output_type": "execute_result"
    }
   ],
   "source": [
    "'/'.join((ZIPPOPOTAM, COUNTRY, zip_1))"
   ]
  },
  {
   "cell_type": "code",
   "execution_count": 303,
   "metadata": {},
   "outputs": [],
   "source": [
    "def url_rus_zip(zip_code):\n",
    "    return '/'.join((ZIPPOPOTAM, COUNTRY, zip_code))"
   ]
  },
  {
   "cell_type": "code",
   "execution_count": 304,
   "metadata": {},
   "outputs": [
    {
     "data": {
      "text/plain": [
       "'http://api.zippopotam.us/RU/125009'"
      ]
     },
     "execution_count": 304,
     "metadata": {},
     "output_type": "execute_result"
    }
   ],
   "source": [
    "url_rus_zip(zip_1)"
   ]
  },
  {
   "cell_type": "markdown",
   "metadata": {},
   "source": [
    "Краткая документация по библиотеке requests: http://docs.python-requests.org/en/master/user/quickstart/"
   ]
  },
  {
   "cell_type": "code",
   "execution_count": 305,
   "metadata": {},
   "outputs": [
    {
     "data": {
      "text/plain": [
       "<Response [200]>"
      ]
     },
     "execution_count": 305,
     "metadata": {},
     "output_type": "execute_result"
    }
   ],
   "source": [
    "# responce for HTTP GET request from http://api.zippopotam.us \n",
    "r = requests.get(url_rus_zip(zip_2))\n",
    "r"
   ]
  },
  {
   "cell_type": "code",
   "execution_count": 306,
   "metadata": {},
   "outputs": [
    {
     "data": {
      "text/plain": [
       "b'{\"post code\": \"129337\", \"country\": \"Russia\", \"country abbreviation\": \"RU\", \"places\": [{\"place name\": \"\\\\u041c\\\\u043e\\\\u0441\\\\u043a\\\\u0432\\\\u0430 337\", \"longitude\": \"45.6667\", \"state\": \"\\\\u041c\\\\u043e\\\\u0441\\\\u043a\\\\u0432\\\\u0430\", \"state abbreviation\": \"\", \"latitude\": \"60.15\"}]}'"
      ]
     },
     "execution_count": 306,
     "metadata": {},
     "output_type": "execute_result"
    }
   ],
   "source": [
    "r.content"
   ]
  },
  {
   "cell_type": "code",
   "execution_count": 307,
   "metadata": {},
   "outputs": [],
   "source": [
    "# Convert response into a python object\n",
    "data = r.json()"
   ]
  },
  {
   "cell_type": "code",
   "execution_count": 308,
   "metadata": {},
   "outputs": [
    {
     "data": {
      "text/plain": [
       "{'post code': '129337',\n",
       " 'country': 'Russia',\n",
       " 'country abbreviation': 'RU',\n",
       " 'places': [{'place name': 'Москва 337',\n",
       "   'longitude': '45.6667',\n",
       "   'state': 'Москва',\n",
       "   'state abbreviation': '',\n",
       "   'latitude': '60.15'}]}"
      ]
     },
     "execution_count": 308,
     "metadata": {},
     "output_type": "execute_result"
    }
   ],
   "source": [
    "# View the data\n",
    "data"
   ]
  },
  {
   "cell_type": "markdown",
   "metadata": {},
   "source": [
    "Разбор данных"
   ]
  },
  {
   "cell_type": "code",
   "execution_count": 309,
   "metadata": {},
   "outputs": [
    {
     "data": {
      "text/plain": [
       "[{'place name': 'Москва 337',\n",
       "  'longitude': '45.6667',\n",
       "  'state': 'Москва',\n",
       "  'state abbreviation': '',\n",
       "  'latitude': '60.15'}]"
      ]
     },
     "execution_count": 309,
     "metadata": {},
     "output_type": "execute_result"
    }
   ],
   "source": [
    "# One level deep\n",
    "data['places']"
   ]
  },
  {
   "cell_type": "code",
   "execution_count": 310,
   "metadata": {},
   "outputs": [
    {
     "data": {
      "text/plain": [
       "{'place name': 'Москва 337',\n",
       " 'longitude': '45.6667',\n",
       " 'state': 'Москва',\n",
       " 'state abbreviation': '',\n",
       " 'latitude': '60.15'}"
      ]
     },
     "execution_count": 310,
     "metadata": {},
     "output_type": "execute_result"
    }
   ],
   "source": [
    "# One level deep, second element\n",
    "data['places'][0]"
   ]
  },
  {
   "cell_type": "code",
   "execution_count": 311,
   "metadata": {},
   "outputs": [
    {
     "data": {
      "text/plain": [
       "'45.6667'"
      ]
     },
     "execution_count": 311,
     "metadata": {},
     "output_type": "execute_result"
    }
   ],
   "source": [
    "# One level down, then second item, then it's longitude object\n",
    "data['places'][0]['longitude']"
   ]
  },
  {
   "cell_type": "markdown",
   "metadata": {},
   "source": [
    "Цикл для вывода координат (широты и долготы) всех мест:"
   ]
  },
  {
   "cell_type": "code",
   "execution_count": 312,
   "metadata": {},
   "outputs": [],
   "source": [
    "def extract_latlong(json):\n",
    "    # For each element, i, in data.places,\n",
    "    for i in data['places']:\n",
    "        # print the latitude element and the longitude element\n",
    "        print(i['latitude'], i['longitude'])"
   ]
  },
  {
   "cell_type": "code",
   "execution_count": 313,
   "metadata": {
    "scrolled": true
   },
   "outputs": [
    {
     "name": "stdout",
     "output_type": "stream",
     "text": [
      "60.15 45.6667\n"
     ]
    }
   ],
   "source": [
    "# Run the function\n",
    "extract_latlong(data)"
   ]
  },
  {
   "cell_type": "markdown",
   "metadata": {},
   "source": [
    "## XML <a class=\"anchor\" id=\"xml_\"></a>\n",
    "* [к оглавлению](#разделы)"
   ]
  },
  {
   "cell_type": "markdown",
   "metadata": {},
   "source": [
    "### Формат XML <a class=\"anchor\" id=\"xml\"></a>\n",
    "* [к оглавлению](#разделы)"
   ]
  },
  {
   "cell_type": "markdown",
   "metadata": {},
   "source": [
    "<em class=\"df\"></em> __XML__ (англ. eXtensible Markup Language) — расширяемый язык разметки.\n",
    "\n",
    "\n",
    "Цели создания:\n",
    "* Эффективное описание (структурирование) данных.\n",
    "* Обмен данными между информационными системами (в первую очередь – через интернет).\n",
    "\n",
    "Основные особенности:\n",
    "* Простой синтаксис.\n",
    "* Удобство создания и обработки документов программами.\n",
    "* Удобство чтения и создания документов человеком (профессиональными пользователями).\n",
    "* Удобство обмена документами в интернете.\n",
    "* Гибкость применения и расширяемость - возможнсть создавать собственные расширения XML.\n",
    "* Очень широкая распространенность и доступность инструментов.\n",
    "\n",
    "* __Расширение XML__ — это конкретная грамматика, созданная на базе XML и представленная словарём тегов и их атрибутов, а также набором правил, определяющих какие атрибуты и элементы могут входить в состав других элементов.\n",
    "\n",
    "<center>         \n",
    "    <img src=\"./img/XML_hist.png\" alt=\" язСемействоыков SGML\" style=\"width: 300px;\"/>\n",
    "    <b>Семейство языков SGML</b>\n",
    "</center>\n",
    "\n",
    "История вопроса:\n",
    "1. 1969 году в IBM разработан язык __GML__ (Generalized Markup Language).\n",
    "2. В 80-е на основе GML разрабатывается язык __SGML__ (Standard Generalized Markup Language) — стандартный обобщённый язык разметки, метаязык, на котором можно определять язык разметки для документов. HTML и XML произошли от SGML. \n",
    "3. __HTML__ — (HyperText Markup Language — «язык гипертекстовой разметки») это стандартный язык разметки документов в WWW. Большинство веб-страниц содержат описание разметки на языке HTML. HTML это приложение SGML (создан в 1991 г.) \n",
    "4. __XML__ (англ. eXtensible Markup Language) подмножество SGML, разработанное для упрощения процесса машинного разбора документа.создан в 1997 г.\n",
    "5. __XHTML__ — расширяемый язык гипертекстовой разметки. XHTML, это семейство языков разметки веб-страниц на основе XML,"
   ]
  },
  {
   "cell_type": "markdown",
   "metadata": {},
   "source": [
    "Сравнение XML и HTML:\n",
    "\n",
    "<table border=\"1\" class=\"docutils\">\n",
    "    <colgroup>\n",
    "        <col width=\"30%\">\n",
    "        <col width=\"30%\">\n",
    "    </colgroup>\n",
    "    <thead valign=\"bottom\">\n",
    "        <tr class=\"row-odd\">\n",
    "            <th class=\"head\">XML</th>\n",
    "            <th class=\"head\">HTML</th>\n",
    "        </tr>\n",
    "    </thead>\n",
    "    <tbody valign=\"top\">\n",
    "        <tr class=\"row-even\">\n",
    "            <td>Фиксированное множество тегов.</td>\n",
    "            <td>Расширяемое множество тегов.</td>\n",
    "        </tr>\n",
    "        <tr class=\"row-odd\">\n",
    "            <td>Формат ориентирован на описание представления (внешнего вида) документа.</td>\n",
    "            <td>Формат ориентирован на содержимое документа.</td>\n",
    "        </tr>\n",
    "        <tr class=\"row-even\">\n",
    "            <td>Единственное представление данных.</td>\n",
    "            <td>Доступно множество форм представления документа.</td>\n",
    "        </tr>\n",
    "        <tr class=\"row-odd\">\n",
    "            <td>Нет возможностей валидации данных.</td>\n",
    "            <td>Есть возможность валидации данных. Высокие требования к корректности разметки данных.</td>\n",
    "        </tr>  \n",
    "    </tbody>\n",
    "</table>"
   ]
  },
  {
   "cell_type": "markdown",
   "metadata": {},
   "source": [
    "Пример XML:\n",
    "\n",
    "```XML \n",
    "<?xml version=“1.0” encoding =“UTF-8” ?>\n",
    "<address-book>\n",
    "<address id=“1”>\n",
    "\t<name>Bruce Lee</name>\n",
    "\t<email>bruce@gmail.com</email>\n",
    "\t<phones>\n",
    "\t\t<phone type=“work”>232-17-45</phone>\n",
    "\t\t<phone type=“home” code=“true”>(912) 212-34-12</phone>\n",
    "\t</phones>\t\n",
    "\t<birthday>11.07.1984</birthday>\n",
    "</address>\n",
    "<!- This is comment in XML ->\n",
    "<address id=“2”>\n",
    "\t<name>Alice Lee</name>\n",
    "\t<email>alee@yandex.ru</email>\n",
    "\t<work>John son</work>\n",
    "\t<phones/>\n",
    "\t<birthday>22.03.1985</birthday>\n",
    "</address>\n",
    "</address-book>```"
   ]
  },
  {
   "cell_type": "markdown",
   "metadata": {},
   "source": [
    "__Элементы и теги__\n",
    "\n",
    "<center>         \n",
    "    <img src=\"./img/xml_examples_p1.png\" alt=\"XML: элементы и теги\" style=\"width: 500px;\"/>\n",
    "    <b>XML: элементы и теги</b>\n",
    "</center>\n",
    "\n",
    "* __Теги используются парами__: открывающий тег (например: `<tag-name />`) – закрывающий тег (например: `</tag-name>`). \n",
    "* __Элемент не имеющий содержимого__ может описываться одним тегом вида: `<tag-name />`\n",
    "* Для элементов должна выполнятся __вложенность__.\n",
    "* У документа должен быть __единственный корневой элемент__.\n",
    "* Имена тегов __чувствительны к регистру__."
   ]
  },
  {
   "cell_type": "markdown",
   "metadata": {},
   "source": [
    "__Атрибуты__\n",
    "\n",
    "<center>         \n",
    "    <img src=\"./img/xml_examples_p2.png\" alt=\"XML: атрибуты\" style=\"width: 500px;\"/>\n",
    "    <b>XML: атрибуты</b>\n",
    "</center>\n",
    "\n",
    "* В элементе может быть только один атрибут с данным именем.\n",
    "* Атрибуты __не имеют структуры__ (только строка с содержимым).\n",
    "* Значение атрибута должно заключаться в кавычки.\n",
    "* Правило использования: __содержимое в элементах, метаданные – в атрибутах__."
   ]
  },
  {
   "cell_type": "markdown",
   "metadata": {},
   "source": [
    "__Специальные символы__\n",
    "\n",
    "<center>         \n",
    "    <img src=\"./img/xml_examples_p3.png\" alt=\" язСемействоыков SGML\" style=\"width: 500px;\"/>\n",
    "    <b>XML: специальные символы</b>\n",
    "</center>\n",
    "\n",
    "\n",
    "* Некоторые специальные символы должны быть заэкранированы (escaped) при помощи сущностей (entities):\n",
    "    * `<`  →  `&lt;`\n",
    "    * `&`  →  `&amp;`\n",
    "    * `>`  →  `&gt;`\n",
    "    * `“`  →  `&quot;`\n",
    "    * `‘`  →  `&apos;`\n",
    "* Тэги не могут содержать `<` или `&`"
   ]
  },
  {
   "cell_type": "markdown",
   "metadata": {},
   "source": [
    "__Корректность и действительность XML__\n",
    "\n",
    "Корректный XML документ\n",
    "* <em class=\"df\"></em> __Корректный (well-formed) XML документ__ соответствует всем общим правилам синтаксиса XML применимым к любому XML-документу. В частности:\n",
    "    * правильная структура документа\n",
    "    * совпадение имен в начальном и конечном теге элемента и т. п. \n",
    "* Документ, который неправильно построен (т.е. не является корректным XML документом), не может считаться документом XML.\n",
    "\n",
    "\n",
    "* <em class=\"df\"></em> Документ является __действительным XML документом__ (valid), если с ним связано объявление типа документа и документ отвечает ограничениям, представленным в объявлении типа.  \n",
    "* Cпособами объявления типа являются:\n",
    "    * Document type definition (DTD) - самый ранний способ определения типа. \n",
    "    * XML Schema definition (XSD) - более современный вариант. \n",
    "    * RELAX NG (Regular Language for XML Next Generation) \n",
    "    * DSDL (Document Schema Definition Languages)\n",
    "    \n",
    "* __XML процессоры (parsers)__ могут проверять или не проверять дйствительность XML документа. Проверяющие процессоры проверяют действительность документа и должны сообщать (по выбору пользователя) о нарушении ограничений, сформулированных в объявлении типа документа.\n",
    "\n",
    "* Для большого количества прикладных областей созданы общедоступные объявления типов XML документов, что упрощает процедуру обмена данными между информационными системами."
   ]
  },
  {
   "cell_type": "markdown",
   "metadata": {},
   "source": [
    "__Примеры объявления схемы XML документов__\n",
    "\n",
    "* Пример XML со ссылкой на DTD:\n",
    "```XML \n",
    "<?xml version=\"1.0\"?>\n",
    "<!DOCTYPE note SYSTEM \"http://www.w3schools.com/xml/note.dtd\">\n",
    "<note>\n",
    "    <to>Tove</to>\n",
    "    <from>Jani</from>\n",
    "    <heading>Reminder</heading>\n",
    "    <body>Don't forget me this weekend!</body>\n",
    "</note>```\n",
    "         \n",
    "* Пример XML со ссылкой на XML Schema (схема хранится в файле `note.xsd`):\n",
    "```XML\n",
    "<?xml version=\"1.0\"?>\n",
    "<note xmlns=\"http://www.w3schools.com\" xmlns:xsi=\"http://www.w3.org/2001/XMLSchema-instance\" xsi:schemaLocation=\"http://www.w3schools.com note.xsd\">\n",
    "    <to>Tove</to>\n",
    "    <from>Jani</from>\n",
    "    <heading>Reminder</heading>\n",
    "    <body>Don't forget me this weekend!</body>\n",
    "</note>```\n",
    "\n",
    "* XML Schema:\n",
    "    * Используется для тех же целей, что и схема БД. \n",
    "    * Имеет набор предопределенных простых типов (строки, целые числа и т.п.)\n",
    "    * Позволяет определять собственные сложные типы\n",
    "    * Спецификация XML Schema является рекомендацией W3C.\n",
    "* Пример XML Schema (схема хранится в файле `note.xsd`):\n",
    "\n",
    "```XML\n",
    "<?xml version=\"1.0\"?>\n",
    "<xs:schema xmlns:xs=\"http://www.w3.org/2001/XMLSchema\" targetNamespace=\"http://www.w3schools.com\" xmlns=\"http://www.w3schools.com\" elementFormDefault=\"qualified\">\n",
    "    <xs:element name=\"note\">\n",
    "        <xs:complexType>\n",
    "            <xs:sequence>\n",
    "                <xs:element name=\"to\" type=\"xs:string\"/>\n",
    "                <xs:element name=\"from\" type=\"xs:string\"/>\n",
    "                <xs:element name=\"heading\" type=\"xs:string\"/>\n",
    "                <xs:element name=\"body\" type=\"xs:string\"/>\n",
    "            </xs:sequence>\n",
    "        </xs:complexType>\n",
    "    </xs:element>\n",
    "</xs:schema> \n",
    "```\n"
   ]
  },
  {
   "cell_type": "markdown",
   "metadata": {},
   "source": [
    "__Использование различных типов документов XML__\n",
    "\n",
    "* Для большого количества прикладных областей созданы общедоступные объявления типов XML документов, что упрощает процедуру обмена данными между информационными системами.\n",
    "\n",
    "\n",
    "Примеры широко известных типов документов XML :\n",
    "* XHTML — версия HTML, отвечающая синтаксическим требованиям XML. \n",
    "* OpenDocument Format, Office Open XML — форматы файлов для офисных документов (Open Office и MS Office).\n",
    "* FB2 — формат описания книг, базирующийся на XML. \n",
    "* XBRL (eXtensible Business Reporting Language) — расширяемый язык деловой отчётности: широко используемый в мире открытый стандарт обмена деловой информацией. XBRL позволяет выражать с помощью семантических средств общие для участников рынка и регулирующих органов требования к представлению бизнес-отчётности.\n",
    "* RSS (Rich Site Summary) — семейство XML-форматов, предназначенных для описания лент новостей, анонсов статей, изменений в блогах и т. п. Информация из различных источников, представленная в формате RSS, может быть собрана, обработана и представлена пользователю в удобном для него виде специальными программами-агрегаторами или онлайн-сервисами\n",
    "\n",
    "\n",
    "Существует огромное количество форматов документов для различных предметных областей. Списки только некоторых типов документов XML:\n",
    "* https://en.wikipedia.org/wiki/List_of_XML_markup_languages\n",
    "* https://en.wikipedia.org/wiki/List_of_types_of_XML_schemas#Math_and_science"
   ]
  },
  {
   "cell_type": "markdown",
   "metadata": {},
   "source": [
    "__JSON vs XML__\n",
    "\n",
    "<center>         \n",
    "    <img src=\"./img/XML_vs_JSON.png\" alt=\"JSON vs XML\" style=\"width: 600px;\"/>\n",
    "    <b>JSON vs XML</b>\n",
    "</center>\n",
    "\n",
    "JSON схож с XML по следующим пунктам:\n",
    "* Текстовые форматы.\n",
    "* Удобство чтения и создания документов человеком («само описывающие форматы»).\n",
    "* Иерархические (значения могут содержать списки объектов или значений).\n",
    "\n",
    "__Когда использовать JSON а когда XML?__\n",
    "* JSON предпочтительнее в простых приложениях и позволяет удовлетворить простым требованиям по обмену данными.\n",
    "* XML предпочтительнее для приложений со сложными требованиями к обмену данными, например, в корпоративном секторе.\n",
    "\n",
    "JSON проще XML, но XML имеет более мощный инструментарий. Для обычных задач краткая семантика JSON позволяет получать более простой код. Для приложений со сложными требованиями к обмену данными, например, на предприятии, мощные функции XML могут значительно снизить риски.\n",
    "\n",
    "JSON отличается от XML по следующим пунктам:\n",
    "\n",
    "Преимущества JSON:\n",
    "* <b class=\"b\">+</b> Легче и быстрее чем XML.\n",
    "* <b class=\"b\">+</b> JSON использует типизированные объекты. Все значения XML являются строками и должны разбираться во время исполнения.\n",
    "* <b class=\"b\">+</b> Меньше синтаксиса, совсем нет семантики.\n",
    "\n",
    "Преимущества XML:\n",
    "* <b class=\"b\">+</b> Наличие пространств имен (namespace). Позволяет расширять язык документа за счет использования различных схем.\n",
    "* <b class=\"b\">+</b> Атрибуты позволяют эффективно добавлять метаданные в документ. В JSON для этой цели приходится использовать ситуативные решения.\n",
    "* <b class=\"b\">+</b> Поддержка действительности документа, позволяет автоматически проверять соответствие документа спецификации.\n",
    "* <b class=\"b\">+</b> Множество дополнительных инструментов для работы с документами (XPath, XSL, XQuery), позволяющие обращаться к фрагментам документов и преобразоывать их.\n",
    "\n",
    "\n",
    "JSON is best for simple applications, developed to satisfy simple requirements surrounding data interchange. XML is best for applications with complex requirements surrounding data interchange, such as in enterprise.\n"
   ]
  },
  {
   "cell_type": "markdown",
   "metadata": {},
   "source": [
    "__Работа с данными XML в приложениях__\n",
    "\n",
    "\n",
    "<center>         \n",
    "    <img src=\"./img/SAX_vs_DOM.png\" alt=\"Сравнение SAX и DOM парсеров\" style=\"width: 600px;\"/>\n",
    "    <b>Сравнение SAX и DOM парсеров</b>\n",
    "</center>\n",
    "\n",
    "DOM (Document Object Model):\n",
    "* <b class=\"b\">+</b> Естественное соответствие древовидной структуры документа и его объектной модели.\n",
    "* <b class=\"b\">+</b> Возможность навигироваться по документу в любом направлении.\n",
    "* <b class=\"b\">-</b> Необходимо прочитать весь документ в память. \n",
    "\n",
    "SAX (Simple API for XML) \n",
    "* Событийный подход к разбору XML.\n",
    "* <b class=\"b\">-?</b> Более сложная логика работы с данными при их сложной организации.\n",
    "* <b class=\"b\">-</b> Только последовательное получение информации из документа.\n",
    "* <b class=\"b\">+</b> Можно обрабатывать только некоторую часть документа.\n",
    "* <b class=\"b\">+</b> Позволяет не хранить весь документ в памяти.\n",
    "\n"
   ]
  },
  {
   "cell_type": "markdown",
   "metadata": {},
   "source": [
    "__DOM__\n",
    "\n",
    "<center>         \n",
    "    <img src=\"./img/DOM_str_.png \" alt=\"Пример представления XML документа в виде DOM-дерева\" style=\"width: 600px;\"/>\n",
    "    <b>Пример представления XML документа в виде DOM-дерева</b>\n",
    "</center>\n"
   ]
  },
  {
   "cell_type": "markdown",
   "metadata": {},
   "source": [
    "### Работа с XML в Python<a class=\"anchor\" id=\"работа-xml\"></a>\n",
    "* [к оглавлению](#разделы)"
   ]
  },
  {
   "cell_type": "markdown",
   "metadata": {},
   "source": [
    "BeautifulSoup является библиотекой Python для парсинга HTML и XML документов. Часто используется для скрапинга веб-страниц. BeautifulSoup позволяет трансформировать XML или HTML документ в древо объектов Python, аналогичное DOM-дереву. Элементами этого дерева могут быть теги, навигация или комментарии.\n",
    "\n",
    "Документация по BeautifulSoup: \n",
    "* https://www.crummy.com/software/BeautifulSoup/\n",
    "* https://www.crummy.com/software/BeautifulSoup/bs4/doc/\n",
    "* Примеры работы BeautifulSoup с HTML: https://python-scripts.com/beautifulsoup-html-parsing\n",
    "\n",
    "\n",
    "Импорт библитек:"
   ]
  },
  {
   "cell_type": "code",
   "execution_count": 1,
   "metadata": {},
   "outputs": [],
   "source": [
    "# import required modules\n",
    "import requests\n",
    "from bs4 import BeautifulSoup"
   ]
  },
  {
   "cell_type": "markdown",
   "metadata": {},
   "source": [
    "Пример для работы:\n",
    "\n",
    "```XML\n",
    "<?xml version=\"1.0\" encoding=\"UTF-8\" ?>\n",
    "<address_book>\n",
    "<address id=\"1\">\n",
    "\t<name>Bruce Lee</name>\n",
    "\t<email>bruce@gmail.com</email>\n",
    "\t<phones>\n",
    "\t\t<phone type=\"work\">232-17-45</phone>\n",
    "\t\t<phone type=\"home\" code=\"true\">+7 (912) 212-34-12</phone>\n",
    "\t</phones>\t\n",
    "\t<birthday>11.07.1984</birthday>\n",
    "</address>\n",
    "<!-- This is comment in XML -->\n",
    "<address id=\"2\">\n",
    "\t<name>Alice Lee</name>\n",
    "\t<email>alee@yandex.ru</email>\n",
    "\t<work>John&amp;son</work>\n",
    "\t<phones/>\n",
    "\t<birthday>22.03.1985</birthday>\n",
    "</address>\n",
    "</address_book>\n",
    "```"
   ]
  },
  {
   "cell_type": "code",
   "execution_count": 2,
   "metadata": {},
   "outputs": [],
   "source": [
    "# Выполняем парсинг XML файла:\n",
    "with open('.\\\\addres-book.xml') as f:\n",
    "    ab = BeautifulSoup(f, 'xml')"
   ]
  },
  {
   "cell_type": "code",
   "execution_count": 3,
   "metadata": {},
   "outputs": [
    {
     "data": {
      "text/plain": [
       "<?xml version=\"1.0\" encoding=\"utf-8\"?>\n",
       "<address_book>\n",
       "<address id=\"1\">\n",
       "<name>Bruce Lee</name>\n",
       "<email>bruce@gmail.com</email>\n",
       "<phones>\n",
       "<phone type=\"work\">232-17-45</phone>\n",
       "<phone code=\"true\" type=\"home\">+7 (912) 212-34-12</phone>\n",
       "</phones>\n",
       "<birthday>11.07.1984</birthday>\n",
       "</address>\n",
       "<!-- This is comment in XML -->\n",
       "<address id=\"2\">\n",
       "<name>Alice Lee</name>\n",
       "<email>alee@yandex.ru</email>\n",
       "<work>John&amp;son</work>\n",
       "<phones/>\n",
       "<birthday>22.03.1985</birthday>\n",
       "</address>\n",
       "</address_book>"
      ]
     },
     "execution_count": 3,
     "metadata": {},
     "output_type": "execute_result"
    }
   ],
   "source": [
    "ab"
   ]
  },
  {
   "cell_type": "code",
   "execution_count": 4,
   "metadata": {},
   "outputs": [
    {
     "data": {
      "text/plain": [
       "<address_book>\n",
       "<address id=\"1\">\n",
       "<name>Bruce Lee</name>\n",
       "<email>bruce@gmail.com</email>\n",
       "<phones>\n",
       "<phone type=\"work\">232-17-45</phone>\n",
       "<phone code=\"true\" type=\"home\">+7 (912) 212-34-12</phone>\n",
       "</phones>\n",
       "<birthday>11.07.1984</birthday>\n",
       "</address>\n",
       "<!-- This is comment in XML -->\n",
       "<address id=\"2\">\n",
       "<name>Alice Lee</name>\n",
       "<email>alee@yandex.ru</email>\n",
       "<work>John&amp;son</work>\n",
       "<phones/>\n",
       "<birthday>22.03.1985</birthday>\n",
       "</address>\n",
       "</address_book>"
      ]
     },
     "execution_count": 4,
     "metadata": {},
     "output_type": "execute_result"
    }
   ],
   "source": [
    "# Переходим к корню дерева документа:\n",
    "ab.address_book"
   ]
  },
  {
   "cell_type": "code",
   "execution_count": 10,
   "metadata": {},
   "outputs": [
    {
     "data": {
      "text/plain": [
       "[<address id=\"1\">\n",
       " <name>Bruce Lee</name>\n",
       " <email>bruce@gmail.com</email>\n",
       " <phones>\n",
       " <phone type=\"work\">232-17-45</phone>\n",
       " <phone code=\"true\" type=\"home\">+7 (912) 212-34-12</phone>\n",
       " </phones>\n",
       " <birthday>11.07.1984</birthday>\n",
       " </address>, <address id=\"2\">\n",
       " <name>Alice Lee</name>\n",
       " <email>alee@yandex.ru</email>\n",
       " <work>John&amp;son</work>\n",
       " <phones/>\n",
       " <birthday>22.03.1985</birthday>\n",
       " </address>]"
      ]
     },
     "execution_count": 10,
     "metadata": {},
     "output_type": "execute_result"
    }
   ],
   "source": [
    "ab.address_book.find_all('address')"
   ]
  },
  {
   "cell_type": "code",
   "execution_count": 11,
   "metadata": {},
   "outputs": [
    {
     "data": {
      "text/plain": [
       "'address'"
      ]
     },
     "execution_count": 11,
     "metadata": {},
     "output_type": "execute_result"
    }
   ],
   "source": [
    "ab.address_book.address.name"
   ]
  },
  {
   "cell_type": "code",
   "execution_count": 12,
   "metadata": {},
   "outputs": [
    {
     "data": {
      "text/plain": [
       "'1'"
      ]
     },
     "execution_count": 12,
     "metadata": {},
     "output_type": "execute_result"
    }
   ],
   "source": [
    "ab.address_book.address['id']"
   ]
  },
  {
   "cell_type": "code",
   "execution_count": 13,
   "metadata": {},
   "outputs": [
    {
     "data": {
      "text/plain": [
       "'\\nBruce Lee\\nbruce@gmail.com\\n\\n232-17-45\\n+7 (912) 212-34-12\\n\\n11.07.1984\\n'"
      ]
     },
     "execution_count": 13,
     "metadata": {},
     "output_type": "execute_result"
    }
   ],
   "source": [
    "ab.address_book.address.text"
   ]
  },
  {
   "cell_type": "code",
   "execution_count": 84,
   "metadata": {},
   "outputs": [
    {
     "data": {
      "text/plain": [
       "'Bruce Lee|bruce@gmail.com|232-17-45|+7 (912) 212-34-12|11.07.1984'"
      ]
     },
     "execution_count": 84,
     "metadata": {},
     "output_type": "execute_result"
    }
   ],
   "source": [
    "ab.address_book.address.getText('|',strip=True) # Получаем все дочерние строки разделенные заданным разделителем."
   ]
  },
  {
   "cell_type": "code",
   "execution_count": 85,
   "metadata": {},
   "outputs": [
    {
     "data": {
      "text/plain": [
       "['\\n',\n",
       " <name>Bruce Lee</name>,\n",
       " '\\n',\n",
       " <email>bruce@gmail.com</email>,\n",
       " '\\n',\n",
       " <phones>\n",
       " <phone type=\"work\">232-17-45</phone>\n",
       " <phone code=\"true\" type=\"home\">+7 (912) 212-34-12</phone>\n",
       " </phones>,\n",
       " '\\n',\n",
       " <birthday>11.07.1984</birthday>,\n",
       " '\\n']"
      ]
     },
     "execution_count": 85,
     "metadata": {},
     "output_type": "execute_result"
    }
   ],
   "source": [
    "ab.address_book.address.contents"
   ]
  },
  {
   "cell_type": "code",
   "execution_count": 93,
   "metadata": {},
   "outputs": [
    {
     "name": "stdout",
     "output_type": "stream",
     "text": [
      "None -> '\\n'\n",
      "name -> <name>Bruce Lee</name>\n",
      "None -> '\\n'\n",
      "email -> <email>bruce@gmail.com</email>\n",
      "None -> '\\n'\n",
      "phones -> <phones>\n",
      "<phone type=\"work\">232-17-45</phone>\n",
      "<phone code=\"true\" type=\"home\">+7 (912) 212-34-12</phone>\n",
      "</phones>\n",
      "None -> '\\n'\n",
      "birthday -> <birthday>11.07.1984</birthday>\n",
      "None -> '\\n'\n"
     ]
    }
   ],
   "source": [
    "# обходим все дочерние элементы address:\n",
    "for ch in ab.address_book.address.children:\n",
    "    print(ch.name,'->', repr(ch))"
   ]
  },
  {
   "cell_type": "code",
   "execution_count": 16,
   "metadata": {},
   "outputs": [
    {
     "data": {
      "text/plain": [
       "<phone type=\"work\">232-17-45</phone>"
      ]
     },
     "execution_count": 16,
     "metadata": {},
     "output_type": "execute_result"
    }
   ],
   "source": [
    "# получаем первый элемент соответствующий указанному пути:\n",
    "ab.address_book.address.phone"
   ]
  },
  {
   "cell_type": "code",
   "execution_count": 95,
   "metadata": {},
   "outputs": [
    {
     "data": {
      "text/plain": [
       "[<phone type=\"work\">232-17-45</phone>,\n",
       " <phone code=\"true\" type=\"home\">+7 (912) 212-34-12</phone>]"
      ]
     },
     "execution_count": 95,
     "metadata": {},
     "output_type": "execute_result"
    }
   ],
   "source": [
    "# получаем все дочерние элементы 'phone' для пути address_book.address:\n",
    "ab.address_book.address.find_all('phone')"
   ]
  },
  {
   "cell_type": "code",
   "execution_count": 96,
   "metadata": {},
   "outputs": [
    {
     "data": {
      "text/plain": [
       "<phone code=\"true\" type=\"home\">+7 (912) 212-34-12</phone>"
      ]
     },
     "execution_count": 96,
     "metadata": {},
     "output_type": "execute_result"
    }
   ],
   "source": [
    "# ищем элементы соответствующие более сложному условию:\n",
    "ab.address_book.address.find('phone', type='home')"
   ]
  },
  {
   "cell_type": "code",
   "execution_count": 24,
   "metadata": {},
   "outputs": [
    {
     "data": {
      "text/plain": [
       "<phone code=\"true\" type=\"home\">+7 (912) 212-34-12</phone>"
      ]
     },
     "execution_count": 24,
     "metadata": {},
     "output_type": "execute_result"
    }
   ],
   "source": [
    "ab.address_book.address.find('phone', type='home')"
   ]
  },
  {
   "cell_type": "code",
   "execution_count": 23,
   "metadata": {},
   "outputs": [
    {
     "data": {
      "text/plain": [
       "<phone code=\"true\" type=\"home\">+7 (912) 212-34-12</phone>"
      ]
     },
     "execution_count": 23,
     "metadata": {},
     "output_type": "execute_result"
    }
   ],
   "source": [
    "ab.address_book.address.find('phone', attrs={'type': 'home'})"
   ]
  },
  {
   "cell_type": "code",
   "execution_count": 17,
   "metadata": {},
   "outputs": [],
   "source": [
    "ph1 = ab.address_book.address.find('phone')"
   ]
  },
  {
   "cell_type": "code",
   "execution_count": 19,
   "metadata": {},
   "outputs": [
    {
     "data": {
      "text/plain": [
       "<phone type=\"work\">232-17-45</phone>"
      ]
     },
     "execution_count": 19,
     "metadata": {},
     "output_type": "execute_result"
    }
   ],
   "source": [
    "ph1"
   ]
  },
  {
   "cell_type": "code",
   "execution_count": 21,
   "metadata": {},
   "outputs": [
    {
     "data": {
      "text/plain": [
       "<phone code=\"true\" type=\"home\">+7 (912) 212-34-12</phone>"
      ]
     },
     "execution_count": 21,
     "metadata": {},
     "output_type": "execute_result"
    }
   ],
   "source": [
    "ph1.next_sibling.next_sibling"
   ]
  },
  {
   "cell_type": "code",
   "execution_count": 99,
   "metadata": {},
   "outputs": [
    {
     "data": {
      "text/plain": [
       "['\\n', <phone code=\"true\" type=\"home\">+7 (912) 212-34-12</phone>, '\\n']"
      ]
     },
     "execution_count": 99,
     "metadata": {},
     "output_type": "execute_result"
    }
   ],
   "source": [
    "list(ph1.next_siblings)"
   ]
  },
  {
   "cell_type": "code",
   "execution_count": 100,
   "metadata": {},
   "outputs": [
    {
     "data": {
      "text/plain": [
       "'232-17-45'"
      ]
     },
     "execution_count": 100,
     "metadata": {},
     "output_type": "execute_result"
    }
   ],
   "source": [
    "ph1.next"
   ]
  },
  {
   "cell_type": "code",
   "execution_count": 101,
   "metadata": {},
   "outputs": [
    {
     "data": {
      "text/plain": [
       "['232-17-45',\n",
       " '\\n',\n",
       " <phone code=\"true\" type=\"home\">+7 (912) 212-34-12</phone>,\n",
       " '+7 (912) 212-34-12',\n",
       " '\\n',\n",
       " '\\n',\n",
       " <birthday>11.07.1984</birthday>,\n",
       " '11.07.1984',\n",
       " '\\n',\n",
       " '\\n',\n",
       " ' This is comment in XML ',\n",
       " '\\n',\n",
       " <address id=\"2\">\n",
       " <name>Alice Lee</name>\n",
       " <email>alee@yandex.ru</email>\n",
       " <work>John&amp;son</work>\n",
       " <phones/>\n",
       " <birthday>22.03.1985</birthday>\n",
       " </address>,\n",
       " '\\n',\n",
       " <name>Alice Lee</name>,\n",
       " 'Alice Lee',\n",
       " '\\n',\n",
       " <email>alee@yandex.ru</email>,\n",
       " 'alee@yandex.ru',\n",
       " '\\n',\n",
       " <work>John&amp;son</work>,\n",
       " 'John&son',\n",
       " '\\n',\n",
       " <phones/>,\n",
       " '\\n',\n",
       " <birthday>22.03.1985</birthday>,\n",
       " '22.03.1985',\n",
       " '\\n',\n",
       " '\\n']"
      ]
     },
     "execution_count": 101,
     "metadata": {},
     "output_type": "execute_result"
    }
   ],
   "source": [
    "list(ph1.nextGenerator())"
   ]
  },
  {
   "cell_type": "code",
   "execution_count": 102,
   "metadata": {},
   "outputs": [
    {
     "data": {
      "text/plain": [
       "<phone code=\"true\" type=\"home\">+7 (912) 212-34-12</phone>"
      ]
     },
     "execution_count": 102,
     "metadata": {},
     "output_type": "execute_result"
    }
   ],
   "source": [
    "ph1.findNextSibling()"
   ]
  },
  {
   "cell_type": "markdown",
   "metadata": {},
   "source": [
    "Более крупный пример:\n",
    "\n",
    "```XML\n",
    "<?xml version=\"1.0\" encoding=\"UTF-8\" ?>\n",
    "<address_book>\n",
    "<country name=\"algeria\">\n",
    "<address id=\"1\">\n",
    "\t<gender>m</gender>\n",
    "\t<name>Aicha Barki</name>\n",
    "\t<email>aiqraa.asso@caramail.com</email>\n",
    "\t<position>Presidente</position>\n",
    "\t<company>Association Algerienne d'Alphabetisation Iqraa</company>\n",
    "\t<phones>\n",
    "\t\t<phone type=\"work\">+ (213) 6150 4015</phone>\n",
    "\t\t<phone type=\"personal\">+ (213) 2173 5247</phone>\n",
    "\t</phones>\t\n",
    "</address>\n",
    "</country>\n",
    "<country name=\"angola\">\n",
    "<address id=\"2\">\n",
    "\t<gender>m</gender>\n",
    "\t<name>Francisco Domingos</name>\n",
    "\t<email>frandomingos@hotmail.com</email>\n",
    "\t<position>Directeur General</position>\n",
    "\t<company>Institut National de Education des Adultes</company>\n",
    "\t<phones>\n",
    "\t\t<phone type=\"work\">+ (244-2) 325 023</phone>\n",
    "\t\t<phone type=\"personal\">+ (244-2) 325 023</phone>\n",
    "\t</phones>\t\n",
    "</address>\n",
    "<address id=\"3\">\n",
    "\t<gender>f</gender>\n",
    "\t<name>Maria Luisa</name>\n",
    "\t<email>luisagrilo@ebonet.net</email>\n",
    "\t<position>Directrice Nationale</position>\n",
    "\t<company>Institut National de Education des Adultes</company>\n",
    "\t<phones>\n",
    "\t\t<phone type=\"personal\">+ (244) 4232 2836</phone>\n",
    "\t</phones>\t\n",
    "</address>\n",
    "<address id=\"4\">\n",
    "\t<gender>m</gender>\n",
    "\t<name>Abraao Chanda</name>\n",
    "\t<email>ineda@snet.co.ao</email>\n",
    "\t<position>Chef</position>\n",
    "\t<company>Institut National de Education des Adultes</company>\n",
    "\t<phones>\n",
    "\t\t<phone type=\"work\">+ (244-2) 325 023</phone>\n",
    "\t\t<phone type=\"personal\">+ (244-2) 325 023</phone>\n",
    "\t</phones>\t\n",
    "</address>\n",
    "</country>\n",
    "<country name=\"argentina\">\n",
    "<address id=\"5\">\n",
    "\t<gender>m</gender>\n",
    "\t<name>Beatriz Busaniche</name>\n",
    "\t<email>busaniche@caminandoutopias.org.ar</email>\n",
    "\t<position>Executive Director</position>\n",
    "\t<company>Universidad de Buenos Aires</company>\n",
    "\t<phones>\n",
    "\t\t<phone type=\"work\">+ (54-11) 4784 1159</phone>\n",
    "\t</phones>\t\n",
    "</address>\n",
    "</country>\n",
    "<country name=\"australia\">\n",
    "<address id=\"6\">\n",
    "\t<gender>f</gender>\n",
    "\t<name>Francesca Beddie</name>\n",
    "\t<email>f.beddie@ala.asn.au</email>\n",
    "\t<position>Executive Director</position>\n",
    "\t<company>Adult Learning Australia</company>\n",
    "\t<phones>\n",
    "\t\t<phone type=\"work\">+ (61-2) 6274 9500</phone>\n",
    "\t\t<phone type=\"personal\">+ (61-2) 6274 9513</phone>\n",
    "\t</phones>\t\n",
    "</address>\n",
    "<address id=\"7\">\n",
    "\t<gender>m</gender>\n",
    "\t<name>Graham John Smith</name>\n",
    "\t<email>grasm@connexus.net.au</email>\n",
    "\t<position>Secretary</position>\n",
    "\t<company>Disability Australia Ltd</company>\n",
    "\t<phones>\n",
    "\t\t<phone type=\"work\">+ (61-3) 9807 4702</phone>\n",
    "\t</phones>\t\n",
    "</address>\n",
    "</country>\n",
    "\n",
    "</address_book>\n",
    "```"
   ]
  },
  {
   "cell_type": "code",
   "execution_count": 106,
   "metadata": {},
   "outputs": [],
   "source": [
    "with open('.\\\\addres-book-q.xml') as f:\n",
    "    ab = BeautifulSoup(f, 'xml')"
   ]
  },
  {
   "cell_type": "code",
   "execution_count": 107,
   "metadata": {},
   "outputs": [
    {
     "data": {
      "text/plain": [
       "[{'Aicha Barki': ['+ (213) 6150 4015', '+ (213) 2173 5247']},\n",
       " {'Francisco Domingos': ['+ (244-2) 325 023', '+ (244-2) 325 023']},\n",
       " {'Maria Luisa': ['+ (244) 4232 2836']},\n",
       " {'Abraao Chanda': ['+ (244-2) 325 023', '+ (244-2) 325 023']},\n",
       " {'Beatriz Busaniche': ['+ (54-11) 4784 1159']},\n",
       " {'Francesca Beddie': ['+ (61-2) 6274 9500', '+ (61-2) 6274 9513']},\n",
       " {'Graham John Smith': ['+ (61-3) 9807 4702']}]"
      ]
     },
     "execution_count": 107,
     "metadata": {},
     "output_type": "execute_result"
    }
   ],
   "source": [
    "res = list();\n",
    "for person in ab.address_book.find_all(\"address\"):\n",
    "    ph = [phones.next for phones in person.phones.find_all(\"phone\")]\n",
    "    res.append({person.find(\"name\").next: ph})\n",
    "res"
   ]
  },
  {
   "cell_type": "code",
   "execution_count": 108,
   "metadata": {
    "scrolled": true
   },
   "outputs": [
    {
     "data": {
      "text/plain": [
       "<phone type=\"work\">232-17-45</phone>"
      ]
     },
     "execution_count": 108,
     "metadata": {},
     "output_type": "execute_result"
    }
   ],
   "source": [
    "ph1"
   ]
  },
  {
   "cell_type": "markdown",
   "metadata": {},
   "source": [
    "---\n",
    "\n",
    "# Спасибо за внимание!"
   ]
  },
  {
   "cell_type": "markdown",
   "metadata": {},
   "source": [
    "---------"
   ]
  },
  {
   "cell_type": "markdown",
   "metadata": {},
   "source": [
    "TODO: requests (краулинг), \n",
    "* CSV\n",
    "* ? mime type\n",
    "* В других лекциях: numpy-native, xlsx, sqlite"
   ]
  },
  {
   "cell_type": "code",
   "execution_count": null,
   "metadata": {},
   "outputs": [],
   "source": []
  }
 ],
 "metadata": {
  "kernelspec": {
   "display_name": "Python 3 (ipykernel)",
   "language": "python",
   "name": "python3"
  },
  "language_info": {
   "codemirror_mode": {
    "name": "ipython",
    "version": 3
   },
   "file_extension": ".py",
   "mimetype": "text/x-python",
   "name": "python",
   "nbconvert_exporter": "python",
   "pygments_lexer": "ipython3",
   "version": "3.9.7"
  }
 },
 "nbformat": 4,
 "nbformat_minor": 4
}
