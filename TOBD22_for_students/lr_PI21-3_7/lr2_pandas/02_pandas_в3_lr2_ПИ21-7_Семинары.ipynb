{
 "cells": [
  {
   "cell_type": "markdown",
   "metadata": {},
   "source": [
    "# Pandas"
   ]
  },
  {
   "cell_type": "markdown",
   "metadata": {},
   "source": [
    "Материалы:\n",
    "* Макрушин С.В. \"Лекция 2: Библиотека Pandas\"\n",
    "* https://pandas.pydata.org/docs/user_guide/index.html#\n",
    "* https://pandas.pydata.org/docs/reference/index.html\n",
    "* Уэс Маккини. Python и анализ данных"
   ]
  },
  {
   "cell_type": "markdown",
   "metadata": {},
   "source": [
    "## Задачи для совместного разбора"
   ]
  },
  {
   "cell_type": "markdown",
   "metadata": {},
   "source": [
    "1. Загрузите данные из файла `sp500hst.txt` и обозначьте столбцы в соответствии с содержимым: `\"date\", \"ticker\", \"open\", \"high\", \"low\", \"close\", \"volume\"`."
   ]
  },
  {
   "cell_type": "code",
   "execution_count": 2,
   "metadata": {},
   "outputs": [],
   "source": [
    "import pandas as pd"
   ]
  },
  {
   "cell_type": "code",
   "execution_count": 3,
   "metadata": {},
   "outputs": [
    {
     "data": {
      "text/html": [
       "<div>\n",
       "<style scoped>\n",
       "    .dataframe tbody tr th:only-of-type {\n",
       "        vertical-align: middle;\n",
       "    }\n",
       "\n",
       "    .dataframe tbody tr th {\n",
       "        vertical-align: top;\n",
       "    }\n",
       "\n",
       "    .dataframe thead th {\n",
       "        text-align: right;\n",
       "    }\n",
       "</style>\n",
       "<table border=\"1\" class=\"dataframe\">\n",
       "  <thead>\n",
       "    <tr style=\"text-align: right;\">\n",
       "      <th></th>\n",
       "      <th>date</th>\n",
       "      <th>ticker</th>\n",
       "      <th>open</th>\n",
       "      <th>high</th>\n",
       "      <th>low</th>\n",
       "      <th>close</th>\n",
       "      <th>volume</th>\n",
       "    </tr>\n",
       "  </thead>\n",
       "  <tbody>\n",
       "    <tr>\n",
       "      <th>0</th>\n",
       "      <td>20090821</td>\n",
       "      <td>A</td>\n",
       "      <td>25.60</td>\n",
       "      <td>25.6100</td>\n",
       "      <td>25.220</td>\n",
       "      <td>25.55</td>\n",
       "      <td>34758</td>\n",
       "    </tr>\n",
       "    <tr>\n",
       "      <th>1</th>\n",
       "      <td>20090824</td>\n",
       "      <td>A</td>\n",
       "      <td>25.64</td>\n",
       "      <td>25.7400</td>\n",
       "      <td>25.330</td>\n",
       "      <td>25.50</td>\n",
       "      <td>22247</td>\n",
       "    </tr>\n",
       "    <tr>\n",
       "      <th>2</th>\n",
       "      <td>20090825</td>\n",
       "      <td>A</td>\n",
       "      <td>25.50</td>\n",
       "      <td>25.7000</td>\n",
       "      <td>25.225</td>\n",
       "      <td>25.34</td>\n",
       "      <td>30891</td>\n",
       "    </tr>\n",
       "    <tr>\n",
       "      <th>3</th>\n",
       "      <td>20090826</td>\n",
       "      <td>A</td>\n",
       "      <td>25.32</td>\n",
       "      <td>25.6425</td>\n",
       "      <td>25.145</td>\n",
       "      <td>25.48</td>\n",
       "      <td>33334</td>\n",
       "    </tr>\n",
       "    <tr>\n",
       "      <th>4</th>\n",
       "      <td>20090827</td>\n",
       "      <td>A</td>\n",
       "      <td>25.50</td>\n",
       "      <td>25.5700</td>\n",
       "      <td>25.230</td>\n",
       "      <td>25.54</td>\n",
       "      <td>70176</td>\n",
       "    </tr>\n",
       "    <tr>\n",
       "      <th>...</th>\n",
       "      <td>...</td>\n",
       "      <td>...</td>\n",
       "      <td>...</td>\n",
       "      <td>...</td>\n",
       "      <td>...</td>\n",
       "      <td>...</td>\n",
       "      <td>...</td>\n",
       "    </tr>\n",
       "    <tr>\n",
       "      <th>122569</th>\n",
       "      <td>20100813</td>\n",
       "      <td>ZMH</td>\n",
       "      <td>51.72</td>\n",
       "      <td>51.9000</td>\n",
       "      <td>51.380</td>\n",
       "      <td>51.44</td>\n",
       "      <td>14561</td>\n",
       "    </tr>\n",
       "    <tr>\n",
       "      <th>122570</th>\n",
       "      <td>20100816</td>\n",
       "      <td>ZMH</td>\n",
       "      <td>51.13</td>\n",
       "      <td>51.4700</td>\n",
       "      <td>50.600</td>\n",
       "      <td>51.00</td>\n",
       "      <td>13489</td>\n",
       "    </tr>\n",
       "    <tr>\n",
       "      <th>122571</th>\n",
       "      <td>20100817</td>\n",
       "      <td>ZMH</td>\n",
       "      <td>51.14</td>\n",
       "      <td>51.6000</td>\n",
       "      <td>50.890</td>\n",
       "      <td>51.21</td>\n",
       "      <td>20498</td>\n",
       "    </tr>\n",
       "    <tr>\n",
       "      <th>122572</th>\n",
       "      <td>20100819</td>\n",
       "      <td>ZMH</td>\n",
       "      <td>51.63</td>\n",
       "      <td>51.6300</td>\n",
       "      <td>50.170</td>\n",
       "      <td>50.22</td>\n",
       "      <td>18259</td>\n",
       "    </tr>\n",
       "    <tr>\n",
       "      <th>122573</th>\n",
       "      <td>20100820</td>\n",
       "      <td>ZMH</td>\n",
       "      <td>50.03</td>\n",
       "      <td>50.5500</td>\n",
       "      <td>49.480</td>\n",
       "      <td>49.82</td>\n",
       "      <td>17792</td>\n",
       "    </tr>\n",
       "  </tbody>\n",
       "</table>\n",
       "<p>122574 rows × 7 columns</p>\n",
       "</div>"
      ],
      "text/plain": [
       "            date ticker   open     high     low  close  volume\n",
       "0       20090821      A  25.60  25.6100  25.220  25.55   34758\n",
       "1       20090824      A  25.64  25.7400  25.330  25.50   22247\n",
       "2       20090825      A  25.50  25.7000  25.225  25.34   30891\n",
       "3       20090826      A  25.32  25.6425  25.145  25.48   33334\n",
       "4       20090827      A  25.50  25.5700  25.230  25.54   70176\n",
       "...          ...    ...    ...      ...     ...    ...     ...\n",
       "122569  20100813    ZMH  51.72  51.9000  51.380  51.44   14561\n",
       "122570  20100816    ZMH  51.13  51.4700  50.600  51.00   13489\n",
       "122571  20100817    ZMH  51.14  51.6000  50.890  51.21   20498\n",
       "122572  20100819    ZMH  51.63  51.6300  50.170  50.22   18259\n",
       "122573  20100820    ZMH  50.03  50.5500  49.480  49.82   17792\n",
       "\n",
       "[122574 rows x 7 columns]"
      ]
     },
     "execution_count": 3,
     "metadata": {},
     "output_type": "execute_result"
    }
   ],
   "source": [
    "data = pd.read_csv(\"data/sp500hst.txt\", delimiter=\",\", names=(\"date\", \"ticker\", \"open\", \"high\", \"low\", \"close\", \"volume\"))\n",
    "data"
   ]
  },
  {
   "cell_type": "markdown",
   "metadata": {},
   "source": [
    "2. Рассчитайте среднее значение показателей для каждого из столбцов c номерами 3-6."
   ]
  },
  {
   "cell_type": "markdown",
   "metadata": {},
   "source": [
    "3. Добавьте столбец, содержащий только число месяца, к которому относится дата."
   ]
  },
  {
   "cell_type": "markdown",
   "metadata": {},
   "source": [
    "4. Рассчитайте суммарный объем торгов для для одинаковых значений тикеров."
   ]
  },
  {
   "cell_type": "markdown",
   "metadata": {},
   "source": [
    "5. Загрузите данные из файла sp500hst.txt и обозначьте столбцы в соответствии с содержимым: \"date\", \"ticker\", \"open\", \"high\", \"low\", \"close\", \"volume\". Добавьте столбец с расшифровкой названия тикера, используя данные из файла `sp_data2.csv` . В случае нехватки данных об именах тикеров корректно обработать их."
   ]
  },
  {
   "cell_type": "markdown",
   "metadata": {},
   "source": [
    "## Лабораторная работа №2.1"
   ]
  },
  {
   "cell_type": "code",
   "execution_count": 1,
   "metadata": {},
   "outputs": [
    {
     "name": "stdout",
     "output_type": "stream",
     "text": [
      "E:\\YandexDisk\\Python\\Ipynb\\TOBD_2022\\TOBD22_for_students\\lr_PI21-3_7\\lr2_pandas\\data\n"
     ]
    }
   ],
   "source": [
    "cd data"
   ]
  },
  {
   "cell_type": "code",
   "execution_count": 2,
   "metadata": {},
   "outputs": [],
   "source": [
    "import pandas as pd"
   ]
  },
  {
   "cell_type": "code",
   "execution_count": 3,
   "metadata": {},
   "outputs": [],
   "source": [
    "recipes = pd.read_csv('recipes_sample.csv', delimiter=',', skiprows=1, names=[\"name\", \"id\", \"minutes\", \"contributor_id\", \"submitted\", \"n_steps\", \"description\",\"n_ingredients\"])"
   ]
  },
  {
   "cell_type": "markdown",
   "metadata": {},
   "source": [
    "### Базовые операции с `DataFrame`"
   ]
  },
  {
   "cell_type": "code",
   "execution_count": 24,
   "metadata": {},
   "outputs": [],
   "source": [
    "reviews= pd.read_csv('reviews_sample.csv', delimiter = ',', skiprows=1, names = ['Unnamed: 0', 'user_id', 'recipe_id', 'date', 'rating', 'review'])"
   ]
  },
  {
   "cell_type": "code",
   "execution_count": 25,
   "metadata": {},
   "outputs": [
    {
     "data": {
      "text/html": [
       "<div>\n",
       "<style scoped>\n",
       "    .dataframe tbody tr th:only-of-type {\n",
       "        vertical-align: middle;\n",
       "    }\n",
       "\n",
       "    .dataframe tbody tr th {\n",
       "        vertical-align: top;\n",
       "    }\n",
       "\n",
       "    .dataframe thead th {\n",
       "        text-align: right;\n",
       "    }\n",
       "</style>\n",
       "<table border=\"1\" class=\"dataframe\">\n",
       "  <thead>\n",
       "    <tr style=\"text-align: right;\">\n",
       "      <th></th>\n",
       "      <th>Unnamed: 0</th>\n",
       "      <th>user_id</th>\n",
       "      <th>recipe_id</th>\n",
       "      <th>date</th>\n",
       "      <th>rating</th>\n",
       "      <th>review</th>\n",
       "    </tr>\n",
       "  </thead>\n",
       "  <tbody>\n",
       "    <tr>\n",
       "      <th>0</th>\n",
       "      <td>370476</td>\n",
       "      <td>21752</td>\n",
       "      <td>57993</td>\n",
       "      <td>2003-05-01</td>\n",
       "      <td>5</td>\n",
       "      <td>Last week whole sides of frozen salmon fillet ...</td>\n",
       "    </tr>\n",
       "    <tr>\n",
       "      <th>1</th>\n",
       "      <td>624300</td>\n",
       "      <td>431813</td>\n",
       "      <td>142201</td>\n",
       "      <td>2007-09-16</td>\n",
       "      <td>5</td>\n",
       "      <td>So simple and so tasty!  I used a yellow capsi...</td>\n",
       "    </tr>\n",
       "    <tr>\n",
       "      <th>2</th>\n",
       "      <td>187037</td>\n",
       "      <td>400708</td>\n",
       "      <td>252013</td>\n",
       "      <td>2008-01-10</td>\n",
       "      <td>4</td>\n",
       "      <td>Very nice breakfast HH, easy to make and yummy...</td>\n",
       "    </tr>\n",
       "    <tr>\n",
       "      <th>3</th>\n",
       "      <td>706134</td>\n",
       "      <td>2001852463</td>\n",
       "      <td>404716</td>\n",
       "      <td>2017-12-11</td>\n",
       "      <td>5</td>\n",
       "      <td>These are a favorite for the holidays and so e...</td>\n",
       "    </tr>\n",
       "    <tr>\n",
       "      <th>4</th>\n",
       "      <td>312179</td>\n",
       "      <td>95810</td>\n",
       "      <td>129396</td>\n",
       "      <td>2008-03-14</td>\n",
       "      <td>5</td>\n",
       "      <td>Excellent soup!  The tomato flavor is just gre...</td>\n",
       "    </tr>\n",
       "  </tbody>\n",
       "</table>\n",
       "</div>"
      ],
      "text/plain": [
       "   Unnamed: 0     user_id  recipe_id        date  rating  \\\n",
       "0      370476       21752      57993  2003-05-01       5   \n",
       "1      624300      431813     142201  2007-09-16       5   \n",
       "2      187037      400708     252013  2008-01-10       4   \n",
       "3      706134  2001852463     404716  2017-12-11       5   \n",
       "4      312179       95810     129396  2008-03-14       5   \n",
       "\n",
       "                                              review  \n",
       "0  Last week whole sides of frozen salmon fillet ...  \n",
       "1  So simple and so tasty!  I used a yellow capsi...  \n",
       "2  Very nice breakfast HH, easy to make and yummy...  \n",
       "3  These are a favorite for the holidays and so e...  \n",
       "4  Excellent soup!  The tomato flavor is just gre...  "
      ]
     },
     "execution_count": 25,
     "metadata": {},
     "output_type": "execute_result"
    }
   ],
   "source": [
    "reviews.head()"
   ]
  },
  {
   "cell_type": "code",
   "execution_count": 21,
   "metadata": {},
   "outputs": [
    {
     "data": {
      "text/plain": [
       "id                2.218793e+05\n",
       "minutes           1.233581e+02\n",
       "contributor_id    5.635901e+06\n",
       "n_steps           9.805582e+00\n",
       "n_ingredients     9.008286e+00\n",
       "Name: mean, dtype: float64"
      ]
     },
     "execution_count": 21,
     "metadata": {},
     "output_type": "execute_result"
    }
   ],
   "source": [
    "recipes.describe().T['mean']"
   ]
  },
  {
   "cell_type": "code",
   "execution_count": 23,
   "metadata": {},
   "outputs": [
    {
     "data": {
      "text/html": [
       "<div>\n",
       "<style scoped>\n",
       "    .dataframe tbody tr th:only-of-type {\n",
       "        vertical-align: middle;\n",
       "    }\n",
       "\n",
       "    .dataframe tbody tr th {\n",
       "        vertical-align: top;\n",
       "    }\n",
       "\n",
       "    .dataframe thead th {\n",
       "        text-align: right;\n",
       "    }\n",
       "</style>\n",
       "<table border=\"1\" class=\"dataframe\">\n",
       "  <thead>\n",
       "    <tr style=\"text-align: right;\">\n",
       "      <th></th>\n",
       "      <th>Unnamed: 0</th>\n",
       "      <th>user_id</th>\n",
       "      <th>recipe_id</th>\n",
       "      <th>date</th>\n",
       "      <th>rating</th>\n",
       "      <th>review</th>\n",
       "    </tr>\n",
       "  </thead>\n",
       "  <tbody>\n",
       "    <tr>\n",
       "      <th>0</th>\n",
       "      <td>NaN</td>\n",
       "      <td>user_id</td>\n",
       "      <td>recipe_id</td>\n",
       "      <td>date</td>\n",
       "      <td>rating</td>\n",
       "      <td>review</td>\n",
       "    </tr>\n",
       "    <tr>\n",
       "      <th>1</th>\n",
       "      <td>370476.0</td>\n",
       "      <td>21752</td>\n",
       "      <td>57993</td>\n",
       "      <td>2003-05-01</td>\n",
       "      <td>5</td>\n",
       "      <td>Last week whole sides of frozen salmon fillet ...</td>\n",
       "    </tr>\n",
       "    <tr>\n",
       "      <th>2</th>\n",
       "      <td>624300.0</td>\n",
       "      <td>431813</td>\n",
       "      <td>142201</td>\n",
       "      <td>2007-09-16</td>\n",
       "      <td>5</td>\n",
       "      <td>So simple and so tasty!  I used a yellow capsi...</td>\n",
       "    </tr>\n",
       "    <tr>\n",
       "      <th>3</th>\n",
       "      <td>187037.0</td>\n",
       "      <td>400708</td>\n",
       "      <td>252013</td>\n",
       "      <td>2008-01-10</td>\n",
       "      <td>4</td>\n",
       "      <td>Very nice breakfast HH, easy to make and yummy...</td>\n",
       "    </tr>\n",
       "    <tr>\n",
       "      <th>4</th>\n",
       "      <td>706134.0</td>\n",
       "      <td>2001852463</td>\n",
       "      <td>404716</td>\n",
       "      <td>2017-12-11</td>\n",
       "      <td>5</td>\n",
       "      <td>These are a favorite for the holidays and so e...</td>\n",
       "    </tr>\n",
       "  </tbody>\n",
       "</table>\n",
       "</div>"
      ],
      "text/plain": [
       "   Unnamed: 0     user_id  recipe_id        date  rating  \\\n",
       "0         NaN     user_id  recipe_id        date  rating   \n",
       "1    370476.0       21752      57993  2003-05-01       5   \n",
       "2    624300.0      431813     142201  2007-09-16       5   \n",
       "3    187037.0      400708     252013  2008-01-10       4   \n",
       "4    706134.0  2001852463     404716  2017-12-11       5   \n",
       "\n",
       "                                              review  \n",
       "0                                             review  \n",
       "1  Last week whole sides of frozen salmon fillet ...  \n",
       "2  So simple and so tasty!  I used a yellow capsi...  \n",
       "3  Very nice breakfast HH, easy to make and yummy...  \n",
       "4  These are a favorite for the holidays and so e...  "
      ]
     },
     "execution_count": 23,
     "metadata": {},
     "output_type": "execute_result"
    }
   ],
   "source": [
    "reviews.head()"
   ]
  },
  {
   "cell_type": "code",
   "execution_count": null,
   "metadata": {},
   "outputs": [],
   "source": []
  },
  {
   "cell_type": "code",
   "execution_count": null,
   "metadata": {},
   "outputs": [],
   "source": []
  },
  {
   "cell_type": "markdown",
   "metadata": {},
   "source": [
    "1.1 В файлах `recipes_sample.csv` и `reviews_sample.csv` находится информация об рецептах блюд и отзывах на эти рецепты соответственно. Загрузите данные из файлов в виде `pd.DataFrame` с названиями `recipes` и `reviews`. Обратите внимание на корректное считывание столбца с индексами в таблице `reviews` (безымянный столбец)."
   ]
  },
  {
   "cell_type": "markdown",
   "metadata": {},
   "source": [
    "1.2 Для каждой из таблиц выведите основные параметры:\n",
    "* количество точек данных (строк);\n",
    "* количество столбцов;\n",
    "* тип данных каждого столбца."
   ]
  },
  {
   "cell_type": "markdown",
   "metadata": {},
   "source": [
    "1.3 Исследуйте, в каких столбцах таблиц содержатся пропуски. Посчитайте долю строк, содержащих пропуски, в отношении к общему количеству строк."
   ]
  },
  {
   "cell_type": "code",
   "execution_count": 8,
   "metadata": {},
   "outputs": [
    {
     "data": {
      "text/plain": [
       "name                  0\n",
       "id                    0\n",
       "minutes               0\n",
       "contributor_id        0\n",
       "submitted             0\n",
       "n_steps           11190\n",
       "description         623\n",
       "n_ingredients      8880\n",
       "dtype: int64"
      ]
     },
     "execution_count": 8,
     "metadata": {},
     "output_type": "execute_result"
    }
   ],
   "source": [
    "recipes.isna().sum(axis=0)"
   ]
  },
  {
   "cell_type": "code",
   "execution_count": null,
   "metadata": {},
   "outputs": [],
   "source": [
    "Null_stob_recipes = ((recipes.isna().sum()) / recipes.size) * 100\n",
    "Null_stob_recipes"
   ]
  },
  {
   "cell_type": "markdown",
   "metadata": {},
   "source": [
    "1.4 Рассчитайте среднее значение для каждого из числовых столбцов (где это имеет смысл)."
   ]
  },
  {
   "cell_type": "markdown",
   "metadata": {},
   "source": [
    "1.5 Создайте серию из 10 случайных названий рецептов."
   ]
  },
  {
   "cell_type": "code",
   "execution_count": null,
   "metadata": {},
   "outputs": [],
   "source": []
  },
  {
   "cell_type": "markdown",
   "metadata": {},
   "source": [
    "1.6 Измените индекс в таблице `reviews`, пронумеровав строки, начиная с нуля."
   ]
  },
  {
   "cell_type": "code",
   "execution_count": null,
   "metadata": {},
   "outputs": [],
   "source": [
    "reviews.reset_index(drop=True)"
   ]
  },
  {
   "cell_type": "code",
   "execution_count": null,
   "metadata": {},
   "outputs": [],
   "source": [
    "newpandadata = data_reviews.iloc[:, 1:].reset_index()\n",
    "newpandadata"
   ]
  },
  {
   "cell_type": "markdown",
   "metadata": {},
   "source": [
    "1.7 Выведите информацию о рецептах, время выполнения которых не больше 20 минут и кол-во ингредиентов в которых не больше 5."
   ]
  },
  {
   "cell_type": "markdown",
   "metadata": {},
   "source": [
    "### Работа с датами в `pandas`"
   ]
  },
  {
   "cell_type": "markdown",
   "metadata": {},
   "source": [
    "2.1 Преобразуйте столбец `submitted` из таблицы `recipes` в формат времени. Модифицируйте решение задачи 1.1 так, чтобы считать столбец сразу в нужном формате."
   ]
  },
  {
   "cell_type": "code",
   "execution_count": null,
   "metadata": {},
   "outputs": [],
   "source": []
  },
  {
   "cell_type": "markdown",
   "metadata": {},
   "source": [
    "2.2 Выведите информацию о рецептах, добавленных в датасет не позже 2010 года."
   ]
  },
  {
   "cell_type": "code",
   "execution_count": null,
   "metadata": {},
   "outputs": [],
   "source": [
    "mask = recipes.submitted.dt.year <= 2010\n",
    "recipes[mask]"
   ]
  },
  {
   "cell_type": "code",
   "execution_count": null,
   "metadata": {},
   "outputs": [],
   "source": []
  },
  {
   "cell_type": "markdown",
   "metadata": {},
   "source": [
    "### Работа со строковыми данными в `pandas`"
   ]
  },
  {
   "cell_type": "markdown",
   "metadata": {},
   "source": [
    "3.1  Добавьте в таблицу `recipes` столбец `description_length`, в котором хранится длина описания рецепта из столбца `description`."
   ]
  },
  {
   "cell_type": "markdown",
   "metadata": {},
   "source": [
    "3.2 Измените название каждого рецепта в таблице `recipes` таким образом, чтобы каждое слово в названии начиналось с прописной буквы."
   ]
  },
  {
   "cell_type": "code",
   "execution_count": null,
   "metadata": {},
   "outputs": [],
   "source": []
  },
  {
   "cell_type": "markdown",
   "metadata": {},
   "source": [
    "3.3 Добавьте в таблицу `recipes` столбец `name_word_count`, в котором хранится количество слов из названии рецепта (считайте, что слова в названии разделяются только пробелами). Обратите внимание, что между словами может располагаться несколько пробелов подряд."
   ]
  },
  {
   "cell_type": "code",
   "execution_count": 12,
   "metadata": {},
   "outputs": [
    {
     "data": {
      "text/plain": [
       "0    a b  c d e\n",
       "1    aa   bb cc\n",
       "dtype: object"
      ]
     },
     "execution_count": 12,
     "metadata": {},
     "output_type": "execute_result"
    }
   ],
   "source": [
    "s1 = pd.Series(['a b  c d e', 'aa   bb cc'])\n",
    "s1"
   ]
  },
  {
   "cell_type": "code",
   "execution_count": 17,
   "metadata": {},
   "outputs": [
    {
     "data": {
      "text/plain": [
       "0    [a, b, c, d, e]\n",
       "1       [aa, bb, cc]\n",
       "dtype: object"
      ]
     },
     "execution_count": 17,
     "metadata": {},
     "output_type": "execute_result"
    }
   ],
   "source": [
    "s1.str.split(' ').map(lambda lst: [x for x in lst if x])"
   ]
  },
  {
   "cell_type": "code",
   "execution_count": 11,
   "metadata": {},
   "outputs": [
    {
     "data": {
      "text/plain": [
       "0            [george, s, at, the, cove, black, bean, soup]\n",
       "1                  [healthy, for, them, yogurt, popsicles]\n",
       "2                     [i, can, t, believe, it, s, spinach]\n",
       "3                                  [italian, gut, busters]\n",
       "4           [love, is, in, the, air, beef, fondue, sauces]\n",
       "                               ...                        \n",
       "29995    [zurie, s, holey, rustic, olive, and, cheddar,...\n",
       "29996             [zwetschgenkuchen, bavarian, plum, cake]\n",
       "29997      [zwiebelkuchen, southwest, german, onion, cake]\n",
       "29998                                       [zydeco, soup]\n",
       "29999         [cookies, by, design, cookies, on, a, stick]\n",
       "Name: name, Length: 30000, dtype: object"
      ]
     },
     "execution_count": 11,
     "metadata": {},
     "output_type": "execute_result"
    }
   ],
   "source": [
    "recipes.name.str.split()"
   ]
  },
  {
   "cell_type": "markdown",
   "metadata": {},
   "source": [
    "## Лабораторная работа №2.2"
   ]
  },
  {
   "cell_type": "markdown",
   "metadata": {},
   "source": [
    "### Группировки таблиц `pd.DataFrame`"
   ]
  },
  {
   "cell_type": "markdown",
   "metadata": {},
   "source": [
    "4.1 Посчитайте количество рецептов, представленных каждым из участников (`contributor_id`). Какой участник добавил максимальное кол-во рецептов?"
   ]
  },
  {
   "cell_type": "markdown",
   "metadata": {},
   "source": [
    "4.2 Посчитайте средний рейтинг к каждому из рецептов. Для скольких рецептов отсутствуют отзывы? Обратите внимание, что отзыв с нулевым рейтингом или не заполненным текстовым описанием не считается отсутствующим."
   ]
  },
  {
   "cell_type": "markdown",
   "metadata": {},
   "source": [
    "4.3 Посчитайте количество рецептов с разбивкой по годам создания."
   ]
  },
  {
   "cell_type": "markdown",
   "metadata": {},
   "source": [
    "### Объединение таблиц `pd.DataFrame`"
   ]
  },
  {
   "cell_type": "code",
   "execution_count": 2,
   "metadata": {},
   "outputs": [
    {
     "name": "stdout",
     "output_type": "stream",
     "text": [
      "E:\\YandexDisk\\Python\\Ipynb\\TOBD_2022\\TOBD22_for_students\\lr_PI21-3_7\\lr2_pandas\\data\n"
     ]
    }
   ],
   "source": [
    "cd ./data/"
   ]
  },
  {
   "cell_type": "code",
   "execution_count": 4,
   "metadata": {},
   "outputs": [],
   "source": [
    "import pandas as pd"
   ]
  },
  {
   "cell_type": "code",
   "execution_count": 8,
   "metadata": {},
   "outputs": [],
   "source": [
    "recipes = pd.read_csv('recipes_sample.csv', delimiter=',', skiprows=1, names=[\"name\", \"id\", \"minutes\", \"contributor_id\", \"submitted\", \"n_steps\", \"description\",\"n_ingredients\"])"
   ]
  },
  {
   "cell_type": "code",
   "execution_count": 9,
   "metadata": {},
   "outputs": [
    {
     "data": {
      "text/html": [
       "<div>\n",
       "<style scoped>\n",
       "    .dataframe tbody tr th:only-of-type {\n",
       "        vertical-align: middle;\n",
       "    }\n",
       "\n",
       "    .dataframe tbody tr th {\n",
       "        vertical-align: top;\n",
       "    }\n",
       "\n",
       "    .dataframe thead th {\n",
       "        text-align: right;\n",
       "    }\n",
       "</style>\n",
       "<table border=\"1\" class=\"dataframe\">\n",
       "  <thead>\n",
       "    <tr style=\"text-align: right;\">\n",
       "      <th></th>\n",
       "      <th>name</th>\n",
       "      <th>id</th>\n",
       "      <th>minutes</th>\n",
       "      <th>contributor_id</th>\n",
       "      <th>submitted</th>\n",
       "      <th>n_steps</th>\n",
       "      <th>description</th>\n",
       "      <th>n_ingredients</th>\n",
       "    </tr>\n",
       "  </thead>\n",
       "  <tbody>\n",
       "    <tr>\n",
       "      <th>0</th>\n",
       "      <td>george s at the cove  black bean soup</td>\n",
       "      <td>44123</td>\n",
       "      <td>90</td>\n",
       "      <td>35193</td>\n",
       "      <td>2002-10-25</td>\n",
       "      <td>NaN</td>\n",
       "      <td>an original recipe created by chef scott meska...</td>\n",
       "      <td>18.0</td>\n",
       "    </tr>\n",
       "    <tr>\n",
       "      <th>1</th>\n",
       "      <td>healthy for them  yogurt popsicles</td>\n",
       "      <td>67664</td>\n",
       "      <td>10</td>\n",
       "      <td>91970</td>\n",
       "      <td>2003-07-26</td>\n",
       "      <td>NaN</td>\n",
       "      <td>my children and their friends ask for my homem...</td>\n",
       "      <td>NaN</td>\n",
       "    </tr>\n",
       "    <tr>\n",
       "      <th>2</th>\n",
       "      <td>i can t believe it s spinach</td>\n",
       "      <td>38798</td>\n",
       "      <td>30</td>\n",
       "      <td>1533</td>\n",
       "      <td>2002-08-29</td>\n",
       "      <td>NaN</td>\n",
       "      <td>these were so go, it surprised even me.</td>\n",
       "      <td>8.0</td>\n",
       "    </tr>\n",
       "    <tr>\n",
       "      <th>3</th>\n",
       "      <td>italian  gut busters</td>\n",
       "      <td>35173</td>\n",
       "      <td>45</td>\n",
       "      <td>22724</td>\n",
       "      <td>2002-07-27</td>\n",
       "      <td>NaN</td>\n",
       "      <td>my sister-in-law made these for us at a family...</td>\n",
       "      <td>NaN</td>\n",
       "    </tr>\n",
       "    <tr>\n",
       "      <th>4</th>\n",
       "      <td>love is in the air  beef fondue   sauces</td>\n",
       "      <td>84797</td>\n",
       "      <td>25</td>\n",
       "      <td>4470</td>\n",
       "      <td>2004-02-23</td>\n",
       "      <td>4.0</td>\n",
       "      <td>i think a fondue is a very romantic casual din...</td>\n",
       "      <td>NaN</td>\n",
       "    </tr>\n",
       "  </tbody>\n",
       "</table>\n",
       "</div>"
      ],
      "text/plain": [
       "                                       name     id  minutes  contributor_id  \\\n",
       "0     george s at the cove  black bean soup  44123       90           35193   \n",
       "1        healthy for them  yogurt popsicles  67664       10           91970   \n",
       "2              i can t believe it s spinach  38798       30            1533   \n",
       "3                      italian  gut busters  35173       45           22724   \n",
       "4  love is in the air  beef fondue   sauces  84797       25            4470   \n",
       "\n",
       "    submitted  n_steps                                        description  \\\n",
       "0  2002-10-25      NaN  an original recipe created by chef scott meska...   \n",
       "1  2003-07-26      NaN  my children and their friends ask for my homem...   \n",
       "2  2002-08-29      NaN            these were so go, it surprised even me.   \n",
       "3  2002-07-27      NaN  my sister-in-law made these for us at a family...   \n",
       "4  2004-02-23      4.0  i think a fondue is a very romantic casual din...   \n",
       "\n",
       "   n_ingredients  \n",
       "0           18.0  \n",
       "1            NaN  \n",
       "2            8.0  \n",
       "3            NaN  \n",
       "4            NaN  "
      ]
     },
     "execution_count": 9,
     "metadata": {},
     "output_type": "execute_result"
    }
   ],
   "source": [
    "recipes.head()"
   ]
  },
  {
   "cell_type": "code",
   "execution_count": 6,
   "metadata": {},
   "outputs": [],
   "source": [
    "reviews = pd.read_csv(\"reviews_sample.csv\", sep=',', index_col=0)"
   ]
  },
  {
   "cell_type": "code",
   "execution_count": 7,
   "metadata": {},
   "outputs": [
    {
     "data": {
      "text/html": [
       "<div>\n",
       "<style scoped>\n",
       "    .dataframe tbody tr th:only-of-type {\n",
       "        vertical-align: middle;\n",
       "    }\n",
       "\n",
       "    .dataframe tbody tr th {\n",
       "        vertical-align: top;\n",
       "    }\n",
       "\n",
       "    .dataframe thead th {\n",
       "        text-align: right;\n",
       "    }\n",
       "</style>\n",
       "<table border=\"1\" class=\"dataframe\">\n",
       "  <thead>\n",
       "    <tr style=\"text-align: right;\">\n",
       "      <th></th>\n",
       "      <th>user_id</th>\n",
       "      <th>recipe_id</th>\n",
       "      <th>date</th>\n",
       "      <th>rating</th>\n",
       "      <th>review</th>\n",
       "    </tr>\n",
       "  </thead>\n",
       "  <tbody>\n",
       "    <tr>\n",
       "      <th>370476</th>\n",
       "      <td>21752</td>\n",
       "      <td>57993</td>\n",
       "      <td>2003-05-01</td>\n",
       "      <td>5</td>\n",
       "      <td>Last week whole sides of frozen salmon fillet ...</td>\n",
       "    </tr>\n",
       "    <tr>\n",
       "      <th>624300</th>\n",
       "      <td>431813</td>\n",
       "      <td>142201</td>\n",
       "      <td>2007-09-16</td>\n",
       "      <td>5</td>\n",
       "      <td>So simple and so tasty!  I used a yellow capsi...</td>\n",
       "    </tr>\n",
       "    <tr>\n",
       "      <th>187037</th>\n",
       "      <td>400708</td>\n",
       "      <td>252013</td>\n",
       "      <td>2008-01-10</td>\n",
       "      <td>4</td>\n",
       "      <td>Very nice breakfast HH, easy to make and yummy...</td>\n",
       "    </tr>\n",
       "    <tr>\n",
       "      <th>706134</th>\n",
       "      <td>2001852463</td>\n",
       "      <td>404716</td>\n",
       "      <td>2017-12-11</td>\n",
       "      <td>5</td>\n",
       "      <td>These are a favorite for the holidays and so e...</td>\n",
       "    </tr>\n",
       "    <tr>\n",
       "      <th>312179</th>\n",
       "      <td>95810</td>\n",
       "      <td>129396</td>\n",
       "      <td>2008-03-14</td>\n",
       "      <td>5</td>\n",
       "      <td>Excellent soup!  The tomato flavor is just gre...</td>\n",
       "    </tr>\n",
       "  </tbody>\n",
       "</table>\n",
       "</div>"
      ],
      "text/plain": [
       "           user_id  recipe_id        date  rating  \\\n",
       "370476       21752      57993  2003-05-01       5   \n",
       "624300      431813     142201  2007-09-16       5   \n",
       "187037      400708     252013  2008-01-10       4   \n",
       "706134  2001852463     404716  2017-12-11       5   \n",
       "312179       95810     129396  2008-03-14       5   \n",
       "\n",
       "                                                   review  \n",
       "370476  Last week whole sides of frozen salmon fillet ...  \n",
       "624300  So simple and so tasty!  I used a yellow capsi...  \n",
       "187037  Very nice breakfast HH, easy to make and yummy...  \n",
       "706134  These are a favorite for the holidays and so e...  \n",
       "312179  Excellent soup!  The tomato flavor is just gre...  "
      ]
     },
     "execution_count": 7,
     "metadata": {},
     "output_type": "execute_result"
    }
   ],
   "source": [
    "reviews.head()"
   ]
  },
  {
   "cell_type": "code",
   "execution_count": null,
   "metadata": {},
   "outputs": [],
   "source": []
  },
  {
   "cell_type": "code",
   "execution_count": null,
   "metadata": {},
   "outputs": [],
   "source": []
  },
  {
   "cell_type": "code",
   "execution_count": null,
   "metadata": {},
   "outputs": [],
   "source": [
    "reviews = pd.read_csv(\"reviews_sample.csv\", sep=',', index_col=0)"
   ]
  },
  {
   "cell_type": "markdown",
   "metadata": {},
   "source": [
    "5.1 При помощи объединения таблиц, создайте `DataFrame`, состоящий из четырех столбцов: `id`, `name`, `user_id`, `rating`. Рецепты, на которые не оставлен ни один отзыв, должны отсутствовать в полученной таблице. Подтвердите правильность работы вашего кода, выбрав рецепт, не имеющий отзывов, и попытавшись найти строку, соответствующую этому рецепту, в полученном `DataFrame`."
   ]
  },
  {
   "cell_type": "code",
   "execution_count": 10,
   "metadata": {},
   "outputs": [],
   "source": [
    "notques5_1 = pd.merge(recipes,reviews, left_on=\"id\", right_on=\"recipe_id\")"
   ]
  },
  {
   "cell_type": "code",
   "execution_count": 12,
   "metadata": {},
   "outputs": [],
   "source": [
    "notques5_1.drop([\"minutes\", \"contributor_id\", \"submitted\", \"n_steps\", \"description\", \"n_ingredients\", \"recipe_id\", \"date\" ], axis=1, inplace=True)"
   ]
  },
  {
   "cell_type": "code",
   "execution_count": 17,
   "metadata": {},
   "outputs": [
    {
     "data": {
      "text/html": [
       "<div>\n",
       "<style scoped>\n",
       "    .dataframe tbody tr th:only-of-type {\n",
       "        vertical-align: middle;\n",
       "    }\n",
       "\n",
       "    .dataframe tbody tr th {\n",
       "        vertical-align: top;\n",
       "    }\n",
       "\n",
       "    .dataframe thead th {\n",
       "        text-align: right;\n",
       "    }\n",
       "</style>\n",
       "<table border=\"1\" class=\"dataframe\">\n",
       "  <thead>\n",
       "    <tr style=\"text-align: right;\">\n",
       "      <th></th>\n",
       "      <th>name</th>\n",
       "      <th>id</th>\n",
       "      <th>user_id</th>\n",
       "      <th>rating</th>\n",
       "      <th>review</th>\n",
       "    </tr>\n",
       "  </thead>\n",
       "  <tbody>\n",
       "    <tr>\n",
       "      <th>0</th>\n",
       "      <td>george s at the cove  black bean soup</td>\n",
       "      <td>44123</td>\n",
       "      <td>743566</td>\n",
       "      <td>5</td>\n",
       "      <td>I lived in San Diego for 19 years and  would g...</td>\n",
       "    </tr>\n",
       "    <tr>\n",
       "      <th>1</th>\n",
       "      <td>george s at the cove  black bean soup</td>\n",
       "      <td>44123</td>\n",
       "      <td>76503</td>\n",
       "      <td>5</td>\n",
       "      <td>This soup is the Bomb! Don't hesitate to try.....</td>\n",
       "    </tr>\n",
       "    <tr>\n",
       "      <th>2</th>\n",
       "      <td>george s at the cove  black bean soup</td>\n",
       "      <td>44123</td>\n",
       "      <td>34206</td>\n",
       "      <td>5</td>\n",
       "      <td>I just can't say enough about how wonderful th...</td>\n",
       "    </tr>\n",
       "    <tr>\n",
       "      <th>3</th>\n",
       "      <td>healthy for them  yogurt popsicles</td>\n",
       "      <td>67664</td>\n",
       "      <td>494084</td>\n",
       "      <td>5</td>\n",
       "      <td>These are great!  I use 100% (organic) juice a...</td>\n",
       "    </tr>\n",
       "    <tr>\n",
       "      <th>4</th>\n",
       "      <td>healthy for them  yogurt popsicles</td>\n",
       "      <td>67664</td>\n",
       "      <td>303445</td>\n",
       "      <td>5</td>\n",
       "      <td>Very, very good.  My son loves these.  He like...</td>\n",
       "    </tr>\n",
       "    <tr>\n",
       "      <th>...</th>\n",
       "      <td>...</td>\n",
       "      <td>...</td>\n",
       "      <td>...</td>\n",
       "      <td>...</td>\n",
       "      <td>...</td>\n",
       "    </tr>\n",
       "    <tr>\n",
       "      <th>126691</th>\n",
       "      <td>zydeco soup</td>\n",
       "      <td>486161</td>\n",
       "      <td>305531</td>\n",
       "      <td>5</td>\n",
       "      <td>Delish! I made this as directed but used a smo...</td>\n",
       "    </tr>\n",
       "    <tr>\n",
       "      <th>126692</th>\n",
       "      <td>zydeco soup</td>\n",
       "      <td>486161</td>\n",
       "      <td>1271506</td>\n",
       "      <td>5</td>\n",
       "      <td>Now the only substitution I made was African B...</td>\n",
       "    </tr>\n",
       "    <tr>\n",
       "      <th>126693</th>\n",
       "      <td>zydeco soup</td>\n",
       "      <td>486161</td>\n",
       "      <td>724631</td>\n",
       "      <td>5</td>\n",
       "      <td>Very tasty soup, moderate spiciness (even afte...</td>\n",
       "    </tr>\n",
       "    <tr>\n",
       "      <th>126694</th>\n",
       "      <td>zydeco soup</td>\n",
       "      <td>486161</td>\n",
       "      <td>133174</td>\n",
       "      <td>5</td>\n",
       "      <td>Very yummy indeed.  A spicy sausage was used i...</td>\n",
       "    </tr>\n",
       "    <tr>\n",
       "      <th>126695</th>\n",
       "      <td>cookies by design   cookies on a stick</td>\n",
       "      <td>298512</td>\n",
       "      <td>804234</td>\n",
       "      <td>1</td>\n",
       "      <td>I would rate this a zero if I could. I followe...</td>\n",
       "    </tr>\n",
       "  </tbody>\n",
       "</table>\n",
       "<p>126696 rows × 5 columns</p>\n",
       "</div>"
      ],
      "text/plain": [
       "                                          name      id  user_id  rating  \\\n",
       "0        george s at the cove  black bean soup   44123   743566       5   \n",
       "1        george s at the cove  black bean soup   44123    76503       5   \n",
       "2        george s at the cove  black bean soup   44123    34206       5   \n",
       "3           healthy for them  yogurt popsicles   67664   494084       5   \n",
       "4           healthy for them  yogurt popsicles   67664   303445       5   \n",
       "...                                        ...     ...      ...     ...   \n",
       "126691                             zydeco soup  486161   305531       5   \n",
       "126692                             zydeco soup  486161  1271506       5   \n",
       "126693                             zydeco soup  486161   724631       5   \n",
       "126694                             zydeco soup  486161   133174       5   \n",
       "126695  cookies by design   cookies on a stick  298512   804234       1   \n",
       "\n",
       "                                                   review  \n",
       "0       I lived in San Diego for 19 years and  would g...  \n",
       "1       This soup is the Bomb! Don't hesitate to try.....  \n",
       "2       I just can't say enough about how wonderful th...  \n",
       "3       These are great!  I use 100% (organic) juice a...  \n",
       "4       Very, very good.  My son loves these.  He like...  \n",
       "...                                                   ...  \n",
       "126691  Delish! I made this as directed but used a smo...  \n",
       "126692  Now the only substitution I made was African B...  \n",
       "126693  Very tasty soup, moderate spiciness (even afte...  \n",
       "126694  Very yummy indeed.  A spicy sausage was used i...  \n",
       "126695  I would rate this a zero if I could. I followe...  \n",
       "\n",
       "[126696 rows x 5 columns]"
      ]
     },
     "execution_count": 17,
     "metadata": {},
     "output_type": "execute_result"
    }
   ],
   "source": [
    "notques5_1"
   ]
  },
  {
   "cell_type": "code",
   "execution_count": 20,
   "metadata": {
    "scrolled": true
   },
   "outputs": [
    {
     "data": {
      "text/plain": [
       "17"
      ]
     },
     "execution_count": 20,
     "metadata": {},
     "output_type": "execute_result"
    }
   ],
   "source": [
    "notques5_1.review.isna().sum()"
   ]
  },
  {
   "cell_type": "code",
   "execution_count": 25,
   "metadata": {},
   "outputs": [
    {
     "data": {
      "text/html": [
       "<div>\n",
       "<style scoped>\n",
       "    .dataframe tbody tr th:only-of-type {\n",
       "        vertical-align: middle;\n",
       "    }\n",
       "\n",
       "    .dataframe tbody tr th {\n",
       "        vertical-align: top;\n",
       "    }\n",
       "\n",
       "    .dataframe thead th {\n",
       "        text-align: right;\n",
       "    }\n",
       "</style>\n",
       "<table border=\"1\" class=\"dataframe\">\n",
       "  <thead>\n",
       "    <tr style=\"text-align: right;\">\n",
       "      <th></th>\n",
       "      <th>name</th>\n",
       "      <th>id</th>\n",
       "      <th>user_id</th>\n",
       "      <th>rating</th>\n",
       "      <th>review</th>\n",
       "    </tr>\n",
       "  </thead>\n",
       "  <tbody>\n",
       "  </tbody>\n",
       "</table>\n",
       "</div>"
      ],
      "text/plain": [
       "Empty DataFrame\n",
       "Columns: [name, id, user_id, rating, review]\n",
       "Index: []"
      ]
     },
     "execution_count": 25,
     "metadata": {},
     "output_type": "execute_result"
    }
   ],
   "source": [
    "notques5_1[notques5_1.review.isna()]"
   ]
  },
  {
   "cell_type": "code",
   "execution_count": 26,
   "metadata": {},
   "outputs": [
    {
     "data": {
      "text/html": [
       "<div>\n",
       "<style scoped>\n",
       "    .dataframe tbody tr th:only-of-type {\n",
       "        vertical-align: middle;\n",
       "    }\n",
       "\n",
       "    .dataframe tbody tr th {\n",
       "        vertical-align: top;\n",
       "    }\n",
       "\n",
       "    .dataframe thead th {\n",
       "        text-align: right;\n",
       "    }\n",
       "</style>\n",
       "<table border=\"1\" class=\"dataframe\">\n",
       "  <thead>\n",
       "    <tr style=\"text-align: right;\">\n",
       "      <th></th>\n",
       "      <th>name</th>\n",
       "      <th>id</th>\n",
       "      <th>user_id</th>\n",
       "      <th>rating</th>\n",
       "    </tr>\n",
       "  </thead>\n",
       "  <tbody>\n",
       "    <tr>\n",
       "      <th>0</th>\n",
       "      <td>george s at the cove  black bean soup</td>\n",
       "      <td>44123</td>\n",
       "      <td>743566</td>\n",
       "      <td>5</td>\n",
       "    </tr>\n",
       "    <tr>\n",
       "      <th>1</th>\n",
       "      <td>george s at the cove  black bean soup</td>\n",
       "      <td>44123</td>\n",
       "      <td>76503</td>\n",
       "      <td>5</td>\n",
       "    </tr>\n",
       "    <tr>\n",
       "      <th>2</th>\n",
       "      <td>george s at the cove  black bean soup</td>\n",
       "      <td>44123</td>\n",
       "      <td>34206</td>\n",
       "      <td>5</td>\n",
       "    </tr>\n",
       "    <tr>\n",
       "      <th>3</th>\n",
       "      <td>healthy for them  yogurt popsicles</td>\n",
       "      <td>67664</td>\n",
       "      <td>494084</td>\n",
       "      <td>5</td>\n",
       "    </tr>\n",
       "    <tr>\n",
       "      <th>4</th>\n",
       "      <td>healthy for them  yogurt popsicles</td>\n",
       "      <td>67664</td>\n",
       "      <td>303445</td>\n",
       "      <td>5</td>\n",
       "    </tr>\n",
       "    <tr>\n",
       "      <th>...</th>\n",
       "      <td>...</td>\n",
       "      <td>...</td>\n",
       "      <td>...</td>\n",
       "      <td>...</td>\n",
       "    </tr>\n",
       "    <tr>\n",
       "      <th>126691</th>\n",
       "      <td>zydeco soup</td>\n",
       "      <td>486161</td>\n",
       "      <td>305531</td>\n",
       "      <td>5</td>\n",
       "    </tr>\n",
       "    <tr>\n",
       "      <th>126692</th>\n",
       "      <td>zydeco soup</td>\n",
       "      <td>486161</td>\n",
       "      <td>1271506</td>\n",
       "      <td>5</td>\n",
       "    </tr>\n",
       "    <tr>\n",
       "      <th>126693</th>\n",
       "      <td>zydeco soup</td>\n",
       "      <td>486161</td>\n",
       "      <td>724631</td>\n",
       "      <td>5</td>\n",
       "    </tr>\n",
       "    <tr>\n",
       "      <th>126694</th>\n",
       "      <td>zydeco soup</td>\n",
       "      <td>486161</td>\n",
       "      <td>133174</td>\n",
       "      <td>5</td>\n",
       "    </tr>\n",
       "    <tr>\n",
       "      <th>126695</th>\n",
       "      <td>cookies by design   cookies on a stick</td>\n",
       "      <td>298512</td>\n",
       "      <td>804234</td>\n",
       "      <td>1</td>\n",
       "    </tr>\n",
       "  </tbody>\n",
       "</table>\n",
       "<p>126696 rows × 4 columns</p>\n",
       "</div>"
      ],
      "text/plain": [
       "                                          name      id  user_id  rating\n",
       "0        george s at the cove  black bean soup   44123   743566       5\n",
       "1        george s at the cove  black bean soup   44123    76503       5\n",
       "2        george s at the cove  black bean soup   44123    34206       5\n",
       "3           healthy for them  yogurt popsicles   67664   494084       5\n",
       "4           healthy for them  yogurt popsicles   67664   303445       5\n",
       "...                                        ...     ...      ...     ...\n",
       "126691                             zydeco soup  486161   305531       5\n",
       "126692                             zydeco soup  486161  1271506       5\n",
       "126693                             zydeco soup  486161   724631       5\n",
       "126694                             zydeco soup  486161   133174       5\n",
       "126695  cookies by design   cookies on a stick  298512   804234       1\n",
       "\n",
       "[126696 rows x 4 columns]"
      ]
     },
     "execution_count": 26,
     "metadata": {},
     "output_type": "execute_result"
    }
   ],
   "source": [
    "notques5_1 = pd.merge(recipes,reviews, left_on=\"id\", right_on=\"recipe_id\")\n",
    "notques5_1.drop([\"minutes\", \"contributor_id\", \"submitted\", \"n_steps\", \"description\", \n",
    "                 \"n_ingredients\", \"recipe_id\", \"date\", \"review\" ], axis=1, inplace=True)\n",
    "notques5_1\n"
   ]
  },
  {
   "cell_type": "code",
   "execution_count": null,
   "metadata": {},
   "outputs": [],
   "source": []
  },
  {
   "cell_type": "code",
   "execution_count": null,
   "metadata": {},
   "outputs": [],
   "source": [
    "notques5_1 = pd.merge(recipes,reviews, left_on=\"id\", right_on=\"recipe_id\")\n",
    "notques5_1.drop([\"minutes\", \"contributor_id\", \"submitted\", \"n_steps\", \"description\", \"n_ingredients\", \"recipe_id\", \"date\" ], axis=1, inplace=True)\n",
    "ques5_1 = notques5_1.dropna(axis=0)\n",
    "ques5_1.drop([\"review\"],axis=1, inplace=True)\n",
    "ques5_1"
   ]
  },
  {
   "cell_type": "markdown",
   "metadata": {},
   "source": [
    "5.2 При помощи объединения таблиц и группировок, создайте `DataFrame`, состоящий из трех столбцов: `recipe_id`, `name`, `review_count`, где столбец `review_count` содержит кол-во отзывов, оставленных на рецепт `recipe_id`. У рецептов, на которые не оставлен ни один отзыв, в столбце `review_count` должен быть указан 0. Подтвердите правильность работы вашего кода, выбрав рецепт, не имеющий отзывов, и найдя строку, соответствующую этому рецепту, в полученном `DataFrame`."
   ]
  },
  {
   "cell_type": "code",
   "execution_count": null,
   "metadata": {},
   "outputs": [],
   "source": [
    "data_reviews3 = data_reviews.copy()\n",
    "data_recipes3 = data_recipes.copy()\n",
    "\n",
    "data_recipes3.rename(columns = {'id': 'recipe_id'}, inplace=True)\n",
    "data_new1 = data_reviews3.iloc[:, [2, 5]].merge(data_recipes3.iloc[:,[0, 1]], on=['recipe_id'], how='left')\n",
    "data_new1\n",
    "data_new2 = data_new1.dropna(how='any')\n",
    "review_count = pd.DataFrame({'review_count' : data_new2.groupby( [\"recipe_id\"] ).size()}).reset_index()\n",
    "\n",
    "data_new1['recipe_id'] = data_new1['recipe_id'].drop_duplicates()\n",
    "data_new1 = data_new1.dropna(how='any').drop('review', axis=1)\n",
    "data_new1 = data_new1.iloc[:, [0, 1]].merge(review_count.iloc[:,[0, 1]], on=['recipe_id'], how='left')\n",
    "data_new1['recipe_id'] = data_new1['recipe_id'].astype(int)\n",
    "data_new1"
   ]
  },
  {
   "cell_type": "code",
   "execution_count": null,
   "metadata": {},
   "outputs": [],
   "source": []
  },
  {
   "cell_type": "code",
   "execution_count": null,
   "metadata": {},
   "outputs": [],
   "source": [
    "rev1 = reviews.groupby('recipe_id').count()\n",
    "rev1.rename({'id':'review_count'},axis=1,inplace=True)\n",
    "recrev = pd.merge(recipes[['id','name']],rev1['review_count'], left_on='id',right_index=True,how='left')\n",
    "recrev.rename({'id':'recipe_id'},axis=1,inplace=True)\n",
    "recrev['review_count'].fillna(0, inplace=True)\n",
    "recrev[recrev['recipe_id']==diff['id'][26]]"
   ]
  },
  {
   "cell_type": "code",
   "execution_count": null,
   "metadata": {},
   "outputs": [],
   "source": []
  },
  {
   "cell_type": "code",
   "execution_count": null,
   "metadata": {},
   "outputs": [],
   "source": [
    "df3_merged = pd.merge(recipes1.iloc[:,[1,0]], reviews.iloc[:,[1,2,5]],left_on='id', right_on='recipe_id')\n",
    "df3_merged.loc[df3_merged.review.isnull() == True ,\"review_count\"] = 0\n",
    "df3_merged.loc[df3_merged.review.isnull() == False ,\"review_count\"] = 1\n",
    "df4_merged = df3_merged.groupby(by='recipe_id').review_count.sum()\n",
    "\n",
    "\n",
    "a23= pd.DataFrame({'recipe_id':df4_merged.index, 'name':df3_merged.groupby(by='recipe_id').name.sum(), 'review_count':df4_merged})\n",
    "a23"
   ]
  },
  {
   "cell_type": "code",
   "execution_count": 34,
   "metadata": {},
   "outputs": [
    {
     "data": {
      "text/html": [
       "<div>\n",
       "<style scoped>\n",
       "    .dataframe tbody tr th:only-of-type {\n",
       "        vertical-align: middle;\n",
       "    }\n",
       "\n",
       "    .dataframe tbody tr th {\n",
       "        vertical-align: top;\n",
       "    }\n",
       "\n",
       "    .dataframe thead th {\n",
       "        text-align: right;\n",
       "    }\n",
       "</style>\n",
       "<table border=\"1\" class=\"dataframe\">\n",
       "  <thead>\n",
       "    <tr style=\"text-align: right;\">\n",
       "      <th></th>\n",
       "      <th>user_id</th>\n",
       "      <th>recipe_id</th>\n",
       "      <th>date</th>\n",
       "      <th>rating</th>\n",
       "      <th>review</th>\n",
       "    </tr>\n",
       "  </thead>\n",
       "  <tbody>\n",
       "    <tr>\n",
       "      <th>370476</th>\n",
       "      <td>21752</td>\n",
       "      <td>57993</td>\n",
       "      <td>2003-05-01</td>\n",
       "      <td>5</td>\n",
       "      <td>Last week whole sides of frozen salmon fillet ...</td>\n",
       "    </tr>\n",
       "    <tr>\n",
       "      <th>624300</th>\n",
       "      <td>431813</td>\n",
       "      <td>142201</td>\n",
       "      <td>2007-09-16</td>\n",
       "      <td>5</td>\n",
       "      <td>So simple and so tasty!  I used a yellow capsi...</td>\n",
       "    </tr>\n",
       "    <tr>\n",
       "      <th>187037</th>\n",
       "      <td>400708</td>\n",
       "      <td>252013</td>\n",
       "      <td>2008-01-10</td>\n",
       "      <td>4</td>\n",
       "      <td>Very nice breakfast HH, easy to make and yummy...</td>\n",
       "    </tr>\n",
       "    <tr>\n",
       "      <th>706134</th>\n",
       "      <td>2001852463</td>\n",
       "      <td>404716</td>\n",
       "      <td>2017-12-11</td>\n",
       "      <td>5</td>\n",
       "      <td>These are a favorite for the holidays and so e...</td>\n",
       "    </tr>\n",
       "    <tr>\n",
       "      <th>312179</th>\n",
       "      <td>95810</td>\n",
       "      <td>129396</td>\n",
       "      <td>2008-03-14</td>\n",
       "      <td>5</td>\n",
       "      <td>Excellent soup!  The tomato flavor is just gre...</td>\n",
       "    </tr>\n",
       "    <tr>\n",
       "      <th>...</th>\n",
       "      <td>...</td>\n",
       "      <td>...</td>\n",
       "      <td>...</td>\n",
       "      <td>...</td>\n",
       "      <td>...</td>\n",
       "    </tr>\n",
       "    <tr>\n",
       "      <th>1013457</th>\n",
       "      <td>1270706</td>\n",
       "      <td>335534</td>\n",
       "      <td>2009-05-17</td>\n",
       "      <td>4</td>\n",
       "      <td>This recipe was great! I made it last night. I...</td>\n",
       "    </tr>\n",
       "    <tr>\n",
       "      <th>158736</th>\n",
       "      <td>2282344</td>\n",
       "      <td>8701</td>\n",
       "      <td>2012-06-03</td>\n",
       "      <td>0</td>\n",
       "      <td>This recipe is outstanding. I followed the rec...</td>\n",
       "    </tr>\n",
       "    <tr>\n",
       "      <th>1059834</th>\n",
       "      <td>689540</td>\n",
       "      <td>222001</td>\n",
       "      <td>2008-04-08</td>\n",
       "      <td>5</td>\n",
       "      <td>Well, we were not a crowd but it was a fabulou...</td>\n",
       "    </tr>\n",
       "    <tr>\n",
       "      <th>453285</th>\n",
       "      <td>2000242659</td>\n",
       "      <td>354979</td>\n",
       "      <td>2015-06-02</td>\n",
       "      <td>5</td>\n",
       "      <td>I have been a steak eater and dedicated BBQ gr...</td>\n",
       "    </tr>\n",
       "    <tr>\n",
       "      <th>691207</th>\n",
       "      <td>463435</td>\n",
       "      <td>415599</td>\n",
       "      <td>2010-09-30</td>\n",
       "      <td>5</td>\n",
       "      <td>Wonderful and simple to prepare seasoning blen...</td>\n",
       "    </tr>\n",
       "  </tbody>\n",
       "</table>\n",
       "<p>126696 rows × 5 columns</p>\n",
       "</div>"
      ],
      "text/plain": [
       "            user_id  recipe_id        date  rating  \\\n",
       "370476        21752      57993  2003-05-01       5   \n",
       "624300       431813     142201  2007-09-16       5   \n",
       "187037       400708     252013  2008-01-10       4   \n",
       "706134   2001852463     404716  2017-12-11       5   \n",
       "312179        95810     129396  2008-03-14       5   \n",
       "...             ...        ...         ...     ...   \n",
       "1013457     1270706     335534  2009-05-17       4   \n",
       "158736      2282344       8701  2012-06-03       0   \n",
       "1059834      689540     222001  2008-04-08       5   \n",
       "453285   2000242659     354979  2015-06-02       5   \n",
       "691207       463435     415599  2010-09-30       5   \n",
       "\n",
       "                                                    review  \n",
       "370476   Last week whole sides of frozen salmon fillet ...  \n",
       "624300   So simple and so tasty!  I used a yellow capsi...  \n",
       "187037   Very nice breakfast HH, easy to make and yummy...  \n",
       "706134   These are a favorite for the holidays and so e...  \n",
       "312179   Excellent soup!  The tomato flavor is just gre...  \n",
       "...                                                    ...  \n",
       "1013457  This recipe was great! I made it last night. I...  \n",
       "158736   This recipe is outstanding. I followed the rec...  \n",
       "1059834  Well, we were not a crowd but it was a fabulou...  \n",
       "453285   I have been a steak eater and dedicated BBQ gr...  \n",
       "691207   Wonderful and simple to prepare seasoning blen...  \n",
       "\n",
       "[126696 rows x 5 columns]"
      ]
     },
     "execution_count": 34,
     "metadata": {},
     "output_type": "execute_result"
    }
   ],
   "source": [
    "reviews"
   ]
  },
  {
   "cell_type": "code",
   "execution_count": 35,
   "metadata": {},
   "outputs": [],
   "source": [
    "rev1 = reviews.groupby('recipe_id').count()\n",
    "rev1.rename({'user_id':'review_count'},axis=1,inplace=True)"
   ]
  },
  {
   "cell_type": "code",
   "execution_count": 36,
   "metadata": {},
   "outputs": [
    {
     "data": {
      "text/html": [
       "<div>\n",
       "<style scoped>\n",
       "    .dataframe tbody tr th:only-of-type {\n",
       "        vertical-align: middle;\n",
       "    }\n",
       "\n",
       "    .dataframe tbody tr th {\n",
       "        vertical-align: top;\n",
       "    }\n",
       "\n",
       "    .dataframe thead th {\n",
       "        text-align: right;\n",
       "    }\n",
       "</style>\n",
       "<table border=\"1\" class=\"dataframe\">\n",
       "  <thead>\n",
       "    <tr style=\"text-align: right;\">\n",
       "      <th></th>\n",
       "      <th>review_count</th>\n",
       "      <th>date</th>\n",
       "      <th>rating</th>\n",
       "      <th>review</th>\n",
       "    </tr>\n",
       "    <tr>\n",
       "      <th>recipe_id</th>\n",
       "      <th></th>\n",
       "      <th></th>\n",
       "      <th></th>\n",
       "      <th></th>\n",
       "    </tr>\n",
       "  </thead>\n",
       "  <tbody>\n",
       "    <tr>\n",
       "      <th>48</th>\n",
       "      <td>2</td>\n",
       "      <td>2</td>\n",
       "      <td>2</td>\n",
       "      <td>2</td>\n",
       "    </tr>\n",
       "    <tr>\n",
       "      <th>55</th>\n",
       "      <td>4</td>\n",
       "      <td>4</td>\n",
       "      <td>4</td>\n",
       "      <td>4</td>\n",
       "    </tr>\n",
       "    <tr>\n",
       "      <th>66</th>\n",
       "      <td>18</td>\n",
       "      <td>18</td>\n",
       "      <td>18</td>\n",
       "      <td>18</td>\n",
       "    </tr>\n",
       "    <tr>\n",
       "      <th>91</th>\n",
       "      <td>4</td>\n",
       "      <td>4</td>\n",
       "      <td>4</td>\n",
       "      <td>4</td>\n",
       "    </tr>\n",
       "    <tr>\n",
       "      <th>94</th>\n",
       "      <td>4</td>\n",
       "      <td>4</td>\n",
       "      <td>4</td>\n",
       "      <td>4</td>\n",
       "    </tr>\n",
       "  </tbody>\n",
       "</table>\n",
       "</div>"
      ],
      "text/plain": [
       "           review_count  date  rating  review\n",
       "recipe_id                                    \n",
       "48                    2     2       2       2\n",
       "55                    4     4       4       4\n",
       "66                   18    18      18      18\n",
       "91                    4     4       4       4\n",
       "94                    4     4       4       4"
      ]
     },
     "execution_count": 36,
     "metadata": {},
     "output_type": "execute_result"
    }
   ],
   "source": [
    "rev1.head()"
   ]
  },
  {
   "cell_type": "code",
   "execution_count": 37,
   "metadata": {},
   "outputs": [],
   "source": [
    "# rev1 = reviews.groupby('recipe_id').count()\n",
    "# rev1.rename({'id':'review_count'},axis=1,inplace=True)\n",
    "recrev = pd.merge(recipes[['id','name']],rev1['review_count'], left_on='id',right_index=True,how='left')\n",
    "recrev.rename({'id':'recipe_id'},axis=1,inplace=True)\n",
    "recrev['review_count'].fillna(0, inplace=True)"
   ]
  },
  {
   "cell_type": "code",
   "execution_count": null,
   "metadata": {},
   "outputs": [],
   "source": []
  },
  {
   "cell_type": "code",
   "execution_count": 39,
   "metadata": {},
   "outputs": [
    {
     "data": {
      "text/html": [
       "<div>\n",
       "<style scoped>\n",
       "    .dataframe tbody tr th:only-of-type {\n",
       "        vertical-align: middle;\n",
       "    }\n",
       "\n",
       "    .dataframe tbody tr th {\n",
       "        vertical-align: top;\n",
       "    }\n",
       "\n",
       "    .dataframe thead th {\n",
       "        text-align: right;\n",
       "    }\n",
       "</style>\n",
       "<table border=\"1\" class=\"dataframe\">\n",
       "  <thead>\n",
       "    <tr style=\"text-align: right;\">\n",
       "      <th></th>\n",
       "      <th>recipe_id</th>\n",
       "      <th>name</th>\n",
       "      <th>review_count</th>\n",
       "    </tr>\n",
       "  </thead>\n",
       "  <tbody>\n",
       "    <tr>\n",
       "      <th>26</th>\n",
       "      <td>223349</td>\n",
       "      <td>pasta  with shrimp   eggplant</td>\n",
       "      <td>0.0</td>\n",
       "    </tr>\n",
       "    <tr>\n",
       "      <th>29</th>\n",
       "      <td>342620</td>\n",
       "      <td>secret ingredient  bbq meatloaf</td>\n",
       "      <td>0.0</td>\n",
       "    </tr>\n",
       "    <tr>\n",
       "      <th>35</th>\n",
       "      <td>276594</td>\n",
       "      <td>windy s  sweet and sour meatballs</td>\n",
       "      <td>0.0</td>\n",
       "    </tr>\n",
       "    <tr>\n",
       "      <th>49</th>\n",
       "      <td>216068</td>\n",
       "      <td>goulashy  beef stew for the slow cooker</td>\n",
       "      <td>0.0</td>\n",
       "    </tr>\n",
       "    <tr>\n",
       "      <th>59</th>\n",
       "      <td>306590</td>\n",
       "      <td>old bay  grilled steak fries</td>\n",
       "      <td>0.0</td>\n",
       "    </tr>\n",
       "    <tr>\n",
       "      <th>...</th>\n",
       "      <td>...</td>\n",
       "      <td>...</td>\n",
       "      <td>...</td>\n",
       "    </tr>\n",
       "    <tr>\n",
       "      <th>29871</th>\n",
       "      <td>66966</td>\n",
       "      <td>zingy potato salad</td>\n",
       "      <td>0.0</td>\n",
       "    </tr>\n",
       "    <tr>\n",
       "      <th>29903</th>\n",
       "      <td>249846</td>\n",
       "      <td>zucchini  mock green papaya  salad</td>\n",
       "      <td>0.0</td>\n",
       "    </tr>\n",
       "    <tr>\n",
       "      <th>29905</th>\n",
       "      <td>256177</td>\n",
       "      <td>zucchini and corn with cheese</td>\n",
       "      <td>0.0</td>\n",
       "    </tr>\n",
       "    <tr>\n",
       "      <th>29951</th>\n",
       "      <td>178243</td>\n",
       "      <td>zucchini nut salad</td>\n",
       "      <td>0.0</td>\n",
       "    </tr>\n",
       "    <tr>\n",
       "      <th>29979</th>\n",
       "      <td>363362</td>\n",
       "      <td>zucchini with bell pepper and tomato</td>\n",
       "      <td>0.0</td>\n",
       "    </tr>\n",
       "  </tbody>\n",
       "</table>\n",
       "<p>1900 rows × 3 columns</p>\n",
       "</div>"
      ],
      "text/plain": [
       "       recipe_id                                     name  review_count\n",
       "26        223349            pasta  with shrimp   eggplant           0.0\n",
       "29        342620          secret ingredient  bbq meatloaf           0.0\n",
       "35        276594        windy s  sweet and sour meatballs           0.0\n",
       "49        216068  goulashy  beef stew for the slow cooker           0.0\n",
       "59        306590             old bay  grilled steak fries           0.0\n",
       "...          ...                                      ...           ...\n",
       "29871      66966                       zingy potato salad           0.0\n",
       "29903     249846       zucchini  mock green papaya  salad           0.0\n",
       "29905     256177            zucchini and corn with cheese           0.0\n",
       "29951     178243                       zucchini nut salad           0.0\n",
       "29979     363362     zucchini with bell pepper and tomato           0.0\n",
       "\n",
       "[1900 rows x 3 columns]"
      ]
     },
     "execution_count": 39,
     "metadata": {},
     "output_type": "execute_result"
    }
   ],
   "source": [
    "recrev[recrev.review_count ==  0]"
   ]
  },
  {
   "cell_type": "code",
   "execution_count": 40,
   "metadata": {},
   "outputs": [
    {
     "ename": "NameError",
     "evalue": "name 'diff' is not defined",
     "output_type": "error",
     "traceback": [
      "\u001b[1;31m---------------------------------------------------------------------------\u001b[0m",
      "\u001b[1;31mNameError\u001b[0m                                 Traceback (most recent call last)",
      "\u001b[1;32m<ipython-input-40-df5d8022eac3>\u001b[0m in \u001b[0;36m<module>\u001b[1;34m\u001b[0m\n\u001b[1;32m----> 1\u001b[1;33m \u001b[0mrecrev\u001b[0m\u001b[1;33m[\u001b[0m\u001b[0mrecrev\u001b[0m\u001b[1;33m[\u001b[0m\u001b[1;34m'recipe_id'\u001b[0m\u001b[1;33m]\u001b[0m\u001b[1;33m==\u001b[0m\u001b[0mdiff\u001b[0m\u001b[1;33m[\u001b[0m\u001b[1;34m'id'\u001b[0m\u001b[1;33m]\u001b[0m\u001b[1;33m[\u001b[0m\u001b[1;36m26\u001b[0m\u001b[1;33m]\u001b[0m\u001b[1;33m]\u001b[0m\u001b[1;33m\u001b[0m\u001b[1;33m\u001b[0m\u001b[0m\n\u001b[0m",
      "\u001b[1;31mNameError\u001b[0m: name 'diff' is not defined"
     ]
    }
   ],
   "source": [
    "recrev[recrev['recipe_id']==diff['id'][26]]"
   ]
  },
  {
   "cell_type": "markdown",
   "metadata": {},
   "source": [
    "5.3. Выясните, рецепты, добавленные в каком году, имеют наименьший средний рейтинг?"
   ]
  },
  {
   "cell_type": "markdown",
   "metadata": {},
   "source": [
    "### Сохранение таблиц `pd.DataFrame`"
   ]
  },
  {
   "cell_type": "markdown",
   "metadata": {},
   "source": [
    "6.1 Отсортируйте таблицу в порядке убывания величины столбца `name_word_count` и сохраните результаты выполнения заданий 3.1-3.3 в csv файл. "
   ]
  },
  {
   "cell_type": "markdown",
   "metadata": {},
   "source": [
    "6.2 Воспользовавшись `pd.ExcelWriter`, cохраните результаты 5.1 и 5.2 в файл: на лист с названием `Рецепты с оценками` сохраните результаты выполнения 5.1; на лист с названием `Количество отзывов по рецептам` сохраните результаты выполнения 5.2."
   ]
  },
  {
   "cell_type": "code",
   "execution_count": null,
   "metadata": {},
   "outputs": [],
   "source": [
    "with pd.ExcelWriter(r\"./sample_data/HomeWorkPandas_ques5_1.xlsx\") as writer:\n",
    "    ques5_1.to_excel(writer, sheet_name=\"Рецепты с оценками\")\n",
    "    ques5_2.to_excel(writer, sheet_name=\"Количество отзывов по рецептам\")   "
   ]
  },
  {
   "cell_type": "code",
   "execution_count": null,
   "metadata": {},
   "outputs": [],
   "source": []
  },
  {
   "cell_type": "markdown",
   "metadata": {},
   "source": [
    "#### [версия 2]\n",
    "* Уточнены формулировки задач 1.1, 3.3, 4.2, 5.1, 5.2, 5.3"
   ]
  },
  {
   "cell_type": "code",
   "execution_count": null,
   "metadata": {},
   "outputs": [],
   "source": []
  }
 ],
 "metadata": {
  "kernelspec": {
   "display_name": "Python 3",
   "language": "python",
   "name": "python3"
  },
  "language_info": {
   "codemirror_mode": {
    "name": "ipython",
    "version": 3
   },
   "file_extension": ".py",
   "mimetype": "text/x-python",
   "name": "python",
   "nbconvert_exporter": "python",
   "pygments_lexer": "ipython3",
   "version": "3.7.6"
  }
 },
 "nbformat": 4,
 "nbformat_minor": 4
}
