{
 "cells": [
  {
   "cell_type": "markdown",
   "metadata": {},
   "source": [
    "# Pandas"
   ]
  },
  {
   "cell_type": "markdown",
   "metadata": {},
   "source": [
    "Материалы:\n",
    "* Макрушин С.В. \"Лекция 2: Библиотека Pandas\"\n",
    "* https://pandas.pydata.org/docs/user_guide/index.html#\n",
    "* https://pandas.pydata.org/docs/reference/index.html\n",
    "* Уэс Маккини. Python и анализ данных"
   ]
  },
  {
   "cell_type": "markdown",
   "metadata": {},
   "source": [
    "## Задачи для совместного разбора"
   ]
  },
  {
   "cell_type": "markdown",
   "metadata": {},
   "source": [
    "1. Загрузите данные из файла `sp500hst.txt` и обозначьте столбцы в соответствии с содержимым: `\"date\", \"ticker\", \"open\", \"high\", \"low\", \"close\", \"volume\"`."
   ]
  },
  {
   "cell_type": "code",
   "execution_count": 2,
   "metadata": {},
   "outputs": [],
   "source": [
    "import pandas as pd"
   ]
  },
  {
   "cell_type": "code",
   "execution_count": 3,
   "metadata": {},
   "outputs": [
    {
     "data": {
      "text/html": [
       "<div>\n",
       "<style scoped>\n",
       "    .dataframe tbody tr th:only-of-type {\n",
       "        vertical-align: middle;\n",
       "    }\n",
       "\n",
       "    .dataframe tbody tr th {\n",
       "        vertical-align: top;\n",
       "    }\n",
       "\n",
       "    .dataframe thead th {\n",
       "        text-align: right;\n",
       "    }\n",
       "</style>\n",
       "<table border=\"1\" class=\"dataframe\">\n",
       "  <thead>\n",
       "    <tr style=\"text-align: right;\">\n",
       "      <th></th>\n",
       "      <th>date</th>\n",
       "      <th>ticker</th>\n",
       "      <th>open</th>\n",
       "      <th>high</th>\n",
       "      <th>low</th>\n",
       "      <th>close</th>\n",
       "      <th>volume</th>\n",
       "    </tr>\n",
       "  </thead>\n",
       "  <tbody>\n",
       "    <tr>\n",
       "      <th>0</th>\n",
       "      <td>20090821</td>\n",
       "      <td>A</td>\n",
       "      <td>25.60</td>\n",
       "      <td>25.6100</td>\n",
       "      <td>25.220</td>\n",
       "      <td>25.55</td>\n",
       "      <td>34758</td>\n",
       "    </tr>\n",
       "    <tr>\n",
       "      <th>1</th>\n",
       "      <td>20090824</td>\n",
       "      <td>A</td>\n",
       "      <td>25.64</td>\n",
       "      <td>25.7400</td>\n",
       "      <td>25.330</td>\n",
       "      <td>25.50</td>\n",
       "      <td>22247</td>\n",
       "    </tr>\n",
       "    <tr>\n",
       "      <th>2</th>\n",
       "      <td>20090825</td>\n",
       "      <td>A</td>\n",
       "      <td>25.50</td>\n",
       "      <td>25.7000</td>\n",
       "      <td>25.225</td>\n",
       "      <td>25.34</td>\n",
       "      <td>30891</td>\n",
       "    </tr>\n",
       "    <tr>\n",
       "      <th>3</th>\n",
       "      <td>20090826</td>\n",
       "      <td>A</td>\n",
       "      <td>25.32</td>\n",
       "      <td>25.6425</td>\n",
       "      <td>25.145</td>\n",
       "      <td>25.48</td>\n",
       "      <td>33334</td>\n",
       "    </tr>\n",
       "    <tr>\n",
       "      <th>4</th>\n",
       "      <td>20090827</td>\n",
       "      <td>A</td>\n",
       "      <td>25.50</td>\n",
       "      <td>25.5700</td>\n",
       "      <td>25.230</td>\n",
       "      <td>25.54</td>\n",
       "      <td>70176</td>\n",
       "    </tr>\n",
       "    <tr>\n",
       "      <th>...</th>\n",
       "      <td>...</td>\n",
       "      <td>...</td>\n",
       "      <td>...</td>\n",
       "      <td>...</td>\n",
       "      <td>...</td>\n",
       "      <td>...</td>\n",
       "      <td>...</td>\n",
       "    </tr>\n",
       "    <tr>\n",
       "      <th>122569</th>\n",
       "      <td>20100813</td>\n",
       "      <td>ZMH</td>\n",
       "      <td>51.72</td>\n",
       "      <td>51.9000</td>\n",
       "      <td>51.380</td>\n",
       "      <td>51.44</td>\n",
       "      <td>14561</td>\n",
       "    </tr>\n",
       "    <tr>\n",
       "      <th>122570</th>\n",
       "      <td>20100816</td>\n",
       "      <td>ZMH</td>\n",
       "      <td>51.13</td>\n",
       "      <td>51.4700</td>\n",
       "      <td>50.600</td>\n",
       "      <td>51.00</td>\n",
       "      <td>13489</td>\n",
       "    </tr>\n",
       "    <tr>\n",
       "      <th>122571</th>\n",
       "      <td>20100817</td>\n",
       "      <td>ZMH</td>\n",
       "      <td>51.14</td>\n",
       "      <td>51.6000</td>\n",
       "      <td>50.890</td>\n",
       "      <td>51.21</td>\n",
       "      <td>20498</td>\n",
       "    </tr>\n",
       "    <tr>\n",
       "      <th>122572</th>\n",
       "      <td>20100819</td>\n",
       "      <td>ZMH</td>\n",
       "      <td>51.63</td>\n",
       "      <td>51.6300</td>\n",
       "      <td>50.170</td>\n",
       "      <td>50.22</td>\n",
       "      <td>18259</td>\n",
       "    </tr>\n",
       "    <tr>\n",
       "      <th>122573</th>\n",
       "      <td>20100820</td>\n",
       "      <td>ZMH</td>\n",
       "      <td>50.03</td>\n",
       "      <td>50.5500</td>\n",
       "      <td>49.480</td>\n",
       "      <td>49.82</td>\n",
       "      <td>17792</td>\n",
       "    </tr>\n",
       "  </tbody>\n",
       "</table>\n",
       "<p>122574 rows × 7 columns</p>\n",
       "</div>"
      ],
      "text/plain": [
       "            date ticker   open     high     low  close  volume\n",
       "0       20090821      A  25.60  25.6100  25.220  25.55   34758\n",
       "1       20090824      A  25.64  25.7400  25.330  25.50   22247\n",
       "2       20090825      A  25.50  25.7000  25.225  25.34   30891\n",
       "3       20090826      A  25.32  25.6425  25.145  25.48   33334\n",
       "4       20090827      A  25.50  25.5700  25.230  25.54   70176\n",
       "...          ...    ...    ...      ...     ...    ...     ...\n",
       "122569  20100813    ZMH  51.72  51.9000  51.380  51.44   14561\n",
       "122570  20100816    ZMH  51.13  51.4700  50.600  51.00   13489\n",
       "122571  20100817    ZMH  51.14  51.6000  50.890  51.21   20498\n",
       "122572  20100819    ZMH  51.63  51.6300  50.170  50.22   18259\n",
       "122573  20100820    ZMH  50.03  50.5500  49.480  49.82   17792\n",
       "\n",
       "[122574 rows x 7 columns]"
      ]
     },
     "execution_count": 3,
     "metadata": {},
     "output_type": "execute_result"
    }
   ],
   "source": [
    "data = pd.read_csv(\"data/sp500hst.txt\", delimiter=\",\", names=(\"date\", \"ticker\", \"open\", \"high\", \"low\", \"close\", \"volume\"))\n",
    "data"
   ]
  },
  {
   "cell_type": "markdown",
   "metadata": {},
   "source": [
    "2. Рассчитайте среднее значение показателей для каждого из столбцов c номерами 3-6."
   ]
  },
  {
   "cell_type": "markdown",
   "metadata": {},
   "source": [
    "3. Добавьте столбец, содержащий только число месяца, к которому относится дата."
   ]
  },
  {
   "cell_type": "markdown",
   "metadata": {},
   "source": [
    "4. Рассчитайте суммарный объем торгов для для одинаковых значений тикеров."
   ]
  },
  {
   "cell_type": "markdown",
   "metadata": {},
   "source": [
    "5. Загрузите данные из файла sp500hst.txt и обозначьте столбцы в соответствии с содержимым: \"date\", \"ticker\", \"open\", \"high\", \"low\", \"close\", \"volume\". Добавьте столбец с расшифровкой названия тикера, используя данные из файла `sp_data2.csv` . В случае нехватки данных об именах тикеров корректно обработать их."
   ]
  },
  {
   "cell_type": "markdown",
   "metadata": {},
   "source": [
    "## Лабораторная работа №2.1"
   ]
  },
  {
   "cell_type": "code",
   "execution_count": 1,
   "metadata": {},
   "outputs": [
    {
     "name": "stdout",
     "output_type": "stream",
     "text": [
      "E:\\YandexDisk\\Python\\Ipynb\\TOBD_2022\\TOBD22_for_students\\lr_PI21-3_7\\lr2_pandas\\data\n"
     ]
    }
   ],
   "source": [
    "cd data"
   ]
  },
  {
   "cell_type": "code",
   "execution_count": 2,
   "metadata": {},
   "outputs": [],
   "source": [
    "import pandas as pd"
   ]
  },
  {
   "cell_type": "code",
   "execution_count": 3,
   "metadata": {},
   "outputs": [],
   "source": [
    "recipes = pd.read_csv('recipes_sample.csv', delimiter=',', skiprows=1, names=[\"name\", \"id\", \"minutes\", \"contributor_id\", \"submitted\", \"n_steps\", \"description\",\"n_ingredients\"])"
   ]
  },
  {
   "cell_type": "markdown",
   "metadata": {},
   "source": [
    "### Базовые операции с `DataFrame`"
   ]
  },
  {
   "cell_type": "code",
   "execution_count": 24,
   "metadata": {},
   "outputs": [],
   "source": [
    "reviews= pd.read_csv('reviews_sample.csv', delimiter = ',', skiprows=1, names = ['Unnamed: 0', 'user_id', 'recipe_id', 'date', 'rating', 'review'])"
   ]
  },
  {
   "cell_type": "code",
   "execution_count": 25,
   "metadata": {},
   "outputs": [
    {
     "data": {
      "text/html": [
       "<div>\n",
       "<style scoped>\n",
       "    .dataframe tbody tr th:only-of-type {\n",
       "        vertical-align: middle;\n",
       "    }\n",
       "\n",
       "    .dataframe tbody tr th {\n",
       "        vertical-align: top;\n",
       "    }\n",
       "\n",
       "    .dataframe thead th {\n",
       "        text-align: right;\n",
       "    }\n",
       "</style>\n",
       "<table border=\"1\" class=\"dataframe\">\n",
       "  <thead>\n",
       "    <tr style=\"text-align: right;\">\n",
       "      <th></th>\n",
       "      <th>Unnamed: 0</th>\n",
       "      <th>user_id</th>\n",
       "      <th>recipe_id</th>\n",
       "      <th>date</th>\n",
       "      <th>rating</th>\n",
       "      <th>review</th>\n",
       "    </tr>\n",
       "  </thead>\n",
       "  <tbody>\n",
       "    <tr>\n",
       "      <th>0</th>\n",
       "      <td>370476</td>\n",
       "      <td>21752</td>\n",
       "      <td>57993</td>\n",
       "      <td>2003-05-01</td>\n",
       "      <td>5</td>\n",
       "      <td>Last week whole sides of frozen salmon fillet ...</td>\n",
       "    </tr>\n",
       "    <tr>\n",
       "      <th>1</th>\n",
       "      <td>624300</td>\n",
       "      <td>431813</td>\n",
       "      <td>142201</td>\n",
       "      <td>2007-09-16</td>\n",
       "      <td>5</td>\n",
       "      <td>So simple and so tasty!  I used a yellow capsi...</td>\n",
       "    </tr>\n",
       "    <tr>\n",
       "      <th>2</th>\n",
       "      <td>187037</td>\n",
       "      <td>400708</td>\n",
       "      <td>252013</td>\n",
       "      <td>2008-01-10</td>\n",
       "      <td>4</td>\n",
       "      <td>Very nice breakfast HH, easy to make and yummy...</td>\n",
       "    </tr>\n",
       "    <tr>\n",
       "      <th>3</th>\n",
       "      <td>706134</td>\n",
       "      <td>2001852463</td>\n",
       "      <td>404716</td>\n",
       "      <td>2017-12-11</td>\n",
       "      <td>5</td>\n",
       "      <td>These are a favorite for the holidays and so e...</td>\n",
       "    </tr>\n",
       "    <tr>\n",
       "      <th>4</th>\n",
       "      <td>312179</td>\n",
       "      <td>95810</td>\n",
       "      <td>129396</td>\n",
       "      <td>2008-03-14</td>\n",
       "      <td>5</td>\n",
       "      <td>Excellent soup!  The tomato flavor is just gre...</td>\n",
       "    </tr>\n",
       "  </tbody>\n",
       "</table>\n",
       "</div>"
      ],
      "text/plain": [
       "   Unnamed: 0     user_id  recipe_id        date  rating  \\\n",
       "0      370476       21752      57993  2003-05-01       5   \n",
       "1      624300      431813     142201  2007-09-16       5   \n",
       "2      187037      400708     252013  2008-01-10       4   \n",
       "3      706134  2001852463     404716  2017-12-11       5   \n",
       "4      312179       95810     129396  2008-03-14       5   \n",
       "\n",
       "                                              review  \n",
       "0  Last week whole sides of frozen salmon fillet ...  \n",
       "1  So simple and so tasty!  I used a yellow capsi...  \n",
       "2  Very nice breakfast HH, easy to make and yummy...  \n",
       "3  These are a favorite for the holidays and so e...  \n",
       "4  Excellent soup!  The tomato flavor is just gre...  "
      ]
     },
     "execution_count": 25,
     "metadata": {},
     "output_type": "execute_result"
    }
   ],
   "source": [
    "reviews.head()"
   ]
  },
  {
   "cell_type": "code",
   "execution_count": 21,
   "metadata": {},
   "outputs": [
    {
     "data": {
      "text/plain": [
       "id                2.218793e+05\n",
       "minutes           1.233581e+02\n",
       "contributor_id    5.635901e+06\n",
       "n_steps           9.805582e+00\n",
       "n_ingredients     9.008286e+00\n",
       "Name: mean, dtype: float64"
      ]
     },
     "execution_count": 21,
     "metadata": {},
     "output_type": "execute_result"
    }
   ],
   "source": [
    "recipes.describe().T['mean']"
   ]
  },
  {
   "cell_type": "code",
   "execution_count": 23,
   "metadata": {},
   "outputs": [
    {
     "data": {
      "text/html": [
       "<div>\n",
       "<style scoped>\n",
       "    .dataframe tbody tr th:only-of-type {\n",
       "        vertical-align: middle;\n",
       "    }\n",
       "\n",
       "    .dataframe tbody tr th {\n",
       "        vertical-align: top;\n",
       "    }\n",
       "\n",
       "    .dataframe thead th {\n",
       "        text-align: right;\n",
       "    }\n",
       "</style>\n",
       "<table border=\"1\" class=\"dataframe\">\n",
       "  <thead>\n",
       "    <tr style=\"text-align: right;\">\n",
       "      <th></th>\n",
       "      <th>Unnamed: 0</th>\n",
       "      <th>user_id</th>\n",
       "      <th>recipe_id</th>\n",
       "      <th>date</th>\n",
       "      <th>rating</th>\n",
       "      <th>review</th>\n",
       "    </tr>\n",
       "  </thead>\n",
       "  <tbody>\n",
       "    <tr>\n",
       "      <th>0</th>\n",
       "      <td>NaN</td>\n",
       "      <td>user_id</td>\n",
       "      <td>recipe_id</td>\n",
       "      <td>date</td>\n",
       "      <td>rating</td>\n",
       "      <td>review</td>\n",
       "    </tr>\n",
       "    <tr>\n",
       "      <th>1</th>\n",
       "      <td>370476.0</td>\n",
       "      <td>21752</td>\n",
       "      <td>57993</td>\n",
       "      <td>2003-05-01</td>\n",
       "      <td>5</td>\n",
       "      <td>Last week whole sides of frozen salmon fillet ...</td>\n",
       "    </tr>\n",
       "    <tr>\n",
       "      <th>2</th>\n",
       "      <td>624300.0</td>\n",
       "      <td>431813</td>\n",
       "      <td>142201</td>\n",
       "      <td>2007-09-16</td>\n",
       "      <td>5</td>\n",
       "      <td>So simple and so tasty!  I used a yellow capsi...</td>\n",
       "    </tr>\n",
       "    <tr>\n",
       "      <th>3</th>\n",
       "      <td>187037.0</td>\n",
       "      <td>400708</td>\n",
       "      <td>252013</td>\n",
       "      <td>2008-01-10</td>\n",
       "      <td>4</td>\n",
       "      <td>Very nice breakfast HH, easy to make and yummy...</td>\n",
       "    </tr>\n",
       "    <tr>\n",
       "      <th>4</th>\n",
       "      <td>706134.0</td>\n",
       "      <td>2001852463</td>\n",
       "      <td>404716</td>\n",
       "      <td>2017-12-11</td>\n",
       "      <td>5</td>\n",
       "      <td>These are a favorite for the holidays and so e...</td>\n",
       "    </tr>\n",
       "  </tbody>\n",
       "</table>\n",
       "</div>"
      ],
      "text/plain": [
       "   Unnamed: 0     user_id  recipe_id        date  rating  \\\n",
       "0         NaN     user_id  recipe_id        date  rating   \n",
       "1    370476.0       21752      57993  2003-05-01       5   \n",
       "2    624300.0      431813     142201  2007-09-16       5   \n",
       "3    187037.0      400708     252013  2008-01-10       4   \n",
       "4    706134.0  2001852463     404716  2017-12-11       5   \n",
       "\n",
       "                                              review  \n",
       "0                                             review  \n",
       "1  Last week whole sides of frozen salmon fillet ...  \n",
       "2  So simple and so tasty!  I used a yellow capsi...  \n",
       "3  Very nice breakfast HH, easy to make and yummy...  \n",
       "4  These are a favorite for the holidays and so e...  "
      ]
     },
     "execution_count": 23,
     "metadata": {},
     "output_type": "execute_result"
    }
   ],
   "source": [
    "reviews.head()"
   ]
  },
  {
   "cell_type": "code",
   "execution_count": null,
   "metadata": {},
   "outputs": [],
   "source": []
  },
  {
   "cell_type": "code",
   "execution_count": null,
   "metadata": {},
   "outputs": [],
   "source": []
  },
  {
   "cell_type": "markdown",
   "metadata": {},
   "source": [
    "1.1 В файлах `recipes_sample.csv` и `reviews_sample.csv` находится информация об рецептах блюд и отзывах на эти рецепты соответственно. Загрузите данные из файлов в виде `pd.DataFrame` с названиями `recipes` и `reviews`. Обратите внимание на корректное считывание столбца с индексами в таблице `reviews` (безымянный столбец)."
   ]
  },
  {
   "cell_type": "markdown",
   "metadata": {},
   "source": [
    "1.2 Для каждой из таблиц выведите основные параметры:\n",
    "* количество точек данных (строк);\n",
    "* количество столбцов;\n",
    "* тип данных каждого столбца."
   ]
  },
  {
   "cell_type": "markdown",
   "metadata": {},
   "source": [
    "1.3 Исследуйте, в каких столбцах таблиц содержатся пропуски. Посчитайте долю строк, содержащих пропуски, в отношении к общему количеству строк."
   ]
  },
  {
   "cell_type": "code",
   "execution_count": 8,
   "metadata": {},
   "outputs": [
    {
     "data": {
      "text/plain": [
       "name                  0\n",
       "id                    0\n",
       "minutes               0\n",
       "contributor_id        0\n",
       "submitted             0\n",
       "n_steps           11190\n",
       "description         623\n",
       "n_ingredients      8880\n",
       "dtype: int64"
      ]
     },
     "execution_count": 8,
     "metadata": {},
     "output_type": "execute_result"
    }
   ],
   "source": [
    "recipes.isna().sum(axis=0)"
   ]
  },
  {
   "cell_type": "code",
   "execution_count": null,
   "metadata": {},
   "outputs": [],
   "source": [
    "Null_stob_recipes = ((recipes.isna().sum()) / recipes.size) * 100\n",
    "Null_stob_recipes"
   ]
  },
  {
   "cell_type": "markdown",
   "metadata": {},
   "source": [
    "1.4 Рассчитайте среднее значение для каждого из числовых столбцов (где это имеет смысл)."
   ]
  },
  {
   "cell_type": "markdown",
   "metadata": {},
   "source": [
    "1.5 Создайте серию из 10 случайных названий рецептов."
   ]
  },
  {
   "cell_type": "code",
   "execution_count": null,
   "metadata": {},
   "outputs": [],
   "source": []
  },
  {
   "cell_type": "markdown",
   "metadata": {},
   "source": [
    "1.6 Измените индекс в таблице `reviews`, пронумеровав строки, начиная с нуля."
   ]
  },
  {
   "cell_type": "code",
   "execution_count": null,
   "metadata": {},
   "outputs": [],
   "source": [
    "reviews.reset_index(drop=True)"
   ]
  },
  {
   "cell_type": "code",
   "execution_count": null,
   "metadata": {},
   "outputs": [],
   "source": [
    "newpandadata = data_reviews.iloc[:, 1:].reset_index()\n",
    "newpandadata"
   ]
  },
  {
   "cell_type": "markdown",
   "metadata": {},
   "source": [
    "1.7 Выведите информацию о рецептах, время выполнения которых не больше 20 минут и кол-во ингредиентов в которых не больше 5."
   ]
  },
  {
   "cell_type": "markdown",
   "metadata": {},
   "source": [
    "### Работа с датами в `pandas`"
   ]
  },
  {
   "cell_type": "markdown",
   "metadata": {},
   "source": [
    "2.1 Преобразуйте столбец `submitted` из таблицы `recipes` в формат времени. Модифицируйте решение задачи 1.1 так, чтобы считать столбец сразу в нужном формате."
   ]
  },
  {
   "cell_type": "code",
   "execution_count": null,
   "metadata": {},
   "outputs": [],
   "source": []
  },
  {
   "cell_type": "markdown",
   "metadata": {},
   "source": [
    "2.2 Выведите информацию о рецептах, добавленных в датасет не позже 2010 года."
   ]
  },
  {
   "cell_type": "code",
   "execution_count": null,
   "metadata": {},
   "outputs": [],
   "source": [
    "mask = recipes.submitted.dt.year <= 2010\n",
    "recipes[mask]"
   ]
  },
  {
   "cell_type": "code",
   "execution_count": null,
   "metadata": {},
   "outputs": [],
   "source": []
  },
  {
   "cell_type": "markdown",
   "metadata": {},
   "source": [
    "### Работа со строковыми данными в `pandas`"
   ]
  },
  {
   "cell_type": "markdown",
   "metadata": {},
   "source": [
    "3.1  Добавьте в таблицу `recipes` столбец `description_length`, в котором хранится длина описания рецепта из столбца `description`."
   ]
  },
  {
   "cell_type": "markdown",
   "metadata": {},
   "source": [
    "3.2 Измените название каждого рецепта в таблице `recipes` таким образом, чтобы каждое слово в названии начиналось с прописной буквы."
   ]
  },
  {
   "cell_type": "code",
   "execution_count": null,
   "metadata": {},
   "outputs": [],
   "source": []
  },
  {
   "cell_type": "markdown",
   "metadata": {},
   "source": [
    "3.3 Добавьте в таблицу `recipes` столбец `name_word_count`, в котором хранится количество слов из названии рецепта (считайте, что слова в названии разделяются только пробелами). Обратите внимание, что между словами может располагаться несколько пробелов подряд."
   ]
  },
  {
   "cell_type": "code",
   "execution_count": 12,
   "metadata": {},
   "outputs": [
    {
     "data": {
      "text/plain": [
       "0    a b  c d e\n",
       "1    aa   bb cc\n",
       "dtype: object"
      ]
     },
     "execution_count": 12,
     "metadata": {},
     "output_type": "execute_result"
    }
   ],
   "source": [
    "s1 = pd.Series(['a b  c d e', 'aa   bb cc'])\n",
    "s1"
   ]
  },
  {
   "cell_type": "code",
   "execution_count": 17,
   "metadata": {},
   "outputs": [
    {
     "data": {
      "text/plain": [
       "0    [a, b, c, d, e]\n",
       "1       [aa, bb, cc]\n",
       "dtype: object"
      ]
     },
     "execution_count": 17,
     "metadata": {},
     "output_type": "execute_result"
    }
   ],
   "source": [
    "s1.str.split(' ').map(lambda lst: [x for x in lst if x])"
   ]
  },
  {
   "cell_type": "code",
   "execution_count": 11,
   "metadata": {},
   "outputs": [
    {
     "data": {
      "text/plain": [
       "0            [george, s, at, the, cove, black, bean, soup]\n",
       "1                  [healthy, for, them, yogurt, popsicles]\n",
       "2                     [i, can, t, believe, it, s, spinach]\n",
       "3                                  [italian, gut, busters]\n",
       "4           [love, is, in, the, air, beef, fondue, sauces]\n",
       "                               ...                        \n",
       "29995    [zurie, s, holey, rustic, olive, and, cheddar,...\n",
       "29996             [zwetschgenkuchen, bavarian, plum, cake]\n",
       "29997      [zwiebelkuchen, southwest, german, onion, cake]\n",
       "29998                                       [zydeco, soup]\n",
       "29999         [cookies, by, design, cookies, on, a, stick]\n",
       "Name: name, Length: 30000, dtype: object"
      ]
     },
     "execution_count": 11,
     "metadata": {},
     "output_type": "execute_result"
    }
   ],
   "source": [
    "recipes.name.str.split()"
   ]
  },
  {
   "cell_type": "markdown",
   "metadata": {},
   "source": [
    "## Лабораторная работа №2.2"
   ]
  },
  {
   "cell_type": "markdown",
   "metadata": {},
   "source": [
    "### Группировки таблиц `pd.DataFrame`"
   ]
  },
  {
   "cell_type": "markdown",
   "metadata": {},
   "source": [
    "4.1 Посчитайте количество рецептов, представленных каждым из участников (`contributor_id`). Какой участник добавил максимальное кол-во рецептов?"
   ]
  },
  {
   "cell_type": "markdown",
   "metadata": {},
   "source": [
    "4.2 Посчитайте средний рейтинг к каждому из рецептов. Для скольких рецептов отсутствуют отзывы? Обратите внимание, что отзыв с нулевым рейтингом или не заполненным текстовым описанием не считается отсутствующим."
   ]
  },
  {
   "cell_type": "markdown",
   "metadata": {},
   "source": [
    "4.3 Посчитайте количество рецептов с разбивкой по годам создания."
   ]
  },
  {
   "cell_type": "markdown",
   "metadata": {},
   "source": [
    "### Объединение таблиц `pd.DataFrame`"
   ]
  },
  {
   "cell_type": "markdown",
   "metadata": {},
   "source": [
    "5.1 При помощи объединения таблиц, создайте `DataFrame`, состоящий из четырех столбцов: `id`, `name`, `user_id`, `rating`. Рецепты, на которые не оставлен ни один отзыв, должны отсутствовать в полученной таблице. Подтвердите правильность работы вашего кода, выбрав рецепт, не имеющий отзывов, и попытавшись найти строку, соответствующую этому рецепту, в полученном `DataFrame`."
   ]
  },
  {
   "cell_type": "markdown",
   "metadata": {},
   "source": [
    "5.2 При помощи объединения таблиц и группировок, создайте `DataFrame`, состоящий из трех столбцов: `recipe_id`, `name`, `review_count`, где столбец `review_count` содержит кол-во отзывов, оставленных на рецепт `recipe_id`. У рецептов, на которые не оставлен ни один отзыв, в столбце `review_count` должен быть указан 0. Подтвердите правильность работы вашего кода, выбрав рецепт, не имеющий отзывов, и найдя строку, соответствующую этому рецепту, в полученном `DataFrame`."
   ]
  },
  {
   "cell_type": "markdown",
   "metadata": {},
   "source": [
    "5.3. Выясните, рецепты, добавленные в каком году, имеют наименьший средний рейтинг?"
   ]
  },
  {
   "cell_type": "markdown",
   "metadata": {},
   "source": [
    "### Сохранение таблиц `pd.DataFrame`"
   ]
  },
  {
   "cell_type": "markdown",
   "metadata": {},
   "source": [
    "6.1 Отсортируйте таблицу в порядке убывания величины столбца `name_word_count` и сохраните результаты выполнения заданий 3.1-3.3 в csv файл. "
   ]
  },
  {
   "cell_type": "markdown",
   "metadata": {},
   "source": [
    "6.2 Воспользовавшись `pd.ExcelWriter`, cохраните результаты 5.1 и 5.2 в файл: на лист с названием `Рецепты с оценками` сохраните результаты выполнения 5.1; на лист с названием `Количество отзывов по рецептам` сохраните результаты выполнения 5.2."
   ]
  },
  {
   "cell_type": "code",
   "execution_count": null,
   "metadata": {},
   "outputs": [],
   "source": []
  },
  {
   "cell_type": "code",
   "execution_count": null,
   "metadata": {},
   "outputs": [],
   "source": []
  },
  {
   "cell_type": "markdown",
   "metadata": {},
   "source": [
    "#### [версия 2]\n",
    "* Уточнены формулировки задач 1.1, 3.3, 4.2, 5.1, 5.2, 5.3"
   ]
  },
  {
   "cell_type": "code",
   "execution_count": null,
   "metadata": {},
   "outputs": [],
   "source": []
  }
 ],
 "metadata": {
  "kernelspec": {
   "display_name": "Python 3",
   "language": "python",
   "name": "python3"
  },
  "language_info": {
   "codemirror_mode": {
    "name": "ipython",
    "version": 3
   },
   "file_extension": ".py",
   "mimetype": "text/x-python",
   "name": "python",
   "nbconvert_exporter": "python",
   "pygments_lexer": "ipython3",
   "version": "3.7.6"
  }
 },
 "nbformat": 4,
 "nbformat_minor": 4
}
